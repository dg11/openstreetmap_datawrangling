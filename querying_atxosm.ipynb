{
 "cells": [
  {
   "cell_type": "markdown",
   "metadata": {},
   "source": [
    "# Querying the Austin, Texas OpenStreetMap Database"
   ]
  },
  {
   "cell_type": "code",
   "execution_count": 1,
   "metadata": {
    "collapsed": true
   },
   "outputs": [],
   "source": [
    "import sqlite3\n",
    "from pprint import pprint"
   ]
  },
  {
   "cell_type": "code",
   "execution_count": 2,
   "metadata": {
    "collapsed": true
   },
   "outputs": [],
   "source": [
    "sqlite_file = \"atx_osm.db\""
   ]
  },
  {
   "cell_type": "code",
   "execution_count": 3,
   "metadata": {
    "collapsed": true
   },
   "outputs": [],
   "source": [
    "conn = sqlite3.connect(sqlite_file)"
   ]
  },
  {
   "cell_type": "code",
   "execution_count": 4,
   "metadata": {
    "collapsed": true
   },
   "outputs": [],
   "source": [
    "cur = conn.cursor()"
   ]
  },
  {
   "cell_type": "markdown",
   "metadata": {},
   "source": [
    "SQL queries below were mostly obtained from sample project:\n",
    "\n",
    "https://gist.github.com/carlward/54ec1c91b62a5f911c42"
   ]
  },
  {
   "cell_type": "markdown",
   "metadata": {},
   "source": [
    "## List of cities"
   ]
  },
  {
   "cell_type": "markdown",
   "metadata": {},
   "source": [
    "Cities from nodes_tags table"
   ]
  },
  {
   "cell_type": "code",
   "execution_count": 5,
   "metadata": {
    "collapsed": false
   },
   "outputs": [],
   "source": [
    "cities = cur.execute(\"\"\"SELECT tags.value, COUNT(*) as count\n",
    "                        FROM (SELECT * FROM nodes_tags\n",
    "                              UNION ALL \n",
    "                              SELECT * FROM ways_tags) tags \n",
    "                        WHERE tags.key = 'city' \n",
    "                        GROUP BY tags.value \n",
    "                        ORDER By count DESC\"\"\").fetchall()"
   ]
  },
  {
   "cell_type": "code",
   "execution_count": 6,
   "metadata": {
    "collapsed": false
   },
   "outputs": [
    {
     "data": {
      "text/plain": [
       "[(u'Austin', 3068),\n",
       " (u'Round Rock', 113),\n",
       " (u'Kyle', 64),\n",
       " (u'Cedar Park', 43),\n",
       " (u'Pflugerville', 37),\n",
       " (u'Leander', 33),\n",
       " (u'Buda', 26),\n",
       " (u'Georgetown', 17),\n",
       " (u'Dripping Springs', 13),\n",
       " (u'West Lake Hills', 12),\n",
       " (u'Bastrop', 9),\n",
       " (u'Elgin', 9),\n",
       " (u'Lakeway', 9),\n",
       " (u'Wimberley', 8),\n",
       " (u'Taylor', 7),\n",
       " (u'Bee Cave', 6),\n",
       " (u'Del Valle', 5),\n",
       " (u'Manor', 5),\n",
       " (u'Manchaca', 4),\n",
       " (u'Cedar Creek', 3),\n",
       " (u'Hutto', 3),\n",
       " (u'Spicewood', 3),\n",
       " (u'Creedmoor', 2),\n",
       " (u'Lago Vista', 2),\n",
       " (u'San Marcos', 2),\n",
       " (u'Sunset Valley', 2),\n",
       " (u'Webberville', 2),\n",
       " (u'Driftwood', 1),\n",
       " (u'Jonestown', 1),\n",
       " (u'Lost Pines', 1),\n",
       " (u'Manchacha', 1),\n",
       " (u'Maxwell', 1),\n",
       " (u'Smithville', 1)]"
      ]
     },
     "execution_count": 6,
     "metadata": {},
     "output_type": "execute_result"
    }
   ],
   "source": [
    "cities"
   ]
  },
  {
   "cell_type": "markdown",
   "metadata": {},
   "source": [
    "## Postcode"
   ]
  },
  {
   "cell_type": "code",
   "execution_count": 7,
   "metadata": {
    "collapsed": false
   },
   "outputs": [],
   "source": [
    "postcode = cur.execute(\"\"\"SELECT tags.value, COUNT(*) as count\n",
    "                          FROM (SELECT * FROM nodes_tags\n",
    "                                UNION ALL SELECT * FROM ways_tags) tags \n",
    "                          WHERE tags.key = 'postcode' \n",
    "                          GROUP BY tags.value \n",
    "                          ORDER By count DESC\"\"\").fetchall()"
   ]
  },
  {
   "cell_type": "code",
   "execution_count": 8,
   "metadata": {
    "collapsed": false
   },
   "outputs": [
    {
     "data": {
      "text/plain": [
       "[(u'78645', 10882),\n",
       " (u'78734', 5606),\n",
       " (u'78653', 3543),\n",
       " (u'78660', 3516),\n",
       " (u'78669', 3189),\n",
       " (u'78641', 2863),\n",
       " (u'78704', 2488),\n",
       " (u'78746', 2446),\n",
       " (u'78759', 2092),\n",
       " (u'78738', 1939),\n",
       " (u'78748', 1915),\n",
       " (u'78723', 1896),\n",
       " (u'78703', 1845),\n",
       " (u'78617', 1829),\n",
       " (u'78701', 1726),\n",
       " (u'78724', 1680),\n",
       " (u'78731', 1680),\n",
       " (u'78745', 1592),\n",
       " (u'78744', 1525),\n",
       " (u'78758', 1419),\n",
       " (u'78620', 1323),\n",
       " (u'78732', 1307),\n",
       " (u'78754', 1289),\n",
       " (u'78741', 1286),\n",
       " (u'78747', 1277),\n",
       " (u'78705', 1237),\n",
       " (u'78750', 1212),\n",
       " (u'78733', 1199),\n",
       " (u'78757', 1160),\n",
       " (u'78735', 1067),\n",
       " (u'78737', 1053),\n",
       " (u'78753', 1040),\n",
       " (u'78702', 1027),\n",
       " (u'78725', 1027),\n",
       " (u'78736', 1009),\n",
       " (u'78730', 938),\n",
       " (u'78749', 833),\n",
       " (u'78751', 813),\n",
       " (u'78728', 787),\n",
       " (u'78739', 786),\n",
       " (u'78721', 756),\n",
       " (u'78717', 716),\n",
       " (u'78652', 712),\n",
       " (u'78610', 685),\n",
       " (u'78621', 645),\n",
       " (u'78752', 610),\n",
       " (u'78729', 599),\n",
       " (u'78727', 560),\n",
       " (u'78756', 534),\n",
       " (u'78719', 475),\n",
       " (u'78613', 431),\n",
       " (u'78654', 412),\n",
       " (u'78726', 392),\n",
       " (u'78664', 371),\n",
       " (u'78722', 364),\n",
       " (u'78681', 317),\n",
       " (u'78742', 156),\n",
       " (u'78615', 122),\n",
       " (u'78712', 89),\n",
       " (u'78612', 77),\n",
       " (u'78640', 65),\n",
       " (u'78663', 44),\n",
       " (u'76574', 14),\n",
       " (u'78602', 11),\n",
       " (u'78665', 11),\n",
       " (u'78626', 10),\n",
       " (u'78676', 8),\n",
       " (u'78628', 7),\n",
       " (u'78634', 4),\n",
       " (u'None', 3),\n",
       " (u'78616', 2),\n",
       " (u'78644', 2),\n",
       " (u'78666', 2),\n",
       " (u'78619', 1),\n",
       " (u'78646', 1),\n",
       " (u'78656', 1),\n",
       " (u'78680', 1),\n",
       " (u'78682', 1),\n",
       " (u'78691', 1),\n",
       " (u'78957', 1)]"
      ]
     },
     "execution_count": 8,
     "metadata": {},
     "output_type": "execute_result"
    }
   ],
   "source": [
    "postcode"
   ]
  },
  {
   "cell_type": "markdown",
   "metadata": {},
   "source": [
    "We can see that there are three \"None\" values. Determination of the missing postcodes:"
   ]
  },
  {
   "cell_type": "code",
   "execution_count": 9,
   "metadata": {
    "collapsed": false
   },
   "outputs": [],
   "source": [
    "missing_postcodes = cur.execute(\"\"\"SELECT * \n",
    "                                   FROM (SELECT * FROM nodes_tags\n",
    "                                         UNION ALL \n",
    "                                         SELECT * FROM ways_tags) tags \n",
    "                                   WHERE tags.key = 'postcode' \n",
    "                                   AND tags.value = 'None'\"\"\").fetchall()"
   ]
  },
  {
   "cell_type": "code",
   "execution_count": 10,
   "metadata": {
    "collapsed": false
   },
   "outputs": [
    {
     "data": {
      "text/plain": [
       "[(2152207067, u'postcode', u'None', u'addr'),\n",
       " (247506590, u'postcode', u'None', u'addr'),\n",
       " (383791236, u'postcode', u'None', u'addr')]"
      ]
     },
     "execution_count": 10,
     "metadata": {},
     "output_type": "execute_result"
    }
   ],
   "source": [
    "missing_postcodes"
   ]
  },
  {
   "cell_type": "markdown",
   "metadata": {},
   "source": [
    "##### Looking for info on id 2152207067:"
   ]
  },
  {
   "cell_type": "code",
   "execution_count": 12,
   "metadata": {
    "collapsed": false
   },
   "outputs": [
    {
     "data": {
      "text/plain": [
       "<sqlite3.Cursor at 0x10418f490>"
      ]
     },
     "execution_count": 12,
     "metadata": {},
     "output_type": "execute_result"
    }
   ],
   "source": [
    "cur.execute(\"\"\"SELECT tags.value \n",
    "             FROM (SELECT * FROM nodes_tags\n",
    "             UNION ALL \n",
    "             SELECT * FROM ways_tags) tags \n",
    "             WHERE tags.key = 'city'\n",
    "             AND tags.id = 2152207067\"\"\")"
   ]
  },
  {
   "cell_type": "code",
   "execution_count": 13,
   "metadata": {
    "collapsed": false
   },
   "outputs": [
    {
     "data": {
      "text/plain": [
       "[]"
      ]
     },
     "execution_count": 13,
     "metadata": {},
     "output_type": "execute_result"
    }
   ],
   "source": [
    "missing_postcode1 = cur.fetchall()\n",
    "missing_postcode1"
   ]
  },
  {
   "cell_type": "code",
   "execution_count": 14,
   "metadata": {
    "collapsed": false
   },
   "outputs": [
    {
     "data": {
      "text/plain": [
       "[(2152207067, u'name', u'Nyle Maxwell - Taylor', u'regular'),\n",
       " (2152207067, u'shop', u'car', u'regular'),\n",
       " (2152207067, u'website', u'www.nylemaxwellcjd.com', u'regular'),\n",
       " (2152207067, u'street', u'United States Highway 79', u'addr'),\n",
       " (2152207067, u'postcode', u'None', u'addr')]"
      ]
     },
     "execution_count": 14,
     "metadata": {},
     "output_type": "execute_result"
    }
   ],
   "source": [
    "cur.execute(\"\"\"SELECT * \n",
    "             FROM (SELECT * FROM nodes_tags\n",
    "             UNION ALL \n",
    "             SELECT * FROM ways_tags) tags\n",
    "             WHERE tags.id = 2152207067\"\"\")\n",
    "missing_postcode1_info = cur.fetchall()\n",
    "missing_postcode1_info"
   ]
  },
  {
   "cell_type": "markdown",
   "metadata": {},
   "source": [
    "The missing info for id 2152207067 is then a car dealership address. Searching on the internet for www.nylemaxwellcjd.com, we find that the address is:\n",
    "\n",
    "14150 UNITED STATES HIGHWAY 79 TAYLOR,\tTX\t76574"
   ]
  },
  {
   "cell_type": "markdown",
   "metadata": {},
   "source": [
    "##### Determining the postcode for id 247506590:"
   ]
  },
  {
   "cell_type": "code",
   "execution_count": 15,
   "metadata": {
    "collapsed": false
   },
   "outputs": [
    {
     "data": {
      "text/plain": [
       "[(247506590, u'name', u'Concordia University Texas', u'regular'),\n",
       " (247506590, u'phone', u'512-313-3000', u'regular'),\n",
       " (247506590, u'amenity', u'university', u'regular'),\n",
       " (247506590, u'website', u'http://www.concordia.edu', u'regular'),\n",
       " (247506590, u'operator', u'Concordia University System', u'regular'),\n",
       " (247506590, u'city', u'Austin', u'addr'),\n",
       " (247506590, u'wikipedia', u'en:Concordia University Texas', u'regular'),\n",
       " (247506590, u'street', u'Concordia University Drive', u'addr'),\n",
       " (247506590, u'postcode', u'None', u'addr'),\n",
       " (247506590, u'housenumber', u'11400', u'addr')]"
      ]
     },
     "execution_count": 15,
     "metadata": {},
     "output_type": "execute_result"
    }
   ],
   "source": [
    "cur.execute(\"\"\"SELECT * \n",
    "             FROM (SELECT * FROM nodes_tags\n",
    "             UNION ALL \n",
    "             SELECT * FROM ways_tags) tags\n",
    "             WHERE tags.id = 247506590\"\"\")\n",
    "missing_postcode2_info = cur.fetchall()\n",
    "missing_postcode2_info"
   ]
  },
  {
   "cell_type": "markdown",
   "metadata": {},
   "source": [
    "Searching for the address shown in the info above using Google Maps, we now know that the postcode is 78726.\n",
    "\n",
    "https://goo.gl/maps/Bmh7gNoRLGu"
   ]
  },
  {
   "cell_type": "markdown",
   "metadata": {},
   "source": [
    "##### Determination of postcode for id 383791236:"
   ]
  },
  {
   "cell_type": "code",
   "execution_count": 16,
   "metadata": {
    "collapsed": false
   },
   "outputs": [
    {
     "data": {
      "text/plain": [
       "[(383791236, u'building', u'house', u'regular'),\n",
       " (383791236, u'city', u'Austin', u'addr'),\n",
       " (383791236, u'street', u'Elderberry Road', u'addr'),\n",
       " (383791236, u'postcode', u'None', u'addr'),\n",
       " (383791236, u'housenumber', u'282', u'addr')]"
      ]
     },
     "execution_count": 16,
     "metadata": {},
     "output_type": "execute_result"
    }
   ],
   "source": [
    "cur.execute(\"\"\"SELECT * \n",
    "             FROM (SELECT * FROM nodes_tags\n",
    "             UNION ALL \n",
    "             SELECT * FROM ways_tags) tags\n",
    "             WHERE tags.id = 383791236\"\"\")\n",
    "missing_postcode3_info = cur.fetchall()\n",
    "missing_postcode3_info"
   ]
  },
  {
   "cell_type": "markdown",
   "metadata": {},
   "source": [
    "Searching for the address above on Google maps yield a postcode of 78745."
   ]
  },
  {
   "cell_type": "markdown",
   "metadata": {},
   "source": [
    "## Number of nodes:"
   ]
  },
  {
   "cell_type": "code",
   "execution_count": 17,
   "metadata": {
    "collapsed": false
   },
   "outputs": [
    {
     "data": {
      "text/plain": [
       "[(6356394,)]"
      ]
     },
     "execution_count": 17,
     "metadata": {},
     "output_type": "execute_result"
    }
   ],
   "source": [
    "cur.execute(\"SELECT COUNT(*) FROM nodes\")\n",
    "nodes = cur.fetchall()\n",
    "nodes"
   ]
  },
  {
   "cell_type": "markdown",
   "metadata": {},
   "source": [
    "This value is the same as the one obtained from the exploration of dataset using xml.etree.cElementTree module of Python (see p3_wrangle_openstreetmap_1.ipynb, High Level Tags)"
   ]
  },
  {
   "cell_type": "markdown",
   "metadata": {},
   "source": [
    "## Number of ways:"
   ]
  },
  {
   "cell_type": "code",
   "execution_count": 18,
   "metadata": {
    "collapsed": false
   },
   "outputs": [
    {
     "data": {
      "text/plain": [
       "[(666390,)]"
      ]
     },
     "execution_count": 18,
     "metadata": {},
     "output_type": "execute_result"
    }
   ],
   "source": [
    "cur.execute(\"SELECT COUNT(*) FROM ways\")\n",
    "ways = cur.fetchall()\n",
    "ways"
   ]
  },
  {
   "cell_type": "markdown",
   "metadata": {},
   "source": [
    "This is also the same number obtained from the the ElementTree module in Python (p3_wrangle_openstreetmap_1.ipynb, High Level Tags)."
   ]
  },
  {
   "cell_type": "markdown",
   "metadata": {},
   "source": [
    "## Number of unique users"
   ]
  },
  {
   "cell_type": "code",
   "execution_count": 19,
   "metadata": {
    "collapsed": false
   },
   "outputs": [
    {
     "data": {
      "text/plain": [
       "[(1146,)]"
      ]
     },
     "execution_count": 19,
     "metadata": {},
     "output_type": "execute_result"
    }
   ],
   "source": [
    "cur.execute(\"\"\"SELECT COUNT(DISTINCT(e.uid))\n",
    "             FROM (SELECT uid from nodes UNION ALL SELECT uid FROM ways) e\"\"\")\n",
    "users = cur.fetchall()\n",
    "users"
   ]
  },
  {
   "cell_type": "markdown",
   "metadata": {},
   "source": [
    "This number is lower than the one obtained using the ElementTree module in the exploration of the xml osm (1155 users, p3_wrangle_openstreetmap_1.ipynb, Exploring Users). This might be because when the csv files were created, the key values with problematic characters were removed, along with the rest of the record containing that value."
   ]
  },
  {
   "cell_type": "markdown",
   "metadata": {},
   "source": [
    "## Top 10 contributing users"
   ]
  },
  {
   "cell_type": "code",
   "execution_count": 20,
   "metadata": {
    "collapsed": false
   },
   "outputs": [
    {
     "data": {
      "text/plain": [
       "<sqlite3.Cursor at 0x10418f490>"
      ]
     },
     "execution_count": 20,
     "metadata": {},
     "output_type": "execute_result"
    }
   ],
   "source": [
    "cur.execute(\"\"\"SELECT e.user, COUNT(*) as num \n",
    "             FROM (SELECT user FROM nodes UNION ALL SELECT user FROM ways) e \n",
    "             GROUP BY e.user \n",
    "             ORDER BY num DESC \n",
    "             LIMIT 10\"\"\")"
   ]
  },
  {
   "cell_type": "code",
   "execution_count": 21,
   "metadata": {
    "collapsed": false
   },
   "outputs": [
    {
     "data": {
      "text/plain": [
       "[(u'patisilva_atxbuildings', 2743705),\n",
       " (u'ccjjmartin_atxbuildings', 1300514),\n",
       " (u'ccjjmartin__atxbuildings', 940070),\n",
       " (u'wilsaj_atxbuildings', 359124),\n",
       " (u'jseppi_atxbuildings', 300983),\n",
       " (u'woodpeck_fixbot', 223425),\n",
       " (u'kkt_atxbuildings', 157847),\n",
       " (u'lyzidiamond_atxbuildings', 156383),\n",
       " (u'richlv', 50212),\n",
       " (u'johnclary_axtbuildings', 48232)]"
      ]
     },
     "execution_count": 21,
     "metadata": {},
     "output_type": "execute_result"
    }
   ],
   "source": [
    "top10contributors = cur.fetchall()\n",
    "top10contributors"
   ]
  },
  {
   "cell_type": "markdown",
   "metadata": {},
   "source": [
    "##### Using pandas to explore contributors:"
   ]
  },
  {
   "cell_type": "code",
   "execution_count": 22,
   "metadata": {
    "collapsed": true
   },
   "outputs": [],
   "source": [
    "contributions = cur.execute(\"\"\"SELECT e.user, COUNT(*) as num \n",
    "                             FROM (SELECT user FROM nodes UNION ALL SELECT user FROM ways) e \n",
    "                             GROUP BY e.user \n",
    "                             ORDER BY num DESC\"\"\").fetchall()"
   ]
  },
  {
   "cell_type": "code",
   "execution_count": 23,
   "metadata": {
    "collapsed": true
   },
   "outputs": [],
   "source": [
    "import pandas as pd"
   ]
  },
  {
   "cell_type": "code",
   "execution_count": 24,
   "metadata": {
    "collapsed": false
   },
   "outputs": [
    {
     "data": {
      "text/html": [
       "<div>\n",
       "<table border=\"1\" class=\"dataframe\">\n",
       "  <thead>\n",
       "    <tr style=\"text-align: right;\">\n",
       "      <th></th>\n",
       "      <th>0</th>\n",
       "      <th>1</th>\n",
       "    </tr>\n",
       "  </thead>\n",
       "  <tbody>\n",
       "    <tr>\n",
       "      <th>0</th>\n",
       "      <td>patisilva_atxbuildings</td>\n",
       "      <td>2743705</td>\n",
       "    </tr>\n",
       "    <tr>\n",
       "      <th>1</th>\n",
       "      <td>ccjjmartin_atxbuildings</td>\n",
       "      <td>1300514</td>\n",
       "    </tr>\n",
       "    <tr>\n",
       "      <th>2</th>\n",
       "      <td>ccjjmartin__atxbuildings</td>\n",
       "      <td>940070</td>\n",
       "    </tr>\n",
       "    <tr>\n",
       "      <th>3</th>\n",
       "      <td>wilsaj_atxbuildings</td>\n",
       "      <td>359124</td>\n",
       "    </tr>\n",
       "    <tr>\n",
       "      <th>4</th>\n",
       "      <td>jseppi_atxbuildings</td>\n",
       "      <td>300983</td>\n",
       "    </tr>\n",
       "    <tr>\n",
       "      <th>5</th>\n",
       "      <td>woodpeck_fixbot</td>\n",
       "      <td>223425</td>\n",
       "    </tr>\n",
       "    <tr>\n",
       "      <th>6</th>\n",
       "      <td>kkt_atxbuildings</td>\n",
       "      <td>157847</td>\n",
       "    </tr>\n",
       "    <tr>\n",
       "      <th>7</th>\n",
       "      <td>lyzidiamond_atxbuildings</td>\n",
       "      <td>156383</td>\n",
       "    </tr>\n",
       "    <tr>\n",
       "      <th>8</th>\n",
       "      <td>richlv</td>\n",
       "      <td>50212</td>\n",
       "    </tr>\n",
       "    <tr>\n",
       "      <th>9</th>\n",
       "      <td>johnclary_axtbuildings</td>\n",
       "      <td>48232</td>\n",
       "    </tr>\n",
       "  </tbody>\n",
       "</table>\n",
       "</div>"
      ],
      "text/plain": [
       "                          0        1\n",
       "0    patisilva_atxbuildings  2743705\n",
       "1   ccjjmartin_atxbuildings  1300514\n",
       "2  ccjjmartin__atxbuildings   940070\n",
       "3       wilsaj_atxbuildings   359124\n",
       "4       jseppi_atxbuildings   300983\n",
       "5           woodpeck_fixbot   223425\n",
       "6          kkt_atxbuildings   157847\n",
       "7  lyzidiamond_atxbuildings   156383\n",
       "8                    richlv    50212\n",
       "9    johnclary_axtbuildings    48232"
      ]
     },
     "execution_count": 24,
     "metadata": {},
     "output_type": "execute_result"
    }
   ],
   "source": [
    "contributions_df = pd.DataFrame(contributions)\n",
    "contributions_df.head(10)"
   ]
  },
  {
   "cell_type": "code",
   "execution_count": 25,
   "metadata": {
    "collapsed": false
   },
   "outputs": [],
   "source": [
    "contributions_df['users'] = contributions_df[0]"
   ]
  },
  {
   "cell_type": "code",
   "execution_count": 26,
   "metadata": {
    "collapsed": true
   },
   "outputs": [],
   "source": [
    "contributions_df['count'] = contributions_df[1]"
   ]
  },
  {
   "cell_type": "code",
   "execution_count": 27,
   "metadata": {
    "collapsed": true
   },
   "outputs": [],
   "source": [
    "del contributions_df[0]"
   ]
  },
  {
   "cell_type": "code",
   "execution_count": 28,
   "metadata": {
    "collapsed": true
   },
   "outputs": [],
   "source": [
    "del contributions_df[1]"
   ]
  },
  {
   "cell_type": "code",
   "execution_count": 29,
   "metadata": {
    "collapsed": false
   },
   "outputs": [
    {
     "data": {
      "text/html": [
       "<div>\n",
       "<table border=\"1\" class=\"dataframe\">\n",
       "  <thead>\n",
       "    <tr style=\"text-align: right;\">\n",
       "      <th></th>\n",
       "      <th>users</th>\n",
       "      <th>count</th>\n",
       "    </tr>\n",
       "  </thead>\n",
       "  <tbody>\n",
       "    <tr>\n",
       "      <th>0</th>\n",
       "      <td>patisilva_atxbuildings</td>\n",
       "      <td>2743705</td>\n",
       "    </tr>\n",
       "    <tr>\n",
       "      <th>1</th>\n",
       "      <td>ccjjmartin_atxbuildings</td>\n",
       "      <td>1300514</td>\n",
       "    </tr>\n",
       "    <tr>\n",
       "      <th>2</th>\n",
       "      <td>ccjjmartin__atxbuildings</td>\n",
       "      <td>940070</td>\n",
       "    </tr>\n",
       "    <tr>\n",
       "      <th>3</th>\n",
       "      <td>wilsaj_atxbuildings</td>\n",
       "      <td>359124</td>\n",
       "    </tr>\n",
       "    <tr>\n",
       "      <th>4</th>\n",
       "      <td>jseppi_atxbuildings</td>\n",
       "      <td>300983</td>\n",
       "    </tr>\n",
       "    <tr>\n",
       "      <th>5</th>\n",
       "      <td>woodpeck_fixbot</td>\n",
       "      <td>223425</td>\n",
       "    </tr>\n",
       "    <tr>\n",
       "      <th>6</th>\n",
       "      <td>kkt_atxbuildings</td>\n",
       "      <td>157847</td>\n",
       "    </tr>\n",
       "    <tr>\n",
       "      <th>7</th>\n",
       "      <td>lyzidiamond_atxbuildings</td>\n",
       "      <td>156383</td>\n",
       "    </tr>\n",
       "    <tr>\n",
       "      <th>8</th>\n",
       "      <td>richlv</td>\n",
       "      <td>50212</td>\n",
       "    </tr>\n",
       "    <tr>\n",
       "      <th>9</th>\n",
       "      <td>johnclary_axtbuildings</td>\n",
       "      <td>48232</td>\n",
       "    </tr>\n",
       "  </tbody>\n",
       "</table>\n",
       "</div>"
      ],
      "text/plain": [
       "                      users    count\n",
       "0    patisilva_atxbuildings  2743705\n",
       "1   ccjjmartin_atxbuildings  1300514\n",
       "2  ccjjmartin__atxbuildings   940070\n",
       "3       wilsaj_atxbuildings   359124\n",
       "4       jseppi_atxbuildings   300983\n",
       "5           woodpeck_fixbot   223425\n",
       "6          kkt_atxbuildings   157847\n",
       "7  lyzidiamond_atxbuildings   156383\n",
       "8                    richlv    50212\n",
       "9    johnclary_axtbuildings    48232"
      ]
     },
     "execution_count": 29,
     "metadata": {},
     "output_type": "execute_result"
    }
   ],
   "source": [
    "contributions_df.head(10)"
   ]
  },
  {
   "cell_type": "markdown",
   "metadata": {},
   "source": [
    "## Number of users having only one contribution:\n",
    "\n",
    "Using pandas instead of sqlite database"
   ]
  },
  {
   "cell_type": "code",
   "execution_count": 34,
   "metadata": {
    "collapsed": true
   },
   "outputs": [],
   "source": [
    "from time import time"
   ]
  },
  {
   "cell_type": "code",
   "execution_count": 35,
   "metadata": {
    "collapsed": false
   },
   "outputs": [
    {
     "name": "stdout",
     "output_type": "stream",
     "text": [
      "256\n",
      "Processing time:  0.002 s\n"
     ]
    }
   ],
   "source": [
    "t0 = time()\n",
    "print len(contributions_df[contributions_df['count'] == 1])\n",
    "print 'Processing time: ', round(time() - t0, 3), \"s\""
   ]
  },
  {
   "cell_type": "markdown",
   "metadata": {},
   "source": [
    "Using sqlite:"
   ]
  },
  {
   "cell_type": "code",
   "execution_count": 36,
   "metadata": {
    "collapsed": false
   },
   "outputs": [
    {
     "name": "stdout",
     "output_type": "stream",
     "text": [
      "[(256,)]\n",
      "Processing time:  13.476 s\n"
     ]
    }
   ],
   "source": [
    "t0 = time()\n",
    "number = cur.execute(\"\"\"SELECT COUNT(*) \n",
    "                      FROM \n",
    "                          (SELECT e.user, COUNT(*) as num \n",
    "                           FROM (SELECT user FROM nodes UNION ALL SELECT user FROM ways) e \n",
    "                           GROUP BY e.user \n",
    "                           HAVING num=1) u\"\"\").fetchall()\n",
    "print number\n",
    "print 'Processing time: ', round(time() - t0, 3), \"s\""
   ]
  },
  {
   "cell_type": "markdown",
   "metadata": {},
   "source": [
    "## Popular amenities"
   ]
  },
  {
   "cell_type": "code",
   "execution_count": 37,
   "metadata": {
    "collapsed": false
   },
   "outputs": [],
   "source": [
    "amenities = cur.execute(\"\"\"SELECT value, COUNT(*) as num \n",
    "                           FROM nodes_tags \n",
    "                           WHERE key = 'amenity' \n",
    "                           GROUP BY value \n",
    "                           ORDER BY num DESC\"\"\").fetchall()"
   ]
  },
  {
   "cell_type": "code",
   "execution_count": 38,
   "metadata": {
    "collapsed": true
   },
   "outputs": [],
   "source": [
    "amenities_df = pd.DataFrame(amenities)"
   ]
  },
  {
   "cell_type": "code",
   "execution_count": 39,
   "metadata": {
    "collapsed": false
   },
   "outputs": [
    {
     "data": {
      "text/html": [
       "<div>\n",
       "<table border=\"1\" class=\"dataframe\">\n",
       "  <thead>\n",
       "    <tr style=\"text-align: right;\">\n",
       "      <th></th>\n",
       "      <th>amenity</th>\n",
       "      <th>count</th>\n",
       "    </tr>\n",
       "  </thead>\n",
       "  <tbody>\n",
       "    <tr>\n",
       "      <th>0</th>\n",
       "      <td>restaurant</td>\n",
       "      <td>601</td>\n",
       "    </tr>\n",
       "    <tr>\n",
       "      <th>1</th>\n",
       "      <td>waste_basket</td>\n",
       "      <td>598</td>\n",
       "    </tr>\n",
       "    <tr>\n",
       "      <th>2</th>\n",
       "      <td>place_of_worship</td>\n",
       "      <td>420</td>\n",
       "    </tr>\n",
       "    <tr>\n",
       "      <th>3</th>\n",
       "      <td>fast_food</td>\n",
       "      <td>387</td>\n",
       "    </tr>\n",
       "    <tr>\n",
       "      <th>4</th>\n",
       "      <td>bench</td>\n",
       "      <td>359</td>\n",
       "    </tr>\n",
       "    <tr>\n",
       "      <th>5</th>\n",
       "      <td>fuel</td>\n",
       "      <td>241</td>\n",
       "    </tr>\n",
       "    <tr>\n",
       "      <th>6</th>\n",
       "      <td>school</td>\n",
       "      <td>219</td>\n",
       "    </tr>\n",
       "    <tr>\n",
       "      <th>7</th>\n",
       "      <td>bar</td>\n",
       "      <td>120</td>\n",
       "    </tr>\n",
       "    <tr>\n",
       "      <th>8</th>\n",
       "      <td>cafe</td>\n",
       "      <td>120</td>\n",
       "    </tr>\n",
       "    <tr>\n",
       "      <th>9</th>\n",
       "      <td>pharmacy</td>\n",
       "      <td>88</td>\n",
       "    </tr>\n",
       "  </tbody>\n",
       "</table>\n",
       "</div>"
      ],
      "text/plain": [
       "            amenity  count\n",
       "0        restaurant    601\n",
       "1      waste_basket    598\n",
       "2  place_of_worship    420\n",
       "3         fast_food    387\n",
       "4             bench    359\n",
       "5              fuel    241\n",
       "6            school    219\n",
       "7               bar    120\n",
       "8              cafe    120\n",
       "9          pharmacy     88"
      ]
     },
     "execution_count": 39,
     "metadata": {},
     "output_type": "execute_result"
    }
   ],
   "source": [
    "amenities_df['amenity'] = amenities_df[0]\n",
    "amenities_df['count'] = amenities_df[1]\n",
    "del amenities_df[0]\n",
    "del amenities_df[1]\n",
    "amenities_df.head(10)"
   ]
  },
  {
   "cell_type": "code",
   "execution_count": 40,
   "metadata": {
    "collapsed": false
   },
   "outputs": [
    {
     "data": {
      "text/html": [
       "<div>\n",
       "<table border=\"1\" class=\"dataframe\">\n",
       "  <thead>\n",
       "    <tr style=\"text-align: right;\">\n",
       "      <th></th>\n",
       "      <th>amenity</th>\n",
       "      <th>count</th>\n",
       "    </tr>\n",
       "  </thead>\n",
       "  <tbody>\n",
       "    <tr>\n",
       "      <th>54</th>\n",
       "      <td>Condominium complex</td>\n",
       "      <td>1</td>\n",
       "    </tr>\n",
       "    <tr>\n",
       "      <th>55</th>\n",
       "      <td>Fine Wine &amp; Liquor</td>\n",
       "      <td>1</td>\n",
       "    </tr>\n",
       "    <tr>\n",
       "      <th>56</th>\n",
       "      <td>Flag</td>\n",
       "      <td>1</td>\n",
       "    </tr>\n",
       "    <tr>\n",
       "      <th>57</th>\n",
       "      <td>amusement_park</td>\n",
       "      <td>1</td>\n",
       "    </tr>\n",
       "    <tr>\n",
       "      <th>58</th>\n",
       "      <td>boat_rental</td>\n",
       "      <td>1</td>\n",
       "    </tr>\n",
       "    <tr>\n",
       "      <th>59</th>\n",
       "      <td>community_center</td>\n",
       "      <td>1</td>\n",
       "    </tr>\n",
       "    <tr>\n",
       "      <th>60</th>\n",
       "      <td>courthouse</td>\n",
       "      <td>1</td>\n",
       "    </tr>\n",
       "    <tr>\n",
       "      <th>61</th>\n",
       "      <td>diving_board</td>\n",
       "      <td>1</td>\n",
       "    </tr>\n",
       "    <tr>\n",
       "      <th>62</th>\n",
       "      <td>dojo</td>\n",
       "      <td>1</td>\n",
       "    </tr>\n",
       "    <tr>\n",
       "      <th>63</th>\n",
       "      <td>food_court</td>\n",
       "      <td>1</td>\n",
       "    </tr>\n",
       "    <tr>\n",
       "      <th>64</th>\n",
       "      <td>marketplace</td>\n",
       "      <td>1</td>\n",
       "    </tr>\n",
       "    <tr>\n",
       "      <th>65</th>\n",
       "      <td>nursing home</td>\n",
       "      <td>1</td>\n",
       "    </tr>\n",
       "    <tr>\n",
       "      <th>66</th>\n",
       "      <td>social_facility</td>\n",
       "      <td>1</td>\n",
       "    </tr>\n",
       "    <tr>\n",
       "      <th>67</th>\n",
       "      <td>sporting goods</td>\n",
       "      <td>1</td>\n",
       "    </tr>\n",
       "    <tr>\n",
       "      <th>68</th>\n",
       "      <td>waste_disposal</td>\n",
       "      <td>1</td>\n",
       "    </tr>\n",
       "    <tr>\n",
       "      <th>69</th>\n",
       "      <td>whirlpool</td>\n",
       "      <td>1</td>\n",
       "    </tr>\n",
       "    <tr>\n",
       "      <th>70</th>\n",
       "      <td>yes</td>\n",
       "      <td>1</td>\n",
       "    </tr>\n",
       "  </tbody>\n",
       "</table>\n",
       "</div>"
      ],
      "text/plain": [
       "                amenity  count\n",
       "54  Condominium complex      1\n",
       "55   Fine Wine & Liquor      1\n",
       "56                 Flag      1\n",
       "57       amusement_park      1\n",
       "58          boat_rental      1\n",
       "59     community_center      1\n",
       "60           courthouse      1\n",
       "61         diving_board      1\n",
       "62                 dojo      1\n",
       "63           food_court      1\n",
       "64          marketplace      1\n",
       "65         nursing home      1\n",
       "66      social_facility      1\n",
       "67       sporting goods      1\n",
       "68       waste_disposal      1\n",
       "69            whirlpool      1\n",
       "70                  yes      1"
      ]
     },
     "execution_count": 40,
     "metadata": {},
     "output_type": "execute_result"
    }
   ],
   "source": [
    "amenities_df[amenities_df['count'] == 1]"
   ]
  },
  {
   "cell_type": "markdown",
   "metadata": {
    "collapsed": true
   },
   "source": [
    "## Most popular cuisines"
   ]
  },
  {
   "cell_type": "code",
   "execution_count": 41,
   "metadata": {
    "collapsed": true
   },
   "outputs": [],
   "source": [
    "cuisines = cur.execute(\"\"\"SELECT nodes_tags.value, COUNT(*) as num \n",
    "                        FROM nodes_tags \n",
    "                            JOIN (SELECT DISTINCT(id) FROM nodes_tags \n",
    "                                  WHERE value = 'restaurant') i \n",
    "                            ON nodes_tags.id=i.id \n",
    "                        WHERE nodes_tags.key='cuisine' \n",
    "                        GROUP BY nodes_tags.value \n",
    "                        ORDER BY num DESC\"\"\").fetchall()"
   ]
  },
  {
   "cell_type": "code",
   "execution_count": 42,
   "metadata": {
    "collapsed": false
   },
   "outputs": [
    {
     "data": {
      "text/plain": [
       "[(u'mexican', 60),\n",
       " (u'american', 25),\n",
       " (u'pizza', 25),\n",
       " (u'chinese', 20),\n",
       " (u'indian', 15),\n",
       " (u'italian', 15),\n",
       " (u'asian', 14),\n",
       " (u'thai', 14),\n",
       " (u'sandwich', 13),\n",
       " (u'sushi', 12),\n",
       " (u'burger', 11),\n",
       " (u'regional', 10),\n",
       " (u'japanese', 8),\n",
       " (u'barbecue', 6),\n",
       " (u'vietnamese', 5),\n",
       " (u'chicken', 3),\n",
       " (u'greek', 3),\n",
       " (u'ice_cream', 3),\n",
       " (u'korean', 3),\n",
       " (u'steak_house', 3),\n",
       " (u'french', 2),\n",
       " (u'mediterranean', 2),\n",
       " (u'salad', 2),\n",
       " (u'tex-mex', 2),\n",
       " (u'American, home cooking', 1),\n",
       " (u'Argentinian', 1),\n",
       " (u'Asian_Fusion', 1),\n",
       " (u'BBQ', 1),\n",
       " (u'Bar-B-Q', 1),\n",
       " (u'Cuban', 1),\n",
       " (u'Greek-centric_Mediterranean_cuisine', 1),\n",
       " (u'Greek/Mediteranian', 1),\n",
       " (u'ICe_cream', 1),\n",
       " (u'Ice_cream', 1),\n",
       " (u'Jamaican,_Cuban', 1),\n",
       " (u'Mexican_Korean', 1),\n",
       " (u'Moroccan', 1),\n",
       " (u'Surf_&_Turf', 1),\n",
       " (u'Tacos,_coffee', 1),\n",
       " (u'Tex-Mex', 1),\n",
       " (u'Texas Style BBQ', 1),\n",
       " (u'american,wings', 1),\n",
       " (u'breakfast', 1),\n",
       " (u'cajun', 1),\n",
       " (u'colombian', 1),\n",
       " (u'el_salvadorian', 1),\n",
       " (u'ethiopian', 1),\n",
       " (u'indonesian', 1),\n",
       " (u'noodle', 1),\n",
       " (u'persian', 1),\n",
       " (u'peruvian', 1),\n",
       " (u'spanish', 1),\n",
       " (u'tacos', 1),\n",
       " (u'vegetarian', 1),\n",
       " (u'yogurt', 1)]"
      ]
     },
     "execution_count": 42,
     "metadata": {},
     "output_type": "execute_result"
    }
   ],
   "source": [
    "cuisines"
   ]
  },
  {
   "cell_type": "markdown",
   "metadata": {},
   "source": [
    "As can be seen above, cuisine values need to be cleaned as well. "
   ]
  },
  {
   "cell_type": "markdown",
   "metadata": {},
   "source": [
    "## Location of different restaurants"
   ]
  },
  {
   "cell_type": "code",
   "execution_count": 43,
   "metadata": {
    "collapsed": false
   },
   "outputs": [],
   "source": [
    "cuisine_loc = cur.execute(\"\"\"SELECT b.id, b.value, nodes.lat, nodes.lon \n",
    "                             FROM (SELECT * FROM nodes_tags UNION ALL SELECT * FROM ways_tags) b\n",
    "                                   JOIN nodes ON b.id = nodes.id \n",
    "                             WHERE b.key = 'cuisine'\"\"\").fetchall()"
   ]
  },
  {
   "cell_type": "code",
   "execution_count": 44,
   "metadata": {
    "collapsed": false
   },
   "outputs": [
    {
     "data": {
      "text/plain": [
       "[(280232008,\n",
       "  u'burger;sandwich;hotdog;grill;irish;fish_and_chips;vegetarian;mexican',\n",
       "  30.2925357,\n",
       "  -97.735633),\n",
       " (336647359, u'asian', 30.3150638, -97.7344909),\n",
       " (338450996, u'coffee_shop', 30.268574, -97.7423667),\n",
       " (432202212, u'japanese', 30.3565169, -97.7473856),\n",
       " (432202995, u'chinese', 30.3565687, -97.7473599),\n",
       " (437279354, u'mexican', 30.2800588, -97.7594781),\n",
       " (437379736, u'tex-mex', 30.2828378, -97.7755976),\n",
       " (457485574, u'american', 30.2794133, -97.7600581),\n",
       " (472242349, u'ice_cream', 30.230688, -97.7998856),\n",
       " (480598791, u'coffee_shop', 30.4019522, -97.7264133),\n",
       " (530782913, u'burger', 30.3321885, -97.7403355),\n",
       " (530785813, u'mexican', 30.3415445, -97.7391338),\n",
       " (530786430, u'American, home cooking', 30.3437964, -97.7379751),\n",
       " (530930090, u'regional', 30.3080182, -97.7504833),\n",
       " (532440834, u'mexican', 30.323403, -97.739207),\n",
       " (534454296, u'thai', 30.2967459, -97.7416594),\n",
       " (537477734, u'chinese', 30.432584, -97.7714049),\n",
       " (538135772, u'american', 30.390988, -97.7479611),\n",
       " (564123070, u'mexican', 30.1832042, -97.8476351),\n",
       " (564124702, u'ICe_cream', 30.1832487, -97.8477981),\n",
       " (564126083, u'Sandwhich shop', 30.1833154, -97.8479183),\n",
       " (564128225, u'american', 30.1833377, -97.8480556),\n",
       " (564145569, u'italian', 30.1835009, -97.848253),\n",
       " (564535822, u'Greek/Mediteranian', 30.1847771, -97.8475149),\n",
       " (564537191, u'asian', 30.1851332, -97.8472917),\n",
       " (564537851, u'coffee_shop', 30.1852296, -97.8471973),\n",
       " (573843025, u'coffee_shop', 30.3185317, -97.7245043),\n",
       " (588034841, u'mexican', 30.5208625, -97.8307015),\n",
       " (588035244, u'burger', 30.5213143, -97.8309922),\n",
       " (588036692, u'mexican', 30.5225264, -97.8315582),\n",
       " (588041471, u'chinese', 30.5202188, -97.8339875),\n",
       " (588065950, u'pizza', 30.544165, -97.840539),\n",
       " (588070859, u'chinese', 30.5499212, -97.8533226),\n",
       " (599045257, u'tex-mex', 30.221089, -97.772538),\n",
       " (599493119, u'asian', 30.3955201, -97.7503376),\n",
       " (599493141, u'french', 30.3957428, -97.7472319),\n",
       " (599493152, u'chinese', 30.4001039, -97.748023),\n",
       " (599493162, u'italian', 30.3988329, -97.7490667),\n",
       " (599493165, u'burger', 30.3950396, -97.7493683),\n",
       " (599493166, u'greek', 30.3950324, -97.7491981),\n",
       " (599493170, u'mexican', 30.4002315, -97.7472555),\n",
       " (599493179, u'sandwich', 30.400368, -97.7480055),\n",
       " (668901125, u'Hamburgers and fires', 30.2026839, -97.8073257),\n",
       " (668901152, u'Texas Style BBQ', 30.2029899, -97.8054428),\n",
       " (713811972, u'mexican', 30.081007, -97.843442),\n",
       " (728464390, u'burger', 30.4125358, -97.6904448),\n",
       " (768247499, u'burger', 30.1757794, -97.5261884),\n",
       " (822469572, u'burger', 30.2723218, -97.6968974),\n",
       " (828833660, u'burger', 30.4478854, -97.6395665),\n",
       " (859708739, u'burger', 30.4654953, -97.8031668),\n",
       " (860788397, u'cajun', 30.5108352, -97.6899415),\n",
       " (882493049, u'indian', 30.2381148, -97.7394025),\n",
       " (919327832, u'mexican', 30.2499685, -97.7670565),\n",
       " (919331370, u'mexican', 30.237152, -97.7494097),\n",
       " (919331375, u'mediterranean', 30.2371474, -97.7496672),\n",
       " (919331491, u'burger', 30.2309461, -97.7355266),\n",
       " (919331536, u'chinese', 30.2297317, -97.7299369),\n",
       " (919333661, u'thai', 30.2479434, -97.7617143),\n",
       " (919333929, u'mexican', 30.2458558, -97.7571455),\n",
       " (919334014, u'mexican', 30.245295, -97.7574567),\n",
       " (919336153, u'mexican', 30.249127, -97.7501239),\n",
       " (919340319, u'italian', 30.2479272, -97.7506887),\n",
       " (919341626, u'mexican', 30.2513434, -97.7545812),\n",
       " (919342407, u'mexican', 30.2468507, -97.7564399),\n",
       " (919345191, u'mexican', 30.2430066, -97.758921),\n",
       " (919345199, u'mexican', 30.2406153, -97.7609112),\n",
       " (919346281, u'mexican', 30.2367594, -97.7627136),\n",
       " (1068330599, u'american', 30.5413292, -97.560321),\n",
       " (1073817590, u'burger', 30.3754304, -97.6761856),\n",
       " (1106880639, u'asian', 30.6324471, -97.6932603),\n",
       " (1226387114, u'italian', 30.3950453, -97.7269507),\n",
       " (1233167077, u'steak_house', 30.4030816, -97.7256638),\n",
       " (1236792977, u'italian', 30.304895, -97.7262332),\n",
       " (1245024942, u'sushi', 30.3961024, -97.7196012),\n",
       " (1249186321, u'mexican', 30.3950774, -97.7484716),\n",
       " (1249567872, u'italian', 30.3998084, -97.746813),\n",
       " (1249567906, u'japanese', 30.3999414, -97.7485126),\n",
       " (1251977741, u'pizza', 30.407478, -97.7134801),\n",
       " (1251977926, u'mexican', 30.4076999, -97.713254),\n",
       " (1257587281, u'sushi', 30.3888001, -97.7329038),\n",
       " (1431494369, u'coffee_shop', 30.3138337, -97.7199873),\n",
       " (1431503598, u'vegetarian', 30.3071695, -97.7248904),\n",
       " (1431507585, u'pizza', 30.3127083, -97.7150011),\n",
       " (1475356644, u'sandwich', 30.6396752, -97.6877219),\n",
       " (1475511901, u'burger', 30.4332244, -97.6708178),\n",
       " (1477428990, u'ethiopian', 30.2872884, -97.7250739),\n",
       " (1480283958, u'indian', 30.2398797, -97.7531192),\n",
       " (1480283961, u'pizza', 30.2410545, -97.7528939),\n",
       " (1480360277, u'salad', 30.2412899, -97.7520837),\n",
       " (1480380047, u'Cuban', 30.2349266, -97.7573033),\n",
       " (1480383453, u'vietnamese', 30.23371, -97.7930115),\n",
       " (1480646358, u'korean', 30.3340239, -97.7165344),\n",
       " (1481347059, u'indian', 30.2325951, -97.7406066),\n",
       " (1481349979, u'indonesian', 30.2294109, -97.7293306),\n",
       " (1481351774, u'korean', 30.3593073, -97.7339922),\n",
       " (1481357889, u'chinese', 30.2307782, -97.8026944),\n",
       " (1481364118, u'korean', 30.3361676, -97.7210636),\n",
       " (1481364381, u'steak_house', 30.2641976, -97.7467468),\n",
       " (1481365417, u'vietnamese', 30.3617837, -97.7153938),\n",
       " (1481370521, u'chinese', 30.361094, -97.7156191),\n",
       " (1481388984, u'mexican', 30.2331421, -97.7586735),\n",
       " (1481633491, u'ice_cream', 30.271858, -97.7544087),\n",
       " (1482321141, u'indian', 30.5108476, -97.6941667),\n",
       " (1482325159, u'donuts', 30.5094486, -97.6798958),\n",
       " (1482334185, u'vietnamese', 30.479011, -97.6780761),\n",
       " (1482466616, u'indian', 30.4833474, -97.6728082),\n",
       " (1482467116, u'chinese', 30.5083173, -97.6876569),\n",
       " (1483931096, u'italian', 30.271294, -97.7418546),\n",
       " (1483931115, u'steak_house', 30.2690633, -97.7421993),\n",
       " (1484010008, u'american', 30.3567746, -97.7312443),\n",
       " (1484125211, u'sushi', 30.3107651, -97.7151814),\n",
       " (1484204007, u'burger', 30.3652156, -97.695449),\n",
       " (1484204017, u'chicken', 30.3679329, -97.6937998),\n",
       " (1484805103, u'chicken', 30.4142322, -97.6721437),\n",
       " (1488681911, u'sandwich', 30.2828809, -97.7422633),\n",
       " (1488693500, u'vegetarian', 30.2829388, -97.7449006),\n",
       " (1488703452, u'thai', 30.2896647, -97.7415713),\n",
       " (1488724649, u'vietnamese', 30.2307085, -97.7348261),\n",
       " (1488916358, u'mediterranean', 30.4307673, -97.7638954),\n",
       " (1488916371, u'*', 30.2833706, -97.7413868),\n",
       " (1489676669, u'pizza', 30.2874594, -97.7369076),\n",
       " (1489676675, u'colombian', 30.2637439, -97.7248744),\n",
       " (1489676681, u'el_salvadorian', 30.2600696, -97.7121017),\n",
       " (1489699385, u'coffee_shop', 30.266973, -97.7456939),\n",
       " (1489782281, u'peruvian', 30.4445996, -97.6646566),\n",
       " (1496572045, u'greek', 30.4472402, -97.7909658),\n",
       " (1496572046, u'italian', 30.4462736, -97.7910141),\n",
       " (1496572047, u'american', 30.4449463, -97.7889917),\n",
       " (1496576258, u'chinese', 30.4322486, -97.7709847),\n",
       " (1521404355, u'indian', 30.3729305, -97.7241083),\n",
       " (1521404362, u'thai', 30.3736062, -97.7255031),\n",
       " (1521407218, u'japanese', 30.3734303, -97.7247091),\n",
       " (1521721801, u'chicken', 30.240435, -97.7532506),\n",
       " (1539153968, u'coffee_shop', 30.2649108, -97.746939),\n",
       " (1551323129, u'italian', 30.553759, -97.855123),\n",
       " (1580563065, u'sushi', 30.3947579, -97.7277708),\n",
       " (1606680376, u'burger', 30.3586809, -97.7370696),\n",
       " (1606806854, u'sandwich', 30.428848, -97.7603887),\n",
       " (1619460916, u'pizza', 30.5875549, -97.4121257),\n",
       " (1667401528, u'ice_cream', 30.249266, -97.7688081),\n",
       " (1667409614, u'Moroccan', 30.2475073, -97.7693418),\n",
       " (1667431694, u'asian', 30.358607, -97.7346045),\n",
       " (1674062655, u'american', 30.3586499, -97.7350186),\n",
       " (1674063396, u'mexican', 30.3585851, -97.7349059),\n",
       " (1674064085, u'vietnamese', 30.3578376, -97.7329828),\n",
       " (1674064437, u'coffee_shop', 30.359865, -97.7379073),\n",
       " (1695438144, u'burger', 29.99543, -98.0940592),\n",
       " (1706120124, u'asian', 30.4143397, -97.689156),\n",
       " (1706120127, u'pizza', 30.4143859, -97.6892901),\n",
       " (1706120128, u'american', 30.4143996, -97.6893674),\n",
       " (1707739585, u'italian', 30.6190753, -97.6940997),\n",
       " (1707745746, u'mexican', 30.633473, -97.6773627),\n",
       " (1733086620, u'mexican', 30.4461485, -97.6854136),\n",
       " (1733086651, u'chinese', 30.4463104, -97.6856175),\n",
       " (1743142320, u'coffee_shop', 30.4188075, -97.7027767),\n",
       " (1792254553, u'pizza', 30.4075433, -97.697678),\n",
       " (1792530205, u'italian', 30.4023299, -97.7260086),\n",
       " (1792531743, u'sandwich', 30.4562471, -97.6611781),\n",
       " (1792565675, u'asian', 30.4181803, -97.6703209),\n",
       " (1792577345, u'mexican', 30.2655291, -97.7454598),\n",
       " (1794765787, u'chicken', 30.4387946, -97.6712342),\n",
       " (1803664722, u'sandwich', 30.229395, -97.8208935),\n",
       " (1809098163, u'mexican', 30.4393668, -97.697154),\n",
       " (1809128692, u'ice_cream', 30.4173747, -97.7042668),\n",
       " (1809128744, u'mexican', 30.417074, -97.7035265),\n",
       " (1809141068, u'mexican', 30.4470142, -97.6383816),\n",
       " (1827583318, u'sandwich', 30.2008383, -97.8758011),\n",
       " (1833497058, u'burger', 30.2127031, -97.9665585),\n",
       " (1835655945, u'burger', 30.1911891, -98.0841838),\n",
       " (1840613634, u'mexican', 30.462725, -97.8156287),\n",
       " (1840613714, u'burger', 30.4564604, -97.8256563),\n",
       " (1849077223, u'mexican', 30.2036296, -97.9841317),\n",
       " (1851707258, u'mexican', 30.1909686, -98.0864458),\n",
       " (1854742730, u'burger', 30.1967958, -98.0005246),\n",
       " (1864564905, u'mexican', 30.201596, -97.879981),\n",
       " (1868499437, u'mexican', 30.2980674, -98.0071148),\n",
       " (1936873835, u'sandwich', 30.4582826, -97.8222758),\n",
       " (1937536449, u'mexican', 30.2841449, -97.7183747),\n",
       " (1937541406, u'regional', 30.279883, -97.7216818),\n",
       " (1938967617, u'mexican', 30.2626488, -97.7275384),\n",
       " (1938976171, u'regional', 30.2648358, -97.7313123),\n",
       " (1938992292, u'Argentinian', 30.2641778, -97.7302877),\n",
       " (1946846651, u'mexican', 30.3883139, -97.7430177),\n",
       " (1952999622, u'indian', 30.3599589, -97.7365175),\n",
       " (1953179853, u'burger', 30.357576, -97.733057),\n",
       " (1990976992, u'barbecue', 30.2635619, -97.8155379),\n",
       " (2098735206, u'coffee_shop', 30.481681, -97.83424),\n",
       " (2099133041, u'mexican', 30.306775, -97.74429),\n",
       " (2103644253, u'american', 30.203463, -97.878863),\n",
       " (2110873907, u'american', 30.3041725, -97.7267211),\n",
       " (2125350148, u'burger', 30.315053, -97.734436),\n",
       " (2127940813, u'sandwich', 30.315328, -97.732985),\n",
       " (2128386624, u'asian', 30.5298543, -97.8142911),\n",
       " (2128387897, u'american', 30.529815, -97.8144172),\n",
       " (2128388640, u'indian', 30.5297688, -97.8145647),\n",
       " (2128388996, u'asian', 30.5297133, -97.8147443),\n",
       " (2152115242, u'pizza', 30.5828973, -97.4131104),\n",
       " (2153258544, u'burger', 30.509396, -97.6871167),\n",
       " (2153259112, u'burger', 30.509983, -97.6884259),\n",
       " (2153274821, u'american', 30.5104775, -97.6941011),\n",
       " (2153335605, u'american', 30.5176269, -97.6672683),\n",
       " (2161726310, u'regional', 30.3891259, -97.7529303),\n",
       " (2161726311, u'ice_cream', 30.3910138, -97.7485103),\n",
       " (2165720686, u'sandwich', 30.287202, -97.741877),\n",
       " (2184394036, u'burger', 30.5562755, -97.6879),\n",
       " (2184394037, u'american', 30.5566271, -97.688029),\n",
       " (2184400842, u'sandwich', 30.5565063, -97.6879665),\n",
       " (2184408070, u'indian', 30.5556137, -97.6871945),\n",
       " (2235279539, u'pizza', 30.4522736, -97.8268734),\n",
       " (2235283686, u'mexican', 30.4529766, -97.8275976),\n",
       " (2267077922, u'mexican', 30.2204769, -97.7649008),\n",
       " (2332626583, u'american', 30.267202, -97.740299),\n",
       " (2334038870, u'thai', 30.264266, -97.741411),\n",
       " (2336750611, u'regional', 30.2661445, -97.7402089),\n",
       " (2337356621, u'sandwich', 30.2733309, -97.8007345),\n",
       " (2337652412, u'sandwich', 30.280724, -97.8069902),\n",
       " (2337699721, u'pizza', 30.2107183, -97.96827),\n",
       " (2352597263, u'coffee_shop', 30.3546718, -97.7563416),\n",
       " (2352597266, u'sandwich', 30.3546209, -97.7563751),\n",
       " (2352597278, u'pizza', 30.370621, -97.7585108),\n",
       " (2356279806, u'american', 30.3928794, -97.7493748),\n",
       " (2356754859, u'regional', 30.4616148, -98.1585502),\n",
       " (2382577191, u'burger', 30.414722, -97.705385),\n",
       " (2400049091, u'mexican', 30.2647951, -97.7415886),\n",
       " (2400989150, u'mexican', 30.2129341, -97.8295451),\n",
       " (2408094221, u'sandwich', 30.2310115, -97.9342445),\n",
       " (2409988654, u'sandwich', 30.1977649, -98.1072939),\n",
       " (2422136509, u'sushi', 30.4255201, -97.7169501),\n",
       " (2428748595, u'mexican', 30.411828, -97.9271922),\n",
       " (2428749224, u'mexican', 30.4119483, -97.9263741),\n",
       " (2447742850, u'mexican', 30.2700107, -97.7418634),\n",
       " (2447742851, u'pizza', 30.2692949, -97.7425595),\n",
       " (2486542942, u'sandwich', 30.2333843, -97.865981),\n",
       " (2492922372, u'coffee_shop', 30.2732409, -97.8005516),\n",
       " (2507491258, u'american', 30.2935486, -97.7160528),\n",
       " (2512409298, u'pizza', 30.2344867, -97.8741168),\n",
       " (2527535404, u'mexican', 30.3635213, -97.7194319),\n",
       " (2527535405, u'vietnamese', 30.3823129, -97.7232496),\n",
       " (2528868982, u'mexican', 30.3723167, -97.7271869),\n",
       " (2530278174, u'pizza', 30.4020096, -97.7466265),\n",
       " (2531719524, u'mexican', 30.2362004, -97.8218194),\n",
       " (2533220653, u'mexican', 30.444632, -97.7442635),\n",
       " (2533220667, u'sandwich', 30.4442311, -97.7440021),\n",
       " (2539992129, u'mexican', 30.1908805, -97.7690657),\n",
       " (2539992340, u'burger', 30.1912415, -97.7688112),\n",
       " (2548060800, u'chinese', 30.4102678, -97.6758278),\n",
       " (2548094810, u'american', 30.4382624, -97.7588431),\n",
       " (2549265045, u'pizza', 30.1897762, -98.0824708),\n",
       " (2578661260, u'barbecue', 30.1947451, -98.103067),\n",
       " (2593371273, u'sandwich', 30.2805964, -97.8068663),\n",
       " (2600859010, u'mexican', 30.2586145, -97.7385885),\n",
       " (2621843083, u'burger', 30.3733402, -97.7283718),\n",
       " (2621843112, u'mexican', 30.3480396, -97.7147153),\n",
       " (2622855261, u'pizza', 30.4340029, -97.7722011),\n",
       " (2622867244, u'Asian_Fusion', 30.4473688, -97.7889237),\n",
       " (2626566661, u'indian', 30.3654581, -97.7289338),\n",
       " (2637303302, u'burger', 30.1742796, -97.8266416),\n",
       " (2637310619, u'chicken', 30.175059, -97.8236443),\n",
       " (2637311462, u'burger', 30.1754777, -97.8234248),\n",
       " (2637336401, u'burger', 30.1732139, -97.8227706),\n",
       " (2643930698, u'Mexican_Korean', 30.4284769, -97.7603485),\n",
       " (2654844268, u'mexican', 30.4841289, -97.5836917),\n",
       " (2654844275, u'mexican', 30.4696718, -97.5958785),\n",
       " (2654844282, u'pizza', 30.4692596, -97.5963832),\n",
       " (2654844284, u'japanese', 30.4691241, -97.5960728),\n",
       " (2663832705, u'mexican', 30.4457069, -97.7440855),\n",
       " (2670928710, u'pizza', 30.2445156, -97.7226469),\n",
       " (2673949103, u'thai', 30.250154, -97.754683),\n",
       " (2674826300, u'american', 30.2455664, -97.7305892),\n",
       " (2676032286, u'pizza', 30.2492274, -97.7495768),\n",
       " (2676032290, u'pizza', 30.2489829, -97.7496114),\n",
       " (2679864686, u'burger', 30.420574, -97.8464427),\n",
       " (2679871820, u'sandwich', 30.4226548, -97.8453934),\n",
       " (2681639703, u'chicken', 30.0875655, -97.8221888),\n",
       " (2697080000, u'sandwich', 30.2646952, -97.7306252),\n",
       " (2723992675, u'burger', 30.2612808, -97.7579447),\n",
       " (2724014428, u'pizza', 30.2540605, -97.763031),\n",
       " (2724052659, u'burger', 30.2386188, -97.7885844),\n",
       " (2727205684, u'indian', 30.2790333, -97.7423871),\n",
       " (2728723164, u'burger', 30.2001043, -97.8634901),\n",
       " (2728727105, u'sandwich', 30.2007436, -97.8646246),\n",
       " (2741074800, u'Jamaican,_Cuban', 30.2771154, -97.7130932),\n",
       " (2753874089, u'barbecue', 30.5364116, -97.693856),\n",
       " (2753876674, u'burger', 30.5351325, -97.6906905),\n",
       " (2779924148, u'sandwich', 30.0170718, -97.8634755),\n",
       " (2779930952, u'sandwich', 30.0280747, -97.8514064),\n",
       " (2780733701, u'burger', 30.4434801, -97.7415569),\n",
       " (2784665953, u'chinese', 30.4444398, -97.7890813),\n",
       " (2784710134, u'pizza', 30.4992507, -97.7776065),\n",
       " (2784711759, u'thai', 30.4113764, -97.6757528),\n",
       " (2784714037, u'asian', 30.2828492, -97.7422705),\n",
       " (2784719614, u'chinese', 30.4107653, -97.6753659),\n",
       " (2784958438, u'thai', 30.2306336, -97.8172074),\n",
       " (2784984034, u'indian', 30.3549924, -97.7556362),\n",
       " (2785042716, u'sushi', 30.4573699, -97.8247654),\n",
       " (2785047310, u'sushi', 30.193437, -97.8429024),\n",
       " (2785056669, u'chinese', 30.4471357, -97.7908518),\n",
       " (2785060947, u'chinese', 30.2126814, -97.8302101),\n",
       " (2785070788, u'pizza', 30.4419354, -97.7444107),\n",
       " (2785091259, u'chinese', 30.417508, -97.7455341),\n",
       " (2785096977, u'sushi', 30.4929898, -97.7269717),\n",
       " (2785117602, u'thai', 30.1666541, -97.7879909),\n",
       " (2785136790, u'thai', 30.4952762, -97.6540163),\n",
       " (2785168695, u'pizza', 30.2867283, -97.7449806),\n",
       " (2785199834, u'sushi', 30.2004116, -97.7637844),\n",
       " (2785520331, u'thai', 30.0881794, -97.8224767),\n",
       " (2791667697, u'chicken', 30.1928254, -97.7793526),\n",
       " (2791668170, u'burger', 30.1933192, -97.7783978),\n",
       " (2792881277, u'regional', 29.9888745, -97.8765374),\n",
       " (2793721027, u'pizza', 30.200414, -97.8693671),\n",
       " (2793734232, u'Frozen_Yogurt', 30.2003352, -97.8687809),\n",
       " (2793746560, u'burger', 30.2002029, -97.8685106),\n",
       " (2798912961, u'burger', 30.0140154, -97.8588615),\n",
       " (2808850702, u'burger', 30.235431, -97.723558),\n",
       " (2808853401, u'burger', 30.235731, -97.724131),\n",
       " (2808857301, u'chicken', 30.242855, -97.7296),\n",
       " (2809689762, u'chinese', 30.4471751, -97.6076416),\n",
       " (2810326374, u'chinese', 30.5331048, -97.6159718),\n",
       " (2811210486, u'salad', 30.2906805, -97.742035),\n",
       " (2817121515, u'mexican', 30.48325, -97.68188),\n",
       " (2833667040, u'burger', 30.0978463, -97.8757607),\n",
       " (2833689326, u'sandwich', 30.0982465, -97.875217),\n",
       " (2841505444, u'mexican', 30.2152705, -97.7678877),\n",
       " (2911243241, u'burger', 30.3291333, -97.6583392),\n",
       " (2911249558, u'Bar-B-Q', 30.3291779, -97.6589922),\n",
       " (2920762435, u'sandwich', 30.2910977, -97.7267131),\n",
       " (2929905819, u'pizza', 30.0871849, -97.8213931),\n",
       " (2929905834, u'pizza', 30.088252, -97.8224814),\n",
       " (2929905853, u'pizza', 30.0863595, -97.8228471),\n",
       " (2961550474, u'sandwich', 30.3590366, -97.7390572),\n",
       " (2961564264, u'pizza', 30.3587973, -97.7390819),\n",
       " (2970061591, u'pizza', 30.01341, -97.8636046),\n",
       " (2970345589, u'sandwich', 30.305846, -97.7080829),\n",
       " (2970345608, u'pizza', 30.3060799, -97.7083377),\n",
       " (2970345627, u'greek', 30.3059317, -97.7082733),\n",
       " (2970345629, u'coffee_shop', 30.3059108, -97.7079434),\n",
       " (2970346647, u'mexican', 30.3056758, -97.7079979),\n",
       " (2970346660, u'thai', 30.3059803, -97.7081097),\n",
       " (2970394792, u'pizza', 30.4526411, -97.8265282),\n",
       " (2971525988, u'burger', 30.3065723, -97.707427),\n",
       " (2972305641, u'burger', 30.0890886, -97.8173301),\n",
       " (2973820435, u'regional', 30.0108043, -97.8630727),\n",
       " (2973820436, u'breakfast', 30.0103926, -97.8632811),\n",
       " (2981883719, u'japanese', 30.3052153, -97.7083208),\n",
       " (2988360183, u'pizza', 30.0002371, -97.8609439),\n",
       " (3014274614, u'sandwich', 30.4823785, -97.6724907),\n",
       " (3014906838, u'thai', 30.2839299, -97.7421513),\n",
       " (3014910837, u'indian', 30.2839994, -97.7421191),\n",
       " (3014928365, u'sandwich', 30.280221, -97.7211343),\n",
       " (3018379555, u'mexican', 30.2330122, -97.865479),\n",
       " (3020415426,\n",
       "  u'Donuts,_Breakfast,_Ice_Cream,_Treats',\n",
       "  30.0143709,\n",
       "  -97.8586208),\n",
       " (3020441331, u'burger', 30.4775457, -97.6720068),\n",
       " (3027577466, u'chinese', 30.2224924, -97.8405797),\n",
       " (3027587146, u'coffee_shop', 30.2221147, -97.8373142),\n",
       " (3027588850, u'sandwich', 30.2237887, -97.8391387),\n",
       " (3066883504, u'mexican', 30.5172946, -97.852787),\n",
       " (3101792729, u'mexican', 30.228369, -97.8627558),\n",
       " (3118654738, u'italian', 30.4304857, -97.7641522),\n",
       " (3146027914, u'chicken', 30.3626624, -97.7185807),\n",
       " (3146029207, u'burger', 30.2840559, -97.721778),\n",
       " (3146057574, u'Tex-Mex', 30.2847133, -97.7149412),\n",
       " (3146065751, u'mexican', 30.2909325, -97.7216786),\n",
       " (3146071256, u'regional', 30.2792485, -97.6871767),\n",
       " (3157298459, u'pizza', 30.4045165, -97.6733114),\n",
       " (3181780231, u'barbecue', 30.2701113, -97.7312923),\n",
       " (3181780233, u'burger', 30.2496642, -97.7499575),\n",
       " (3181780242, u'japanese', 30.2575513, -97.7597642),\n",
       " (3181780243, u'coffee_shop', 30.2954347, -97.7842475),\n",
       " (3181780245, u'mexican', 30.3104716, -97.7401083),\n",
       " (3181780246, u'coffee_shop', 30.3106073, -97.7400068),\n",
       " (3181780247, u'japanese', 30.3107699, -97.7398856),\n",
       " (3181872963, u'japanese', 30.2508288, -97.7489794),\n",
       " (3181872974, u'italian', 30.2503043, -97.7491227),\n",
       " (3190702922, u'american', 30.242444, -97.7831164),\n",
       " (3190703051, u'mexican', 30.3033435, -97.6988888),\n",
       " (3190748964, u'mexican', 30.2584147, -97.7876984),\n",
       " (3190821390, u'pizza', 30.3532415, -97.7256708),\n",
       " (3190821391, u'pizza', 30.3148694, -97.7153301),\n",
       " (3190845084, u'mexican', 30.247541, -97.774965),\n",
       " (3190845113, u'chinese', 30.3612087, -97.7152193),\n",
       " (3190873008, u'korean', 30.2680571, -97.7387394),\n",
       " (3190873009, u'barbecue', 30.2610555, -97.7351957),\n",
       " (3190873013, u'indian', 30.2582972, -97.7386792),\n",
       " (3190873015, u'pizza', 30.2642316, -97.7307892),\n",
       " (3190873016, u'pizza', 30.2578889, -97.7386911),\n",
       " (3190877898, u'coffee_shop', 30.2326024, -97.7562269),\n",
       " (3197645356, u'mexican', 30.2657807, -97.7439043),\n",
       " (3240494278, u'sushi', 30.2744128, -97.7644753),\n",
       " (3240495940, u'mexican', 30.2727661, -97.7605957),\n",
       " (3240498861, u'sandwich', 30.2743717, -97.7644053),\n",
       " (3241997526, u'Tacos,_coffee', 30.2630554, -97.7244128),\n",
       " (3242024648, u'Coffee_shop,_Bar', 30.2415181, -97.7267678),\n",
       " (3242030466, u'mexican', 30.3046116, -97.7264005),\n",
       " (3245051647, u'sushi', 30.2652966, -97.7455299),\n",
       " (3245051653, u'sandwich', 30.2657411, -97.7461513),\n",
       " (3245054363, u'italian', 30.2651262, -97.7463264),\n",
       " (3248316799, u'italian', 30.2656885, -97.7484551),\n",
       " (3248316800, u'barbecue', 30.2651799, -97.7479269),\n",
       " (3248316807, u'mexican', 30.265572, -97.7477644),\n",
       " (3248363283, u'sandwich', 30.2675522, -97.7494041),\n",
       " (3280950476, u'sandwich', 30.242618, -97.7593004),\n",
       " (3281003849, u'mexican', 30.2489743, -97.7689416),\n",
       " (3281003851, u'mexican', 30.2547389, -97.7626492),\n",
       " (3281003852, u'kebab', 30.2525772, -97.7642612),\n",
       " (3281003853, u'spanish', 30.2523316, -97.7644892),\n",
       " (3294427598, u'mexican', 29.981504, -97.868073),\n",
       " (3294427599, u'american', 29.9811519, -97.8684007),\n",
       " (3294427600, u'chicken', 30.011778, -97.8601155),\n",
       " (3299347912, u'chicken', 30.2817337, -97.743162),\n",
       " (3299573781, u'chicken', 30.2204612, -97.7570688),\n",
       " (3328732826, u'burger', 30.2144972, -97.7342912),\n",
       " (3328750896, u'sandwich', 30.2213762, -97.7567047),\n",
       " (3329171693, u'sandwich', 30.217749, -97.689724),\n",
       " (3329468690, u'burger', 30.5598703, -97.6843331),\n",
       " (3333278784, u'burger', 30.3670216, -97.7275902),\n",
       " (3334375167, u'chicken', 30.1117777, -97.3524046),\n",
       " (3344920355, u'mexican', 30.2905051, -97.8263202),\n",
       " (3353487729, u'sandwich', 30.2712335, -97.7418768),\n",
       " (3353621862, u'mexican', 30.2671673, -97.7391442),\n",
       " (3353621865, u'pizza', 30.2671481, -97.7390753),\n",
       " (3355462799, u'sushi', 30.266411, -97.7364345),\n",
       " (3368367652, u'burger', 30.013159, -97.8624167),\n",
       " (3407658281, u'Ice_cream', 30.4835706, -97.6817012),\n",
       " (3413266288, u'asian', 30.0128547, -97.8626751),\n",
       " (3430535182, u'noodle', 30.2539965, -97.7631485),\n",
       " (3430535183, u'asian', 30.2520294, -97.7638486),\n",
       " (3485352327, u'american', 30.2878053, -97.7033737),\n",
       " (3489304822, u'persian', 30.453921, -97.772406),\n",
       " (3513729590, u'mexican', 30.5247402, -97.8196119),\n",
       " (3513729591, u'frozen_yogurt', 30.52485, -97.8192297),\n",
       " (3513739093, u'coffee_shop', 30.5269536, -97.8144295),\n",
       " (3513739095, u'burger', 30.5270237, -97.8157223),\n",
       " (3513739129, u'pizza', 30.5250451, -97.8207586),\n",
       " (3513739130, u'sushi', 30.5252219, -97.8200791),\n",
       " (3513739131, u'sandwich', 30.5252097, -97.8202702),\n",
       " (3513739132, u'greek', 30.5251792, -97.8203976),\n",
       " (3513739143, u'Surf_&_Turf', 30.5230823, -97.8251175),\n",
       " (3513739147, u'mexican', 30.5223848, -97.8271729),\n",
       " (3533712652, u'coffee_shop', 30.2644493, -97.7330414),\n",
       " (3569720837, u'coffee_shop', 30.2180334, -97.7964286),\n",
       " (3586411699, u'burger', 30.2131254, -97.7124681),\n",
       " (3586438486, u'american', 30.2172052, -97.6917916),\n",
       " (3646391293, u'american', 30.260505, -97.733706),\n",
       " (3660951002, u'coffee_shop', 30.6376313, -97.6774594),\n",
       " (3660970514, u'mexican', 30.6310183, -97.6932079),\n",
       " (3660970515, u'burger', 30.6460467, -97.678784),\n",
       " (3660974410, u'asian', 30.6389323, -97.6776981),\n",
       " (3660974411, u'mexican', 30.6422462, -97.6786383),\n",
       " (3660974412, u'american', 30.6387869, -97.6785283),\n",
       " (3660974413, u'american', 30.6363406, -97.6758461),\n",
       " (3661950162, u'Coffee_shop', 30.2079458, -97.8154229),\n",
       " (3670769277, u'mexican', 30.359708, -97.7359092),\n",
       " (3670774770, u'sandwich', 30.3558668, -97.7336445),\n",
       " (3670774771, u'yogurt', 30.3566054, -97.7353057),\n",
       " (3670774772, u'sandwich', 30.3562929, -97.7322891),\n",
       " (3676697266, u'sandwich', 30.5338284, -97.7807988),\n",
       " (3676836258, u'regional', 30.2843995, -97.7203077),\n",
       " (3746122176, u'sandwich', 30.5081739, -97.6867071),\n",
       " (3746122177, u'coffee_shop', 30.5082028, -97.6865679),\n",
       " (3763298928, u'coffee_shop', 30.4984281, -97.7227898),\n",
       " (3763298929, u'ice_cream', 30.4969913, -97.7239557),\n",
       " (3763984360, u'doughnut', 30.257233, -97.746429),\n",
       " (3794567576, u'burger', 30.5589955, -97.6875035),\n",
       " (3794567577, u'american', 30.5586303, -97.688544),\n",
       " (3796143383, u'thai', 30.1165503, -97.4214972),\n",
       " (3808346678, u'sandwich', 30.1921108, -98.082204),\n",
       " (3808352208, u'Frozen_Yogurt', 30.1921525, -98.0820377),\n",
       " (3842113617, u'american,wings', 30.2863059, -97.7450193),\n",
       " (3849707572, u'pizza', 30.308726, -97.734055),\n",
       " (3850280115, u'pizza', 30.4941847, -97.6544585),\n",
       " (3864436061, u'asian', 30.398259, -97.7493286),\n",
       " (3890836396, u'burger', 30.0120651, -97.8599311),\n",
       " (3903415404, u'regional', 30.0285652, -97.8513604),\n",
       " (3907546355, u'mexican', 30.2224052, -97.8403897),\n",
       " (3907546356, u'sandwich', 30.2214515, -97.8409365),\n",
       " (3910097099, u'burger', 30.2430176, -97.7823649),\n",
       " (3910097100, u'ice_cream', 30.2430666, -97.782394),\n",
       " (3911464984, u'burger', 30.0862276, -97.8244761),\n",
       " (3921350134, u'asian', 30.36113, -97.7154947),\n",
       " (3926242220, u'chicken', 30.0844242, -97.8242858),\n",
       " (3969726945, u'mexican', 30.4746909, -97.9738679),\n",
       " (3972569026, u'tacos', 30.5192604, -97.6520615),\n",
       " (3987028790, u'Greek-centric_Mediterranean_cuisine', 30.3312136, -97.7151818),\n",
       " (3990145803, u'mexican', 30.0129279, -97.8919065),\n",
       " (4011464282, u'sandwich', 30.357991, -97.7328711),\n",
       " (4011464284, u'coffee_shop', 30.3593671, -97.7346731),\n",
       " (4023847009, u'american', 30.4990916, -97.6792156),\n",
       " (4023925957, u'pizza', 30.5181087, -97.6902596),\n",
       " (4023925959, u'BBQ', 30.5190469, -97.6905755),\n",
       " (4023925961, u'chinese', 30.519496, -97.6895417),\n",
       " (4027267068, u'french', 30.2671429, -97.7500427),\n",
       " (4103272890, u'mexican', 30.2695125, -97.7495273),\n",
       " (4127198680, u'chicken', 30.0129943, -97.8594578),\n",
       " (4162256398, u'sandwich', 30.2414217, -97.7839374),\n",
       " (4166684884, u'burger', 30.2960046, -97.8269907),\n",
       " (4179629416, u'coffee_shop', 30.5328201, -97.7835653),\n",
       " (4179629421, u'donut', 30.4806715, -97.8296419),\n",
       " (4179629422, u'pizza', 30.4762016, -97.8401706),\n",
       " (4193610905, u'pizza', 30.2903604, -97.8264171),\n",
       " (4212980719, u'mexican', 30.5311125, -97.6903635),\n",
       " (4247288369, u'pizza', 30.1571419, -97.7927566),\n",
       " (4265053489, u'fried_chicken', 30.5363683, -97.7845344),\n",
       " (4284112989, u'coffee_shop', 30.2315416, -97.7877719),\n",
       " (4294415030, u'indian', 30.4007501, -97.7227908),\n",
       " (4304618025, u'burger', 30.2646732, -97.7437945),\n",
       " (4318378145, u'italian', 30.01572, -97.8637084),\n",
       " (4329875038, u'mexican', 30.0133865, -97.859252),\n",
       " (4329875039, u'mexican', 30.0167189, -97.8641348),\n",
       " (4388462871, u'burger', 30.4049665, -97.6740716),\n",
       " (4388462875, u'pizza', 30.4054932, -97.6738353),\n",
       " (4388463878, u'kebab', 30.4065883, -97.6731443),\n",
       " (4388691792, u'asian', 30.382049, -97.6875611),\n",
       " (4388735721, u'burger', 30.2429035, -97.7839568),\n",
       " (4388747248, u'asian', 30.241537, -97.7841603)]"
      ]
     },
     "execution_count": 44,
     "metadata": {},
     "output_type": "execute_result"
    }
   ],
   "source": [
    "cuisine_loc"
   ]
  },
  {
   "cell_type": "code",
   "execution_count": 45,
   "metadata": {
    "collapsed": false
   },
   "outputs": [
    {
     "data": {
      "text/plain": [
       "514"
      ]
     },
     "execution_count": 45,
     "metadata": {},
     "output_type": "execute_result"
    }
   ],
   "source": [
    "len(cuisine_loc)"
   ]
  },
  {
   "cell_type": "code",
   "execution_count": 47,
   "metadata": {
    "collapsed": true
   },
   "outputs": [],
   "source": [
    "import matplotlib.pyplot as plt\n",
    "import seaborn as sns\n",
    "%matplotlib inline"
   ]
  },
  {
   "cell_type": "code",
   "execution_count": 48,
   "metadata": {
    "collapsed": false
   },
   "outputs": [
    {
     "data": {
      "text/plain": [
       "<matplotlib.collections.PathCollection at 0x1105b5d50>"
      ]
     },
     "execution_count": 48,
     "metadata": {},
     "output_type": "execute_result"
    },
    {
     "data": {
      "image/png": "[encoded data removed]",
      "text/plain": [
       "<matplotlib.figure.Figure at 0x1041b7750>"
      ]
     },
     "metadata": {},
     "output_type": "display_data"
    }
   ],
   "source": [
    "plt.scatter([x[2] for x in cuisine_loc], [y[3] for y in cuisine_loc])"
   ]
  },
  {
   "cell_type": "markdown",
   "metadata": {},
   "source": [
    "To change the size of the figure:\n",
    "\n",
    "https://codeyarns.com/2014/10/27/how-to-change-size-of-matplotlib-plot/"
   ]
  },
  {
   "cell_type": "code",
   "execution_count": 49,
   "metadata": {
    "collapsed": false
   },
   "outputs": [
    {
     "data": {
      "text/plain": [
       "[6.0, 4.0]"
      ]
     },
     "execution_count": 49,
     "metadata": {},
     "output_type": "execute_result"
    }
   ],
   "source": [
    "fig_size = plt.rcParams[\"figure.figsize\"]\n",
    "fig_size"
   ]
  },
  {
   "cell_type": "code",
   "execution_count": 50,
   "metadata": {
    "collapsed": true
   },
   "outputs": [],
   "source": [
    "fig_size[0] = 12\n",
    "fig_size[1] = 9\n",
    "plt.rcParams['figure.figsize'] = fig_size"
   ]
  },
  {
   "cell_type": "markdown",
   "metadata": {},
   "source": [
    "Replotting the location of all the restaurants:"
   ]
  },
  {
   "cell_type": "code",
   "execution_count": 51,
   "metadata": {
    "collapsed": false
   },
   "outputs": [
    {
     "data": {
      "text/plain": [
       "<matplotlib.text.Text at 0x110c00090>"
      ]
     },
     "execution_count": 51,
     "metadata": {},
     "output_type": "execute_result"
    },
    {
     "data": {
      "image/png": "[encoded data removed]",
      "text/plain": [
       "<matplotlib.figure.Figure at 0x1105b5d10>"
      ]
     },
     "metadata": {},
     "output_type": "display_data"
    }
   ],
   "source": [
    "plt.scatter([x[2] for x in cuisine_loc], [y[3] for y in cuisine_loc])\n",
    "plt.xlabel('Latitude')\n",
    "plt.ylabel('Longitude')\n",
    "plt.title('Location of Restaurants in the Austin Area')"
   ]
  },
  {
   "cell_type": "markdown",
   "metadata": {},
   "source": [
    "Location of coffee shops:"
   ]
  },
  {
   "cell_type": "code",
   "execution_count": 52,
   "metadata": {
    "collapsed": true
   },
   "outputs": [],
   "source": [
    "coffee_loc = cur.execute(\"\"\"SELECT b.id, b.value, nodes.lat, nodes.lon \n",
    "                            FROM (SELECT * FROM nodes_tags UNION ALL SELECT * FROM ways_tags) b\n",
    "                                  JOIN nodes ON b.id = nodes.id \n",
    "                            WHERE b.value = 'coffee_shop'\"\"\").fetchall()"
   ]
  },
  {
   "cell_type": "code",
   "execution_count": 53,
   "metadata": {
    "collapsed": false
   },
   "outputs": [
    {
     "data": {
      "text/plain": [
       "[(338450996, u'coffee_shop', 30.268574, -97.7423667),\n",
       " (480598791, u'coffee_shop', 30.4019522, -97.7264133),\n",
       " (564537851, u'coffee_shop', 30.1852296, -97.8471973),\n",
       " (573843025, u'coffee_shop', 30.3185317, -97.7245043),\n",
       " (1431494369, u'coffee_shop', 30.3138337, -97.7199873),\n",
       " (1489699385, u'coffee_shop', 30.266973, -97.7456939),\n",
       " (1539153968, u'coffee_shop', 30.2649108, -97.746939),\n",
       " (1674064437, u'coffee_shop', 30.359865, -97.7379073),\n",
       " (1743142320, u'coffee_shop', 30.4188075, -97.7027767),\n",
       " (2098735206, u'coffee_shop', 30.481681, -97.83424),\n",
       " (2352597263, u'coffee_shop', 30.3546718, -97.7563416),\n",
       " (2492922372, u'coffee_shop', 30.2732409, -97.8005516),\n",
       " (2970345629, u'coffee_shop', 30.3059108, -97.7079434),\n",
       " (3027587146, u'coffee_shop', 30.2221147, -97.8373142),\n",
       " (3181780243, u'coffee_shop', 30.2954347, -97.7842475),\n",
       " (3181780246, u'coffee_shop', 30.3106073, -97.7400068),\n",
       " (3190877898, u'coffee_shop', 30.2326024, -97.7562269),\n",
       " (3513739093, u'coffee_shop', 30.5269536, -97.8144295),\n",
       " (3533712652, u'coffee_shop', 30.2644493, -97.7330414),\n",
       " (3569720837, u'coffee_shop', 30.2180334, -97.7964286),\n",
       " (3660951002, u'coffee_shop', 30.6376313, -97.6774594),\n",
       " (3746122177, u'coffee_shop', 30.5082028, -97.6865679),\n",
       " (3763298928, u'coffee_shop', 30.4984281, -97.7227898),\n",
       " (4011464284, u'coffee_shop', 30.3593671, -97.7346731),\n",
       " (4179629416, u'coffee_shop', 30.5328201, -97.7835653),\n",
       " (4284112989, u'coffee_shop', 30.2315416, -97.7877719)]"
      ]
     },
     "execution_count": 53,
     "metadata": {},
     "output_type": "execute_result"
    }
   ],
   "source": [
    "coffee_loc"
   ]
  },
  {
   "cell_type": "code",
   "execution_count": 54,
   "metadata": {
    "collapsed": false
   },
   "outputs": [
    {
     "data": {
      "text/plain": [
       "<matplotlib.text.Text at 0x11102a9d0>"
      ]
     },
     "execution_count": 54,
     "metadata": {},
     "output_type": "execute_result"
    },
    {
     "data": {
      "image/png": "[encoded data removed]",
      "text/plain": [
       "<matplotlib.figure.Figure at 0x110b548d0>"
      ]
     },
     "metadata": {},
     "output_type": "display_data"
    }
   ],
   "source": [
    "plt.scatter([x[2] for x in coffee_loc], [y[3] for y in coffee_loc], c='green')\n",
    "plt.xlabel('lat')\n",
    "plt.ylabel('lon')\n",
    "plt.title('Locations of Coffee Shops')"
   ]
  },
  {
   "cell_type": "markdown",
   "metadata": {},
   "source": [
    "Overlapping the two:"
   ]
  },
  {
   "cell_type": "code",
   "execution_count": 62,
   "metadata": {
    "collapsed": false
   },
   "outputs": [
    {
     "data": {
      "text/plain": [
       "<matplotlib.legend.Legend at 0x111703fd0>"
      ]
     },
     "execution_count": 62,
     "metadata": {},
     "output_type": "execute_result"
    },
    {
     "data": {
      "image/png": "[encoded data removed]",
      "text/plain": [
       "<matplotlib.figure.Figure at 0x1113ba1d0>"
      ]
     },
     "metadata": {},
     "output_type": "display_data"
    }
   ],
   "source": [
    "plt.scatter([x[2] for x in cuisine_loc], [y[3] for y in cuisine_loc], c='blue', label=\"restaurant\")\n",
    "plt.scatter([x[2] for x in coffee_loc], [y[3] for y in coffee_loc], c='red', label=\"coffee shop\")\n",
    "plt.xlabel('Latitude')\n",
    "plt.ylabel('Longtitude')\n",
    "plt.title('Restaurants, Coffee Shops')\n",
    "plt.legend(loc=2)"
   ]
  },
  {
   "cell_type": "code",
   "execution_count": 61,
   "metadata": {
    "collapsed": true
   },
   "outputs": [],
   "source": [
    "conn.close()"
   ]
  },
  {
   "cell_type": "markdown",
   "metadata": {
    "collapsed": true
   },
   "source": [
    "Plotting would have been more successful if the cuisine values have been cleaned.\n",
    "\n",
    "### Fraction of mexican restaurants:"
   ]
  },
  {
   "cell_type": "code",
   "execution_count": 65,
   "metadata": {
    "collapsed": false
   },
   "outputs": [
    {
     "data": {
      "text/html": [
       "<div>\n",
       "<table border=\"1\" class=\"dataframe\">\n",
       "  <thead>\n",
       "    <tr style=\"text-align: right;\">\n",
       "      <th></th>\n",
       "      <th>0</th>\n",
       "      <th>1</th>\n",
       "      <th>2</th>\n",
       "      <th>3</th>\n",
       "    </tr>\n",
       "  </thead>\n",
       "  <tbody>\n",
       "    <tr>\n",
       "      <th>0</th>\n",
       "      <td>280232008</td>\n",
       "      <td>burger;sandwich;hotdog;grill;irish;fish_and_ch...</td>\n",
       "      <td>30.292536</td>\n",
       "      <td>-97.735633</td>\n",
       "    </tr>\n",
       "    <tr>\n",
       "      <th>1</th>\n",
       "      <td>336647359</td>\n",
       "      <td>asian</td>\n",
       "      <td>30.315064</td>\n",
       "      <td>-97.734491</td>\n",
       "    </tr>\n",
       "    <tr>\n",
       "      <th>2</th>\n",
       "      <td>338450996</td>\n",
       "      <td>coffee_shop</td>\n",
       "      <td>30.268574</td>\n",
       "      <td>-97.742367</td>\n",
       "    </tr>\n",
       "    <tr>\n",
       "      <th>3</th>\n",
       "      <td>432202212</td>\n",
       "      <td>japanese</td>\n",
       "      <td>30.356517</td>\n",
       "      <td>-97.747386</td>\n",
       "    </tr>\n",
       "    <tr>\n",
       "      <th>4</th>\n",
       "      <td>432202995</td>\n",
       "      <td>chinese</td>\n",
       "      <td>30.356569</td>\n",
       "      <td>-97.747360</td>\n",
       "    </tr>\n",
       "    <tr>\n",
       "      <th>5</th>\n",
       "      <td>437279354</td>\n",
       "      <td>mexican</td>\n",
       "      <td>30.280059</td>\n",
       "      <td>-97.759478</td>\n",
       "    </tr>\n",
       "    <tr>\n",
       "      <th>6</th>\n",
       "      <td>437379736</td>\n",
       "      <td>tex-mex</td>\n",
       "      <td>30.282838</td>\n",
       "      <td>-97.775598</td>\n",
       "    </tr>\n",
       "    <tr>\n",
       "      <th>7</th>\n",
       "      <td>457485574</td>\n",
       "      <td>american</td>\n",
       "      <td>30.279413</td>\n",
       "      <td>-97.760058</td>\n",
       "    </tr>\n",
       "    <tr>\n",
       "      <th>8</th>\n",
       "      <td>472242349</td>\n",
       "      <td>ice_cream</td>\n",
       "      <td>30.230688</td>\n",
       "      <td>-97.799886</td>\n",
       "    </tr>\n",
       "    <tr>\n",
       "      <th>9</th>\n",
       "      <td>480598791</td>\n",
       "      <td>coffee_shop</td>\n",
       "      <td>30.401952</td>\n",
       "      <td>-97.726413</td>\n",
       "    </tr>\n",
       "  </tbody>\n",
       "</table>\n",
       "</div>"
      ],
      "text/plain": [
       "           0                                                  1          2  \\\n",
       "0  280232008  burger;sandwich;hotdog;grill;irish;fish_and_ch...  30.292536   \n",
       "1  336647359                                              asian  30.315064   \n",
       "2  338450996                                        coffee_shop  30.268574   \n",
       "3  432202212                                           japanese  30.356517   \n",
       "4  432202995                                            chinese  30.356569   \n",
       "5  437279354                                            mexican  30.280059   \n",
       "6  437379736                                            tex-mex  30.282838   \n",
       "7  457485574                                           american  30.279413   \n",
       "8  472242349                                          ice_cream  30.230688   \n",
       "9  480598791                                        coffee_shop  30.401952   \n",
       "\n",
       "           3  \n",
       "0 -97.735633  \n",
       "1 -97.734491  \n",
       "2 -97.742367  \n",
       "3 -97.747386  \n",
       "4 -97.747360  \n",
       "5 -97.759478  \n",
       "6 -97.775598  \n",
       "7 -97.760058  \n",
       "8 -97.799886  \n",
       "9 -97.726413  "
      ]
     },
     "execution_count": 65,
     "metadata": {},
     "output_type": "execute_result"
    }
   ],
   "source": [
    "cuisine_df = pd.DataFrame(cuisine_loc)\n",
    "cuisine_df.head(10)"
   ]
  },
  {
   "cell_type": "code",
   "execution_count": 66,
   "metadata": {
    "collapsed": true
   },
   "outputs": [],
   "source": [
    "cuisine_df['value'] = cuisine_df[1]"
   ]
  },
  {
   "cell_type": "code",
   "execution_count": 67,
   "metadata": {
    "collapsed": true
   },
   "outputs": [],
   "source": [
    "del cuisine_df[1]\n",
    "del cuisine_df[2]\n",
    "del cuisine_df[3]\n",
    "cuisine_df['id'] = cuisine_df[0]\n",
    "del cuisine_df[0]"
   ]
  },
  {
   "cell_type": "code",
   "execution_count": 69,
   "metadata": {
    "collapsed": false
   },
   "outputs": [
    {
     "data": {
      "text/html": [
       "<div>\n",
       "<table border=\"1\" class=\"dataframe\">\n",
       "  <thead>\n",
       "    <tr style=\"text-align: right;\">\n",
       "      <th></th>\n",
       "      <th>value</th>\n",
       "      <th>id</th>\n",
       "    </tr>\n",
       "  </thead>\n",
       "  <tbody>\n",
       "    <tr>\n",
       "      <th>0</th>\n",
       "      <td>burger;sandwich;hotdog;grill;irish;fish_and_ch...</td>\n",
       "      <td>280232008</td>\n",
       "    </tr>\n",
       "    <tr>\n",
       "      <th>1</th>\n",
       "      <td>asian</td>\n",
       "      <td>336647359</td>\n",
       "    </tr>\n",
       "    <tr>\n",
       "      <th>2</th>\n",
       "      <td>coffee_shop</td>\n",
       "      <td>338450996</td>\n",
       "    </tr>\n",
       "    <tr>\n",
       "      <th>3</th>\n",
       "      <td>japanese</td>\n",
       "      <td>432202212</td>\n",
       "    </tr>\n",
       "    <tr>\n",
       "      <th>4</th>\n",
       "      <td>chinese</td>\n",
       "      <td>432202995</td>\n",
       "    </tr>\n",
       "  </tbody>\n",
       "</table>\n",
       "</div>"
      ],
      "text/plain": [
       "                                               value         id\n",
       "0  burger;sandwich;hotdog;grill;irish;fish_and_ch...  280232008\n",
       "1                                              asian  336647359\n",
       "2                                        coffee_shop  338450996\n",
       "3                                           japanese  432202212\n",
       "4                                            chinese  432202995"
      ]
     },
     "execution_count": 69,
     "metadata": {},
     "output_type": "execute_result"
    }
   ],
   "source": [
    "cuisine_df.head()"
   ]
  },
  {
   "cell_type": "code",
   "execution_count": 94,
   "metadata": {
    "collapsed": false
   },
   "outputs": [
    {
     "data": {
      "text/plain": [
       "<matplotlib.text.Text at 0x1135b2f50>"
      ]
     },
     "execution_count": 94,
     "metadata": {},
     "output_type": "execute_result"
    },
    {
     "data": {
      "image/png": "[encoded data removed]",
      "text/plain": [
       "<matplotlib.figure.Figure at 0x112763390>"
      ]
     },
     "metadata": {},
     "output_type": "display_data"
    }
   ],
   "source": [
    "cuisine_df['value'].value_counts(normalize=True).head(25).plot(kind='bar')\n",
    "plt.title(\"Distribution of cuisine types in the Austin area\")\n",
    "plt.xlabel(\"Cuisine\")\n",
    "plt.ylabel(\"Fraction\")"
   ]
  },
  {
   "cell_type": "markdown",
   "metadata": {
    "collapsed": true
   },
   "source": [
    "# Conclusion"
   ]
  },
  {
   "cell_type": "markdown",
   "metadata": {},
   "source": [
    "Information from an xml file can be scraped for data by Python through the xml.eTree.ElementTree module. This can be converted to a csv file which can be converted to an sql database (or to a pandas dataframe, which is not shown here, but was explored in another unit of the course). SQL databases can be converted to a pandas dataframe.\n",
    "\n",
    "Cleaning of data takes a while. Knowledge of the nature of data also is very important so the best decisions on what to do with it can be done.\n",
    "\n",
    "\n",
    "## Other References:\n",
    "\n",
    "Automate the Boring Stuff with Python: Practical Programming for Total Beginners, A. Sweighart, No Starch Press San Francisco, CA, USA ©2015 ISBN:1593275994 9781593275990\n",
    "\n",
    "http://stackoverflow.com/questions/19877344/near-syntax-error-when-trying-to-create-a-table-with-a-foreign-key-in-sqlit\n",
    "\n",
    "Brandon Rhodes - Pandas From The Ground Up - PyCon 2015, https://www.youtube.com/watch?v=5JnMutdy6Fw\n",
    "\n",
    "Udacity Data Wrangling Course (https://classroom.udacity.com/nanodegrees/nd002/parts/0021345404/modules/316820862075460/lessons/491558559/concepts/8165990800923)"
   ]
  },
  {
   "cell_type": "code",
   "execution_count": null,
   "metadata": {
    "collapsed": true
   },
   "outputs": [],
   "source": []
  }
 ],
 "metadata": {
  "kernelspec": {
   "display_name": "Python 2",
   "language": "python",
   "name": "python2"
  },
  "language_info": {
   "codemirror_mode": {
    "name": "ipython",
    "version": 2
   },
   "file_extension": ".py",
   "mimetype": "text/x-python",
   "name": "python",
   "nbconvert_exporter": "python",
   "pygments_lexer": "ipython2",
   "version": "2.7.11"
  }
 },
 "nbformat": 4,
 "nbformat_minor": 0
}
