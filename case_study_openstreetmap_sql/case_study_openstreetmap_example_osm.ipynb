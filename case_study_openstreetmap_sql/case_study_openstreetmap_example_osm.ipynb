{
 "cells": [
  {
   "cell_type": "markdown",
   "metadata": {
    "collapsed": true
   },
   "source": [
    "# Case Study: OpenStreetMap Data\n",
    "\n",
    "## Iterative Parsing"
   ]
  },
  {
   "cell_type": "markdown",
   "metadata": {
    "collapsed": true
   },
   "source": [
    "\"\"\"\n",
    "Your task is to use the iterative parsing to process the map file and\n",
    "find out not only what tags are there, but also how many, to get the\n",
    "feeling on how much of which data you can expect to have in the map.\n",
    "Fill out the count_tags function. It should return a dictionary with the \n",
    "tag name as the key and number of times this tag can be encountered in \n",
    "the map as value.\n",
    "\n",
    "Note that your code will be tested with a different data file than the 'example.osm'\n",
    "\"\"\""
   ]
  },
  {
   "cell_type": "code",
   "execution_count": 1,
   "metadata": {
    "collapsed": true
   },
   "outputs": [],
   "source": [
    "import xml.etree.cElementTree as ET\n",
    "import pprint\n",
    "from collections import defaultdict"
   ]
  },
  {
   "cell_type": "code",
   "execution_count": 2,
   "metadata": {
    "collapsed": true
   },
   "outputs": [],
   "source": [
    "def count_tags(filename):\n",
    "    tag_counts = defaultdict(int)\n",
    "    for event, element in ET.iterparse(filename):\n",
    "        tag_counts[element.tag] += 1\n",
    "    return tag_counts"
   ]
  },
  {
   "cell_type": "code",
   "execution_count": 3,
   "metadata": {
    "collapsed": true
   },
   "outputs": [],
   "source": [
    "tags = count_tags('example.osm')"
   ]
  },
  {
   "cell_type": "code",
   "execution_count": 4,
   "metadata": {
    "collapsed": false
   },
   "outputs": [
    {
     "name": "stdout",
     "output_type": "stream",
     "text": [
      "defaultdict(<type 'int'>, {'node': 20, 'nd': 4, 'bounds': 1, 'member': 3, 'tag': 7, 'relation': 1, 'way': 1, 'osm': 1})\n"
     ]
    }
   ],
   "source": [
    "pprint.pprint(tags)"
   ]
  },
  {
   "cell_type": "markdown",
   "metadata": {},
   "source": [
    "## Ways in the OpenStreetMap\n",
    "\n",
    "Nodes, ways - are tagged.\n",
    "Cleaning street names (ways)\n",
    "\n",
    "To get the street tags, you have to loop through the subtags under a major tag. So the code for it using the iterparse (which is used because we don't like putting the huge file in a tree), is \n",
    "\n",
    "for _, element in ET.iterparse(filename, events=((start,)):\n",
    "    \n",
    "    if element.tag == \"way\":\n",
    "        \n",
    "        for tag in element.iter(\"tag\"):\n",
    "            \n",
    "            if is_street_name(tag):\n",
    "                \n",
    "                audit_street_type(street_types, tag.attrib['v'])"
   ]
  },
  {
   "cell_type": "markdown",
   "metadata": {},
   "source": [
    "## Tag Types"
   ]
  },
  {
   "cell_type": "markdown",
   "metadata": {},
   "source": [
    "\"\"\"\n",
    "Your task is to explore the data a bit more.\n",
    "Before you process the data and add it into your database, you should check the\n",
    "\"k\" value for each \"<tag>\" and see if there are any potential problems.\n",
    "\n",
    "We have provided you with 3 regular expressions to check for certain patterns\n",
    "in the tags. As we saw in the quiz earlier, we would like to change the data\n",
    "model and expand the \"addr:street\" type of keys to a dictionary like this:\n",
    "{\"address\": {\"street\": \"Some value\"}}\n",
    "So, we have to see if we have such tags, and if we have any tags with\n",
    "problematic characters.\n",
    "\n",
    "Please complete the function 'key_type', such that we have a count of each of\n",
    "four tag categories in a dictionary:\n",
    "  \"lower\", for tags that contain only lowercase letters and are valid,\n",
    "  \"lower_colon\", for otherwise valid tags with a colon in their names,\n",
    "  \"problemchars\", for tags with problematic characters, and\n",
    "  \"other\", for other tags that do not fall into the other three categories.\n",
    "See the 'process_map' and 'test' functions for examples of the expected format.\n",
    "\"\"\""
   ]
  },
  {
   "cell_type": "code",
   "execution_count": 5,
   "metadata": {
    "collapsed": true
   },
   "outputs": [],
   "source": [
    "import xml.etree.cElementTree as ET"
   ]
  },
  {
   "cell_type": "code",
   "execution_count": 6,
   "metadata": {
    "collapsed": true
   },
   "outputs": [],
   "source": [
    "import re"
   ]
  },
  {
   "cell_type": "code",
   "execution_count": 7,
   "metadata": {
    "collapsed": true
   },
   "outputs": [],
   "source": [
    "import pprint"
   ]
  },
  {
   "cell_type": "code",
   "execution_count": 8,
   "metadata": {
    "collapsed": true
   },
   "outputs": [],
   "source": [
    "lower = re.compile(r'^([a-z]|_)*$')\n",
    "lower_colon = re.compile(r'^([a-z]|_)*:([a-z]|_)*$')\n",
    "problemchars = re.compile(r'[=\\+/&<>;\\'\"\\?%#$@\\,\\. \\t\\r\\n]')"
   ]
  },
  {
   "cell_type": "code",
   "execution_count": 9,
   "metadata": {
    "collapsed": true
   },
   "outputs": [],
   "source": [
    "def key_type(element, keys):\n",
    "    if element.tag == 'tag':\n",
    "        try:\n",
    "            lowermo = lower.search(element.attrib['k'])\n",
    "            lowermo.group()\n",
    "            keys[\"lower\"] += 1\n",
    "        except AttributeError:\n",
    "            try:\n",
    "                lower_colonmo = lower_colon.search(element.attrib['k'])\n",
    "                lower_colonmo.group()\n",
    "                keys[\"lower_colon\"] += 1\n",
    "            except AttributeError:\n",
    "                try:\n",
    "                    problemcharmo = problemchars.search(element.attrib['k'])\n",
    "                    problemcharmo.group()\n",
    "                    keys[\"problemchars\"] += 1\n",
    "                except AttributeError:\n",
    "                    keys[\"other\"] += 1\n",
    "    return keys"
   ]
  },
  {
   "cell_type": "code",
   "execution_count": 10,
   "metadata": {
    "collapsed": true
   },
   "outputs": [],
   "source": [
    "def process_map(filename):\n",
    "    keys = {\"lower\": 0, \"lower_colon\": 0, \"problemchars\": 0, \"other\":0}\n",
    "    for _, element in ET.iterparse(filename):\n",
    "        keys = key_type(element, keys)\n",
    "    return keys"
   ]
  },
  {
   "cell_type": "code",
   "execution_count": 11,
   "metadata": {
    "collapsed": true
   },
   "outputs": [],
   "source": [
    "keys = process_map('example.osm')"
   ]
  },
  {
   "cell_type": "code",
   "execution_count": 12,
   "metadata": {
    "collapsed": false
   },
   "outputs": [
    {
     "name": "stdout",
     "output_type": "stream",
     "text": [
      "{'lower': 5, 'lower_colon': 0, 'other': 1, 'problemchars': 1}\n"
     ]
    }
   ],
   "source": [
    "pprint.pprint(keys)"
   ]
  },
  {
   "cell_type": "markdown",
   "metadata": {},
   "source": [
    "## Exploring Users"
   ]
  },
  {
   "cell_type": "markdown",
   "metadata": {},
   "source": [
    "\n",
    "\"\"\"\n",
    "Your task is to explore the data a bit more.\n",
    "The first task is a fun one - find out how many unique users\n",
    "have contributed to the map in this particular area!\n",
    "\n",
    "The function process_map should return a set of unique user IDs (\"uid\")\n",
    "\"\"\""
   ]
  },
  {
   "cell_type": "code",
   "execution_count": 1,
   "metadata": {
    "collapsed": true
   },
   "outputs": [],
   "source": [
    "import xml.etree.cElementTree as ET\n",
    "import pprint\n",
    "import re"
   ]
  },
  {
   "cell_type": "code",
   "execution_count": 2,
   "metadata": {
    "collapsed": true
   },
   "outputs": [],
   "source": [
    "def get_user(element):\n",
    "    return"
   ]
  },
  {
   "cell_type": "code",
   "execution_count": 3,
   "metadata": {
    "collapsed": true
   },
   "outputs": [],
   "source": [
    "def process_map(filename):\n",
    "    users = set()\n",
    "    for _, element in ET.iterparse(filename):\n",
    "        for key in element.attrib:\n",
    "            if key == 'uid':\n",
    "                users.add(element.attrib[key])\n",
    "    return users"
   ]
  },
  {
   "cell_type": "code",
   "execution_count": 4,
   "metadata": {
    "collapsed": true
   },
   "outputs": [],
   "source": [
    "users = process_map('example.osm')"
   ]
  },
  {
   "cell_type": "code",
   "execution_count": 5,
   "metadata": {
    "collapsed": false
   },
   "outputs": [
    {
     "name": "stdout",
     "output_type": "stream",
     "text": [
      "set(['1219059', '147510', '26299', '451048', '567034', '939355'])\n"
     ]
    }
   ],
   "source": [
    "pprint.pprint(users)"
   ]
  },
  {
   "cell_type": "code",
   "execution_count": 6,
   "metadata": {
    "collapsed": false
   },
   "outputs": [
    {
     "data": {
      "text/plain": [
       "6"
      ]
     },
     "execution_count": 6,
     "metadata": {},
     "output_type": "execute_result"
    }
   ],
   "source": [
    "len(users)"
   ]
  },
  {
   "cell_type": "markdown",
   "metadata": {},
   "source": [
    "## Auditing and Improving Street Names "
   ]
  },
  {
   "cell_type": "markdown",
   "metadata": {},
   "source": [
    "\"\"\"\n",
    "Your task in this exercise has two steps:\n",
    "\n",
    "- audit the OSMFILE and change the variable 'mapping' to reflect the changes needed to fix \n",
    "    the unexpected street types to the appropriate ones in the expected list.\n",
    "    You have to add mappings only for the actual problems you find in this OSMFILE,\n",
    "    not a generalized solution, since that may and will depend on the particular area you are auditing.\n",
    "- write the update_name function, to actually fix the street name.\n",
    "    The function takes a string with street name as an argument and should return the fixed name\n",
    "    We have provided a simple test so that you see what exactly is expected\n",
    "\"\"\""
   ]
  },
  {
   "cell_type": "code",
   "execution_count": 7,
   "metadata": {
    "collapsed": true
   },
   "outputs": [],
   "source": [
    "import xml.etree.cElementTree as ET\n",
    "from collections import defaultdict\n",
    "import re\n",
    "import pprint"
   ]
  },
  {
   "cell_type": "code",
   "execution_count": 8,
   "metadata": {
    "collapsed": false
   },
   "outputs": [],
   "source": [
    "street_type_re = re.compile(r'\\b\\S+\\.?$', re.IGNORECASE)"
   ]
  },
  {
   "cell_type": "code",
   "execution_count": 9,
   "metadata": {
    "collapsed": true
   },
   "outputs": [],
   "source": [
    "expected = [\"Street\", \"Avenue\", \"Boulevard\", \"Drive\", \"Court\", \"Place\", \"Square\", \"Lane\", \"Road\", \n",
    "            \"Trail\", \"Parkway\", \"Commons\"]"
   ]
  },
  {
   "cell_type": "code",
   "execution_count": 10,
   "metadata": {
    "collapsed": false
   },
   "outputs": [],
   "source": [
    "mapping = { \"St\": \"Street\",\n",
    "            \"St.\": \"Street\",\n",
    "            \"st\": \"Street\",\n",
    "            \"street\": \"Street\",\n",
    "            \"Ave\": \"Avenue\",\n",
    "            \"Ave.\": \"Avenue\",\n",
    "            \"Avene\": \"Avenue\",\n",
    "            \"Blvd\": \"Boulevard\",\n",
    "            \"Blvd.\": \"Boulevard\",\n",
    "            \"Dr\": \"Drive\",\n",
    "            \"Dr.\": \"Drive\",\n",
    "            \"Ct\": \"Court\",\n",
    "            \"Ct.\": \"Court\",\n",
    "            \"Pl\": \"Place\",\n",
    "            \"Pl.\": \"Place\",\n",
    "            \"lane\": \"Lane\",\n",
    "            \"Rd\": \"Road\", \n",
    "            \"Rd.\": \"Road\",\n",
    "            \"Trl\": \"Trail\",\n",
    "            \"Pkwy\": \"Parkway\"}"
   ]
  },
  {
   "cell_type": "code",
   "execution_count": 11,
   "metadata": {
    "collapsed": true
   },
   "outputs": [],
   "source": [
    "def audit_street_type(street_types, street_name):\n",
    "    m = street_type_re.search(street_name)\n",
    "    if m:\n",
    "        street_type = m.group()\n",
    "        if street_type not in expected:\n",
    "            street_types[street_type].add(street_name)"
   ]
  },
  {
   "cell_type": "code",
   "execution_count": 12,
   "metadata": {
    "collapsed": true
   },
   "outputs": [],
   "source": [
    "def is_street_name(elem):\n",
    "    return (elem.attrib['k'] == \"addr:street\")"
   ]
  },
  {
   "cell_type": "code",
   "execution_count": 13,
   "metadata": {
    "collapsed": true
   },
   "outputs": [],
   "source": [
    "def audit(osmfile):\n",
    "    osm_file = open(osmfile, \"r\")\n",
    "    street_types = defaultdict(set)\n",
    "    for event, elem in ET.iterparse(osm_file, events=(\"start\",)):\n",
    "\n",
    "        if elem.tag == \"node\" or elem.tag == \"way\":\n",
    "            for tag in elem.iter(\"tag\"):\n",
    "                if is_street_name(tag):\n",
    "                    audit_street_type(street_types, tag.attrib['v'])\n",
    "    osm_file.close()\n",
    "    return street_types"
   ]
  },
  {
   "cell_type": "code",
   "execution_count": 14,
   "metadata": {
    "collapsed": true
   },
   "outputs": [],
   "source": [
    "def update_name(name, mapping):\n",
    "    parts = name.split()\n",
    "    if parts[-1] in mapping.keys():\n",
    "        parts[-1] = mapping[parts[-1]]\n",
    "    name = ' '.join(parts)\n",
    "    return name"
   ]
  },
  {
   "cell_type": "code",
   "execution_count": 16,
   "metadata": {
    "collapsed": false
   },
   "outputs": [],
   "source": [
    "st_types = audit(\"example2.osm\")"
   ]
  },
  {
   "cell_type": "code",
   "execution_count": 17,
   "metadata": {
    "collapsed": false
   },
   "outputs": [
    {
     "data": {
      "text/plain": [
       "3"
      ]
     },
     "execution_count": 17,
     "metadata": {},
     "output_type": "execute_result"
    }
   ],
   "source": [
    "len(st_types)"
   ]
  },
  {
   "cell_type": "code",
   "execution_count": 21,
   "metadata": {
    "collapsed": false
   },
   "outputs": [
    {
     "name": "stdout",
     "output_type": "stream",
     "text": [
      "defaultdict(<type 'set'>, {'Ave': set(['N. Lincoln Ave', 'North Lincoln Ave']), 'St.': set(['West Lexington St.']), 'Rd.': set(['Baldwin Rd.'])})\n"
     ]
    }
   ],
   "source": [
    "print st_types"
   ]
  },
  {
   "cell_type": "code",
   "execution_count": 18,
   "metadata": {
    "collapsed": false,
    "scrolled": false
   },
   "outputs": [
    {
     "name": "stdout",
     "output_type": "stream",
     "text": [
      "{'Ave': set(['N. Lincoln Ave', 'North Lincoln Ave']),\n",
      " 'Rd.': set(['Baldwin Rd.']),\n",
      " 'St.': set(['West Lexington St.'])}\n"
     ]
    }
   ],
   "source": [
    "pprint.pprint(dict(st_types))"
   ]
  },
  {
   "cell_type": "code",
   "execution_count": 20,
   "metadata": {
    "collapsed": false
   },
   "outputs": [
    {
     "name": "stdout",
     "output_type": "stream",
     "text": [
      "ways\n",
      "set(['N. Lincoln Ave', 'North Lincoln Ave'])\n",
      "st_type\n",
      "Ave\n",
      "ways\n",
      "set(['West Lexington St.'])\n",
      "st_type\n",
      "St.\n",
      "ways\n",
      "set(['Baldwin Rd.'])\n",
      "st_type\n",
      "Rd.\n"
     ]
    }
   ],
   "source": [
    "for st_type, ways in st_types.iteritems():\n",
    "    print \"ways\"\n",
    "    print ways\n",
    "    print \"st_type\"\n",
    "    print st_type"
   ]
  },
  {
   "cell_type": "code",
   "execution_count": 23,
   "metadata": {
    "collapsed": false
   },
   "outputs": [
    {
     "name": "stdout",
     "output_type": "stream",
     "text": [
      "N. Lincoln Ave => N. Lincoln Avenue\n",
      "North Lincoln Ave => North Lincoln Avenue\n",
      "West Lexington St. => West Lexington Street\n",
      "Baldwin Rd. => Baldwin Road\n"
     ]
    }
   ],
   "source": [
    "for st_type, ways in st_types.iteritems():\n",
    "    for name in ways:\n",
    "        better_name = update_name(name, mapping)\n",
    "        print name, \"=>\", better_name"
   ]
  },
  {
   "cell_type": "markdown",
   "metadata": {},
   "source": [
    "## Preparing for Database - SQL"
   ]
  },
  {
   "cell_type": "code",
   "execution_count": 1,
   "metadata": {
    "collapsed": false
   },
   "outputs": [],
   "source": [
    "\"\"\"\n",
    "After auditing is complete the next step is to prepare the data to be inserted into a SQL database.\n",
    "To do so you will parse the elements in the OSM XML file, transforming them from document format to\n",
    "tabular format, thus making it possible to write to .csv files.  These csv files can then easily be\n",
    "imported to a SQL database as tables.\n",
    "\n",
    "The process for this transformation is as follows:\n",
    "- Use iterparse to iteratively step through each top level element in the XML\n",
    "- Shape each element into several data structures using a custom function\n",
    "- Utilize a schema and validation library to ensure the transformed data is in the correct format\n",
    "- Write each data structure to the appropriate .csv files\n",
    "\n",
    "We've already provided the code needed to load the data, perform iterative parsing and write the\n",
    "output to csv files. Your task is to complete the shape_element function that will transform each\n",
    "element into the correct format. To make this process easier we've already defined a schema (see\n",
    "the schema.py file in the last code tab) for the .csv files and the eventual tables. Using the \n",
    "cerberus library we can validate the output against this schema to ensure it is correct.\n",
    "\n",
    "#### Shape Element Function\n",
    "The function should take as input an iterparse Element object and return a dictionary.\n",
    "\n",
    "#### If the element top level tag is \"node\":\n",
    "The dictionary returned should have the format {\"node\": .., \"node_tags\": ...}\n",
    "\n",
    "The \"node\" field should hold a dictionary of the following top level node attributes:\n",
    "- id\n",
    "- user\n",
    "- uid\n",
    "- version\n",
    "- lat\n",
    "- lon\n",
    "- timestamp\n",
    "- changeset\n",
    "\n",
    "All other attributes can be ignored\n",
    "\n",
    "The \"node_tags\" field should hold a list of dictionaries, one per secondary tag. Secondary tags are\n",
    "child tags of node which have the tag name/type: \"tag\". Each dictionary should have the following\n",
    "fields from the secondary tag attributes:\n",
    "- id: the top level node id attribute value\n",
    "- key: the full tag \"k\" attribute value if no colon is present or the characters after the colon if one is.\n",
    "- value: the tag \"v\" attribute value\n",
    "- type: either the characters before the colon in the tag \"k\" value or \"regular\" if a colon is not present.\n",
    "\n",
    "Additionally,\n",
    "\n",
    "- if the tag \"k\" value contains problematic characters, the tag should be ignored\n",
    "- if the tag \"k\" value contains a \":\" the characters before the \":\" should be set as the tag type\n",
    "  and characters after the \":\" should be set as the tag key\n",
    "- if there are additional \":\" in the \"k\" value they and they should be ignored and kept as part of\n",
    "  the tag key. For example:\n",
    "\n",
    "  <tag k=\"addr:street:name\" v=\"Lincoln\"/>\n",
    "\n",
    "should be turned into\n",
    "\n",
    "{'id': 12345, 'key': 'street:name', 'value': 'Lincoln', 'type': 'addr'}\n",
    "\n",
    "- If a node has no secondary tags then the \"node_tags\" field should just contain an empty list.\n",
    "\n",
    "The final return value for a \"node\" element should look something like:\n",
    "\n",
    "{'node': {'id': 757860928,\n",
    "          'user': 'uboot',\n",
    "          'uid': 26299,\n",
    "          'version': '2',\n",
    "          'lat': 41.9747374,\n",
    "          'lon': -87.6920102,\n",
    "          'timestamp': '2010-07-22T16:16:51Z',\n",
    "          'changeset': 5288876},\n",
    " 'node_tags': [{'id': 757860928,\n",
    "                'key': 'amenity',\n",
    "                'value': 'fast_food',\n",
    "                'type': 'regular'},\n",
    "               {'id': 757860928,\n",
    "                'key': 'cuisine',\n",
    "                'value': 'sausage',\n",
    "                'type': 'regular'},\n",
    "               {'id': 757860928,\n",
    "                'key': 'name',\n",
    "                'value': \"Shelly's Tasty Freeze\",\n",
    "                'type': 'regular'}]}\n",
    "\n",
    "#### If the element top level tag is \"way\":\n",
    "The dictionary should have the format {\"way\": ..., \"way_tags\": ..., \"way_nodes\": ...}\n",
    "\n",
    "The \"way\" field should hold a dictionary of the following top level way attributes:\n",
    "- id\n",
    "- user\n",
    "- uid\n",
    "- version\n",
    "- timestamp\n",
    "- changeset\n",
    "\n",
    "All other attributes can be ignored\n",
    "\n",
    "The \"way_tags\" field should again hold a list of dictionaries, following the exact same rules as\n",
    "for \"node_tags\".\n",
    "\n",
    "Additionally, the dictionary should have a field \"way_nodes\". \"way_nodes\" should hold a list of\n",
    "dictionaries, one for each nd child tag.  Each dictionary should have the fields:\n",
    "- id: the top level element (way) id\n",
    "- node_id: the ref attribute value of the nd tag\n",
    "- position: the index starting at 0 of the nd tag i.e. what order the nd tag appears within\n",
    "            the way element\n",
    "\n",
    "The final return value for a \"way\" element should look something like:\n",
    "\n",
    "{'way': {'id': 209809850,\n",
    "         'user': 'chicago-buildings',\n",
    "         'uid': 674454,\n",
    "         'version': '1',\n",
    "         'timestamp': '2013-03-13T15:58:04Z',\n",
    "         'changeset': 15353317},\n",
    " 'way_nodes': [{'id': 209809850, 'node_id': 2199822281, 'position': 0},\n",
    "               {'id': 209809850, 'node_id': 2199822390, 'position': 1},\n",
    "               {'id': 209809850, 'node_id': 2199822392, 'position': 2},\n",
    "               {'id': 209809850, 'node_id': 2199822369, 'position': 3},\n",
    "               {'id': 209809850, 'node_id': 2199822370, 'position': 4},\n",
    "               {'id': 209809850, 'node_id': 2199822284, 'position': 5},\n",
    "               {'id': 209809850, 'node_id': 2199822281, 'position': 6}],\n",
    " 'way_tags': [{'id': 209809850,\n",
    "               'key': 'housenumber',\n",
    "               'type': 'addr',\n",
    "               'value': '1412'},\n",
    "              {'id': 209809850,\n",
    "               'key': 'street',\n",
    "               'type': 'addr',\n",
    "               'value': 'West Lexington St.'},\n",
    "              {'id': 209809850,\n",
    "               'key': 'street:name',\n",
    "               'type': 'addr',\n",
    "               'value': 'Lexington'},\n",
    "              {'id': '209809850',\n",
    "               'key': 'street:prefix',\n",
    "               'type': 'addr',\n",
    "               'value': 'West'},\n",
    "              {'id': 209809850,\n",
    "               'key': 'street:type',\n",
    "               'type': 'addr',\n",
    "               'value': 'Street'},\n",
    "              {'id': 209809850,\n",
    "               'key': 'building',\n",
    "               'type': 'regular',\n",
    "               'value': 'yes'},\n",
    "              {'id': 209809850,\n",
    "               'key': 'levels',\n",
    "               'type': 'building',\n",
    "               'value': '1'},\n",
    "              {'id': 209809850,\n",
    "               'key': 'building_id',\n",
    "               'type': 'chicago',\n",
    "               'value': '366409'}]}\n",
    "\"\"\"\n",
    "\n",
    "import csv\n",
    "import codecs\n",
    "import re\n",
    "import xml.etree.cElementTree as ET"
   ]
  },
  {
   "cell_type": "code",
   "execution_count": 2,
   "metadata": {
    "collapsed": false
   },
   "outputs": [],
   "source": [
    "import cerberus"
   ]
  },
  {
   "cell_type": "code",
   "execution_count": 3,
   "metadata": {
    "collapsed": false
   },
   "outputs": [],
   "source": [
    "import schema"
   ]
  },
  {
   "cell_type": "code",
   "execution_count": 4,
   "metadata": {
    "collapsed": true
   },
   "outputs": [],
   "source": [
    "OSM_PATH = \"example3.osm\""
   ]
  },
  {
   "cell_type": "code",
   "execution_count": 5,
   "metadata": {
    "collapsed": true
   },
   "outputs": [],
   "source": [
    "NODES_PATH = \"nodes.csv\""
   ]
  },
  {
   "cell_type": "code",
   "execution_count": 6,
   "metadata": {
    "collapsed": true
   },
   "outputs": [],
   "source": [
    "NODE_TAGS_PATH = \"nodes_tags.csv\""
   ]
  },
  {
   "cell_type": "code",
   "execution_count": 7,
   "metadata": {
    "collapsed": true
   },
   "outputs": [],
   "source": [
    "WAYS_PATH = \"ways.csv\""
   ]
  },
  {
   "cell_type": "code",
   "execution_count": 8,
   "metadata": {
    "collapsed": true
   },
   "outputs": [],
   "source": [
    "WAY_NODES_PATH = \"ways_nodes.csv\""
   ]
  },
  {
   "cell_type": "code",
   "execution_count": 9,
   "metadata": {
    "collapsed": true
   },
   "outputs": [],
   "source": [
    "WAY_TAGS_PATH = \"ways_tags.csv\""
   ]
  },
  {
   "cell_type": "code",
   "execution_count": 10,
   "metadata": {
    "collapsed": true
   },
   "outputs": [],
   "source": [
    "LOWER_COLON = re.compile(r'^([a-z]|_)+:([a-z]|_)+')\n",
    "PROBLEMCHARS = re.compile(r'[=\\+/&<>;\\'\"\\?%#$@\\,\\. \\t\\r\\n]')"
   ]
  },
  {
   "cell_type": "code",
   "execution_count": 11,
   "metadata": {
    "collapsed": false
   },
   "outputs": [],
   "source": [
    "SCHEMA = {\n",
    "    'node': {\n",
    "        'type': 'dict',\n",
    "        'schema': {\n",
    "            'id': {'required': True, 'type': 'integer', 'coerce': int},\n",
    "            'lat': {'required': True, 'type': 'float', 'coerce': float},\n",
    "            'lon': {'required': True, 'type': 'float', 'coerce': float},\n",
    "            'user': {'required': True, 'type': 'string'},\n",
    "            'uid': {'required': True, 'type': 'integer', 'coerce': int},\n",
    "            'version': {'required': True, 'type': 'string'},\n",
    "            'changeset': {'required': True, 'type': 'integer', 'coerce': int},\n",
    "            'timestamp': {'required': True, 'type': 'string'}\n",
    "        }\n",
    "    },\n",
    "    'node_tags': {\n",
    "        'type': 'list',\n",
    "        'schema': {\n",
    "            'type': 'dict',\n",
    "            'schema': {\n",
    "                'id': {'required': True, 'type': 'integer', 'coerce': int},\n",
    "                'key': {'required': True, 'type': 'string'},\n",
    "                'value': {'required': True, 'type': 'string'},\n",
    "                'type': {'required': True, 'type': 'string'}\n",
    "            }\n",
    "        }\n",
    "    },\n",
    "    'way': {\n",
    "        'type': 'dict',\n",
    "        'schema': {\n",
    "            'id': {'required': True, 'type': 'integer', 'coerce': int},\n",
    "            'user': {'required': True, 'type': 'string'},\n",
    "            'uid': {'required': True, 'type': 'integer', 'coerce': int},\n",
    "            'version': {'required': True, 'type': 'string'},\n",
    "            'changeset': {'required': True, 'type': 'integer', 'coerce': int},\n",
    "            'timestamp': {'required': True, 'type': 'string'}\n",
    "        }\n",
    "    },\n",
    "    'way_nodes': {\n",
    "        'type': 'list',\n",
    "        'schema': {\n",
    "            'type': 'dict',\n",
    "            'schema': {\n",
    "                'id': {'required': True, 'type': 'integer', 'coerce': int},\n",
    "                'node_id': {'required': True, 'type': 'integer', 'coerce': int},\n",
    "                'position': {'required': True, 'type': 'integer', 'coerce': int}\n",
    "            }\n",
    "        }\n",
    "    },\n",
    "    'way_tags': {\n",
    "        'type': 'list',\n",
    "        'schema': {\n",
    "            'type': 'dict',\n",
    "            'schema': {\n",
    "                'id': {'required': True, 'type': 'integer', 'coerce': int},\n",
    "                'key': {'required': True, 'type': 'string'},\n",
    "                'value': {'required': True, 'type': 'string'},\n",
    "                'type': {'required': True, 'type': 'string'}\n",
    "            }\n",
    "        }\n",
    "    }\n",
    "}"
   ]
  },
  {
   "cell_type": "markdown",
   "metadata": {},
   "source": [
    "##### Make sure the fields order in the csvs matches the column order in the sql table schema"
   ]
  },
  {
   "cell_type": "code",
   "execution_count": 12,
   "metadata": {
    "collapsed": true
   },
   "outputs": [],
   "source": [
    "NODE_FIELDS = ['id', 'lat', 'lon', 'user', 'uid', 'version', 'changeset', 'timestamp']\n",
    "NODE_TAGS_FIELDS = ['id', 'key', 'value', 'type']\n",
    "WAY_FIELDS = ['id', 'user', 'uid', 'version', 'changeset', 'timestamp']\n",
    "WAY_TAGS_FIELDS= ['id', 'key', 'value', 'type']\n",
    "WAY_NODES_FIELDS = ['id', 'node_id', 'position']"
   ]
  },
  {
   "cell_type": "code",
   "execution_count": 13,
   "metadata": {
    "collapsed": true
   },
   "outputs": [],
   "source": [
    "def shape_element(element, node_attr_fields=NODE_FIELDS, way_attr_fields=WAY_FIELDS,\n",
    "                  problem_chars=PROBLEMCHARS, lower_colon=LOWER_COLON, default_tag_type='regular'):\n",
    "    \"\"\"Clean and shape node or way XML element to Python dict\"\"\"\n",
    "\n",
    "    node_attribs = {}\n",
    "    way_attribs = {}\n",
    "    way_nodes = []\n",
    "    tags = []  # Handle secondary tags the same way for both node and way elements\n",
    "\n",
    "    # YOUR CODE HERE\n",
    "    if element.tag == 'node':\n",
    "        for field in node_attr_fields:\n",
    "            node_attribs[field] = element.attrib[field]\n",
    "        \n",
    "        for tag in element.iter(\"tag\"):\n",
    "            nodetags = {}\n",
    "            nodetags['id'] = element.attrib['id']\n",
    "            nodetags['value'] = tag.attrib['v']\n",
    "            try:\n",
    "                problem_chars.search(tag.attrib['k']).group()\n",
    "            except AttributeError:\n",
    "                try:    \n",
    "                    lower_colon.search(tag.attrib['k']).group()\n",
    "                    kvalue = tag.attrib['k'].split(\":\")\n",
    "                    nodetags['type'] = kvalue[0]\n",
    "                    if len(kvalue) == 2:                        \n",
    "                        nodetags['key'] = kvalue[1]\n",
    "                    else:\n",
    "                        nodetags['key'] = ':'.join(kvalue[1:])\n",
    "                except AttributeError:\n",
    "                    nodetags['type'] = default_tag_type\n",
    "                    nodetags['key'] = tag.attrib['k']\n",
    "            tags.append(nodetags) \n",
    "    \n",
    "        return {'node': node_attribs, 'node_tags': tags}\n",
    "    elif element.tag == 'way':\n",
    "        for item in WAY_FIELDS:\n",
    "            way_attribs[item] = element.attrib[item]\n",
    "        \n",
    "        for wtag in element.iter(\"tag\"):\n",
    "            waytags = {}\n",
    "            waytags['id'] = element.attrib['id']\n",
    "            waytags['value'] = wtag.attrib['v']\n",
    "            try:\n",
    "                problem_chars.search(wtag.attrib['k']).group()\n",
    "            except AttributeError:\n",
    "                try:\n",
    "                    lower_colon.search(wtag.attrib['k']).group()\n",
    "                    wkvalue = wtag.attrib['k'].split(\":\")\n",
    "                    waytags['type'] = wkvalue[0]\n",
    "                    if len(wkvalue) == 2:\n",
    "                        waytags['key'] = wkvalue[1]\n",
    "                    else:\n",
    "                        waytags['key'] = ':'.join(wkvalue[1:])\n",
    "                except AttributeError:\n",
    "                    waytags['type'] = default_tag_type\n",
    "                    waytags['key'] = wtag.attrib['k']\n",
    "            tags.append(waytags) \n",
    "        \n",
    "        \n",
    "        position = 0\n",
    "        for waytag in element.iter(\"nd\"):\n",
    "            waynd = {}\n",
    "            waynd['id'] = element.attrib['id']\n",
    "            waynd['node_id'] = waytag.attrib['ref']\n",
    "            waynd['position'] = position\n",
    "            position += 1\n",
    "            way_nodes.append(waynd)\n",
    "        return {'way': way_attribs, 'way_nodes': way_nodes, 'way_tags': tags}"
   ]
  },
  {
   "cell_type": "markdown",
   "metadata": {},
   "source": [
    "### Helper Functions"
   ]
  },
  {
   "cell_type": "code",
   "execution_count": 14,
   "metadata": {
    "collapsed": true
   },
   "outputs": [],
   "source": [
    "def get_element(osm_file, tags=('node', 'way', 'relation')):\n",
    "    \"\"\"Yield element if it is the right type of tag\"\"\"\n",
    "\n",
    "    context = ET.iterparse(osm_file, events=('start', 'end'))\n",
    "    _, root = next(context)\n",
    "    for event, elem in context:\n",
    "        if event == 'end' and elem.tag in tags:\n",
    "            yield elem\n",
    "            root.clear()"
   ]
  },
  {
   "cell_type": "code",
   "execution_count": 15,
   "metadata": {
    "collapsed": false
   },
   "outputs": [],
   "source": [
    "def validate_element(element, validator, schema=SCHEMA):\n",
    "    \"\"\"Raise ValidationError if element does not match schema\"\"\"\n",
    "    if validator.validate(element, schema) is not True:\n",
    "        field, errors = next(validator.errors.iteritems())\n",
    "        message_string = \"\\nElement of type '{0}' has the following errors:\\n{1}\"\n",
    "        error_strings = (\n",
    "            \"{0}: {1}\".format(k, v if isinstance(v, str) else \", \".join(v))\n",
    "            for k, v in errors.iteritems()\n",
    "        )\n",
    "        raise cerberus.ValidationError(\n",
    "            message_string.format(field, \"\\n\".join(error_strings))\n",
    "        )"
   ]
  },
  {
   "cell_type": "code",
   "execution_count": 16,
   "metadata": {
    "collapsed": true
   },
   "outputs": [],
   "source": [
    "class UnicodeDictWriter(csv.DictWriter, object):\n",
    "    \"\"\"Extend csv.DictWriter to handle Unicode input\"\"\"\n",
    "\n",
    "    def writerow(self, row):\n",
    "        super(UnicodeDictWriter, self).writerow({\n",
    "            k: (v.encode('utf-8') if isinstance(v, unicode) else v) for k, v in row.iteritems()\n",
    "        })\n",
    "\n",
    "    def writerows(self, rows):\n",
    "        for row in rows:\n",
    "            self.writerow(row)"
   ]
  },
  {
   "cell_type": "markdown",
   "metadata": {},
   "source": [
    "### Main Function"
   ]
  },
  {
   "cell_type": "code",
   "execution_count": 17,
   "metadata": {
    "collapsed": false
   },
   "outputs": [],
   "source": [
    "def process_map(file_in, validate):\n",
    "    \"\"\"Iteratively process each XML element and write to csv(s)\"\"\"\n",
    "\n",
    "    with codecs.open(NODES_PATH, 'w') as nodes_file, codecs.open(NODE_TAGS_PATH, 'w') as nodes_tags_file, codecs.open(WAYS_PATH, 'w') as ways_file, codecs.open(WAY_NODES_PATH, 'w') as way_nodes_file, codecs.open(WAY_TAGS_PATH, 'w') as way_tags_file:\n",
    "        nodes_writer = UnicodeDictWriter(nodes_file, NODE_FIELDS)\n",
    "        node_tags_writer = UnicodeDictWriter(nodes_tags_file, NODE_TAGS_FIELDS)\n",
    "        ways_writer = UnicodeDictWriter(ways_file, WAY_FIELDS)\n",
    "        way_nodes_writer = UnicodeDictWriter(way_nodes_file, WAY_NODES_FIELDS)\n",
    "        way_tags_writer = UnicodeDictWriter(way_tags_file, WAY_TAGS_FIELDS)\n",
    "\n",
    "        nodes_writer.writeheader()\n",
    "        node_tags_writer.writeheader()\n",
    "        ways_writer.writeheader()\n",
    "        way_nodes_writer.writeheader()\n",
    "        way_tags_writer.writeheader()\n",
    "\n",
    "        validator = cerberus.Validator()\n",
    "\n",
    "        for element in get_element(file_in, tags=('node', 'way')):\n",
    "            el = shape_element(element)\n",
    "            if el:\n",
    "                if validate is True:\n",
    "                    validate_element(el, validator)\n",
    "\n",
    "                if element.tag == 'node':\n",
    "                    nodes_writer.writerow(el['node'])\n",
    "                    node_tags_writer.writerows(el['node_tags'])\n",
    "                elif element.tag == 'way':\n",
    "                    ways_writer.writerow(el['way'])\n",
    "                    way_nodes_writer.writerows(el['way_nodes'])\n",
    "                    way_tags_writer.writerows(el['way_tags'])"
   ]
  },
  {
   "cell_type": "markdown",
   "metadata": {},
   "source": [
    "#### Trying the whole thing:"
   ]
  },
  {
   "cell_type": "code",
   "execution_count": 18,
   "metadata": {
    "collapsed": false
   },
   "outputs": [],
   "source": [
    "process_map(OSM_PATH, validate=True)"
   ]
  },
  {
   "cell_type": "code",
   "execution_count": 25,
   "metadata": {
    "collapsed": false,
    "scrolled": false
   },
   "outputs": [
    {
     "name": "stdout",
     "output_type": "stream",
     "text": [
      "[{'node': {'changeset': '11129782',\n",
      "           'id': '261114295',\n",
      "           'lat': '41.9730791',\n",
      "           'lon': '-87.6866303',\n",
      "           'timestamp': '2012-03-28T18:31:23Z',\n",
      "           'uid': '451048',\n",
      "           'user': 'bbmiller',\n",
      "           'version': '7'},\n",
      "  'node_tags': []},\n",
      " {'node': {'changeset': '8448766',\n",
      "           'id': '261114296',\n",
      "           'lat': '41.9730416',\n",
      "           'lon': '-87.6878512',\n",
      "           'timestamp': '2011-06-15T17:04:54Z',\n",
      "           'uid': '451048',\n",
      "           'user': 'bbmiller',\n",
      "           'version': '6'},\n",
      "  'node_tags': []},\n",
      " {'node': {'changeset': '8581395',\n",
      "           'id': '261114299',\n",
      "           'lat': '41.9729565',\n",
      "           'lon': '-87.6939548',\n",
      "           'timestamp': '2011-06-29T14:14:14Z',\n",
      "           'uid': '451048',\n",
      "           'user': 'bbmiller',\n",
      "           'version': '5'},\n",
      "  'node_tags': []},\n",
      " {'node': {'changeset': '8581395',\n",
      "           'id': '261146436',\n",
      "           'lat': '41.9707380',\n",
      "           'lon': '-87.6976025',\n",
      "           'timestamp': '2011-06-29T14:14:14Z',\n",
      "           'uid': '451048',\n",
      "           'user': 'bbmiller',\n",
      "           'version': '5'},\n",
      "  'node_tags': []},\n",
      " {'node': {'changeset': '8581395',\n",
      "           'id': '261147304',\n",
      "           'lat': '41.9740068',\n",
      "           'lon': '-87.6988576',\n",
      "           'timestamp': '2011-06-29T14:14:15Z',\n",
      "           'uid': '451048',\n",
      "           'user': 'bbmiller',\n",
      "           'version': '7'},\n",
      "  'node_tags': []},\n",
      " {'node': {'changeset': '8581395',\n",
      "           'id': '261224274',\n",
      "           'lat': '41.9707656',\n",
      "           'lon': '-87.6938669',\n",
      "           'timestamp': '2011-06-29T14:14:14Z',\n",
      "           'uid': '451048',\n",
      "           'user': 'bbmiller',\n",
      "           'version': '5'},\n",
      "  'node_tags': []},\n",
      " {'node': {'changeset': '8448766',\n",
      "           'id': '293816175',\n",
      "           'lat': '41.9730154',\n",
      "           'lon': '-87.6890403',\n",
      "           'timestamp': '2011-06-15T16:55:37Z',\n",
      "           'uid': '451048',\n",
      "           'user': 'bbmiller',\n",
      "           'version': '47'},\n",
      "  'node_tags': []},\n",
      " {'node': {'changeset': '15348240',\n",
      "           'id': '305896090',\n",
      "           'lat': '41.9749225',\n",
      "           'lon': '-87.6891198',\n",
      "           'timestamp': '2013-03-13T07:46:29Z',\n",
      "           'uid': '567034',\n",
      "           'user': 'Umbugbene',\n",
      "           'version': '37'},\n",
      "  'node_tags': []},\n",
      " {'node': {'changeset': '15348240',\n",
      "           'id': '317636974',\n",
      "           'lat': '41.9740292',\n",
      "           'lon': '-87.7012430',\n",
      "           'timestamp': '2013-03-13T08:02:56Z',\n",
      "           'uid': '567034',\n",
      "           'user': 'Umbugbene',\n",
      "           'version': '12'},\n",
      "  'node_tags': []},\n",
      " {'node': {'changeset': '15348240',\n",
      "           'id': '317636971',\n",
      "           'lat': '41.9740556',\n",
      "           'lon': '-87.6979712',\n",
      "           'timestamp': '2013-03-13T08:08:01Z',\n",
      "           'uid': '567034',\n",
      "           'user': 'Umbugbene',\n",
      "           'version': '13'},\n",
      "  'node_tags': []},\n",
      " {'node': {'changeset': '14927972',\n",
      "           'id': '317637399',\n",
      "           'lat': '41.9705609',\n",
      "           'lon': '-87.7012048',\n",
      "           'timestamp': '2013-02-05T22:43:49Z',\n",
      "           'uid': '567034',\n",
      "           'user': 'Umbugbene',\n",
      "           'version': '2'},\n",
      "  'node_tags': []},\n",
      " {'node': {'changeset': '14927972',\n",
      "           'id': '317637398',\n",
      "           'lat': '41.9706972',\n",
      "           'lon': '-87.7012109',\n",
      "           'timestamp': '2013-02-05T22:43:49Z',\n",
      "           'uid': '567034',\n",
      "           'user': 'Umbugbene',\n",
      "           'version': '2'},\n",
      "  'node_tags': []},\n",
      " {'node': {'changeset': '8448766',\n",
      "           'id': '365214872',\n",
      "           'lat': '41.9731130',\n",
      "           'lon': '-87.6847998',\n",
      "           'timestamp': '2011-06-15T17:04:54Z',\n",
      "           'uid': '451048',\n",
      "           'user': 'bbmiller',\n",
      "           'version': '3'},\n",
      "  'node_tags': []},\n",
      " {'node': {'changeset': '8581395',\n",
      "           'id': '261299091',\n",
      "           'lat': '41.9747482',\n",
      "           'lon': '-87.6988886',\n",
      "           'timestamp': '2011-06-29T14:14:15Z',\n",
      "           'uid': '451048',\n",
      "           'user': 'bbmiller',\n",
      "           'version': '6'},\n",
      "  'node_tags': []},\n",
      " {'node': {'changeset': '8448766',\n",
      "           'id': '261114294',\n",
      "           'lat': '41.9731219',\n",
      "           'lon': '-87.6841979',\n",
      "           'timestamp': '2011-06-15T17:04:54Z',\n",
      "           'uid': '451048',\n",
      "           'user': 'bbmiller',\n",
      "           'version': '6'},\n",
      "  'node_tags': []},\n",
      " {'node': {'changeset': '3359748',\n",
      "           'id': '261210804',\n",
      "           'lat': '41.9707217',\n",
      "           'lon': '-87.7000019',\n",
      "           'timestamp': '2009-12-13T00:36:09Z',\n",
      "           'uid': '147510',\n",
      "           'user': 'woodpeck_fixbot',\n",
      "           'version': '4'},\n",
      "  'node_tags': []},\n",
      " {'node': {'changeset': '8581395',\n",
      "           'id': '261221422',\n",
      "           'lat': '41.9748542',\n",
      "           'lon': '-87.6922652',\n",
      "           'timestamp': '2011-06-29T14:14:15Z',\n",
      "           'uid': '451048',\n",
      "           'user': 'bbmiller',\n",
      "           'version': '7'},\n",
      "  'node_tags': []},\n",
      " {'node': {'changeset': '8581395',\n",
      "           'id': '261221424',\n",
      "           'lat': '41.9758794',\n",
      "           'lon': '-87.6923639',\n",
      "           'timestamp': '2011-06-29T14:14:15Z',\n",
      "           'uid': '451048',\n",
      "           'user': 'bbmiller',\n",
      "           'version': '7'},\n",
      "  'node_tags': [{'id': '261221424',\n",
      "                 'key': 'highway',\n",
      "                 'type': 'regular',\n",
      "                 'value': 'traffic_signals'}]},\n",
      " {'node': {'changeset': '17206049',\n",
      "           'id': '2406124091',\n",
      "           'lat': '41.9757030',\n",
      "           'lon': '-87.6921867',\n",
      "           'timestamp': '2013-08-03T16:43:42Z',\n",
      "           'uid': '1219059',\n",
      "           'user': 'linuxUser16',\n",
      "           'version': '2'},\n",
      "  'node_tags': [{'id': '2406124091',\n",
      "                 'key': 'city',\n",
      "                 'type': 'addr',\n",
      "                 'value': 'Chicago'},\n",
      "                {'id': '2406124091',\n",
      "                 'key': 'housenumber',\n",
      "                 'type': 'addr',\n",
      "                 'value': '5157'},\n",
      "                {'id': '2406124091',\n",
      "                 'key': 'postcode',\n",
      "                 'type': 'addr',\n",
      "                 'value': '60625'},\n",
      "                {'id': '2406124091',\n",
      "                 'key': 'street',\n",
      "                 'type': 'addr',\n",
      "                 'value': 'North Lincoln Ave'},\n",
      "                {'id': '2406124091',\n",
      "                 'key': 'amenity',\n",
      "                 'type': 'regular',\n",
      "                 'value': 'restaurant'},\n",
      "                {'id': '2406124091',\n",
      "                 'key': 'cuisine',\n",
      "                 'type': 'regular',\n",
      "                 'value': 'mexican'},\n",
      "                {'id': '2406124091',\n",
      "                 'key': 'name',\n",
      "                 'type': 'regular',\n",
      "                 'value': 'La Cabana De Don Luis'},\n",
      "                {'id': '2406124091',\n",
      "                 'key': 'outdoor_seating',\n",
      "                 'type': 'regular',\n",
      "                 'value': 'no'},\n",
      "                {'id': '2406124091',\n",
      "                 'key': 'phone',\n",
      "                 'type': 'regular',\n",
      "                 'value': '1 (773)-271-5176'},\n",
      "                {'id': '2406124091',\n",
      "                 'key': 'smoking',\n",
      "                 'type': 'regular',\n",
      "                 'value': 'no'},\n",
      "                {'id': '2406124091',\n",
      "                 'key': 'takeaway',\n",
      "                 'type': 'regular',\n",
      "                 'value': 'yes'}]},\n",
      " {'node': {'changeset': '20187349',\n",
      "           'id': '2636084635',\n",
      "           'lat': '41.9705219',\n",
      "           'lon': '-87.6900344',\n",
      "           'timestamp': '2014-01-25T01:56:10Z',\n",
      "           'uid': '1219059',\n",
      "           'user': 'linuxUser16',\n",
      "           'version': '1'},\n",
      "  'node_tags': [{'id': '2636084635',\n",
      "                 'key': 'city',\n",
      "                 'type': 'addr',\n",
      "                 'value': 'Chicago'},\n",
      "                {'id': '2636084635',\n",
      "                 'key': 'country',\n",
      "                 'type': 'addr',\n",
      "                 'value': 'US'},\n",
      "                {'id': '2636084635',\n",
      "                 'key': 'housenumber',\n",
      "                 'type': 'addr',\n",
      "                 'value': '4874'},\n",
      "                {'id': '2636084635',\n",
      "                 'key': 'postcode',\n",
      "                 'type': 'addr',\n",
      "                 'value': '60625'},\n",
      "                {'id': '2636084635',\n",
      "                 'key': 'state',\n",
      "                 'type': 'addr',\n",
      "                 'value': 'Illinois'},\n",
      "                {'id': '2636084635',\n",
      "                 'key': 'street',\n",
      "                 'type': 'addr',\n",
      "                 'value': 'N. Lincoln Ave'},\n",
      "                {'id': '2636084635',\n",
      "                 'key': 'name',\n",
      "                 'type': 'regular',\n",
      "                 'value': 'Matty Ks'},\n",
      "                {'id': '2636084635',\n",
      "                 'key': 'phone',\n",
      "                 'type': 'regular',\n",
      "                 'value': '(773)-654-1347'},\n",
      "                {'id': '2636084635',\n",
      "                 'key': 'shop',\n",
      "                 'type': 'regular',\n",
      "                 'value': 'doityourself'},\n",
      "                {'id': '2636084635',\n",
      "                 'key': 'source',\n",
      "                 'type': 'regular',\n",
      "                 'value': 'GPS'}]},\n",
      " {'node': {'changeset': '8581395',\n",
      "           'id': '261198953',\n",
      "           'lat': '41.9707413',\n",
      "           'lon': '-87.6963097',\n",
      "           'timestamp': '2011-06-29T14:14:13Z',\n",
      "           'uid': '451048',\n",
      "           'user': 'bbmiller',\n",
      "           'version': '6'},\n",
      "  'node_tags': []},\n",
      " {'node': {'changeset': '5288876',\n",
      "           'id': '757860928',\n",
      "           'lat': '41.9747374',\n",
      "           'lon': '-87.6920102',\n",
      "           'timestamp': '2010-07-22T16:16:51Z',\n",
      "           'uid': '26299',\n",
      "           'user': 'uboot',\n",
      "           'version': '2'},\n",
      "  'node_tags': [{'id': '757860928',\n",
      "                 'key': 'amenity',\n",
      "                 'type': 'regular',\n",
      "                 'value': 'fast_food'},\n",
      "                {'id': '757860928',\n",
      "                 'key': 'cuisine',\n",
      "                 'type': 'regular',\n",
      "                 'value': 'sausage'},\n",
      "                {'id': '757860928',\n",
      "                 'key': 'name',\n",
      "                 'type': 'regular',\n",
      "                 'value': \"Shelly's Tasty Freeze\"}]},\n",
      " {'way': {'changeset': '20187382',\n",
      "          'id': '258219703',\n",
      "          'timestamp': '2014-01-25T02:01:54Z',\n",
      "          'uid': '1219059',\n",
      "          'user': 'linuxUser16',\n",
      "          'version': '1'},\n",
      "  'way_nodes': [{'id': '258219703', 'node_id': '2636086179', 'position': 0},\n",
      "                {'id': '258219703', 'node_id': '2636086178', 'position': 1},\n",
      "                {'id': '258219703', 'node_id': '2636086177', 'position': 2},\n",
      "                {'id': '258219703', 'node_id': '2636086176', 'position': 3}],\n",
      "  'way_tags': [{'id': '258219703',\n",
      "                'key': 'highway',\n",
      "                'type': 'regular',\n",
      "                'value': 'service'}]},\n",
      " {'node': {'changeset': '11043902',\n",
      "           'id': '1683602133',\n",
      "           'lat': '42.1251718',\n",
      "           'lon': '-88.0780576',\n",
      "           'timestamp': '2012-03-20T18:56:44Z',\n",
      "           'uid': '634589',\n",
      "           'user': 'Jacobs Studios',\n",
      "           'version': '2'},\n",
      "  'node_tags': [{'id': '1683602133',\n",
      "                 'key': 'housename',\n",
      "                 'type': 'addr',\n",
      "                 'value': 'Village Hall'},\n",
      "                {'id': '1683602133',\n",
      "                 'key': 'housenumber',\n",
      "                 'type': 'addr',\n",
      "                 'value': '1400'},\n",
      "                {'id': '1683602133',\n",
      "                 'key': 'postcode',\n",
      "                 'type': 'addr',\n",
      "                 'value': '60067'},\n",
      "                {'id': '1683602133',\n",
      "                 'key': 'street',\n",
      "                 'type': 'addr',\n",
      "                 'value': 'Baldwin Rd.'},\n",
      "                {'id': '1683602133',\n",
      "                 'key': 'amenity',\n",
      "                 'type': 'regular',\n",
      "                 'value': 'townhall'},\n",
      "                {'id': '1683602133',\n",
      "                 'key': 'name',\n",
      "                 'type': 'regular',\n",
      "                 'value': 'Village Hall'}]},\n",
      " {'way': {'changeset': '15353317',\n",
      "          'id': '209809850',\n",
      "          'timestamp': '2013-03-13T15:58:04Z',\n",
      "          'uid': '674454',\n",
      "          'user': 'chicago-buildings',\n",
      "          'version': '1'},\n",
      "  'way_nodes': [{'id': '209809850', 'node_id': '2199822281', 'position': 0},\n",
      "                {'id': '209809850', 'node_id': '2199822390', 'position': 1},\n",
      "                {'id': '209809850', 'node_id': '2199822392', 'position': 2},\n",
      "                {'id': '209809850', 'node_id': '2199822369', 'position': 3},\n",
      "                {'id': '209809850', 'node_id': '2199822370', 'position': 4},\n",
      "                {'id': '209809850', 'node_id': '2199822284', 'position': 5},\n",
      "                {'id': '209809850', 'node_id': '2199822281', 'position': 6}],\n",
      "  'way_tags': [{'id': '209809850',\n",
      "                'key': 'housenumber',\n",
      "                'type': 'addr',\n",
      "                'value': '1412'},\n",
      "               {'id': '209809850',\n",
      "                'key': 'street',\n",
      "                'type': 'addr',\n",
      "                'value': 'West Lexington St.'},\n",
      "               {'id': '209809850',\n",
      "                'key': 'streetname',\n",
      "                'type': 'addr',\n",
      "                'value': 'Lexington'},\n",
      "               {'id': '209809850',\n",
      "                'key': 'streetprefix',\n",
      "                'type': 'addr',\n",
      "                'value': 'West'},\n",
      "               {'id': '209809850',\n",
      "                'key': 'streettype',\n",
      "                'type': 'addr',\n",
      "                'value': 'Street'},\n",
      "               {'id': '209809850',\n",
      "                'key': 'building',\n",
      "                'type': 'regular',\n",
      "                'value': 'yes'},\n",
      "               {'id': '209809850',\n",
      "                'key': 'levels',\n",
      "                'type': 'building',\n",
      "                'value': '1'},\n",
      "               {'id': '209809850',\n",
      "                'key': 'building_id',\n",
      "                'type': 'chicago',\n",
      "                'value': '366409'}]}]\n"
     ]
    }
   ],
   "source": [
    "coll = []\n",
    "for element in get_element(OSM_PATH, tags=('node', 'way')):\n",
    "    el = shape_element(element)\n",
    "    coll.append(el)\n",
    "    \n",
    "pprint.pprint(coll)"
   ]
  },
  {
   "cell_type": "code",
   "execution_count": 24,
   "metadata": {
    "collapsed": true
   },
   "outputs": [],
   "source": [
    "import pprint"
   ]
  },
  {
   "cell_type": "code",
   "execution_count": null,
   "metadata": {
    "collapsed": true
   },
   "outputs": [],
   "source": []
  },
  {
   "cell_type": "code",
   "execution_count": null,
   "metadata": {
    "collapsed": true
   },
   "outputs": [],
   "source": []
  },
  {
   "cell_type": "code",
   "execution_count": null,
   "metadata": {
    "collapsed": true
   },
   "outputs": [],
   "source": []
  },
  {
   "cell_type": "code",
   "execution_count": null,
   "metadata": {
    "collapsed": true
   },
   "outputs": [],
   "source": []
  },
  {
   "cell_type": "code",
   "execution_count": null,
   "metadata": {
    "collapsed": true
   },
   "outputs": [],
   "source": []
  },
  {
   "cell_type": "code",
   "execution_count": null,
   "metadata": {
    "collapsed": true
   },
   "outputs": [],
   "source": []
  },
  {
   "cell_type": "code",
   "execution_count": null,
   "metadata": {
    "collapsed": true
   },
   "outputs": [],
   "source": []
  },
  {
   "cell_type": "code",
   "execution_count": null,
   "metadata": {
    "collapsed": true
   },
   "outputs": [],
   "source": []
  },
  {
   "cell_type": "code",
   "execution_count": null,
   "metadata": {
    "collapsed": true
   },
   "outputs": [],
   "source": []
  },
  {
   "cell_type": "code",
   "execution_count": null,
   "metadata": {
    "collapsed": true
   },
   "outputs": [],
   "source": []
  },
  {
   "cell_type": "code",
   "execution_count": null,
   "metadata": {
    "collapsed": true
   },
   "outputs": [],
   "source": []
  },
  {
   "cell_type": "code",
   "execution_count": null,
   "metadata": {
    "collapsed": true
   },
   "outputs": [],
   "source": []
  },
  {
   "cell_type": "code",
   "execution_count": null,
   "metadata": {
    "collapsed": true
   },
   "outputs": [],
   "source": []
  },
  {
   "cell_type": "code",
   "execution_count": null,
   "metadata": {
    "collapsed": true
   },
   "outputs": [],
   "source": []
  }
 ],
 "metadata": {
  "kernelspec": {
   "display_name": "Python 2",
   "language": "python",
   "name": "python2"
  },
  "language_info": {
   "codemirror_mode": {
    "name": "ipython",
    "version": 2
   },
   "file_extension": ".py",
   "mimetype": "text/x-python",
   "name": "python",
   "nbconvert_exporter": "python",
   "pygments_lexer": "ipython2",
   "version": "2.7.11"
  }
 },
 "nbformat": 4,
 "nbformat_minor": 0
}
