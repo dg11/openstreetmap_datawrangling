{
 "cells": [
  {
   "cell_type": "markdown",
   "metadata": {},
   "source": [
    "# Case Study Quizzes Applied to Cedar Park osm File"
   ]
  },
  {
   "cell_type": "markdown",
   "metadata": {},
   "source": [
    "### A look back at the blueprint for cleaning osm files\n",
    "(See Data Cleaning)"
   ]
  },
  {
   "cell_type": "code",
   "execution_count": 1,
   "metadata": {
    "collapsed": true
   },
   "outputs": [],
   "source": [
    "import xml.etree.cElementTree as ET\n",
    "from collections import defaultdict\n",
    "import re"
   ]
  },
  {
   "cell_type": "markdown",
   "metadata": {},
   "source": [
    "##### osm file obtained for Cedar Park, TX"
   ]
  },
  {
   "cell_type": "code",
   "execution_count": 2,
   "metadata": {
    "collapsed": true
   },
   "outputs": [],
   "source": [
    "filename = \"ex_hACvaQWTKpAQzk11ZsVUFhXE8ExV7.osm\""
   ]
  },
  {
   "cell_type": "markdown",
   "metadata": {},
   "source": [
    "##### Regex : sequence of nonwhite space characters otpoionally followed by a period, must occur at the end fo string\n"
   ]
  },
  {
   "cell_type": "code",
   "execution_count": 3,
   "metadata": {
    "collapsed": true
   },
   "outputs": [],
   "source": [
    "street_type_re = re.compile(r'\\S+\\.?$', re.IGNORECASE)\n",
    "street_types = defaultdict(int)"
   ]
  },
  {
   "cell_type": "code",
   "execution_count": 4,
   "metadata": {
    "collapsed": true
   },
   "outputs": [],
   "source": [
    "def audit_street_type(street_types, street_name):\n",
    "    m = street_type_re.search(street_name)\n",
    "    if m:\n",
    "        street_type = m.group()\n",
    "        street_types[street_type] += 1"
   ]
  },
  {
   "cell_type": "code",
   "execution_count": 5,
   "metadata": {
    "collapsed": true
   },
   "outputs": [],
   "source": [
    "def print_sorted_dict(d):\n",
    "    keys = d.keys()\n",
    "    keys = sorted(keys, key=lambda s: s.lower())\n",
    "    for k in keys:\n",
    "        v = d[k]\n",
    "        print \"%s: %d\" % (k,v)"
   ]
  },
  {
   "cell_type": "code",
   "execution_count": 6,
   "metadata": {
    "collapsed": true
   },
   "outputs": [],
   "source": [
    "def is_street_name(elem):\n",
    "    return (elem.tag == \"tag\") and (elem.attrib['k'] == \"addr:street\")"
   ]
  },
  {
   "cell_type": "code",
   "execution_count": 7,
   "metadata": {
    "collapsed": true
   },
   "outputs": [],
   "source": [
    "def audit():\n",
    "    for event, elem in ET.iterparse(osmfile):\n",
    "        if is_street_name(elem):\n",
    "            audit_street_type(street_types, elem.attrib['v'])\n",
    "    print_sorted_dict(street_types)"
   ]
  },
  {
   "cell_type": "code",
   "execution_count": 8,
   "metadata": {
    "collapsed": true
   },
   "outputs": [],
   "source": [
    "osmfile = open(filename, \"r\")"
   ]
  },
  {
   "cell_type": "code",
   "execution_count": 9,
   "metadata": {
    "collapsed": false,
    "scrolled": false
   },
   "outputs": [
    {
     "name": "stdout",
     "output_type": "stream",
     "text": [
      "#100: 1\n",
      "#406: 1\n",
      "#G-145: 1\n",
      "1431: 6\n",
      "183: 4\n",
      "2769: 19\n",
      "301: 1\n",
      "400: 1\n",
      "620: 124\n",
      "Avenue: 188\n",
      "Barrhead: 12\n",
      "Bend: 248\n",
      "Blvd: 5\n",
      "Boulevard: 186\n",
      "Camelback: 6\n",
      "Cantera: 11\n",
      "Canyon: 67\n",
      "Casitas: 79\n",
      "Circle: 301\n",
      "Costa: 6\n",
      "Court: 542\n",
      "Cove: 1064\n",
      "Ct: 36\n",
      "Dalmahoy: 10\n",
      "Dance: 93\n",
      "Dancer: 6\n",
      "Dr: 101\n",
      "Drive: 7531\n",
      "Dublin: 4\n",
      "Edenderry: 13\n",
      "Folkway: 66\n",
      "Ford: 1\n",
      "Fork: 3\n",
      "Fort: 2\n",
      "Gap: 25\n",
      "Garden: 7\n",
      "Hill: 33\n",
      "Hollow: 26\n",
      "Horn: 11\n",
      "Lajitas: 30\n",
      "Lane: 1784\n",
      "Ln: 48\n",
      "Lonesome: 15\n",
      "Loop: 234\n",
      "Meadows: 11\n",
      "Mirador: 6\n",
      "Mirage: 6\n",
      "North: 45\n",
      "Park: 4\n",
      "Parkway: 251\n",
      "Pass: 105\n",
      "Path: 56\n",
      "Pawnee: 6\n",
      "Place: 194\n",
      "Print: 4\n",
      "Rd: 1\n",
      "Road: 826\n",
      "Rock: 3\n",
      "Run: 57\n",
      "Sky: 6\n",
      "Spur: 5\n",
      "Square: 6\n",
      "Street: 616\n",
      "Sundown: 22\n",
      "Terrace: 16\n",
      "Thunder: 17\n",
      "Tiempo: 19\n",
      "Trace: 14\n",
      "Trail: 3018\n",
      "Verdes: 48\n",
      "View: 1\n",
      "Vista: 21\n",
      "Way: 243\n",
      "Wow: 2\n"
     ]
    }
   ],
   "source": [
    "if __name__ == '__main__':\n",
    "    audit()"
   ]
  },
  {
   "cell_type": "code",
   "execution_count": 13,
   "metadata": {
    "collapsed": true
   },
   "outputs": [],
   "source": [
    "osmfile.close()"
   ]
  },
  {
   "cell_type": "markdown",
   "metadata": {},
   "source": [
    "### Checking what top level tags are there:"
   ]
  },
  {
   "cell_type": "code",
   "execution_count": 1,
   "metadata": {
    "collapsed": true
   },
   "outputs": [],
   "source": [
    "import xml.etree.cElementTree as ET\n",
    "from collections import defaultdict\n",
    "import re"
   ]
  },
  {
   "cell_type": "code",
   "execution_count": 2,
   "metadata": {
    "collapsed": true
   },
   "outputs": [],
   "source": [
    "filename = \"ex_hACvaQWTKpAQzk11ZsVUFhXE8ExV7.osm\""
   ]
  },
  {
   "cell_type": "code",
   "execution_count": 3,
   "metadata": {
    "collapsed": false
   },
   "outputs": [],
   "source": [
    "osmfile = open(filename, \"r\")"
   ]
  },
  {
   "cell_type": "code",
   "execution_count": 4,
   "metadata": {
    "collapsed": false
   },
   "outputs": [],
   "source": [
    "tag_counts = defaultdict(int)"
   ]
  },
  {
   "cell_type": "code",
   "execution_count": 5,
   "metadata": {
    "collapsed": false
   },
   "outputs": [],
   "source": [
    "for event, elem in ET.iterparse(osmfile):\n",
    "    tag_counts[elem.tag] += 1"
   ]
  },
  {
   "cell_type": "code",
   "execution_count": 6,
   "metadata": {
    "collapsed": false
   },
   "outputs": [
    {
     "data": {
      "text/plain": [
       "defaultdict(int,\n",
       "            {'bounds': 1,\n",
       "             'member': 562,\n",
       "             'nd': 732834,\n",
       "             'node': 662875,\n",
       "             'osm': 1,\n",
       "             'relation': 83,\n",
       "             'tag': 191628,\n",
       "             'way': 66435})"
      ]
     },
     "execution_count": 6,
     "metadata": {},
     "output_type": "execute_result"
    }
   ],
   "source": [
    "tag_counts"
   ]
  },
  {
   "cell_type": "markdown",
   "metadata": {},
   "source": [
    "### Tag Types"
   ]
  },
  {
   "cell_type": "markdown",
   "metadata": {},
   "source": [
    "\"\"\"\n",
    "Your task is to explore the data a bit more.\n",
    "Before you process the data and add it into your database, you should check the\n",
    "\"k\" value for each \"<tag>\" and see if there are any potential problems.\n",
    "\n",
    "We have provided you with 3 regular expressions to check for certain patterns\n",
    "in the tags. As we saw in the quiz earlier, we would like to change the data\n",
    "model and expand the \"addr:street\" type of keys to a dictionary like this:\n",
    "{\"address\": {\"street\": \"Some value\"}}\n",
    "So, we have to see if we have such tags, and if we have any tags with\n",
    "problematic characters.\n",
    "\n",
    "Please complete the function 'key_type', such that we have a count of each of\n",
    "four tag categories in a dictionary:\n",
    "  \"lower\", for tags that contain only lowercase letters and are valid,\n",
    "  \"lower_colon\", for otherwise valid tags with a colon in their names,\n",
    "  \"problemchars\", for tags with problematic characters, and\n",
    "  \"other\", for other tags that do not fall into the other three categories.\n",
    "See the 'process_map' and 'test' functions for examples of the expected format.\n",
    "\"\"\""
   ]
  },
  {
   "cell_type": "code",
   "execution_count": 7,
   "metadata": {
    "collapsed": true
   },
   "outputs": [],
   "source": [
    "lower = re.compile(r'^([a-z]|_)*$')\n",
    "lower_colon = re.compile(r'^([a-z]|_)*:([a-z]|_)*$')\n",
    "problemchars = re.compile(r'[=\\+/&<>;\\'\"\\?%#$@\\,\\. \\t\\r\\n]')"
   ]
  },
  {
   "cell_type": "code",
   "execution_count": 16,
   "metadata": {
    "collapsed": false
   },
   "outputs": [],
   "source": [
    "osm_file = open(\"ex_hACvaQWTKpAQzk11ZsVUFhXE8ExV7.osm\", \"r\")"
   ]
  },
  {
   "cell_type": "code",
   "execution_count": 17,
   "metadata": {
    "collapsed": true
   },
   "outputs": [],
   "source": [
    "k = defaultdict(int)"
   ]
  },
  {
   "cell_type": "code",
   "execution_count": 18,
   "metadata": {
    "collapsed": false
   },
   "outputs": [],
   "source": [
    "for _, element in ET.iterparse(osm_file):\n",
    "    if element.tag == 'tag':\n",
    "        try:\n",
    "            lower.search(element.attrib['k']).group()\n",
    "            k[\"lower\"] += 1\n",
    "        except AttributeError:\n",
    "            try:\n",
    "                lower_colon.search(element.attrib['k']).group()\n",
    "                k[\"lower_colon\"] += 1\n",
    "            except AttributeError:\n",
    "                try:\n",
    "                    problemchars.search(element.attrib['k']).group()\n",
    "                    k[\"problemchars\"] += 1\n",
    "                except AttributeError:\n",
    "                    k[\"others\"] += 1"
   ]
  },
  {
   "cell_type": "code",
   "execution_count": 19,
   "metadata": {
    "collapsed": false
   },
   "outputs": [
    {
     "data": {
      "text/plain": [
       "defaultdict(int, {'lower': 129124, 'lower_colon': 61757, 'others': 747})"
      ]
     },
     "execution_count": 19,
     "metadata": {},
     "output_type": "execute_result"
    }
   ],
   "source": [
    "k"
   ]
  },
  {
   "cell_type": "markdown",
   "metadata": {},
   "source": [
    "### Exploring Users"
   ]
  },
  {
   "cell_type": "code",
   "execution_count": 20,
   "metadata": {
    "collapsed": true
   },
   "outputs": [],
   "source": [
    "users = set()"
   ]
  },
  {
   "cell_type": "code",
   "execution_count": 21,
   "metadata": {
    "collapsed": true
   },
   "outputs": [],
   "source": [
    "osm_file = open(\"ex_hACvaQWTKpAQzk11ZsVUFhXE8ExV7.osm\", \"r\")"
   ]
  },
  {
   "cell_type": "code",
   "execution_count": 23,
   "metadata": {
    "collapsed": false
   },
   "outputs": [],
   "source": [
    "for _, element in ET.iterparse(osm_file):\n",
    "    for key in element.attrib:\n",
    "        if key == \"uid\":\n",
    "            users.add(element.attrib[key])"
   ]
  },
  {
   "cell_type": "code",
   "execution_count": 25,
   "metadata": {
    "collapsed": false,
    "scrolled": false
   },
   "outputs": [
    {
     "name": "stdout",
     "output_type": "stream",
     "text": [
      "set(['1306', '13832', '77990', '113450', '131059', '2226712', '2330782', '3405475', '353043', '70696', '1836471', '2010493', '384700', '1822355', '422132', '2943834', '55916', '68982', '1725792', '1058397', '388279', '1110270', '360392', '2835928', '364400', '119881', '2082952', '2001899', '1679', '76002', '54759', '2941385', '406921', '3525854', '169004', '1887977', '110797', '27924', '4559658', '1329572', '189061', '270505', '626974', '2015224', '2929338', '22925', '2011339', '1883842', '4191259', '3341346', '3040373', '4732', '243003', '1376118', '1425774', '1424805', '2319962', '2512300', '8703', '520239', '3479270', '1554107', '2219338', '3316148', '1240849', '2944689', '611636', '47892', '293774', '171863', '38487', '1314413', '110263', '646671', '1814467', '874213', '97431', '574861', '60744', '2322261', '3017915', '1917615', '1745406', '1902905', '67862', '343553', '105002', '449777', '2406578', '42429', '36121', '2377377', '166129', '300459', '80285', '136520', '37137', '451693', '4132860', '581419', '615654', '51045', '44217', '2496655', '473471', '3478684', '575547', '3370181', '236412', '22909', '1770421', '10786', '69864', '262151', '722137', '1787832', '3065064', '367800', '342952', '3570894', '2508151', '1916849', '534393', '2582987', '1802220', '20587', '2082949', '1972227', '31075', '1744048', '5359', '37392', '197515', '2652160', '2936384', '39854', '81285', '517514', '2309119', '2175949', '482894', '3516', '2065004', '533828', '618377', '158204', '1830408', '593205', '172061', '2243765', '212111', '1132286', '2887761', '1778799', '2084136', '531084', '116044', '66330', '21931', '1227690', '2748195', '567792', '463545', '2527838', '8909', '26139', '28145', '929880', '2552612', '32993', '456698', '1429602', '1651798', '416346', '781401', '3202024', '55945', '1260280', '1829683', '2765020', '413047', '7168', '510836', '2063187', '207745', '533465', '1679807', '4430311', '232126', '42123', '3526564', '1883240', '379381', '2758', '2849030', '111209', '586964', '165869', '451048', '2120603', '587707', '1816882', '109925', '3048258', '105454', '2554698', '2905914', '26299', '74983', '165061', '563692', '2644101', '3956251', '2511706', '130472', '475877', '307202', '543545', '4697', '7203', '3960577', '68769', '26599', '691059', '35243', '152289', '214969', '4516155', '19239', '605122', '1694420', '92286', '250487', '32952', '6975', '30587', '86504', '1494110', '119748', '2688104', '57158', '4018842', '147510', '240041', '26818', '554234', '145231', '332709', '50743', '2115749', '161619', '3369502', '162999', '36569', '1058666', '75480', '4458656', '1869781', '8764', '1072516', '80300', '703517', '3877019', '564222', '3747719', '250634'])\n"
     ]
    }
   ],
   "source": [
    "print users"
   ]
  },
  {
   "cell_type": "code",
   "execution_count": 26,
   "metadata": {
    "collapsed": false
   },
   "outputs": [
    {
     "data": {
      "text/plain": [
       "266"
      ]
     },
     "execution_count": 26,
     "metadata": {},
     "output_type": "execute_result"
    }
   ],
   "source": [
    "len(users)"
   ]
  },
  {
   "cell_type": "markdown",
   "metadata": {},
   "source": [
    "# Auditing and Improving Street Names "
   ]
  },
  {
   "cell_type": "markdown",
   "metadata": {},
   "source": [
    "Your task in this exercise has two steps:\n",
    "\n",
    "- audit the OSMFILE and change the variable 'mapping' to reflect the changes needed to fix \n",
    "    the unexpected street types to the appropriate ones in the expected list.\n",
    "    You have to add mappings only for the actual problems you find in this OSMFILE,\n",
    "    not a generalized solution, since that may and will depend on the particular area you are auditing.\n",
    "- write the update_name function, to actually fix the street name.\n",
    "    The function takes a string with street name as an argument and should return the fixed name\n",
    "    We have provided a simple test so that you see what exactly is expected"
   ]
  },
  {
   "cell_type": "code",
   "execution_count": 1,
   "metadata": {
    "collapsed": true
   },
   "outputs": [],
   "source": [
    "import xml.etree.cElementTree as ET\n",
    "from collections import defaultdict\n",
    "import re\n",
    "import pprint"
   ]
  },
  {
   "cell_type": "code",
   "execution_count": 2,
   "metadata": {
    "collapsed": true
   },
   "outputs": [],
   "source": [
    "filename = \"ex_hACvaQWTKpAQzk11ZsVUFhXE8ExV7.osm\""
   ]
  },
  {
   "cell_type": "code",
   "execution_count": 3,
   "metadata": {
    "collapsed": true
   },
   "outputs": [],
   "source": [
    "street_type_re = re.compile(r'\\b\\S+\\.?$', re.IGNORECASE)"
   ]
  },
  {
   "cell_type": "code",
   "execution_count": 4,
   "metadata": {
    "collapsed": true
   },
   "outputs": [],
   "source": [
    "expected = [\"Street\", \"Avenue\", \"Boulevard\", \"Drive\", \"Court\", \"Place\", \"Square\", \"Lane\", \"Road\", \n",
    "            \"Trail\", \"Parkway\", \"Commons\"]"
   ]
  },
  {
   "cell_type": "code",
   "execution_count": 5,
   "metadata": {
    "collapsed": true
   },
   "outputs": [],
   "source": [
    "mapping = { \"Blvd\": \"Boulevard\",\n",
    "            \"Dr\": \"Drive\",\n",
    "            \"Ct\": \"Court\",\n",
    "            \"Ln\": \"Lane\",\n",
    "            \"Rd\": \"Road\"\n",
    "          }"
   ]
  },
  {
   "cell_type": "code",
   "execution_count": 6,
   "metadata": {
    "collapsed": true
   },
   "outputs": [],
   "source": [
    "def audit_street_type(street_types, street_name):\n",
    "    m = street_type_re.search(street_name)\n",
    "    if m:\n",
    "        street_type = m.group()\n",
    "        if street_type not in expected:\n",
    "            street_types[street_type].add(street_name)"
   ]
  },
  {
   "cell_type": "code",
   "execution_count": 7,
   "metadata": {
    "collapsed": true
   },
   "outputs": [],
   "source": [
    "def is_street_name(elem):\n",
    "    return (elem.attrib['k'] == \"addr:street\")"
   ]
  },
  {
   "cell_type": "code",
   "execution_count": 8,
   "metadata": {
    "collapsed": true
   },
   "outputs": [],
   "source": [
    "def audit(osmfile):\n",
    "    osm_file = open(osmfile, \"r\")\n",
    "    street_types = defaultdict(set)\n",
    "    for event, elem in ET.iterparse(osm_file, events=(\"start\",)):\n",
    "\n",
    "        if elem.tag == \"node\" or elem.tag == \"way\":\n",
    "            for tag in elem.iter(\"tag\"):\n",
    "                if is_street_name(tag):\n",
    "                    audit_street_type(street_types, tag.attrib['v'])\n",
    "    osm_file.close()\n",
    "    return street_types"
   ]
  },
  {
   "cell_type": "code",
   "execution_count": 9,
   "metadata": {
    "collapsed": false
   },
   "outputs": [],
   "source": [
    "st_types = audit(filename)"
   ]
  },
  {
   "cell_type": "code",
   "execution_count": 11,
   "metadata": {
    "collapsed": false
   },
   "outputs": [
    {
     "name": "stdout",
     "output_type": "stream",
     "text": [
      "defaultdict(<type 'set'>, {'Vista': set(['Mira Vista']), '620': set(['RM 620', 'FM 620', 'N FM 620', 'Ranch Road 620', 'Ranch-to-Market Road 620', 'RR 620']), 'Edenderry': set(['Edenderry']), 'Ln': set(['Sky Ridge Ln', 'Hidden Hills Ln', 'Rocky Top Ln', 'Lantana Ln']), 'Thunder': set(['Buffalo Thunder']), 'Wow': set(['Pow Wow']), 'Verdes': set(['Palos Verdes']), 'Sky': set(['Cantina Sky']), 'Lajitas': set(['Lajitas']), 'Camelback': set(['Camelback']), 'Rd': set(['Barley Rd']), 'Hollow': set(['Pepper Mill Hollow', 'Brushy Hollow', 'Mill Hollow', 'Salt Mill Hollow']), 'Hill': set(['Coronado Spyglass Hill']), 'Way': set(['Azzuro Way', 'Wickett Way', 'Brindisi Way', 'Castellano Way', 'Appennini Way', 'Wendts Way', 'Benevento Way', 'Wagon Way', 'Lombardi Way', 'Earp Way', 'Balcones Way', 'Altona Way', 'Albania Way', 'Rias Way']), 'Print': set(['Paw Print']), 'Circle': set(['Brookwood Circle', 'South Ridge Circle', 'Laurel Creek Circle', 'Springmail Circle', 'Cedarhurst Circle', 'Waxwing Circle', 'Wood Ibis Circle', 'Talyne Chaise Circle', 'Gunsmoke Circle', 'Gungrove Circle', 'Cade Circle', 'Quartz Circle', 'Hymeadow Circle', 'Flinnwood Circle', 'Hupa Circle', 'Paddington Circle', 'Fora Circle', 'Bitteroot Circle', 'Salt Block Circle', 'North Ridge Circle', 'Egret Circle', 'Mourning Dove Circle', 'Brown Bluff Circle', 'Sawatch Circle', 'Sparkling Creek Circle']), 'Casitas': set(['Casitas']), 'Meadows': set(['Mellow Meadows']), 'Fork': set(['Roaring Fork']), 'Tiempo': set(['Pasa Tiempo']), 'North': set(['Ranch Road 620 North', 'FM 620 North', 'Ute Trail North']), 'Garden': set(['Bayswater Garden']), 'Trace': set(['Dayflower Trace']), '183': set(['US Highway 183', 'U.S. 183', 'N HWY 183']), 'Park': set(['Cowdray Park']), 'Cove': set(['Bent Bow Cove', 'Royal Tara Cove', 'Split Rail Cove', 'Onyx Cove', 'Mariah Cove', 'Serenity Springs Cove', 'Catchfly Cove', 'Sweetwater Cove', 'Meadowheath Cove', 'Dulles Cove', 'Tosca Cove', 'Running Brush Cove', 'Partridge Bend Cove', 'Fierro Cove', 'Mateo Cove', 'Broadbay Cove', 'Ivywood Cove', 'Water Mill Cove', 'Fowler Mill Cove', 'Orsobello Cove', 'Foxhound Cove', 'Simbrah Cove', 'Rusted Nail Cove', 'Etta James Cove', 'Flashpan Cove', 'Bancroft Woods Cove', 'Sir Christophers Cove', 'Harkey Cove', 'Bald Cypress Cove', 'Montaque Cove', 'Rathdowney Cove', 'Mancini Cove', 'Mirage Cove', 'Water Wheel Cove', 'Oro Valley Cove', 'Ryoaks Cove', 'Padbrook Park Cove', 'Old Stage Cove', 'Lilley Brook Cove', 'Braesgate Cove', 'Nocturne Cove', 'Sunningdale Cove', 'Conchos Cove', 'Jenner Cove', 'Swinley Forest Cove', 'Dulac Cove', 'Aloe Vera Cove', 'Darwin Cove', 'Muskberry Cove', 'Leather Cove', 'Liriope Cove', 'Shallow Water Cove', 'Velarde Cove', 'Stock Tank Cove', 'Wipple Tree Cove', 'Queensbury Cove', 'Bent Cedar Cove', 'Pepper Rock Cove', 'Huntwood Cove', 'Adak Cove', 'Ito Cove', 'Tanglebriar Cove', 'Amasia Cove', 'Brookwood Cove', 'Songbird Cove', 'Petaca Cove', 'Snowden Cove', 'Oro Viejo Cove', 'Kilkee Cove', 'Chainfire Cove', 'Hanna Cove', 'Dove Valley Cove', 'Kepler Cove', 'Hickorystick Cove', 'Pintail Cove', 'Coleus Cove', 'Show Barn Cove', 'Giacomo Cove', 'Wolf Jaw Cove', 'Lady Day Cove', 'Labrador Cove', 'Wistful Cove', 'Gristmill Cove', 'Crystal Downs Cove', 'Cortaro Cove', 'Truman Cove', 'Pipit Cove', 'Heaton Park Cove', 'Cypress Landing Cove', 'Mossbrook Cove', 'Coriander Cove', 'Fallon Cove', 'Owl Cove', 'Wind Song Cove', 'Hosta Cove', 'Trails End Cove', 'Cedar Crest Cove', 'Dodge Cattle Cove', 'Boneta Cove', 'Broad Leaf Cove', 'Eagle Rock Cove', 'Double Tree Cove', 'Lonesome Dove Cove', 'Matchlock Cove', 'Kiawah Island Cove', 'Rock Springs Cove', 'Along Creek Cove', 'Shemya Cove', 'Nutwood Cove', 'Nepal Cove', 'Langhoff Cove', 'Templemore Cove', 'Decoy Cove', 'Thundercloud Cove']), 'Gap': set(['Buffalo Gap']), '406': set(['North Highway 183 #406']), '400': set(['North Lakeline Boulevard, Ste. 400']), 'Path': set(['Tortosa Path', 'Primwood Path', 'Grey Fawn Path']), 'View': set(['Canyon View']), 'Dr': set(['Woodall Dr', 'Rain Song Dr', 'Winged Elm Dr', 'Yaupon Range Dr', 'Canyon Springs Dr']), 'Bend': set(['Izoro Bend', 'New Boston Bend', 'Mancuso Bend', 'Melekhin Bend', 'Dartford Bend', 'Brubeck Bend', 'Misty Bend', 'Canola Bend', 'Hondo Bend', 'Basie Bend']), 'Folkway': set(['Kerrville Folkway']), 'Costa': set(['La Costa']), '2769': set(['Farm-to-Market Road 2769']), '301': set(['S Bell Blvd., Suite 301']), 'Mirage': set(['Rancho Mirage']), 'Dublin': set(['Royal Dublin']), 'Ford': set(['Meadow Ford']), 'G-145': set(['E. Whitestone Blvd #G-145']), 'Cantera': set(['La Cantera']), 'Rock': set(['Speaking Rock']), 'Lonesome': set(['High Lonesome']), 'Run': set(['Rhondstat Run', 'Ripperton Run', 'Buck Run']), '100': set(['Avery Ranch Blvd Building A #100']), 'Loop': set(['Outlook Ridge Loop', 'Springs Head Loop', 'Grand Oaks Loop', 'Staked Plains Loop']), 'Dalmahoy': set(['Dalmahoy']), 'Mirador': set(['Mirador']), '1431': set(['Farm-to-Market Road 1431']), 'Dance': set(['Harvest Dance']), 'Spur': set(['Rutledge Spur']), 'Pawnee': set(['Pawnee']), 'Terrace': set(['Windy Terrace', 'Shady Oak Terrace']), 'Horn': set(['Big Horn']), 'Barrhead': set(['Barrhead']), 'Canyon': set(['Ventana Canyon', 'Ambush Canyon', 'Shadow Canyon']), 'Dancer': set(['Wolf Dancer']), 'Sundown': set(['Bold Sundown']), 'Pass': set(['Continental Pass', 'Quadros Pass', 'Overton Pass', 'Red Deer Pass', 'Gift Horse Pass', 'Petrove Pass', 'Whitetail Pass', 'Double Eagle Pass', 'Long Lasso Pass', 'Arrowhead Pass', 'Irby Pass', 'Melba Pass', 'Passionflower Pass']), 'Blvd': set(['N Bell Blvd', 'South Bell Blvd', 'Research Blvd']), 'Fort': set(['Quick Fort']), 'Ct': set(['Ely Ct', 'Krupa Ct', 'Sterling Heights Ct', 'Costello Ct'])})\n"
     ]
    }
   ],
   "source": [
    "pprint.pprint(st_types)"
   ]
  },
  {
   "cell_type": "code",
   "execution_count": 12,
   "metadata": {
    "collapsed": true
   },
   "outputs": [],
   "source": [
    "def update_name(name, mapping):\n",
    "    parts = name.split()\n",
    "    if parts[-1] in mapping.keys():\n",
    "        parts[-1] = mapping[parts[-1]]\n",
    "    name = ' '.join(parts)\n",
    "    return name"
   ]
  },
  {
   "cell_type": "code",
   "execution_count": 13,
   "metadata": {
    "collapsed": false,
    "scrolled": false
   },
   "outputs": [
    {
     "name": "stdout",
     "output_type": "stream",
     "text": [
      "Mira Vista => Mira Vista\n",
      "RM 620 => RM 620\n",
      "FM 620 => FM 620\n",
      "N FM 620 => N FM 620\n",
      "Ranch Road 620 => Ranch Road 620\n",
      "Ranch-to-Market Road 620 => Ranch-to-Market Road 620\n",
      "RR 620 => RR 620\n",
      "Edenderry => Edenderry\n",
      "Sky Ridge Ln => Sky Ridge Lane\n",
      "Hidden Hills Ln => Hidden Hills Lane\n",
      "Rocky Top Ln => Rocky Top Lane\n",
      "Lantana Ln => Lantana Lane\n",
      "Buffalo Thunder => Buffalo Thunder\n",
      "Pow Wow => Pow Wow\n",
      "Palos Verdes => Palos Verdes\n",
      "Cantina Sky => Cantina Sky\n",
      "Lajitas => Lajitas\n",
      "Camelback => Camelback\n",
      "Barley Rd => Barley Road\n",
      "Pepper Mill Hollow => Pepper Mill Hollow\n",
      "Brushy Hollow => Brushy Hollow\n",
      "Mill Hollow => Mill Hollow\n",
      "Salt Mill Hollow => Salt Mill Hollow\n",
      "Coronado Spyglass Hill => Coronado Spyglass Hill\n",
      "Azzuro Way => Azzuro Way\n",
      "Wickett Way => Wickett Way\n",
      "Brindisi Way => Brindisi Way\n",
      "Castellano Way => Castellano Way\n",
      "Appennini Way => Appennini Way\n",
      "Wendts Way => Wendts Way\n",
      "Benevento Way => Benevento Way\n",
      "Wagon Way => Wagon Way\n",
      "Lombardi Way => Lombardi Way\n",
      "Earp Way => Earp Way\n",
      "Balcones Way => Balcones Way\n",
      "Altona Way => Altona Way\n",
      "Albania Way => Albania Way\n",
      "Rias Way => Rias Way\n",
      "Paw Print => Paw Print\n",
      "Brookwood Circle => Brookwood Circle\n",
      "South Ridge Circle => South Ridge Circle\n",
      "Laurel Creek Circle => Laurel Creek Circle\n",
      "Springmail Circle => Springmail Circle\n",
      "Cedarhurst Circle => Cedarhurst Circle\n",
      "Waxwing Circle => Waxwing Circle\n",
      "Wood Ibis Circle => Wood Ibis Circle\n",
      "Talyne Chaise Circle => Talyne Chaise Circle\n",
      "Gunsmoke Circle => Gunsmoke Circle\n",
      "Gungrove Circle => Gungrove Circle\n",
      "Cade Circle => Cade Circle\n",
      "Quartz Circle => Quartz Circle\n",
      "Hymeadow Circle => Hymeadow Circle\n",
      "Flinnwood Circle => Flinnwood Circle\n",
      "Hupa Circle => Hupa Circle\n",
      "Paddington Circle => Paddington Circle\n",
      "Fora Circle => Fora Circle\n",
      "Bitteroot Circle => Bitteroot Circle\n",
      "Salt Block Circle => Salt Block Circle\n",
      "North Ridge Circle => North Ridge Circle\n",
      "Egret Circle => Egret Circle\n",
      "Mourning Dove Circle => Mourning Dove Circle\n",
      "Brown Bluff Circle => Brown Bluff Circle\n",
      "Sawatch Circle => Sawatch Circle\n",
      "Sparkling Creek Circle => Sparkling Creek Circle\n",
      "Casitas => Casitas\n",
      "Mellow Meadows => Mellow Meadows\n",
      "Roaring Fork => Roaring Fork\n",
      "Pasa Tiempo => Pasa Tiempo\n",
      "Ranch Road 620 North => Ranch Road 620 North\n",
      "FM 620 North => FM 620 North\n",
      "Ute Trail North => Ute Trail North\n",
      "Bayswater Garden => Bayswater Garden\n",
      "Dayflower Trace => Dayflower Trace\n",
      "US Highway 183 => US Highway 183\n",
      "U.S. 183 => U.S. 183\n",
      "N HWY 183 => N HWY 183\n",
      "Cowdray Park => Cowdray Park\n",
      "Bent Bow Cove => Bent Bow Cove\n",
      "Royal Tara Cove => Royal Tara Cove\n",
      "Split Rail Cove => Split Rail Cove\n",
      "Onyx Cove => Onyx Cove\n",
      "Mariah Cove => Mariah Cove\n",
      "Serenity Springs Cove => Serenity Springs Cove\n",
      "Catchfly Cove => Catchfly Cove\n",
      "Sweetwater Cove => Sweetwater Cove\n",
      "Meadowheath Cove => Meadowheath Cove\n",
      "Dulles Cove => Dulles Cove\n",
      "Tosca Cove => Tosca Cove\n",
      "Running Brush Cove => Running Brush Cove\n",
      "Partridge Bend Cove => Partridge Bend Cove\n",
      "Fierro Cove => Fierro Cove\n",
      "Mateo Cove => Mateo Cove\n",
      "Broadbay Cove => Broadbay Cove\n",
      "Ivywood Cove => Ivywood Cove\n",
      "Water Mill Cove => Water Mill Cove\n",
      "Fowler Mill Cove => Fowler Mill Cove\n",
      "Orsobello Cove => Orsobello Cove\n",
      "Foxhound Cove => Foxhound Cove\n",
      "Simbrah Cove => Simbrah Cove\n",
      "Rusted Nail Cove => Rusted Nail Cove\n",
      "Etta James Cove => Etta James Cove\n",
      "Flashpan Cove => Flashpan Cove\n",
      "Bancroft Woods Cove => Bancroft Woods Cove\n",
      "Sir Christophers Cove => Sir Christophers Cove\n",
      "Harkey Cove => Harkey Cove\n",
      "Bald Cypress Cove => Bald Cypress Cove\n",
      "Montaque Cove => Montaque Cove\n",
      "Rathdowney Cove => Rathdowney Cove\n",
      "Mancini Cove => Mancini Cove\n",
      "Mirage Cove => Mirage Cove\n",
      "Water Wheel Cove => Water Wheel Cove\n",
      "Oro Valley Cove => Oro Valley Cove\n",
      "Ryoaks Cove => Ryoaks Cove\n",
      "Padbrook Park Cove => Padbrook Park Cove\n",
      "Old Stage Cove => Old Stage Cove\n",
      "Lilley Brook Cove => Lilley Brook Cove\n",
      "Braesgate Cove => Braesgate Cove\n",
      "Nocturne Cove => Nocturne Cove\n",
      "Sunningdale Cove => Sunningdale Cove\n",
      "Conchos Cove => Conchos Cove\n",
      "Jenner Cove => Jenner Cove\n",
      "Swinley Forest Cove => Swinley Forest Cove\n",
      "Dulac Cove => Dulac Cove\n",
      "Aloe Vera Cove => Aloe Vera Cove\n",
      "Darwin Cove => Darwin Cove\n",
      "Muskberry Cove => Muskberry Cove\n",
      "Leather Cove => Leather Cove\n",
      "Liriope Cove => Liriope Cove\n",
      "Shallow Water Cove => Shallow Water Cove\n",
      "Velarde Cove => Velarde Cove\n",
      "Stock Tank Cove => Stock Tank Cove\n",
      "Wipple Tree Cove => Wipple Tree Cove\n",
      "Queensbury Cove => Queensbury Cove\n",
      "Bent Cedar Cove => Bent Cedar Cove\n",
      "Pepper Rock Cove => Pepper Rock Cove\n",
      "Huntwood Cove => Huntwood Cove\n",
      "Adak Cove => Adak Cove\n",
      "Ito Cove => Ito Cove\n",
      "Tanglebriar Cove => Tanglebriar Cove\n",
      "Amasia Cove => Amasia Cove\n",
      "Brookwood Cove => Brookwood Cove\n",
      "Songbird Cove => Songbird Cove\n",
      "Petaca Cove => Petaca Cove\n",
      "Snowden Cove => Snowden Cove\n",
      "Oro Viejo Cove => Oro Viejo Cove\n",
      "Kilkee Cove => Kilkee Cove\n",
      "Chainfire Cove => Chainfire Cove\n",
      "Hanna Cove => Hanna Cove\n",
      "Dove Valley Cove => Dove Valley Cove\n",
      "Kepler Cove => Kepler Cove\n",
      "Hickorystick Cove => Hickorystick Cove\n",
      "Pintail Cove => Pintail Cove\n",
      "Coleus Cove => Coleus Cove\n",
      "Show Barn Cove => Show Barn Cove\n",
      "Giacomo Cove => Giacomo Cove\n",
      "Wolf Jaw Cove => Wolf Jaw Cove\n",
      "Lady Day Cove => Lady Day Cove\n",
      "Labrador Cove => Labrador Cove\n",
      "Wistful Cove => Wistful Cove\n",
      "Gristmill Cove => Gristmill Cove\n",
      "Crystal Downs Cove => Crystal Downs Cove\n",
      "Cortaro Cove => Cortaro Cove\n",
      "Truman Cove => Truman Cove\n",
      "Pipit Cove => Pipit Cove\n",
      "Heaton Park Cove => Heaton Park Cove\n",
      "Cypress Landing Cove => Cypress Landing Cove\n",
      "Mossbrook Cove => Mossbrook Cove\n",
      "Coriander Cove => Coriander Cove\n",
      "Fallon Cove => Fallon Cove\n",
      "Owl Cove => Owl Cove\n",
      "Wind Song Cove => Wind Song Cove\n",
      "Hosta Cove => Hosta Cove\n",
      "Trails End Cove => Trails End Cove\n",
      "Cedar Crest Cove => Cedar Crest Cove\n",
      "Dodge Cattle Cove => Dodge Cattle Cove\n",
      "Boneta Cove => Boneta Cove\n",
      "Broad Leaf Cove => Broad Leaf Cove\n",
      "Eagle Rock Cove => Eagle Rock Cove\n",
      "Double Tree Cove => Double Tree Cove\n",
      "Lonesome Dove Cove => Lonesome Dove Cove\n",
      "Matchlock Cove => Matchlock Cove\n",
      "Kiawah Island Cove => Kiawah Island Cove\n",
      "Rock Springs Cove => Rock Springs Cove\n",
      "Along Creek Cove => Along Creek Cove\n",
      "Shemya Cove => Shemya Cove\n",
      "Nutwood Cove => Nutwood Cove\n",
      "Nepal Cove => Nepal Cove\n",
      "Langhoff Cove => Langhoff Cove\n",
      "Templemore Cove => Templemore Cove\n",
      "Decoy Cove => Decoy Cove\n",
      "Thundercloud Cove => Thundercloud Cove\n",
      "Buffalo Gap => Buffalo Gap\n",
      "North Highway 183 #406 => North Highway 183 #406\n",
      "North Lakeline Boulevard, Ste. 400 => North Lakeline Boulevard, Ste. 400\n",
      "Tortosa Path => Tortosa Path\n",
      "Primwood Path => Primwood Path\n",
      "Grey Fawn Path => Grey Fawn Path\n",
      "Canyon View => Canyon View\n",
      "Woodall Dr => Woodall Drive\n",
      "Rain Song Dr => Rain Song Drive\n",
      "Winged Elm Dr => Winged Elm Drive\n",
      "Yaupon Range Dr => Yaupon Range Drive\n",
      "Canyon Springs Dr => Canyon Springs Drive\n",
      "Izoro Bend => Izoro Bend\n",
      "New Boston Bend => New Boston Bend\n",
      "Mancuso Bend => Mancuso Bend\n",
      "Melekhin Bend => Melekhin Bend\n",
      "Dartford Bend => Dartford Bend\n",
      "Brubeck Bend => Brubeck Bend\n",
      "Misty Bend => Misty Bend\n",
      "Canola Bend => Canola Bend\n",
      "Hondo Bend => Hondo Bend\n",
      "Basie Bend => Basie Bend\n",
      "Kerrville Folkway => Kerrville Folkway\n",
      "La Costa => La Costa\n",
      "Farm-to-Market Road 2769 => Farm-to-Market Road 2769\n",
      "S Bell Blvd., Suite 301 => S Bell Blvd., Suite 301\n",
      "Rancho Mirage => Rancho Mirage\n",
      "Royal Dublin => Royal Dublin\n",
      "Meadow Ford => Meadow Ford\n",
      "E. Whitestone Blvd #G-145 => E. Whitestone Blvd #G-145\n",
      "La Cantera => La Cantera\n",
      "Speaking Rock => Speaking Rock\n",
      "High Lonesome => High Lonesome\n",
      "Rhondstat Run => Rhondstat Run\n",
      "Ripperton Run => Ripperton Run\n",
      "Buck Run => Buck Run\n",
      "Avery Ranch Blvd Building A #100 => Avery Ranch Blvd Building A #100\n",
      "Outlook Ridge Loop => Outlook Ridge Loop\n",
      "Springs Head Loop => Springs Head Loop\n",
      "Grand Oaks Loop => Grand Oaks Loop\n",
      "Staked Plains Loop => Staked Plains Loop\n",
      "Dalmahoy => Dalmahoy\n",
      "Mirador => Mirador\n",
      "Farm-to-Market Road 1431 => Farm-to-Market Road 1431\n",
      "Harvest Dance => Harvest Dance\n",
      "Rutledge Spur => Rutledge Spur\n",
      "Pawnee => Pawnee\n",
      "Windy Terrace => Windy Terrace\n",
      "Shady Oak Terrace => Shady Oak Terrace\n",
      "Big Horn => Big Horn\n",
      "Barrhead => Barrhead\n",
      "Ventana Canyon => Ventana Canyon\n",
      "Ambush Canyon => Ambush Canyon\n",
      "Shadow Canyon => Shadow Canyon\n",
      "Wolf Dancer => Wolf Dancer\n",
      "Bold Sundown => Bold Sundown\n",
      "Continental Pass => Continental Pass\n",
      "Quadros Pass => Quadros Pass\n",
      "Overton Pass => Overton Pass\n",
      "Red Deer Pass => Red Deer Pass\n",
      "Gift Horse Pass => Gift Horse Pass\n",
      "Petrove Pass => Petrove Pass\n",
      "Whitetail Pass => Whitetail Pass\n",
      "Double Eagle Pass => Double Eagle Pass\n",
      "Long Lasso Pass => Long Lasso Pass\n",
      "Arrowhead Pass => Arrowhead Pass\n",
      "Irby Pass => Irby Pass\n",
      "Melba Pass => Melba Pass\n",
      "Passionflower Pass => Passionflower Pass\n",
      "N Bell Blvd => N Bell Boulevard\n",
      "South Bell Blvd => South Bell Boulevard\n",
      "Research Blvd => Research Boulevard\n",
      "Quick Fort => Quick Fort\n",
      "Ely Ct => Ely Court\n",
      "Krupa Ct => Krupa Court\n",
      "Sterling Heights Ct => Sterling Heights Court\n",
      "Costello Ct => Costello Court\n"
     ]
    }
   ],
   "source": [
    "for st_type, ways in st_types.iteritems():\n",
    "    for name in ways:\n",
    "        better_name = update_name(name, mapping)\n",
    "        print name, \"=>\", better_name"
   ]
  },
  {
   "cell_type": "markdown",
   "metadata": {},
   "source": [
    "### Preparing the Database - SQL"
   ]
  },
  {
   "cell_type": "code",
   "execution_count": null,
   "metadata": {
    "collapsed": true
   },
   "outputs": [],
   "source": []
  }
 ],
 "metadata": {
  "kernelspec": {
   "display_name": "Python 2",
   "language": "python",
   "name": "python2"
  },
  "language_info": {
   "codemirror_mode": {
    "name": "ipython",
    "version": 2
   },
   "file_extension": ".py",
   "mimetype": "text/x-python",
   "name": "python",
   "nbconvert_exporter": "python",
   "pygments_lexer": "ipython2",
   "version": "2.7.11"
  }
 },
 "nbformat": 4,
 "nbformat_minor": 0
}
