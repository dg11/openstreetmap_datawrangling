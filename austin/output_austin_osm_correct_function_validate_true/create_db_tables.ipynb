{
 "cells": [
  {
   "cell_type": "markdown",
   "metadata": {},
   "source": [
    "# Creating SQLite database from csv files\n",
    "\n",
    "Reference:\n",
    "\n",
    "https://discussions.udacity.com/t/creating-db-file-from-csv-files-with-non-ascii-unicode-characters/174958/7\n",
    "\n",
    "Import modules needed:"
   ]
  },
  {
   "cell_type": "code",
   "execution_count": 1,
   "metadata": {
    "collapsed": true
   },
   "outputs": [],
   "source": [
    "import sqlite3\n",
    "import csv\n",
    "from pprint import pprint"
   ]
  },
  {
   "cell_type": "markdown",
   "metadata": {},
   "source": [
    "Connect to the database (if it doesn't exist, it will be created in the folder that your notebook is in):"
   ]
  },
  {
   "cell_type": "code",
   "execution_count": 2,
   "metadata": {
    "collapsed": true
   },
   "outputs": [],
   "source": [
    "sqlite_file = \"osm_atx.db\""
   ]
  },
  {
   "cell_type": "code",
   "execution_count": 3,
   "metadata": {
    "collapsed": true
   },
   "outputs": [],
   "source": [
    "conn = sqlite3.connect(sqlite_file)"
   ]
  },
  {
   "cell_type": "markdown",
   "metadata": {},
   "source": [
    "Create the cursor object"
   ]
  },
  {
   "cell_type": "code",
   "execution_count": 4,
   "metadata": {
    "collapsed": true
   },
   "outputs": [],
   "source": [
    "cur = conn.cursor()"
   ]
  },
  {
   "cell_type": "markdown",
   "metadata": {},
   "source": [
    "Create the table from nodes.csv:"
   ]
  },
  {
   "cell_type": "code",
   "execution_count": 5,
   "metadata": {
    "collapsed": false
   },
   "outputs": [
    {
     "data": {
      "text/plain": [
       "<sqlite3.Cursor at 0x104194500>"
      ]
     },
     "execution_count": 5,
     "metadata": {},
     "output_type": "execute_result"
    }
   ],
   "source": [
    "cur.execute('''CREATE TABLE nodes(id INTEGER PRIMARY KEY, lat REAL, lon REAL, user TEXT, uid INTEGER, version TEXT, \n",
    "                changeset INTEGER, timestamp TEXT)''')"
   ]
  },
  {
   "cell_type": "markdown",
   "metadata": {},
   "source": [
    "Commit the changes"
   ]
  },
  {
   "cell_type": "code",
   "execution_count": 6,
   "metadata": {
    "collapsed": true
   },
   "outputs": [],
   "source": [
    "conn.commit()"
   ]
  },
  {
   "cell_type": "markdown",
   "metadata": {},
   "source": [
    "REad in csv file as a dictionary, format the data as a list of tuples:"
   ]
  },
  {
   "cell_type": "code",
   "execution_count": 7,
   "metadata": {
    "collapsed": true
   },
   "outputs": [],
   "source": [
    "with open('nodes.csv', 'rb') as fin:\n",
    "    dr = csv.DictReader(fin) # comma is default delimiter\n",
    "    to_db = [(i['id'], i['lat'], i['lon'], i['user'].decode('utf-8'), i['uid'], i['version'].decode('utf-8'),\n",
    "              i['changeset'], i['timestamp'].decode('utf-8')) for i in dr]\n",
    "    # \".decode('utf-8')\" is used mostly for text datatype otherwise, a ProgrammingError will \n",
    "    # sometimes occur during insertion of data\n",
    "    # https://discussions.udacity.com/t/case-study-quiz-preparing-for-database-help/169697/19"
   ]
  },
  {
   "cell_type": "markdown",
   "metadata": {},
   "source": [
    "Insert data"
   ]
  },
  {
   "cell_type": "code",
   "execution_count": 8,
   "metadata": {
    "collapsed": false
   },
   "outputs": [
    {
     "data": {
      "text/plain": [
       "<sqlite3.Cursor at 0x104194500>"
      ]
     },
     "execution_count": 8,
     "metadata": {},
     "output_type": "execute_result"
    }
   ],
   "source": [
    "cur.executemany(\"INSERT INTO nodes(id, lat, lon, user, uid, version, changeset, timestamp) VALUES (?, ?, ?, ?, ?, ?, ?, ?);\", to_db)"
   ]
  },
  {
   "cell_type": "markdown",
   "metadata": {},
   "source": [
    "Commit the changes"
   ]
  },
  {
   "cell_type": "code",
   "execution_count": 9,
   "metadata": {
    "collapsed": true
   },
   "outputs": [],
   "source": [
    "conn.commit()"
   ]
  },
  {
   "cell_type": "markdown",
   "metadata": {},
   "source": [
    "Checking that the data imported correctly. (Since I don't want to make my notebook too large, I will just check this in sqlite, in the command line.)"
   ]
  },
  {
   "cell_type": "code",
   "execution_count": 10,
   "metadata": {
    "collapsed": false
   },
   "outputs": [
    {
     "data": {
      "text/plain": [
       "<sqlite3.Cursor at 0x104194500>"
      ]
     },
     "execution_count": 10,
     "metadata": {},
     "output_type": "execute_result"
    }
   ],
   "source": [
    "cur.execute('SELECT * FROM nodes limit 20')"
   ]
  },
  {
   "cell_type": "code",
   "execution_count": 11,
   "metadata": {
    "collapsed": true
   },
   "outputs": [],
   "source": [
    "first20 = cur.fetchall()"
   ]
  },
  {
   "cell_type": "code",
   "execution_count": 14,
   "metadata": {
    "collapsed": false
   },
   "outputs": [
    {
     "name": "stdout",
     "output_type": "stream",
     "text": [
      "first 20:\n",
      "[(26546004,\n",
      "  30.4695355,\n",
      "  -97.7972587,\n",
      "  u'Tylan',\n",
      "  388279,\n",
      "  u'15',\n",
      "  8497118,\n",
      "  u'2011-06-20T18:36:15Z'),\n",
      " (26546005,\n",
      "  30.4713386,\n",
      "  -97.7975919,\n",
      "  u'APD',\n",
      "  105002,\n",
      "  u'19',\n",
      "  767484,\n",
      "  u'2009-03-09T09:03:33Z'),\n",
      " (26546006,\n",
      "  30.4711721,\n",
      "  -97.798579,\n",
      "  u'HJD',\n",
      "  75480,\n",
      "  u'24',\n",
      "  533807,\n",
      "  u'2009-02-18T16:44:40Z'),\n",
      " (26546008,\n",
      "  30.469115,\n",
      "  -97.7966751,\n",
      "  u'claysmalley',\n",
      "  119881,\n",
      "  u'28',\n",
      "  13420621,\n",
      "  u'2012-10-09T01:08:42Z'),\n",
      " (26546009,\n",
      "  30.4688175,\n",
      "  -97.7976688,\n",
      "  u'Tylan',\n",
      "  388279,\n",
      "  u'38',\n",
      "  8497118,\n",
      "  u'2011-06-20T18:22:32Z'),\n",
      " (26546010,\n",
      "  30.469413,\n",
      "  -97.797558,\n",
      "  u'Tylan',\n",
      "  388279,\n",
      "  u'17',\n",
      "  8497118,\n",
      "  u'2011-06-20T18:36:15Z'),\n",
      " (26546011,\n",
      "  30.4714758,\n",
      "  -97.7980443,\n",
      "  u'Tylan',\n",
      "  388279,\n",
      "  u'4',\n",
      "  8497118,\n",
      "  u'2011-06-20T18:36:15Z'),\n",
      " (26546012,\n",
      "  30.4714208,\n",
      "  -97.798367,\n",
      "  u'Tylan',\n",
      "  388279,\n",
      "  u'14',\n",
      "  8497118,\n",
      "  u'2011-06-20T18:36:15Z'),\n",
      " (26546025,\n",
      "  30.4751578,\n",
      "  -97.799145,\n",
      "  u'richlv',\n",
      "  47892,\n",
      "  u'24',\n",
      "  18948024,\n",
      "  u'2013-11-17T08:34:54Z'),\n",
      " (26546026,\n",
      "  30.4727626,\n",
      "  -97.799255,\n",
      "  u'claysmalley',\n",
      "  119881,\n",
      "  u'16',\n",
      "  13420621,\n",
      "  u'2012-10-09T01:13:38Z'),\n",
      " (26546028,\n",
      "  30.4773514,\n",
      "  -97.800246,\n",
      "  u'OneLeggedOne',\n",
      "  2936384,\n",
      "  u'26',\n",
      "  32376887,\n",
      "  u'2015-07-02T23:17:00Z'),\n",
      " (26546029,\n",
      "  30.4757513,\n",
      "  -97.8006601,\n",
      "  u'NE2',\n",
      "  207745,\n",
      "  u'12',\n",
      "  8837814,\n",
      "  u'2011-07-26T17:24:44Z'),\n",
      " (26546030,\n",
      "  30.4752677,\n",
      "  -97.8003939,\n",
      "  u'claysmalley',\n",
      "  119881,\n",
      "  u'6',\n",
      "  13420621,\n",
      "  u'2012-10-09T01:13:38Z'),\n",
      " (26546035,\n",
      "  30.4736773,\n",
      "  -97.7989442,\n",
      "  u'APD',\n",
      "  105002,\n",
      "  u'5',\n",
      "  767484,\n",
      "  u'2009-03-09T08:46:52Z'),\n",
      " (26546038,\n",
      "  30.4752704,\n",
      "  -97.7996651,\n",
      "  u'claysmalley',\n",
      "  119881,\n",
      "  u'10',\n",
      "  10974544,\n",
      "  u'2012-03-14T05:28:59Z'),\n",
      " (26546039,\n",
      "  30.472807,\n",
      "  -97.7989177,\n",
      "  u'NE2',\n",
      "  207745,\n",
      "  u'26',\n",
      "  8837814,\n",
      "  u'2011-07-26T17:24:44Z'),\n",
      " (26546041,\n",
      "  30.4794276,\n",
      "  -97.8033397,\n",
      "  u'claysmalley',\n",
      "  119881,\n",
      "  u'25',\n",
      "  13420621,\n",
      "  u'2012-10-09T01:16:50Z'),\n",
      " (26546043,\n",
      "  30.4800381,\n",
      "  -97.8018903,\n",
      "  u'claysmalley',\n",
      "  119881,\n",
      "  u'26',\n",
      "  13420621,\n",
      "  u'2012-10-09T01:16:50Z'),\n",
      " (26546046,\n",
      "  30.4780252,\n",
      "  -97.8012184,\n",
      "  u'Tylan',\n",
      "  388279,\n",
      "  u'6',\n",
      "  8497118,\n",
      "  u'2011-06-20T18:36:16Z'),\n",
      " (26546048,\n",
      "  30.4795273,\n",
      "  -97.8020934,\n",
      "  u'claysmalley',\n",
      "  119881,\n",
      "  u'9',\n",
      "  13420621,\n",
      "  u'2012-10-09T01:13:38Z')]\n"
     ]
    }
   ],
   "source": [
    "print 'first 20:'\n",
    "pprint(first20)"
   ]
  },
  {
   "cell_type": "code",
   "execution_count": null,
   "metadata": {
    "collapsed": true
   },
   "outputs": [],
   "source": []
  }
 ],
 "metadata": {
  "kernelspec": {
   "display_name": "Python 2",
   "language": "python",
   "name": "python2"
  },
  "language_info": {
   "codemirror_mode": {
    "name": "ipython",
    "version": 2
   },
   "file_extension": ".py",
   "mimetype": "text/x-python",
   "name": "python",
   "nbconvert_exporter": "python",
   "pygments_lexer": "ipython2",
   "version": "2.7.11"
  }
 },
 "nbformat": 4,
 "nbformat_minor": 0
}
