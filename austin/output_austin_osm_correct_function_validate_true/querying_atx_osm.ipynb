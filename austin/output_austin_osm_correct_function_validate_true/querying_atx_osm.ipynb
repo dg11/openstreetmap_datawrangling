{
 "cells": [
  {
   "cell_type": "markdown",
   "metadata": {},
   "source": [
    "# Querying the atx_osm database"
   ]
  },
  {
   "cell_type": "code",
   "execution_count": 1,
   "metadata": {
    "collapsed": true
   },
   "outputs": [],
   "source": [
    "import sqlite3\n",
    "from pprint import pprint"
   ]
  },
  {
   "cell_type": "code",
   "execution_count": 2,
   "metadata": {
    "collapsed": true
   },
   "outputs": [],
   "source": [
    "sqlite_file = \"atx_osm.db\""
   ]
  },
  {
   "cell_type": "code",
   "execution_count": 3,
   "metadata": {
    "collapsed": true
   },
   "outputs": [],
   "source": [
    "conn = sqlite3.connect(sqlite_file)"
   ]
  },
  {
   "cell_type": "code",
   "execution_count": 4,
   "metadata": {
    "collapsed": true
   },
   "outputs": [],
   "source": [
    "cur = conn.cursor()"
   ]
  },
  {
   "cell_type": "markdown",
   "metadata": {},
   "source": [
    "## List of cities"
   ]
  },
  {
   "cell_type": "markdown",
   "metadata": {},
   "source": [
    "Cities from nodes_tags table"
   ]
  },
  {
   "cell_type": "code",
   "execution_count": 12,
   "metadata": {
    "collapsed": false
   },
   "outputs": [
    {
     "data": {
      "text/plain": [
       "<sqlite3.Cursor at 0x104154500>"
      ]
     },
     "execution_count": 12,
     "metadata": {},
     "output_type": "execute_result"
    }
   ],
   "source": [
    "cur.execute(\"SELECT value, count(*) as count FROM nodes_tags \\\n",
    "             WHERE key = 'city' \\\n",
    "             GROUP BY value \\\n",
    "             ORDER BY count DESC\")"
   ]
  },
  {
   "cell_type": "code",
   "execution_count": 13,
   "metadata": {
    "collapsed": false
   },
   "outputs": [
    {
     "data": {
      "text/plain": [
       "[(u'Austin', 926),\n",
       " (u'Round Rock', 31),\n",
       " (u'Kyle', 27),\n",
       " (u'Pflugerville', 19),\n",
       " (u'Cedar Park', 13),\n",
       " (u'Buda', 12),\n",
       " (u'Bastrop', 5),\n",
       " (u'Dripping Springs', 5),\n",
       " (u'Georgetown', 5),\n",
       " (u'Leander', 4),\n",
       " (u'West Lake Hills', 4),\n",
       " (u'Wimberley', 3),\n",
       " (u'Del Valle', 2),\n",
       " (u'Elgin', 2),\n",
       " (u'Lago Vista', 2),\n",
       " (u'Lakeway', 2),\n",
       " (u'Spicewood', 2),\n",
       " (u'Taylor', 2),\n",
       " (u'Bee Cave', 1),\n",
       " (u'Cedar Creek', 1),\n",
       " (u'Creedmoor', 1),\n",
       " (u'Hutto', 1),\n",
       " (u'Manchaca', 1),\n",
       " (u'Manor', 1),\n",
       " (u'Maxwell', 1),\n",
       " (u'Smithville', 1)]"
      ]
     },
     "execution_count": 13,
     "metadata": {},
     "output_type": "execute_result"
    }
   ],
   "source": [
    "cur.fetchall()"
   ]
  },
  {
   "cell_type": "markdown",
   "metadata": {},
   "source": [
    "Cities from ways_tags table:"
   ]
  },
  {
   "cell_type": "code",
   "execution_count": 14,
   "metadata": {
    "collapsed": false
   },
   "outputs": [
    {
     "data": {
      "text/plain": [
       "<sqlite3.Cursor at 0x104154500>"
      ]
     },
     "execution_count": 14,
     "metadata": {},
     "output_type": "execute_result"
    }
   ],
   "source": [
    "cur.execute(\"SELECT value, count(*) as count FROM ways_tags \\\n",
    "             WHERE key = 'city' \\\n",
    "             GROUP BY value \\\n",
    "             ORDER BY count DESC\")"
   ]
  },
  {
   "cell_type": "code",
   "execution_count": 15,
   "metadata": {
    "collapsed": false
   },
   "outputs": [
    {
     "data": {
      "text/plain": [
       "[(u'Austin', 2142),\n",
       " (u'Round Rock', 82),\n",
       " (u'Kyle', 37),\n",
       " (u'Cedar Park', 30),\n",
       " (u'Leander', 29),\n",
       " (u'Pflugerville', 18),\n",
       " (u'Buda', 14),\n",
       " (u'Georgetown', 12),\n",
       " (u'Dripping Springs', 8),\n",
       " (u'West Lake Hills', 8),\n",
       " (u'Elgin', 7),\n",
       " (u'Lakeway', 7),\n",
       " (u'Bee Cave', 5),\n",
       " (u'Taylor', 5),\n",
       " (u'Wimberley', 5),\n",
       " (u'Bastrop', 4),\n",
       " (u'Manor', 4),\n",
       " (u'Del Valle', 3),\n",
       " (u'Manchaca', 3),\n",
       " (u'Cedar Creek', 2),\n",
       " (u'Hutto', 2),\n",
       " (u'San Marcos', 2),\n",
       " (u'Sunset Valley', 2),\n",
       " (u'Webberville', 2),\n",
       " (u'Creedmoor', 1),\n",
       " (u'Driftwood', 1),\n",
       " (u'Jonestown', 1),\n",
       " (u'Lost Pines', 1),\n",
       " (u'Manchacha', 1),\n",
       " (u'Spicewood', 1)]"
      ]
     },
     "execution_count": 15,
     "metadata": {},
     "output_type": "execute_result"
    }
   ],
   "source": [
    "cur.fetchall()"
   ]
  },
  {
   "cell_type": "markdown",
   "metadata": {},
   "source": [
    "Union of nodes and ways tags:"
   ]
  },
  {
   "cell_type": "code",
   "execution_count": 19,
   "metadata": {
    "collapsed": false
   },
   "outputs": [
    {
     "data": {
      "text/plain": [
       "<sqlite3.Cursor at 0x104154500>"
      ]
     },
     "execution_count": 19,
     "metadata": {},
     "output_type": "execute_result"
    }
   ],
   "source": [
    "cur.execute(\"SELECT tags.value, COUNT(*) as count\\\n",
    "             FROM (SELECT * FROM nodes_tags\\\n",
    "             UNION ALL \\\n",
    "             SELECT * FROM ways_tags) tags \\\n",
    "             WHERE tags.key = 'city' \\\n",
    "             GROUP BY tags.value \\\n",
    "             ORDER By count DESC\")"
   ]
  },
  {
   "cell_type": "code",
   "execution_count": 20,
   "metadata": {
    "collapsed": false
   },
   "outputs": [
    {
     "data": {
      "text/plain": [
       "[(u'Austin', 3068),\n",
       " (u'Round Rock', 113),\n",
       " (u'Kyle', 64),\n",
       " (u'Cedar Park', 43),\n",
       " (u'Pflugerville', 37),\n",
       " (u'Leander', 33),\n",
       " (u'Buda', 26),\n",
       " (u'Georgetown', 17),\n",
       " (u'Dripping Springs', 13),\n",
       " (u'West Lake Hills', 12),\n",
       " (u'Bastrop', 9),\n",
       " (u'Elgin', 9),\n",
       " (u'Lakeway', 9),\n",
       " (u'Wimberley', 8),\n",
       " (u'Taylor', 7),\n",
       " (u'Bee Cave', 6),\n",
       " (u'Del Valle', 5),\n",
       " (u'Manor', 5),\n",
       " (u'Manchaca', 4),\n",
       " (u'Cedar Creek', 3),\n",
       " (u'Hutto', 3),\n",
       " (u'Spicewood', 3),\n",
       " (u'Creedmoor', 2),\n",
       " (u'Lago Vista', 2),\n",
       " (u'San Marcos', 2),\n",
       " (u'Sunset Valley', 2),\n",
       " (u'Webberville', 2),\n",
       " (u'Driftwood', 1),\n",
       " (u'Jonestown', 1),\n",
       " (u'Lost Pines', 1),\n",
       " (u'Manchacha', 1),\n",
       " (u'Maxwell', 1),\n",
       " (u'Smithville', 1)]"
      ]
     },
     "execution_count": 20,
     "metadata": {},
     "output_type": "execute_result"
    }
   ],
   "source": [
    "cities = cur.fetchall()\n",
    "cities"
   ]
  },
  {
   "cell_type": "markdown",
   "metadata": {},
   "source": [
    "## Postcode"
   ]
  },
  {
   "cell_type": "code",
   "execution_count": 21,
   "metadata": {
    "collapsed": false
   },
   "outputs": [
    {
     "data": {
      "text/plain": [
       "<sqlite3.Cursor at 0x104154500>"
      ]
     },
     "execution_count": 21,
     "metadata": {},
     "output_type": "execute_result"
    }
   ],
   "source": [
    "cur.execute(\"SELECT tags.value, COUNT(*) as count\\\n",
    "             FROM (SELECT * FROM nodes_tags\\\n",
    "             UNION ALL \\\n",
    "             SELECT * FROM ways_tags) tags \\\n",
    "             WHERE tags.key = 'postcode' \\\n",
    "             GROUP BY tags.value \\\n",
    "             ORDER By count DESC\")"
   ]
  },
  {
   "cell_type": "code",
   "execution_count": 22,
   "metadata": {
    "collapsed": false
   },
   "outputs": [
    {
     "data": {
      "text/plain": [
       "[(u'78645', 10882),\n",
       " (u'78734', 5606),\n",
       " (u'78653', 3543),\n",
       " (u'78660', 3516),\n",
       " (u'78669', 3189),\n",
       " (u'78641', 2863),\n",
       " (u'78704', 2488),\n",
       " (u'78746', 2446),\n",
       " (u'78759', 2092),\n",
       " (u'78738', 1939),\n",
       " (u'78748', 1915),\n",
       " (u'78723', 1896),\n",
       " (u'78703', 1845),\n",
       " (u'78617', 1829),\n",
       " (u'78701', 1726),\n",
       " (u'78724', 1680),\n",
       " (u'78731', 1680),\n",
       " (u'78745', 1592),\n",
       " (u'78744', 1525),\n",
       " (u'78758', 1419),\n",
       " (u'78620', 1323),\n",
       " (u'78732', 1307),\n",
       " (u'78754', 1289),\n",
       " (u'78741', 1286),\n",
       " (u'78747', 1277),\n",
       " (u'78705', 1237),\n",
       " (u'78750', 1212),\n",
       " (u'78733', 1199),\n",
       " (u'78757', 1160),\n",
       " (u'78735', 1067),\n",
       " (u'78737', 1053),\n",
       " (u'78753', 1040),\n",
       " (u'78702', 1027),\n",
       " (u'78725', 1027),\n",
       " (u'78736', 1009),\n",
       " (u'78730', 938),\n",
       " (u'78749', 833),\n",
       " (u'78751', 813),\n",
       " (u'78728', 787),\n",
       " (u'78739', 786),\n",
       " (u'78721', 756),\n",
       " (u'78717', 716),\n",
       " (u'78652', 712),\n",
       " (u'78610', 685),\n",
       " (u'78621', 645),\n",
       " (u'78752', 610),\n",
       " (u'78729', 599),\n",
       " (u'78727', 560),\n",
       " (u'78756', 534),\n",
       " (u'78719', 475),\n",
       " (u'78613', 431),\n",
       " (u'78654', 412),\n",
       " (u'78726', 392),\n",
       " (u'78664', 371),\n",
       " (u'78722', 364),\n",
       " (u'78681', 317),\n",
       " (u'78742', 156),\n",
       " (u'78615', 122),\n",
       " (u'78712', 89),\n",
       " (u'78612', 77),\n",
       " (u'78640', 65),\n",
       " (u'78663', 44),\n",
       " (u'76574', 14),\n",
       " (u'78602', 11),\n",
       " (u'78665', 11),\n",
       " (u'78626', 10),\n",
       " (u'78676', 8),\n",
       " (u'78628', 7),\n",
       " (u'78634', 4),\n",
       " (u'None', 3),\n",
       " (u'78616', 2),\n",
       " (u'78644', 2),\n",
       " (u'78666', 2),\n",
       " (u'78619', 1),\n",
       " (u'78646', 1),\n",
       " (u'78656', 1),\n",
       " (u'78680', 1),\n",
       " (u'78682', 1),\n",
       " (u'78691', 1),\n",
       " (u'78957', 1)]"
      ]
     },
     "execution_count": 22,
     "metadata": {},
     "output_type": "execute_result"
    }
   ],
   "source": [
    "postcode = cur.fetchall()\n",
    "postcode"
   ]
  },
  {
   "cell_type": "markdown",
   "metadata": {},
   "source": [
    "We can see that there are three \"None\" values. Determination of the missing postcodes:"
   ]
  },
  {
   "cell_type": "code",
   "execution_count": 24,
   "metadata": {
    "collapsed": false
   },
   "outputs": [
    {
     "data": {
      "text/plain": [
       "<sqlite3.Cursor at 0x104154500>"
      ]
     },
     "execution_count": 24,
     "metadata": {},
     "output_type": "execute_result"
    }
   ],
   "source": [
    "cur.execute(\"SELECT * \\\n",
    "             FROM (SELECT * FROM nodes_tags\\\n",
    "             UNION ALL \\\n",
    "             SELECT * FROM ways_tags) tags \\\n",
    "             WHERE tags.key = 'postcode' \\\n",
    "             AND tags.value = 'None'\")"
   ]
  },
  {
   "cell_type": "code",
   "execution_count": 25,
   "metadata": {
    "collapsed": true
   },
   "outputs": [],
   "source": [
    "missing_postcodes = cur.fetchall()"
   ]
  },
  {
   "cell_type": "code",
   "execution_count": 26,
   "metadata": {
    "collapsed": false
   },
   "outputs": [
    {
     "data": {
      "text/plain": [
       "[(2152207067, u'postcode', u'None', u'addr'),\n",
       " (247506590, u'postcode', u'None', u'addr'),\n",
       " (383791236, u'postcode', u'None', u'addr')]"
      ]
     },
     "execution_count": 26,
     "metadata": {},
     "output_type": "execute_result"
    }
   ],
   "source": [
    "missing_postcodes"
   ]
  },
  {
   "cell_type": "markdown",
   "metadata": {},
   "source": [
    "##### Looking for info on id 2152207067:"
   ]
  },
  {
   "cell_type": "code",
   "execution_count": 44,
   "metadata": {
    "collapsed": false
   },
   "outputs": [
    {
     "data": {
      "text/plain": [
       "<sqlite3.Cursor at 0x104154500>"
      ]
     },
     "execution_count": 44,
     "metadata": {},
     "output_type": "execute_result"
    }
   ],
   "source": [
    "cur.execute(\"SELECT tags.value \\\n",
    "             FROM (SELECT * FROM nodes_tags\\\n",
    "             UNION ALL \\\n",
    "             SELECT * FROM ways_tags) tags \\\n",
    "             WHERE tags.key = 'city'\\\n",
    "             AND tags.id = 2152207067;\")"
   ]
  },
  {
   "cell_type": "code",
   "execution_count": 45,
   "metadata": {
    "collapsed": false
   },
   "outputs": [
    {
     "data": {
      "text/plain": [
       "[]"
      ]
     },
     "execution_count": 45,
     "metadata": {},
     "output_type": "execute_result"
    }
   ],
   "source": [
    "missing_postcode1 = cur.fetchall()\n",
    "missing_postcode1"
   ]
  },
  {
   "cell_type": "code",
   "execution_count": 47,
   "metadata": {
    "collapsed": false
   },
   "outputs": [
    {
     "data": {
      "text/plain": [
       "[(2152207067, u'name', u'Nyle Maxwell - Taylor', u'regular'),\n",
       " (2152207067, u'shop', u'car', u'regular'),\n",
       " (2152207067, u'website', u'www.nylemaxwellcjd.com', u'regular'),\n",
       " (2152207067, u'street', u'United States Highway 79', u'addr'),\n",
       " (2152207067, u'postcode', u'None', u'addr')]"
      ]
     },
     "execution_count": 47,
     "metadata": {},
     "output_type": "execute_result"
    }
   ],
   "source": [
    "cur.execute(\"SELECT * \\\n",
    "             FROM (SELECT * FROM nodes_tags\\\n",
    "             UNION ALL \\\n",
    "             SELECT * FROM ways_tags) tags\\\n",
    "             WHERE tags.id = 2152207067\")\n",
    "missing_postcode1_info = cur.fetchall()\n",
    "missing_postcode1_info"
   ]
  },
  {
   "cell_type": "markdown",
   "metadata": {},
   "source": [
    "The missing info for id 2152207067 is then a car dealership address. Searching on the internet for www.nylemaxwellcjd.com, we find that the address is:\n",
    "\n",
    "14150 UNITED STATES HIGHWAY 79 TAYLOR,\tTX\t76574"
   ]
  },
  {
   "cell_type": "markdown",
   "metadata": {},
   "source": [
    "##### Determining the postcode for id 247506590:"
   ]
  },
  {
   "cell_type": "code",
   "execution_count": 48,
   "metadata": {
    "collapsed": false
   },
   "outputs": [
    {
     "data": {
      "text/plain": [
       "[(247506590, u'name', u'Concordia University Texas', u'regular'),\n",
       " (247506590, u'phone', u'512-313-3000', u'regular'),\n",
       " (247506590, u'amenity', u'university', u'regular'),\n",
       " (247506590, u'website', u'http://www.concordia.edu', u'regular'),\n",
       " (247506590, u'operator', u'Concordia University System', u'regular'),\n",
       " (247506590, u'city', u'Austin', u'addr'),\n",
       " (247506590, u'wikipedia', u'en:Concordia University Texas', u'regular'),\n",
       " (247506590, u'street', u'Concordia University Drive', u'addr'),\n",
       " (247506590, u'postcode', u'None', u'addr'),\n",
       " (247506590, u'housenumber', u'11400', u'addr')]"
      ]
     },
     "execution_count": 48,
     "metadata": {},
     "output_type": "execute_result"
    }
   ],
   "source": [
    "cur.execute(\"SELECT * \\\n",
    "             FROM (SELECT * FROM nodes_tags\\\n",
    "             UNION ALL \\\n",
    "             SELECT * FROM ways_tags) tags\\\n",
    "             WHERE tags.id = 247506590\")\n",
    "missing_postcode2_info = cur.fetchall()\n",
    "missing_postcode2_info"
   ]
  },
  {
   "cell_type": "markdown",
   "metadata": {},
   "source": [
    "Searching for the address shown in the info above using Google Maps, we now know that the postcode is 78726.\n",
    "\n",
    "https://goo.gl/maps/Bmh7gNoRLGu"
   ]
  },
  {
   "cell_type": "markdown",
   "metadata": {},
   "source": [
    "##### Determination of postcode for id 383791236:"
   ]
  },
  {
   "cell_type": "code",
   "execution_count": 49,
   "metadata": {
    "collapsed": false
   },
   "outputs": [
    {
     "data": {
      "text/plain": [
       "[(383791236, u'building', u'house', u'regular'),\n",
       " (383791236, u'city', u'Austin', u'addr'),\n",
       " (383791236, u'street', u'Elderberry Road', u'addr'),\n",
       " (383791236, u'postcode', u'None', u'addr'),\n",
       " (383791236, u'housenumber', u'282', u'addr')]"
      ]
     },
     "execution_count": 49,
     "metadata": {},
     "output_type": "execute_result"
    }
   ],
   "source": [
    "cur.execute(\"SELECT * \\\n",
    "             FROM (SELECT * FROM nodes_tags\\\n",
    "             UNION ALL \\\n",
    "             SELECT * FROM ways_tags) tags\\\n",
    "             WHERE tags.id = 383791236\")\n",
    "missing_postcode3_info = cur.fetchall()\n",
    "missing_postcode3_info"
   ]
  },
  {
   "cell_type": "markdown",
   "metadata": {},
   "source": [
    "Searching for the address above on Google maps yield a postcode of 78745."
   ]
  },
  {
   "cell_type": "markdown",
   "metadata": {},
   "source": [
    "## Number of nodes:"
   ]
  },
  {
   "cell_type": "code",
   "execution_count": 50,
   "metadata": {
    "collapsed": false
   },
   "outputs": [
    {
     "data": {
      "text/plain": [
       "[(6356394,)]"
      ]
     },
     "execution_count": 50,
     "metadata": {},
     "output_type": "execute_result"
    }
   ],
   "source": [
    "cur.execute(\"SELECT COUNT(*) FROM nodes\")\n",
    "nodes = cur.fetchall()\n",
    "nodes"
   ]
  },
  {
   "cell_type": "markdown",
   "metadata": {},
   "source": [
    "This value is the same as the one obtained from the exploration of dataset using xml.etree.cElementTree module of Python (see p3_wrangle_openstreetmap_1.ipynb, High Level Tags)"
   ]
  },
  {
   "cell_type": "markdown",
   "metadata": {},
   "source": [
    "## Number of ways:"
   ]
  },
  {
   "cell_type": "code",
   "execution_count": 52,
   "metadata": {
    "collapsed": false
   },
   "outputs": [
    {
     "data": {
      "text/plain": [
       "[(666390,)]"
      ]
     },
     "execution_count": 52,
     "metadata": {},
     "output_type": "execute_result"
    }
   ],
   "source": [
    "cur.execute(\"SELECT COUNT(*) FROM ways\")\n",
    "ways = cur.fetchall()\n",
    "ways"
   ]
  },
  {
   "cell_type": "markdown",
   "metadata": {},
   "source": [
    "This is also the same number obtained from the the ElementTree module in Python (p3_wrangle_openstreetmap_1.ipynb, High Level Tags)."
   ]
  },
  {
   "cell_type": "markdown",
   "metadata": {},
   "source": [
    "## Number of unique users"
   ]
  },
  {
   "cell_type": "code",
   "execution_count": 53,
   "metadata": {
    "collapsed": false
   },
   "outputs": [
    {
     "data": {
      "text/plain": [
       "[(1146,)]"
      ]
     },
     "execution_count": 53,
     "metadata": {},
     "output_type": "execute_result"
    }
   ],
   "source": [
    "cur.execute(\"SELECT COUNT(DISTINCT(e.uid))\\\n",
    "             FROM (SELECT uid from nodes UNION ALL SELECT uid FROM ways) e\")\n",
    "users = cur.fetchall()\n",
    "users"
   ]
  },
  {
   "cell_type": "markdown",
   "metadata": {},
   "source": [
    "This number is lower than the one obtained using the ElementTree module in the exploration of the xml osm (1155 users, p3_wrangle_openstreetmap_1.ipynb, Exploring Users). This might be because when the csv files were created, the key values with problematic characters were removed, along with the rest of the record containing that value."
   ]
  },
  {
   "cell_type": "markdown",
   "metadata": {},
   "source": [
    "## Top 10 contributing users"
   ]
  },
  {
   "cell_type": "code",
   "execution_count": 54,
   "metadata": {
    "collapsed": false
   },
   "outputs": [
    {
     "data": {
      "text/plain": [
       "<sqlite3.Cursor at 0x104154500>"
      ]
     },
     "execution_count": 54,
     "metadata": {},
     "output_type": "execute_result"
    }
   ],
   "source": [
    "cur.execute(\"SELECT e.user, COUNT(*) as num \\\n",
    "             FROM (SELECT user FROM nodes UNION ALL SELECT user FROM ways) e \\\n",
    "             GROUP BY e.user \\\n",
    "             ORDER BY num DESC \\\n",
    "             LIMIT 10\")"
   ]
  },
  {
   "cell_type": "code",
   "execution_count": 55,
   "metadata": {
    "collapsed": false
   },
   "outputs": [
    {
     "data": {
      "text/plain": [
       "[(u'patisilva_atxbuildings', 2743705),\n",
       " (u'ccjjmartin_atxbuildings', 1300514),\n",
       " (u'ccjjmartin__atxbuildings', 940070),\n",
       " (u'wilsaj_atxbuildings', 359124),\n",
       " (u'jseppi_atxbuildings', 300983),\n",
       " (u'woodpeck_fixbot', 223425),\n",
       " (u'kkt_atxbuildings', 157847),\n",
       " (u'lyzidiamond_atxbuildings', 156383),\n",
       " (u'richlv', 50212),\n",
       " (u'johnclary_axtbuildings', 48232)]"
      ]
     },
     "execution_count": 55,
     "metadata": {},
     "output_type": "execute_result"
    }
   ],
   "source": [
    "top10contributors = cur.fetchall()\n",
    "top10contributors"
   ]
  },
  {
   "cell_type": "markdown",
   "metadata": {},
   "source": [
    "Contributions of users:"
   ]
  },
  {
   "cell_type": "code",
   "execution_count": 56,
   "metadata": {
    "collapsed": true
   },
   "outputs": [],
   "source": [
    "contributions = cur.execute(\"SELECT e.user, COUNT(*) as num \\\n",
    "                             FROM (SELECT user FROM nodes UNION ALL SELECT user FROM ways) e \\\n",
    "                             GROUP BY e.user \\\n",
    "                             ORDER BY num DESC\").fetchall()"
   ]
  },
  {
   "cell_type": "markdown",
   "metadata": {},
   "source": [
    "### Using pandas:"
   ]
  },
  {
   "cell_type": "code",
   "execution_count": 57,
   "metadata": {
    "collapsed": true
   },
   "outputs": [],
   "source": [
    "import pandas as pd"
   ]
  },
  {
   "cell_type": "code",
   "execution_count": 59,
   "metadata": {
    "collapsed": false
   },
   "outputs": [
    {
     "data": {
      "text/html": [
       "<div>\n",
       "<table border=\"1\" class=\"dataframe\">\n",
       "  <thead>\n",
       "    <tr style=\"text-align: right;\">\n",
       "      <th></th>\n",
       "      <th>0</th>\n",
       "      <th>1</th>\n",
       "    </tr>\n",
       "  </thead>\n",
       "  <tbody>\n",
       "    <tr>\n",
       "      <th>0</th>\n",
       "      <td>patisilva_atxbuildings</td>\n",
       "      <td>2743705</td>\n",
       "    </tr>\n",
       "    <tr>\n",
       "      <th>1</th>\n",
       "      <td>ccjjmartin_atxbuildings</td>\n",
       "      <td>1300514</td>\n",
       "    </tr>\n",
       "    <tr>\n",
       "      <th>2</th>\n",
       "      <td>ccjjmartin__atxbuildings</td>\n",
       "      <td>940070</td>\n",
       "    </tr>\n",
       "    <tr>\n",
       "      <th>3</th>\n",
       "      <td>wilsaj_atxbuildings</td>\n",
       "      <td>359124</td>\n",
       "    </tr>\n",
       "    <tr>\n",
       "      <th>4</th>\n",
       "      <td>jseppi_atxbuildings</td>\n",
       "      <td>300983</td>\n",
       "    </tr>\n",
       "    <tr>\n",
       "      <th>5</th>\n",
       "      <td>woodpeck_fixbot</td>\n",
       "      <td>223425</td>\n",
       "    </tr>\n",
       "    <tr>\n",
       "      <th>6</th>\n",
       "      <td>kkt_atxbuildings</td>\n",
       "      <td>157847</td>\n",
       "    </tr>\n",
       "    <tr>\n",
       "      <th>7</th>\n",
       "      <td>lyzidiamond_atxbuildings</td>\n",
       "      <td>156383</td>\n",
       "    </tr>\n",
       "    <tr>\n",
       "      <th>8</th>\n",
       "      <td>richlv</td>\n",
       "      <td>50212</td>\n",
       "    </tr>\n",
       "    <tr>\n",
       "      <th>9</th>\n",
       "      <td>johnclary_axtbuildings</td>\n",
       "      <td>48232</td>\n",
       "    </tr>\n",
       "  </tbody>\n",
       "</table>\n",
       "</div>"
      ],
      "text/plain": [
       "                          0        1\n",
       "0    patisilva_atxbuildings  2743705\n",
       "1   ccjjmartin_atxbuildings  1300514\n",
       "2  ccjjmartin__atxbuildings   940070\n",
       "3       wilsaj_atxbuildings   359124\n",
       "4       jseppi_atxbuildings   300983\n",
       "5           woodpeck_fixbot   223425\n",
       "6          kkt_atxbuildings   157847\n",
       "7  lyzidiamond_atxbuildings   156383\n",
       "8                    richlv    50212\n",
       "9    johnclary_axtbuildings    48232"
      ]
     },
     "execution_count": 59,
     "metadata": {},
     "output_type": "execute_result"
    }
   ],
   "source": [
    "contributions_df = pd.DataFrame(contributions)\n",
    "contributions_df.head(10)"
   ]
  },
  {
   "cell_type": "code",
   "execution_count": 63,
   "metadata": {
    "collapsed": false
   },
   "outputs": [],
   "source": [
    "contributions_df['users'] = contributions_df[0]"
   ]
  },
  {
   "cell_type": "code",
   "execution_count": 64,
   "metadata": {
    "collapsed": true
   },
   "outputs": [],
   "source": [
    "contributions_df['count'] = contributions_df[1]"
   ]
  },
  {
   "cell_type": "code",
   "execution_count": 65,
   "metadata": {
    "collapsed": true
   },
   "outputs": [],
   "source": [
    "del contributions_df[0]"
   ]
  },
  {
   "cell_type": "code",
   "execution_count": 66,
   "metadata": {
    "collapsed": true
   },
   "outputs": [],
   "source": [
    "del contributions_df[1]"
   ]
  },
  {
   "cell_type": "code",
   "execution_count": 67,
   "metadata": {
    "collapsed": false
   },
   "outputs": [
    {
     "data": {
      "text/html": [
       "<div>\n",
       "<table border=\"1\" class=\"dataframe\">\n",
       "  <thead>\n",
       "    <tr style=\"text-align: right;\">\n",
       "      <th></th>\n",
       "      <th>users</th>\n",
       "      <th>count</th>\n",
       "    </tr>\n",
       "  </thead>\n",
       "  <tbody>\n",
       "    <tr>\n",
       "      <th>0</th>\n",
       "      <td>patisilva_atxbuildings</td>\n",
       "      <td>2743705</td>\n",
       "    </tr>\n",
       "    <tr>\n",
       "      <th>1</th>\n",
       "      <td>ccjjmartin_atxbuildings</td>\n",
       "      <td>1300514</td>\n",
       "    </tr>\n",
       "    <tr>\n",
       "      <th>2</th>\n",
       "      <td>ccjjmartin__atxbuildings</td>\n",
       "      <td>940070</td>\n",
       "    </tr>\n",
       "    <tr>\n",
       "      <th>3</th>\n",
       "      <td>wilsaj_atxbuildings</td>\n",
       "      <td>359124</td>\n",
       "    </tr>\n",
       "    <tr>\n",
       "      <th>4</th>\n",
       "      <td>jseppi_atxbuildings</td>\n",
       "      <td>300983</td>\n",
       "    </tr>\n",
       "    <tr>\n",
       "      <th>5</th>\n",
       "      <td>woodpeck_fixbot</td>\n",
       "      <td>223425</td>\n",
       "    </tr>\n",
       "    <tr>\n",
       "      <th>6</th>\n",
       "      <td>kkt_atxbuildings</td>\n",
       "      <td>157847</td>\n",
       "    </tr>\n",
       "    <tr>\n",
       "      <th>7</th>\n",
       "      <td>lyzidiamond_atxbuildings</td>\n",
       "      <td>156383</td>\n",
       "    </tr>\n",
       "    <tr>\n",
       "      <th>8</th>\n",
       "      <td>richlv</td>\n",
       "      <td>50212</td>\n",
       "    </tr>\n",
       "    <tr>\n",
       "      <th>9</th>\n",
       "      <td>johnclary_axtbuildings</td>\n",
       "      <td>48232</td>\n",
       "    </tr>\n",
       "  </tbody>\n",
       "</table>\n",
       "</div>"
      ],
      "text/plain": [
       "                      users    count\n",
       "0    patisilva_atxbuildings  2743705\n",
       "1   ccjjmartin_atxbuildings  1300514\n",
       "2  ccjjmartin__atxbuildings   940070\n",
       "3       wilsaj_atxbuildings   359124\n",
       "4       jseppi_atxbuildings   300983\n",
       "5           woodpeck_fixbot   223425\n",
       "6          kkt_atxbuildings   157847\n",
       "7  lyzidiamond_atxbuildings   156383\n",
       "8                    richlv    50212\n",
       "9    johnclary_axtbuildings    48232"
      ]
     },
     "execution_count": 67,
     "metadata": {},
     "output_type": "execute_result"
    }
   ],
   "source": [
    "contributions_df.head(10)"
   ]
  },
  {
   "cell_type": "markdown",
   "metadata": {},
   "source": [
    "## Number of users having only one contribution:\n",
    "\n",
    "Using pandas instead of sqlite database"
   ]
  },
  {
   "cell_type": "code",
   "execution_count": 74,
   "metadata": {
    "collapsed": false
   },
   "outputs": [
    {
     "data": {
      "text/plain": [
       "256"
      ]
     },
     "execution_count": 74,
     "metadata": {},
     "output_type": "execute_result"
    }
   ],
   "source": [
    "len(contributions_df[contributions_df['count'] == 1])"
   ]
  },
  {
   "cell_type": "code",
   "execution_count": null,
   "metadata": {
    "collapsed": true
   },
   "outputs": [],
   "source": []
  }
 ],
 "metadata": {
  "kernelspec": {
   "display_name": "Python 2",
   "language": "python",
   "name": "python2"
  },
  "language_info": {
   "codemirror_mode": {
    "name": "ipython",
    "version": 2
   },
   "file_extension": ".py",
   "mimetype": "text/x-python",
   "name": "python",
   "nbconvert_exporter": "python",
   "pygments_lexer": "ipython2",
   "version": "2.7.11"
  }
 },
 "nbformat": 4,
 "nbformat_minor": 0
}
