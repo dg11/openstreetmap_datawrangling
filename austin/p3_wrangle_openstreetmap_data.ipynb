{
 "cells": [
  {
   "cell_type": "markdown",
   "metadata": {},
   "source": [
    "# P3: Wrangle OpenStreetMap Data"
   ]
  },
  {
   "cell_type": "markdown",
   "metadata": {},
   "source": [
    "## Data\n",
    "\n",
    "The map area I chose is the Austin, TX area. As delineated in the class, I obtained the data by downloading an already-prepared extract which I found in the link below:\n",
    "\n",
    "https://mapzen.com/data/metro-extracts/metro/austin_texas/\n",
    "\n",
    "I chose the 66MB raw OpenStreetMap OSM XML dataset. After unzipping the file, it gave about 1.4 GB dataset. Opening this dataset using Sublime took a while."
   ]
  },
  {
   "cell_type": "markdown",
   "metadata": {},
   "source": [
    "### Preliminary examination of the dataset\n",
    "\n",
    "This is done to see how the data looks like."
   ]
  },
  {
   "cell_type": "code",
   "execution_count": 1,
   "metadata": {
    "collapsed": true
   },
   "outputs": [],
   "source": [
    "import xml.etree.cElementTree as ET\n",
    "from collections import defaultdict\n",
    "import re"
   ]
  },
  {
   "cell_type": "code",
   "execution_count": 2,
   "metadata": {
    "collapsed": true
   },
   "outputs": [],
   "source": [
    "street_type_re = re.compile(r'\\S+\\.?$', re.IGNORECASE)\n",
    "street_types = defaultdict(int)"
   ]
  },
  {
   "cell_type": "code",
   "execution_count": 3,
   "metadata": {
    "collapsed": true
   },
   "outputs": [],
   "source": [
    "def audit_street_type(street_types, street_name):\n",
    "    m = street_type_re.search(street_name)\n",
    "    if m:\n",
    "        street_type = m.group()\n",
    "        street_types[street_type] += 1"
   ]
  },
  {
   "cell_type": "code",
   "execution_count": 4,
   "metadata": {
    "collapsed": true
   },
   "outputs": [],
   "source": [
    "def print_sorted_dict(d):\n",
    "    keys = d.keys()\n",
    "    keys = sorted(keys, key=lambda s: s.lower())\n",
    "    for k in keys:\n",
    "        v = d[k]\n",
    "        print \"%s: %d\" % (k,v)"
   ]
  },
  {
   "cell_type": "code",
   "execution_count": 5,
   "metadata": {
    "collapsed": true
   },
   "outputs": [],
   "source": [
    "def is_street_name(elem):\n",
    "    return (elem.tag == \"tag\") and (elem.attrib['k'] == \"addr:street\")"
   ]
  },
  {
   "cell_type": "code",
   "execution_count": 6,
   "metadata": {
    "collapsed": true
   },
   "outputs": [],
   "source": [
    "osmfile = \"austin_texas.osm\""
   ]
  },
  {
   "cell_type": "code",
   "execution_count": 9,
   "metadata": {
    "collapsed": false,
    "scrolled": false
   },
   "outputs": [
    {
     "name": "stdout",
     "output_type": "stream",
     "text": [
      "#100: 2\n",
      "#101: 1\n",
      "#104: 1\n",
      "#150: 1\n",
      "#203: 2\n",
      "#260: 1\n",
      "#300: 2\n",
      "#3000a: 1\n",
      "#306: 1\n",
      "#4: 1\n",
      "#406: 1\n",
      "#600: 1\n",
      "#8: 1\n",
      "#B100: 1\n",
      "#F-4: 1\n",
      "#G-145: 1\n",
      "#L2: 1\n",
      "100: 2\n",
      "104: 1\n",
      "1100: 45\n",
      "117: 1\n",
      "12: 8\n",
      "120: 1\n",
      "129: 11\n",
      "1327: 61\n",
      "138: 3\n",
      "1431: 121\n",
      "150: 2\n",
      "1625: 76\n",
      "1626: 91\n",
      "163: 1\n",
      "170: 1\n",
      "1805: 1\n",
      "1825: 1\n",
      "1826: 57\n",
      "183: 7\n",
      "213: 1\n",
      "2222: 68\n",
      "2243: 2\n",
      "2244: 1\n",
      "275: 1\n",
      "2769: 163\n",
      "280: 3\n",
      "290: 333\n",
      "298: 1\n",
      "3: 1\n",
      "301: 2\n",
      "3177: 1\n",
      "320: 1\n",
      "35: 25\n",
      "400: 1\n",
      "414: 1\n",
      "45: 1\n",
      "452: 1\n",
      "459: 6\n",
      "535: 2\n",
      "6: 1\n",
      "619: 1\n",
      "620: 551\n",
      "685: 5\n",
      "7: 1\n",
      "71: 17\n",
      "79: 1\n",
      "8: 1\n",
      "812: 176\n",
      "969: 2\n",
      "973: 170\n",
      "A: 76\n",
      "A-15: 1\n",
      "A500: 1\n",
      "Acres: 16\n",
      "Adventurer: 2\n",
      "Affirmed: 7\n",
      "Alley: 44\n",
      "Alps: 15\n",
      "Alto: 28\n",
      "Amistad: 26\n",
      "Apache: 6\n",
      "Arbolago: 21\n",
      "Arrow: 17\n",
      "Atlantic: 11\n",
      "Austin: 1\n",
      "Ave: 33\n",
      "Ave.: 1\n",
      "Avene: 1\n",
      "Avenue: 15891\n",
      "B: 105\n",
      "Barrhead: 12\n",
      "Bend: 1777\n",
      "Birch: 12\n",
      "Blackfoot: 7\n",
      "Bluff: 41\n",
      "Blvd: 25\n",
      "Blvd.: 6\n",
      "Boggy: 4\n",
      "Bonanza: 20\n",
      "Bonita: 18\n",
      "Bottom: 1\n",
      "Boulevard: 8759\n",
      "Branch: 17\n",
      "Bridge: 26\n",
      "Buckskin: 1\n",
      "C: 127\n",
      "C-200: 1\n",
      "C1-100: 1\n",
      "Caliche: 5\n",
      "Calle: 24\n",
      "Camelback: 6\n",
      "Camino: 27\n",
      "Cannon: 1\n",
      "Cantera: 11\n",
      "Canterwood: 27\n",
      "Canyon: 79\n",
      "Capri: 22\n",
      "Carrara: 1\n",
      "Casitas: 79\n",
      "Castle: 22\n",
      "CastlePath: 7\n",
      "Catcher: 64\n",
      "Catorce: 25\n",
      "Cave: 37\n",
      "Cc: 16\n",
      "Challenger: 121\n",
      "Chase: 144\n",
      "Chavez: 1\n",
      "Circle: 10816\n",
      "Clark: 5\n",
      "Claro: 6\n",
      "Claw: 8\n",
      "Clearwater: 4\n",
      "Cliff: 27\n",
      "Cobblestone: 84\n",
      "Colorado: 11\n",
      "Comanche: 6\n",
      "Comet: 25\n",
      "Corners: 78\n",
      "Corral: 20\n",
      "Corta: 4\n",
      "Costa: 17\n",
      "court: 2\n",
      "Court: 8277\n",
      "Cove: 16037\n",
      "cove: 12\n",
      "Creek: 88\n",
      "Crescent: 51\n",
      "Crest: 4\n",
      "Crestmont: 1\n",
      "Criswell: 7\n",
      "Crossing: 637\n",
      "Ct: 60\n",
      "Cutoff: 9\n",
      "Cv: 204\n",
      "D: 139\n",
      "D1: 1\n",
      "D5000: 1\n",
      "Dale: 12\n",
      "Dalmahoy: 10\n",
      "Dance: 93\n",
      "Dancer: 6\n",
      "Divide: 69\n",
      "Dog: 20\n",
      "Dorado: 72\n",
      "Dr: 308\n",
      "Dr.: 8\n",
      "Dragon: 37\n",
      "Drive: 116643\n",
      "Drive/Rd: 29\n",
      "Dublin: 4\n",
      "Dunes: 5\n",
      "East: 432\n",
      "Edenderry: 13\n",
      "End: 6\n",
      "Estates: 10\n",
      "Explorer: 67\n",
      "Expressway: 189\n",
      "F: 240\n",
      "Fairway: 40\n",
      "Falcon: 29\n",
      "Fandango: 5\n",
      "Fields: 51\n",
      "Firebird: 31\n",
      "Flat: 2\n",
      "Fleur: 19\n",
      "Flower: 5\n",
      "FM1431: 1\n",
      "Folkway: 66\n",
      "Ford: 1\n",
      "Forest: 24\n",
      "Fork: 31\n",
      "Fort: 2\n",
      "Fortuna: 11\n",
      "Frijolita: 5\n",
      "Frontage: 1\n",
      "G: 274\n",
      "Galaxy: 6\n",
      "Gallop: 30\n",
      "Gap: 41\n",
      "Garden: 7\n",
      "Germaine: 8\n",
      "Glade: 17\n",
      "Glen: 104\n",
      "Gonzales: 1\n",
      "Grande: 14\n",
      "Green: 21\n",
      "Greens: 14\n",
      "Greenway: 13\n",
      "Grotto: 6\n",
      "Grove: 20\n",
      "Gulch: 38\n",
      "Gunsmoke: 10\n",
      "H: 262\n",
      "Hall: 6\n",
      "Hambletonian: 9\n",
      "Harborway: 27\n",
      "Hat: 31\n",
      "Haven: 12\n",
      "Highlander: 29\n",
      "Highway: 423\n",
      "Hill: 250\n",
      "Hilldale: 1\n",
      "Hollow: 950\n",
      "Horn: 11\n",
      "Horse: 6\n",
      "Hwy: 1\n",
      "I: 4\n",
      "I35: 1\n",
      "IH-35: 2\n",
      "IH35: 1\n",
      "IH35,: 1\n",
      "Iron: 12\n",
      "Island: 70\n",
      "J: 2\n",
      "Jacinto: 1\n",
      "James: 11\n",
      "Jr: 1\n",
      "Juniper: 14\n",
      "K: 11\n",
      "Kiss: 5\n",
      "Knoll: 45\n",
      "Lair: 24\n",
      "Lajitas: 41\n",
      "Lake: 34\n",
      "Lancaster: 6\n",
      "Landing: 47\n",
      "Lane: 35976\n",
      "lane: 1\n",
      "Lanes: 6\n",
      "Ledge: 14\n",
      "Leon: 34\n",
      "Liberty: 1\n",
      "Lido: 54\n",
      "Limon: 22\n",
      "Linda: 11\n",
      "Ln: 168\n",
      "Lodge: 2\n",
      "Lonesome: 90\n",
      "Loop: 4043\n",
      "Madre: 22\n",
      "Malabar: 67\n",
      "Mallow: 12\n",
      "Maple: 63\n",
      "Mariner: 42\n",
      "Mas: 1\n",
      "Maverick: 11\n",
      "Meadows: 94\n",
      "Medalist: 19\n",
      "Media: 10\n",
      "Melody: 8\n",
      "Meridian: 12\n",
      "Merimac: 11\n",
      "Mesa: 143\n",
      "Mirador: 6\n",
      "Mirage: 6\n",
      "Mist: 6\n",
      "Mohawk: 8\n",
      "Montana: 10\n",
      "Moor: 22\n",
      "Mountain: 1\n",
      "Mustang: 4\n",
      "N: 29\n",
      "Navajo: 5\n",
      "Norte: 77\n",
      "North: 1118\n",
      "Northwest: 2\n",
      "Oak: 15\n",
      "Oaks: 79\n",
      "Oltorf: 1\n",
      "Overlook: 103\n",
      "Ovlk: 10\n",
      "Pace: 3\n",
      "Park: 337\n",
      "Parkway: 2340\n",
      "pass: 6\n",
      "Pass: 3169\n",
      "Path: 1595\n",
      "Pathway: 73\n",
      "Pawnee: 6\n",
      "Pflugerville: 1\n",
      "Picadilly: 1\n",
      "Pine: 44\n",
      "Pkwy: 29\n",
      "Pl: 21\n",
      "Place: 2932\n",
      "Plaza: 133\n",
      "Point: 282\n",
      "Pointe: 28\n",
      "Porpoise: 37\n",
      "Post: 10\n",
      "Print: 4\n",
      "Ps: 10\n",
      "Quarry: 1\n",
      "Race: 9\n",
      "Range: 21\n",
      "Raphael: 3\n",
      "Ravine: 4\n",
      "Rd: 105\n",
      "Real: 5\n",
      "Reinhardt: 24\n",
      "Ridge: 548\n",
      "River: 2\n",
      "RM1431: 18\n",
      "Road: 26561\n",
      "Road,1100: 1\n",
      "Rock: 3\n",
      "Roost: 14\n",
      "Rope: 45\n",
      "Rose: 5\n",
      "Row: 139\n",
      "Royale: 13\n",
      "Run: 1158\n",
      "Saddles: 9\n",
      "Sage: 7\n",
      "Sandpiper: 1\n",
      "SB: 2\n",
      "Season: 24\n",
      "Seawind: 45\n",
      "Seco: 39\n",
      "Sidewinder: 22\n",
      "Silence: 30\n",
      "Sioux: 5\n",
      "Sky: 6\n",
      "Skyline: 45\n",
      "Skyview: 37\n",
      "Skyway: 131\n",
      "Slew: 11\n",
      "South: 151\n",
      "Southview: 1\n",
      "Speedway: 203\n",
      "Spicewood: 1\n",
      "Spring: 28\n",
      "Springwater: 4\n",
      "Spur: 26\n",
      "Square: 181\n",
      "St: 15\n",
      "St.: 5\n",
      "Stakes: 13\n",
      "Station: 1\n",
      "Stonebridge: 9\n",
      "Stonehedge: 7\n",
      "street: 46\n",
      "Street: 33851\n",
      "Strip: 11\n",
      "suite#L131: 1\n",
      "Summit: 6\n",
      "Sundown: 22\n",
      "Sunfish: 116\n",
      "Sunterro: 16\n",
      "Sutton: 1\n",
      "Tahoe: 3\n",
      "Talamore: 8\n",
      "Tarlton: 1\n",
      "Tealwood: 18\n",
      "Terrace: 1478\n",
      "Terrance: 21\n",
      "texas: 1\n",
      "Thunder: 17\n",
      "Thunderbird: 92\n",
      "Tiempo: 19\n",
      "Toro: 8\n",
      "Tr: 61\n",
      "Trace: 454\n",
      "Track: 34\n",
      "Trail: 17676\n",
      "Triangle: 7\n",
      "Trl: 108\n",
      "Tropez: 38\n",
      "Tundra: 24\n",
      "Turn: 7\n",
      "Turnback: 27\n",
      "Vale: 61\n",
      "Valley: 60\n",
      "Van: 31\n",
      "Vanguard: 86\n",
      "Verde: 94\n",
      "Verdes: 48\n",
      "Viejo: 22\n",
      "Viento: 37\n",
      "View: 202\n",
      "Vista: 84\n",
      "Voyageurs: 14\n",
      "W: 5\n",
      "Walk: 203\n",
      "Way: 6773\n",
      "way: 1\n",
      "West: 112\n",
      "Wheel: 9\n",
      "William: 24\n",
      "Willo: 14\n",
      "Withers: 6\n",
      "Wood: 20\n",
      "Woods: 45\n",
      "Wow: 2\n",
      "Wren: 37\n",
      "Yard: 36\n",
      "York: 15\n"
     ]
    }
   ],
   "source": [
    "for event, element in ET.iterparse(osmfile):\n",
    "    if is_street_name(element):\n",
    "        audit_street_type(street_types, element.attrib['v'])\n",
    "print_sorted_dict(street_types)"
   ]
  },
  {
   "cell_type": "markdown",
   "metadata": {
    "collapsed": true
   },
   "source": [
    "# Quiz"
   ]
  },
  {
   "cell_type": "code",
   "execution_count": 15,
   "metadata": {
    "collapsed": true
   },
   "outputs": [],
   "source": [
    "tag_counts = defaultdict(int)"
   ]
  },
  {
   "cell_type": "code",
   "execution_count": 17,
   "metadata": {
    "collapsed": false
   },
   "outputs": [],
   "source": [
    "for event, elem in ET.iterparse(austinosm):\n",
    "    tag_counts[elem.tag] +=1"
   ]
  },
  {
   "cell_type": "code",
   "execution_count": 18,
   "metadata": {
    "collapsed": false
   },
   "outputs": [
    {
     "data": {
      "text/plain": [
       "defaultdict(int,\n",
       "            {'bounds': 1,\n",
       "             'member': 20197,\n",
       "             'nd': 6985591,\n",
       "             'node': 6356394,\n",
       "             'osm': 1,\n",
       "             'relation': 2357,\n",
       "             'tag': 2377504,\n",
       "             'way': 666390})"
      ]
     },
     "execution_count": 18,
     "metadata": {},
     "output_type": "execute_result"
    }
   ],
   "source": [
    "tag_counts"
   ]
  },
  {
   "cell_type": "code",
   "execution_count": 30,
   "metadata": {
    "collapsed": true
   },
   "outputs": [],
   "source": [
    "keys = defaultdict(int)"
   ]
  },
  {
   "cell_type": "code",
   "execution_count": 31,
   "metadata": {
    "collapsed": true
   },
   "outputs": [],
   "source": [
    "lower = re.compile(r'^([a-z]|_)*$')\n",
    "lower_colon = re.compile(r'^([a-z]|_)*:([a-z]|_)*$')\n",
    "problemchars = re.compile(r'[=\\+/&<>;\\'\"\\?%#$@\\,\\. \\t\\r\\n]')"
   ]
  },
  {
   "cell_type": "code",
   "execution_count": 32,
   "metadata": {
    "collapsed": false
   },
   "outputs": [],
   "source": [
    "for _, element in ET.iterparse(austinosm):\n",
    "    if element.tag == 'tag':\n",
    "        try:\n",
    "            lower.search(element.attrib['k']).group()\n",
    "            keys[\"lower\"] += 1\n",
    "        except AttributeError:\n",
    "            try:\n",
    "                lower_colon.search(element.attrib['k']).group()\n",
    "                keys[\"lower_colon\"] += 1\n",
    "            except AttributeError:\n",
    "                try:\n",
    "                    problemchars.search(element.attrib['k']).group()\n",
    "                    keys[\"problemchars\"] += 1\n",
    "                except AttributeError:\n",
    "                    keys[\"others\"] += 1"
   ]
  },
  {
   "cell_type": "code",
   "execution_count": 33,
   "metadata": {
    "collapsed": false
   },
   "outputs": [
    {
     "data": {
      "text/plain": [
       "defaultdict(int,\n",
       "            {'lower': 1297812,\n",
       "             'lower_colon': 1067727,\n",
       "             'others': 11964,\n",
       "             'problemchars': 1})"
      ]
     },
     "execution_count": 33,
     "metadata": {},
     "output_type": "execute_result"
    }
   ],
   "source": [
    "keys"
   ]
  },
  {
   "cell_type": "markdown",
   "metadata": {},
   "source": [
    "# Users"
   ]
  },
  {
   "cell_type": "code",
   "execution_count": 34,
   "metadata": {
    "collapsed": true
   },
   "outputs": [],
   "source": [
    "osm_file = open(austinosm, 'r')"
   ]
  },
  {
   "cell_type": "code",
   "execution_count": 35,
   "metadata": {
    "collapsed": true
   },
   "outputs": [],
   "source": [
    "users = set()"
   ]
  },
  {
   "cell_type": "code",
   "execution_count": 37,
   "metadata": {
    "collapsed": false
   },
   "outputs": [
    {
     "name": "stdout",
     "output_type": "stream",
     "text": [
      "set(['1917687', '3057995', '2073337', '838709', '74705', '2510226', '152074', '364243', '432828', '113450', '45027', '22461', '3974971', '164683', '107681', '353043', '11547', '4171770', '1836471', '1723831', '2957217', '1822355', '2988060', '2943834', '28852', '2648255', '1602534', '3269109', '4430311', '6367', '252811', '2652160', '80285', '201359', '445917', '364400', '93788', '8909', '96380', '437598', '2942042', '508802', '2813997', '415250', '597278', '3990', '4559658', '663559', '2330541', '2103924', '2411240', '94578', '1970302', '510836', '2929338', '3341346', '3233620', '4716815', '119748', '1940439', '2318', '2306749', '247879', '808770', '2253926', '161371', '4416224', '177640', '179600', '870861', '226191', '142205', '3395279', '70696', '3311414', '47892', '1314413', '111159', '38487', '2552406', '2272717', '47544', '874213', '2890496', '1090081', '2010493', '61855', '118021', '2944689', '1962804', '616774', '1841822', '1745406', '4692089', '687044', '105002', '2406578', '389567', '2774441', '143480', '390246', '2497300', '2280052', '2206536', '3386300', '2412184', '2082952', '37137', '316694', '3582306', '874167', '844482', '1073361', '2173805', '3374848', '672878', '2308333', '3582', '811230', '2811988', '69102', '203688', '1198074', '22909', '1770421', '224610', '1247041', '2441939', '283625', '1787832', '3368504', '121241', '492311', '905716', '338150', '346', '250070', '45439', '1924130', '473980', '36443', '618879', '647234', '3846187', '370073', '1597155', '2210287', '1972227', '4132860', '31075', '2929835', '197515', '3469011', '2936384', '2966527', '50743', '2147', '1933664', '2309119', '1044278', '54499', '791438', '171863', '1353304', '262259', '2421139', '24126', '2252919', '373480', '15686', '2625627', '900500', '1716219', '28794', '132444', '1009527', '1330847', '1816882', '3887328', '3516', '116044', '172061', '521067', '843290', '3081624', '88845', '4709100', '2224486', '2527838', '3102759', '84054', '2680', '4518981', '28145', '104962', '3696209', '2552612', '2903166', '436419', '2867543', '3271789', '470089', '3621540', '781401', '3202024', '1826758', '329453', '1802555', '1260280', '227972', '4318353', '29084', '534393', '1561424', '300459', '1679807', '3816692', '78449', '996997', '3590564', '2082518', '2528155', '3962', '168862', '1832883', '175141', '82848', '1851884', '3113741', '377036', '165869', '296426', '109925', '1204936', '243301', '2420827', '170106', '1796725', '2027487', '1427260', '3341321', '161951', '2644101', '710775', '4458656', '2242544', '1642793', '653749', '2381213', '456698', '2941385', '46166', '3419244', '571993', '931286', '320616', '129818', '2433238', '398086', '5359', '3207514', '1725792', '1329572', '401902', '3343450', '592819', '4461151', '4153282', '19239', '1195151', '771165', '250487', '20587', '272210', '6975', '3920233', '2082949', '2186960', '240041', '168517', '4509822', '1222338', '554234', '930559', '4112614', '270505', '1434650', '520239', '3298311', '161619', '3936631', '1818823', '3029661', '32993', '75480', '24247', '187133', '3183469', '674211', '402537', '8764', '31231', '125718', '57158', '1617449', '3426473', '1796285', '250634', '156135', '2337532', '1306', '2118267', '13832', '385353', '66590', '4302917', '3103048', '131059', '3657645', '14850', '2389409', '107257', '2373993', '5748', '611636', '422132', '135807', '2337126', '1923103', '1928909', '525473', '105946', '1789749', '199837', '166129', '462650', '110639', '684102', '714898', '53073', '1323375', '3525854', '586964', '4732', '1058177', '3272286', '3921736', '130472', '355161', '2582987', '2528165', '1785788', '189061', '106663', '810042', '2015224', '4185226', '671128', '200922', '17628', '3310433', '2362216', '103574', '354343', '3555042', '1424805', '315015', '449777', '2012681', '2190760', '3479270', '44759', '3232274', '4592854', '1963199', '735541', '1087647', '44200', '142739', '2175949', '4356877', '153669', '290680', '4445007', '2870880', '1213926', '473481', '368215', '3514286', '351532', '1830408', '4369612', '99476', '1494110', '2665247', '332709', '203533', '2377377', '644751', '1899302', '908687', '3996396', '452911', '4533588', '14293', '1408522', '224440', '2859402', '615654', '2027890', '190869', '2322261', '3571446', '142426', '1964244', '109362', '15908', '575547', '2025837', '236412', '2923329', '292893', '1993408', '2984355', '722137', '4073869', '367800', '2820500', '3570894', '28559', '2340377', '52921', '524500', '1689503', '2021613', '3255542', '4444230', '741274', '292007', '253266', '2010946', '1719066', '2376', '3425023', '750866', '2226739', '310589', '3316148', '39854', '361746', '4542037', '2905914', '1551352', '1195318', '2065004', '119002', '38588', '17286', '1884673', '2144104', '2722273', '341877', '2933641', '581463', '3487167', '547570', '11154', '595221', '3394977', '1199482', '84117', '454771', '3952363', '321914', '3781321', '339917', '162999', '21931', '1044834', '463545', '2259690', '25867', '420178', '697724', '92286', '3372231', '1058666', '330773', '2135320', '1886927', '3956251', '948616', '26299', '2053369', '2051282', '2416882', '2063187', '3528573', '322038', '4328731', '26139', '3371348', '1007528', '3314792', '28775', '352368', '129841', '1883240', '647541', '1428846', '2758', '829750', '2675006', '2823295', '1106095', '571414', '398889', '3048258', '86026', '33612', '1425613', '332741', '2655992', '88771', '2413868', '1751737', '622455', '2030675', '2511706', '190711', '475877', '544587', '543545', '252529', '2007038', '3960577', '68769', '175250', '26599', '1583189', '355242', '2062054', '1326818', '2901787', '2745461', '757145', '336460', '67592', '2053745', '30587', '80300', '1940786', '1960784', '160949', '147510', '4377783', '426555', '1783901', '2149947', '622625', '26818', '517514', '42429', '372112', '2962001', '3151684', '3369502', '754349', '379381', '69628', '143162', '301616', '178186', '415404', '201518', '3367383', '396743', '1916780', '3723180', '1058308', '2819658', '2119299', '2060118', '1884581', '2446087', '77990', '406921', '1011040', '2226712', '2330782', '1783785', '1916849', '3406980', '1916842', '60110', '3324052', '3537584', '2985232', '1058397', '91777', '4214103', '360392', '2962278', '1911765', '78656', '119881', '1484179', '2001899', '76002', '1907281', '104519', '49031', '291298', '4219988', '1950420', '110797', '27924', '2420822', '366429', '356719', '2420829', '2012449', '2621932', '1854828', '12434', '671338', '22925', '2011339', '432205', '105839', '2373604', '566605', '3616819', '92150', '6568', '2075821', '1694420', '173918', '2319962', '4705365', '187396', '3405044', '226516', '837425', '52143', '128470', '1901888', '2219338', '210613', '646864', '1240849', '158311', '4480137', '1754074', '4558206', '441784', '1249991', '113375', '2049550', '2496655', '2545951', '2146750', '574861', '77109', '2503544', '3017915', '2002372', '538172', '1058433', '11566', '32952', '927381', '231754', '3371357', '36121', '1519895', '3145234', '504834', '391150', '218864', '2253487', '451693', '581419', '348852', '2348106', '51045', '44217', '12919', '108775', '3132250', '161798', '3478684', '1672740', '474022', '1363265', '1934360', '544376', '3028556', '1443840', '2060489', '262151', '4166567', '1193827', '2259804', '650515', '3113495', '555568', '542403', '4054', '2137840', '322785', '8287', '349856', '2875946', '156636', '1795545', '214436', '1884535', '1802220', '2677509', '1886119', '5974', '1721094', '1972184', '181135', '384700', '3193795', '81285', '1744048', '1529361', '78568', '4030227', '213831', '599436', '88164', '1149057', '60244', '593205', '28783', '3254958', '2243765', '212111', '135163', '2508151', '4196259', '2871719', '73405', '2887761', '1778799', '154459', '2084136', '3825081', '502086', '158204', '66330', '153711', '88961', '178626', '4487615', '3692214', '533465', '929880', '2512300', '3409435', '938249', '2469393', '464127', '139731', '53050', '414718', '1425439', '1406824', '4182796', '13354', '165', '1829683', '1464344', '121264', '236172', '2765020', '439947', '3323774', '322178', '28269', '207745', '25996', '1962580', '1219875', '61942', '3999497', '1452987', '584866', '292665', '745841', '219655', '3521724', '4124521', '1430450', '36894', '2609151', '2120603', '1051550', '624349', '245446', '4056436', '105454', '2554698', '775666', '74983', '165061', '1993537', '2420879', '1955999', '52754', '1869781', '38446', '648117', '652304', '589498', '3983283', '7203', '778383', '1217631', '84771', '1884560', '691059', '1', '152289', '725620', '214969', '373434', '740461', '605122', '534863', '185960', '54407', '1984710', '92387', '1249761', '4131011', '86504', '2688104', '3095', '4018842', '307202', '288932', '2000949', '93490', '85218', '23351', '145231', '1709607', '35243', '1884576', '2115749', '3546', '682786', '98830', '190389', '249634', '391205', '3477470', '1981553', '3717454', '199564', '3506992', '1963501', '4516155', '103253', '703517', '3877019', '3324734', '896371', '443130', '2999881', '1482581', '1712108', '89943', '50179', '202615', '143523', '2052948', '447903', '414318', '590907', '1883842', '587707', '618377', '3297758', '55916', '2656185', '118134', '388279', '40397', '1110270', '2281613', '136828', '2224625', '2835928', '2748195', '1679', '1930146', '54759', '308243', '3100044', '642091', '1900512', '169004', '933120', '428771', '70092', '3387495', '52015', '243003', '1664106', '842571', '1786178', '413047', '2107444', '328178', '112189', '599469', '4191259', '2593133', '1887977', '1554107', '1376118', '1425774', '43667', '17857', '837066', '646671', '8703', '613878', '253244', '577963', '2259805', '3356025', '2050662', '290269', '1425040', '3114423', '2420830', '529645', '2668494', '3137296', '4198902', '52797', '1814467', '1221257', '97431', '2118451', '60744', '377761', '2852387', '1357435', '402624', '1917615', '795998', '52498', '67862', '343553', '313700', '893327', '4265263', '1501513', '105255', '365944', '1852', '589596', '1814730', '136520', '53014', '3928004', '3344001', '1978623', '1498063', '134600', '300002', '2209894', '1295635', '473471', '1883628', '2057798', '2528141', '2528143', '2366206', '2528144', '3370181', '63107', '408202', '39688', '10786', '69864', '3521437', '13203', '401102', '1846952', '88337', '23466', '3065064', '6424', '342952', '222656', '2826339', '16591', '1649645', '1955898', '718617', '3769434', '84681', '3129197', '1214881', '2675', '1869306', '703657', '1218455', '4210501', '37392', '3405475', '92970', '384146', '3359043', '2576273', '293774', '563692', '533828', '1136560', '2420831', '12448', '3811295', '1881064', '3113685', '1709732', '1199646', '82317', '1132286', '1811646', '1449291', '3716740', '620129', '580469', '110263', '4339176', '115918', '307520', '4108283', '1227690', '112562', '567792', '626974', '1908888', '1916558', '1863882', '41187', '3417451', '68982', '1877830', '1429602', '1651798', '28923', '1805845', '1067273', '129867', '55945', '1962870', '74292', '2052265', '2345142', '92274', '47978', '7168', '407390', '36569', '48491', '124836', '338843', '630301', '232126', '1171541', '137798', '3526564', '2959379', '2288804', '2082922', '42123', '2849030', '111209', '451048', '227345', '2337072', '665694', '2861726', '2104917', '1960024', '2309376', '624323', '1949707', '441152', '1012362', '313637', '305730', '344295', '2373566', '307200', '634020', '3974051', '1902905', '2733536', '496606', '4697', '3029166', '28378', '1424667', '2146423', '3630974', '67733', '91499', '3768571', '238787', '1624486', '521684', '2500', '289600', '3659623', '1210046', '2278741', '128017', '338022', '416346', '4627126', '466539', '655868', '402179', '352940', '2337444', '2137725', '84001', '3545448', '2091215', '645655', '204459', '690132', '982168', '120875', '495567', '1072516', '3040373', '531084', '167009', '564222', '1355899', '3747719', '167417', '3113859'])\n"
     ]
    }
   ],
   "source": [
    "for _, element in ET.iterparse(osm_file):\n",
    "    for key in element.attrib:\n",
    "        if key == \"uid\":\n",
    "            users.add(element.attrib[key])\n",
    "print users"
   ]
  },
  {
   "cell_type": "code",
   "execution_count": 38,
   "metadata": {
    "collapsed": false
   },
   "outputs": [
    {
     "data": {
      "text/plain": [
       "1155"
      ]
     },
     "execution_count": 38,
     "metadata": {},
     "output_type": "execute_result"
    }
   ],
   "source": [
    "len(users)"
   ]
  },
  {
   "cell_type": "markdown",
   "metadata": {},
   "source": [
    "# Auditing and Improving Street Names "
   ]
  },
  {
   "cell_type": "code",
   "execution_count": 39,
   "metadata": {
    "collapsed": true
   },
   "outputs": [],
   "source": [
    "import xml.etree.cElementTree as ET\n",
    "from collections import defaultdict\n",
    "import re\n",
    "import pprint"
   ]
  },
  {
   "cell_type": "code",
   "execution_count": 40,
   "metadata": {
    "collapsed": true
   },
   "outputs": [],
   "source": [
    "osmfile = \"austin_texas.osm\""
   ]
  },
  {
   "cell_type": "code",
   "execution_count": 41,
   "metadata": {
    "collapsed": true
   },
   "outputs": [],
   "source": [
    "street_type_re = re.compile(r'\\b\\S+\\.?$', re.IGNORECASE)"
   ]
  },
  {
   "cell_type": "code",
   "execution_count": 45,
   "metadata": {
    "collapsed": true
   },
   "outputs": [],
   "source": [
    "expected = [\"Street\", \"Avenue\", \"Boulevard\", \"Drive\", \"Court\", \"Place\", \"Square\", \"Lane\", \"Road\", \n",
    "            \"Trail\", \"Parkway\", \"Commons\", \"Cove\", \"Highway\", \"IH-35\", \"Lane\", \"North\", \"Overlook\", \"Pass\"]"
   ]
  },
  {
   "cell_type": "code",
   "execution_count": 52,
   "metadata": {
    "collapsed": false
   },
   "outputs": [],
   "source": [
    "mapping = { \"St\": \"Street\",\n",
    "            \"St.\": \"Street\",\n",
    "            \"st\": \"Street\",\n",
    "            \"street\": \"Street\",\n",
    "            \"Ave\": \"Avenue\",\n",
    "            \"Ave.\": \"Avenue\",\n",
    "            \"Avene\": \"Avenue\",\n",
    "            \"Blvd\": \"Boulevard\",\n",
    "            \"Blvd.\": \"Boulevard\",\n",
    "            \"Dr\": \"Drive\",\n",
    "            \"Dr.\": \"Drive\",\n",
    "            \"Ct\": \"Court\",\n",
    "            \"Ct.\": \"Court\",\n",
    "            \"court\": \"Court\",\n",
    "            \"Cv\": \"Cove\",\n",
    "            \"cv\": \"Cove\",\n",
    "            \"Pl\": \"Place\",\n",
    "            \"Pl.\": \"Place\",\n",
    "            \"lane\": \"Lane\",\n",
    "            \"Ln\": \"Lane\",\n",
    "            \"Rd\": \"Road\", \n",
    "            \"Rd.\": \"Road\",\n",
    "            \"Trl\": \"Trail\",\n",
    "            \"Pkwy\": \"Parkway\",\n",
    "            \"Hwy\": \"Highway\",\n",
    "            \"I35\": \"IH-35\",\n",
    "            \"IH35\": \"IH-35\",\n",
    "            \"IH35,\": \"IH-35\",\n",
    "            \"lane\": \"Lane\",\n",
    "            \"N\": \"North\",\n",
    "            \"Ovlk\": \"Overlook\",\n",
    "            \"pass\": \"Pass\",\n",
    "            \"W\": \"West\"}"
   ]
  },
  {
   "cell_type": "code",
   "execution_count": 53,
   "metadata": {
    "collapsed": true
   },
   "outputs": [],
   "source": [
    "def audit_street_type(stree_types, street_name):\n",
    "    m = street_type_re.search(street_name)\n",
    "    if m:\n",
    "        street_name = m.group()\n",
    "        if street_type not in expected:\n",
    "            street_types[street_type].add(street_name)"
   ]
  },
  {
   "cell_type": "code",
   "execution_count": 54,
   "metadata": {
    "collapsed": true
   },
   "outputs": [],
   "source": [
    "def is_street_name(elem):\n",
    "    return (elem.attrib['k'] == \"addr:street\")"
   ]
  },
  {
   "cell_type": "code",
   "execution_count": 55,
   "metadata": {
    "collapsed": true
   },
   "outputs": [],
   "source": [
    "def audit(osmfile):\n",
    "    osm_file = open(osmfile, \"r\")\n",
    "    street_types = defaultdict(set)\n",
    "    for event, elem in ET.iterparse(osm_file, events=(\"start\",)):\n",
    "        if elem.tag == \"node\" or elem.tag == \"way\":\n",
    "            for tag in elem.iter(\"tag\"):\n",
    "                if is_street_name(tag):\n",
    "                    audit_street_type(street_types, tag.attrib['v'])\n",
    "    osm_file.close()\n",
    "    return street_types"
   ]
  },
  {
   "cell_type": "code",
   "execution_count": 56,
   "metadata": {
    "collapsed": true
   },
   "outputs": [],
   "source": [
    "def update_name(name, mapping):\n",
    "    parts = name.split()\n",
    "    if parts[-1] in mapping.keys():\n",
    "        parts[-1] = mapping[parts[-1]]\n",
    "    name = ' '.join(parts)\n",
    "    return name"
   ]
  },
  {
   "cell_type": "code",
   "execution_count": 57,
   "metadata": {
    "collapsed": false
   },
   "outputs": [
    {
     "ename": "NameError",
     "evalue": "global name 'street_type' is not defined",
     "output_type": "error",
     "traceback": [
      "\u001b[0;31m---------------------------------------------------------------------------\u001b[0m",
      "\u001b[0;31mNameError\u001b[0m                                 Traceback (most recent call last)",
      "\u001b[0;32m<ipython-input-57-ec5bf5e4fe9d>\u001b[0m in \u001b[0;36m<module>\u001b[0;34m()\u001b[0m\n\u001b[0;32m----> 1\u001b[0;31m \u001b[0mst_types\u001b[0m \u001b[0;34m=\u001b[0m \u001b[0maudit\u001b[0m\u001b[0;34m(\u001b[0m\u001b[0mosmfile\u001b[0m\u001b[0;34m)\u001b[0m\u001b[0;34m\u001b[0m\u001b[0m\n\u001b[0m",
      "\u001b[0;32m<ipython-input-55-97591d582851>\u001b[0m in \u001b[0;36maudit\u001b[0;34m(osmfile)\u001b[0m\n\u001b[1;32m      6\u001b[0m             \u001b[0;32mfor\u001b[0m \u001b[0mtag\u001b[0m \u001b[0;32min\u001b[0m \u001b[0melem\u001b[0m\u001b[0;34m.\u001b[0m\u001b[0miter\u001b[0m\u001b[0;34m(\u001b[0m\u001b[0;34m\"tag\"\u001b[0m\u001b[0;34m)\u001b[0m\u001b[0;34m:\u001b[0m\u001b[0;34m\u001b[0m\u001b[0m\n\u001b[1;32m      7\u001b[0m                 \u001b[0;32mif\u001b[0m \u001b[0mis_street_name\u001b[0m\u001b[0;34m(\u001b[0m\u001b[0mtag\u001b[0m\u001b[0;34m)\u001b[0m\u001b[0;34m:\u001b[0m\u001b[0;34m\u001b[0m\u001b[0m\n\u001b[0;32m----> 8\u001b[0;31m                     \u001b[0maudit_street_type\u001b[0m\u001b[0;34m(\u001b[0m\u001b[0mstreet_types\u001b[0m\u001b[0;34m,\u001b[0m \u001b[0mtag\u001b[0m\u001b[0;34m.\u001b[0m\u001b[0mattrib\u001b[0m\u001b[0;34m[\u001b[0m\u001b[0;34m'v'\u001b[0m\u001b[0;34m]\u001b[0m\u001b[0;34m)\u001b[0m\u001b[0;34m\u001b[0m\u001b[0m\n\u001b[0m\u001b[1;32m      9\u001b[0m     \u001b[0mosm_file\u001b[0m\u001b[0;34m.\u001b[0m\u001b[0mclose\u001b[0m\u001b[0;34m(\u001b[0m\u001b[0;34m)\u001b[0m\u001b[0;34m\u001b[0m\u001b[0m\n\u001b[1;32m     10\u001b[0m     \u001b[0;32mreturn\u001b[0m \u001b[0mstreet_types\u001b[0m\u001b[0;34m\u001b[0m\u001b[0m\n",
      "\u001b[0;32m<ipython-input-53-4891cc815c88>\u001b[0m in \u001b[0;36maudit_street_type\u001b[0;34m(stree_types, street_name)\u001b[0m\n\u001b[1;32m      3\u001b[0m     \u001b[0;32mif\u001b[0m \u001b[0mm\u001b[0m\u001b[0;34m:\u001b[0m\u001b[0;34m\u001b[0m\u001b[0m\n\u001b[1;32m      4\u001b[0m         \u001b[0mstreet_name\u001b[0m \u001b[0;34m=\u001b[0m \u001b[0mm\u001b[0m\u001b[0;34m.\u001b[0m\u001b[0mgroup\u001b[0m\u001b[0;34m(\u001b[0m\u001b[0;34m)\u001b[0m\u001b[0;34m\u001b[0m\u001b[0m\n\u001b[0;32m----> 5\u001b[0;31m         \u001b[0;32mif\u001b[0m \u001b[0mstreet_type\u001b[0m \u001b[0;32mnot\u001b[0m \u001b[0;32min\u001b[0m \u001b[0mexpected\u001b[0m\u001b[0;34m:\u001b[0m\u001b[0;34m\u001b[0m\u001b[0m\n\u001b[0m\u001b[1;32m      6\u001b[0m             \u001b[0mstreet_types\u001b[0m\u001b[0;34m[\u001b[0m\u001b[0mstreet_type\u001b[0m\u001b[0;34m]\u001b[0m\u001b[0;34m.\u001b[0m\u001b[0madd\u001b[0m\u001b[0;34m(\u001b[0m\u001b[0mstreet_name\u001b[0m\u001b[0;34m)\u001b[0m\u001b[0;34m\u001b[0m\u001b[0m\n",
      "\u001b[0;31mNameError\u001b[0m: global name 'street_type' is not defined"
     ]
    }
   ],
   "source": [
    "st_types = audit(osmfile)"
   ]
  },
  {
   "cell_type": "code",
   "execution_count": null,
   "metadata": {
    "collapsed": true
   },
   "outputs": [],
   "source": [
    "pprint.pprint(dict(st_types))"
   ]
  }
 ],
 "metadata": {
  "kernelspec": {
   "display_name": "Python 2",
   "language": "python",
   "name": "python2"
  },
  "language_info": {
   "codemirror_mode": {
    "name": "ipython",
    "version": 2
   },
   "file_extension": ".py",
   "mimetype": "text/x-python",
   "name": "python",
   "nbconvert_exporter": "python",
   "pygments_lexer": "ipython2",
   "version": "2.7.11"
  }
 },
 "nbformat": 4,
 "nbformat_minor": 0
}
