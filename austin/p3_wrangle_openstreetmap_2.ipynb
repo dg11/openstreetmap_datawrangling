{
 "cells": [
  {
   "cell_type": "markdown",
   "metadata": {},
   "source": [
    "# P3: Wrangle OpenStreetMap Data of Austin, TX\n",
    "\n",
    "## Part 2. Final code to extract data into csv files\n",
    "\n",
    "After exploring and auditing the osm data in the previous notebook, the codes to extract data from the osm file is done here."
   ]
  },
  {
   "cell_type": "code",
   "execution_count": 1,
   "metadata": {
    "collapsed": true
   },
   "outputs": [],
   "source": [
    "import xml.etree.cElementTree as ET\n",
    "import csv\n",
    "import codecs\n",
    "import cerberus\n",
    "import schema\n",
    "import re"
   ]
  },
  {
   "cell_type": "markdown",
   "metadata": {},
   "source": [
    "The filenames of the osm extracts were assigned to variables as in Part 1."
   ]
  },
  {
   "cell_type": "code",
   "execution_count": 2,
   "metadata": {
    "collapsed": true
   },
   "outputs": [],
   "source": [
    "OSM_FILE = \"austin_texas.osm\"\n",
    "SAMPLE_FILE = \"sample.osm\""
   ]
  },
  {
   "cell_type": "markdown",
   "metadata": {},
   "source": [
    "Variables are assigned to output csv files."
   ]
  },
  {
   "cell_type": "code",
   "execution_count": 3,
   "metadata": {
    "collapsed": true
   },
   "outputs": [],
   "source": [
    "NODES_PATH = \"nodes.csv\"\n",
    "NODE_TAGS_PATH = \"nodes_tags.csv\"\n",
    "WAYS_PATH = \"ways.csv\"\n",
    "WAY_NODES_PATH = \"ways_nodes.csv\"\n",
    "WAY_TAGS_PATH = \"ways_tags.csv\""
   ]
  },
  {
   "cell_type": "markdown",
   "metadata": {},
   "source": [
    "The following regex are used to find string types for the k attributes of tag elements. Some of the values of the k attributes have a colon and some don't. "
   ]
  },
  {
   "cell_type": "code",
   "execution_count": 4,
   "metadata": {
    "collapsed": true
   },
   "outputs": [],
   "source": [
    "LOWER_COLON = re.compile(r'^([a-z]|_)+:([a-z]|_)+')\n",
    "PROBLEMCHARS = re.compile(r'[=\\+/&<>;\\'\"\\?%#$@\\,\\. \\t\\r\\n]')"
   ]
  },
  {
   "cell_type": "markdown",
   "metadata": {},
   "source": [
    "The schema for the output dictionaries will follow this structure."
   ]
  },
  {
   "cell_type": "code",
   "execution_count": 5,
   "metadata": {
    "collapsed": true
   },
   "outputs": [],
   "source": [
    "SCHEMA = {\n",
    "    'node': {\n",
    "        'type': 'dict',\n",
    "        'schema': {\n",
    "            'id': {'required': True, 'type': 'integer', 'coerce': int},\n",
    "            'lat': {'required': True, 'type': 'float', 'coerce': float},\n",
    "            'lon': {'required': True, 'type': 'float', 'coerce': float},\n",
    "            'user': {'required': True, 'type': 'string'},\n",
    "            'uid': {'required': True, 'type': 'integer', 'coerce': int},\n",
    "            'version': {'required': True, 'type': 'string'},\n",
    "            'changeset': {'required': True, 'type': 'integer', 'coerce': int},\n",
    "            'timestamp': {'required': True, 'type': 'string'}\n",
    "        }\n",
    "    },\n",
    "    'node_tags': {\n",
    "        'type': 'list',\n",
    "        'schema': {\n",
    "            'type': 'dict',\n",
    "            'schema': {\n",
    "                'id': {'required': True, 'type': 'integer', 'coerce': int},\n",
    "                'key': {'required': True, 'type': 'string'},\n",
    "                'value': {'required': True, 'type': 'string'},\n",
    "                'type': {'required': True, 'type': 'string'}\n",
    "            }\n",
    "        }\n",
    "    },\n",
    "    'way': {\n",
    "        'type': 'dict',\n",
    "        'schema': {\n",
    "            'id': {'required': True, 'type': 'integer', 'coerce': int},\n",
    "            'user': {'required': True, 'type': 'string'},\n",
    "            'uid': {'required': True, 'type': 'integer', 'coerce': int},\n",
    "            'version': {'required': True, 'type': 'string'},\n",
    "            'changeset': {'required': True, 'type': 'integer', 'coerce': int},\n",
    "            'timestamp': {'required': True, 'type': 'string'}\n",
    "        }\n",
    "    },\n",
    "    'way_nodes': {\n",
    "        'type': 'list',\n",
    "        'schema': {\n",
    "            'type': 'dict',\n",
    "            'schema': {\n",
    "                'id': {'required': True, 'type': 'integer', 'coerce': int},\n",
    "                'node_id': {'required': True, 'type': 'integer', 'coerce': int},\n",
    "                'position': {'required': True, 'type': 'integer', 'coerce': int}\n",
    "            }\n",
    "        }\n",
    "    },\n",
    "    'way_tags': {\n",
    "        'type': 'list',\n",
    "        'schema': {\n",
    "            'type': 'dict',\n",
    "            'schema': {\n",
    "                'id': {'required': True, 'type': 'integer', 'coerce': int},\n",
    "                'key': {'required': True, 'type': 'string'},\n",
    "                'value': {'required': True, 'type': 'string'},\n",
    "                'type': {'required': True, 'type': 'string'}\n",
    "            }\n",
    "        }\n",
    "    }\n",
    "}"
   ]
  },
  {
   "cell_type": "markdown",
   "metadata": {},
   "source": [
    "Lists of all the fields:"
   ]
  },
  {
   "cell_type": "code",
   "execution_count": 6,
   "metadata": {
    "collapsed": true
   },
   "outputs": [],
   "source": [
    "NODE_FIELDS = ['id', 'lat', 'lon', 'user', 'uid', 'version', 'changeset', 'timestamp']\n",
    "NODE_TAGS_FIELDS = ['id', 'key', 'value', 'type']\n",
    "WAY_FIELDS = ['id', 'user', 'uid', 'version', 'changeset', 'timestamp']\n",
    "WAY_TAGS_FIELDS= ['id', 'key', 'value', 'type']\n",
    "WAY_NODES_FIELDS = ['id', 'node_id', 'position']"
   ]
  },
  {
   "cell_type": "markdown",
   "metadata": {},
   "source": [
    "As in part 1, the get_element function will make it easier to access the xml data, using the iterparse method which iteratively steps through each top level element in the xml. "
   ]
  },
  {
   "cell_type": "code",
   "execution_count": 7,
   "metadata": {
    "collapsed": true
   },
   "outputs": [],
   "source": [
    "def get_element(osm_file, tags=('node', 'way', 'relation')):\n",
    "    \"\"\"Yield element if it is the right type of tag\"\"\"\n",
    "\n",
    "    context = ET.iterparse(osm_file, events=('start', 'end'))\n",
    "    _, root = next(context)\n",
    "    for event, elem in context:\n",
    "        if event == 'end' and elem.tag in tags:\n",
    "            yield elem\n",
    "            root.clear()"
   ]
  },
  {
   "cell_type": "markdown",
   "metadata": {},
   "source": [
    "### Subfunctions for data cleaning\n",
    "\n",
    "Deriving these functions were shown in Part 1.\n",
    "\n",
    "#### update_street_name function"
   ]
  },
  {
   "cell_type": "code",
   "execution_count": 8,
   "metadata": {
    "collapsed": true
   },
   "outputs": [],
   "source": [
    "def is_street_name(elem):\n",
    "    return (elem.attrib['k'] == \"addr:street\")"
   ]
  },
  {
   "cell_type": "code",
   "execution_count": 9,
   "metadata": {
    "collapsed": false
   },
   "outputs": [],
   "source": [
    "mapping_street = { \"St\": \"Street\",\n",
    "            \"St.\": \"Street\",\n",
    "            \"st\": \"Street\",\n",
    "            \"street\": \"Street\",\n",
    "            \"Street,\": \"Street\",\n",
    "            \"Ave\": \"Avenue\",\n",
    "            \"Ave.\": \"Avenue\",\n",
    "            \"Avene\": \"Avenue\",\n",
    "            \"Blvd\": \"Boulevard\",\n",
    "            \"Blvd.\": \"Boulevard\",\n",
    "            \"Boulevard,\": \"Boulevard\",\n",
    "            \"Blvd,\": \"Boulevard\",\n",
    "            \"Blvd.,\": \"Boulevard\",\n",
    "            \"Dr\": \"Drive\",\n",
    "            \"Dr.\": \"Drive\",\n",
    "            \"Ct\": \"Court\",\n",
    "            \"Ct.\": \"Court\",\n",
    "            \"court\": \"Court\",\n",
    "            \"Cv\": \"Cove\",\n",
    "            \"cove\": \"Cove\",\n",
    "            \"Cc\": \"Cove\",\n",
    "            \"Pl\": \"Place\",\n",
    "            \"Pl.\": \"Place\",\n",
    "            \"lane\": \"Lane\",\n",
    "            \"Ln\": \"Lane\",\n",
    "            \"Rd\": \"Road\", \n",
    "            \"Rd.\": \"Road\",\n",
    "            \"R\": \"Road\",\n",
    "            \"Trl\": \"Trail\",\n",
    "            \"Tr\": \"Trail\",\n",
    "            \"Pkwy\": \"Parkway\",\n",
    "            \"Hwy\": \"Highway\",\n",
    "            \"HWY\": \"Highway\",\n",
    "            \"Hwy,\": \"Highway\",\n",
    "            \"H\": \"Highway\",\n",
    "            \"I35\": \"Interstate Highway 35\",\n",
    "            \"IH35\": \"Interstate Highway 35\",\n",
    "            \"IH35,\": \"Interstate Highway 35\",\n",
    "            \"IH-35\": \"Interstate Highway 35\",\n",
    "            \"I-35\": \"Interstate Highway 35\",\n",
    "            \"IH\": \"Interstate Highway\",\n",
    "            \"I\": \"Interstate\",\n",
    "            \"35,\": \"35\",\n",
    "            \"main\": \"Main\",\n",
    "            \"N\": \"North\",\n",
    "            \"N.\": \"North\",\n",
    "            \"Ovlk\": \"Overlook\",\n",
    "            \"pass\": \"Pass\",\n",
    "            \"Ps\": \"Pass\",\n",
    "            \"W\": \"West\",\n",
    "            \"W.\": \"West\",\n",
    "            \"E\": \"East\",\n",
    "            \"E.\": \"East\",\n",
    "            \"texas\": \"Texas\",\n",
    "            \"TX\": \"Texas\",\n",
    "            \"FM\": \"Farm-to-Market Road\",\n",
    "            \"F.M.\": \"Farm-to-Market Road\",\n",
    "            \"U.S.\": \"United States\",\n",
    "            \"US\": \"United States\",\n",
    "            \"RM\": \"Ranch-to-Market Road\",\n",
    "            \"RM1431\": \"Ranch-to-Market Road 1431\",\n",
    "            \"RR\": \"Ranch Road\",\n",
    "            \"S\": \"South\",\n",
    "            \"S.\": \"South\",\n",
    "            \"south\": \"South\",\n",
    "            \"Bldg\": \"Building\",\n",
    "            \"Bldg.\": \"Building\",\n",
    "            \"Bld\": \"Building\",\n",
    "            \"Ste\": \"Suite\",\n",
    "            \"Ste,\": \"Suite\",\n",
    "            \"STE\": \"Suite\",\n",
    "            \"Ste.\": \"Suite\",\n",
    "            \"suite\": \"Suite\",\n",
    "            \"C\": \"Country\",\n",
    "            \"church\": \"Church\",\n",
    "            \"brigadoon\": \"Brigadoon\",\n",
    "            \"Drive/Rd\": \"Drive/Road\",\n",
    "            \"Mo-Pac\": \"MoPac\", \n",
    "            \"Avenue,Ste\": \"Avenue Suite\",\n",
    "            \"suite#L131\": \"Suite L131\"}"
   ]
  },
  {
   "cell_type": "markdown",
   "metadata": {},
   "source": [
    "##### Appends \"Highway\" if is it needed:"
   ]
  },
  {
   "cell_type": "code",
   "execution_count": 10,
   "metadata": {
    "collapsed": true
   },
   "outputs": [],
   "source": [
    "def append_highway(name):\n",
    "    newparts = []\n",
    "    parts = name.split()\n",
    "    for item in parts:\n",
    "        if (item == \"Interstate\" or item == \"States\") and \"Highway\" not in parts:\n",
    "            newparts.append(item)\n",
    "            newparts.append(\"Highway\")\n",
    "        else:\n",
    "            newparts.append(item)\n",
    "    name = ' '.join(newparts)\n",
    "    return name"
   ]
  },
  {
   "cell_type": "markdown",
   "metadata": {},
   "source": [
    "##### Updates the FM and RM roads:"
   ]
  },
  {
   "cell_type": "code",
   "execution_count": 11,
   "metadata": {
    "collapsed": false
   },
   "outputs": [],
   "source": [
    "def update_farm_ranch_to_market(name):\n",
    "    parts = name.split()\n",
    "    if \"Farm-to-Market\" in parts or \"Ranch-to-Market\" in parts:\n",
    "        if \"Road\" in parts:\n",
    "            return name\n",
    "        else:\n",
    "            try:\n",
    "                parts.insert(parts.index(\"Farm-to-Market\")+1, \"Road\")\n",
    "                name = \" \".join(parts)\n",
    "            except ValueError:\n",
    "                parts.insert(parts.index(\"Ranch-to-Market\")+1, \"Road\")  \n",
    "                name = \" \".join(parts)\n",
    "    elif \"Farm\" in parts and \"to\" in parts and \"Market\" in parts:\n",
    "        newname = []\n",
    "        for i in range(parts.index(\"Farm\")):\n",
    "            newname.append(parts[parts.index(i)])\n",
    "        newname.append(\"Farm-to-Market\")\n",
    "        newname += parts[parts.index(\"Market\")+1:]\n",
    "\n",
    "        if \"Road\" in parts:\n",
    "            name = \" \".join(newname)\n",
    "        else:\n",
    "            newname.insert(newname.index(\"Farm-to-Market\")+1,\"Road\")\n",
    "            name = \" \".join(newname)\n",
    "    \n",
    "    elif \"Ranch\" in parts and \"to\" in parts and \"Market\" in parts:\n",
    "        newname = []\n",
    "        for i in range(parts.index(\"Ranch\")):\n",
    "            newname.append(parts[parts.index(i)])\n",
    "        newname.append(\"Ranch-to-Market\")\n",
    "        newname += parts[parts.index(\"Market\")+1:]\n",
    "\n",
    "        if \"Road\" in parts:\n",
    "            name = \" \".join(newname)\n",
    "        else:\n",
    "            newname.insert(newname.index(\"Ranch-to-Market\")+1,\"Road\")\n",
    "            name = \" \".join(newname)\n",
    "        \n",
    "    return name"
   ]
  },
  {
   "cell_type": "markdown",
   "metadata": {},
   "source": [
    "##### Updates the name based on mapping dictionary and also fixes other items, such as St., N, C, I , H:"
   ]
  },
  {
   "cell_type": "code",
   "execution_count": 12,
   "metadata": {
    "collapsed": false
   },
   "outputs": [],
   "source": [
    "def update_name(name, mapping):\n",
    "    parts = name.split()\n",
    "    newparts = []\n",
    "    for item in parts:\n",
    "        if item == \"St\" and \"Rue\" in parts:\n",
    "            newparts.append(\"Saint\")\n",
    "        elif item == \"N\" or item == \"C\" or item == \"I\" or item == \"H\": \n",
    "            try:\n",
    "                if newparts[0] == \"Avenue\":\n",
    "                    newparts.append(item)\n",
    "                else:\n",
    "                    newparts.append(mapping[item])\n",
    "            except IndexError:\n",
    "                newparts.append(mapping[item])\n",
    "        else:\n",
    "            if item in mapping.keys():\n",
    "                newparts.append(mapping[item])\n",
    "            else:\n",
    "                newparts.append(item)\n",
    "    name = ' '.join(newparts)\n",
    "    name = append_highway(name)\n",
    "    name = update_farm_ranch_to_market(name)\n",
    "    return name"
   ]
  },
  {
   "cell_type": "markdown",
   "metadata": {},
   "source": [
    "#### update_phone function"
   ]
  },
  {
   "cell_type": "code",
   "execution_count": 13,
   "metadata": {
    "collapsed": true
   },
   "outputs": [],
   "source": [
    "def is_phone(element):\n",
    "    return (element.attrib['k'] == \"phone\" or element.attrib['k'] == \"contact:phone\")"
   ]
  },
  {
   "cell_type": "code",
   "execution_count": 14,
   "metadata": {
    "collapsed": true
   },
   "outputs": [],
   "source": [
    "def update_phone(number):\n",
    "    phone_re = re.compile(r'^\\d\\d\\d\\-\\d\\d\\d\\-\\d\\d\\d\\d$')\n",
    "    if phone_re.search(number) == None:\n",
    "        phno = []\n",
    "        number = list(number.lstrip(\"+1\"))\n",
    "        for char in number:\n",
    "            try:\n",
    "                if int(char) in [x for x in range(10)]:\n",
    "                    if len(phno) == 10:\n",
    "                        continue\n",
    "                    phno.append(char)\n",
    "            except ValueError:\n",
    "                continue\n",
    "        number = \"\".join(phno)\n",
    "        number = number[:3] + \"-\" + number[3:6] + \"-\" + number[6:]\n",
    "                    \n",
    "    return number"
   ]
  },
  {
   "cell_type": "markdown",
   "metadata": {},
   "source": [
    "#### update_postcode function"
   ]
  },
  {
   "cell_type": "code",
   "execution_count": 15,
   "metadata": {
    "collapsed": true
   },
   "outputs": [],
   "source": [
    "def is_postcode(element):\n",
    "    return (element.attrib['k'] == \"addr:postcode\" or element.attrib['k'] == \"postal_code\")"
   ]
  },
  {
   "cell_type": "code",
   "execution_count": 16,
   "metadata": {
    "collapsed": false
   },
   "outputs": [],
   "source": [
    "def update_postcode(postcode):\n",
    "    try:\n",
    "        postcode = re.compile(r'7\\d\\d\\d\\d').search(postcode).group()\n",
    "    except AttributeError:\n",
    "        postcode = 'None'\n",
    "    return postcode"
   ]
  },
  {
   "cell_type": "markdown",
   "metadata": {},
   "source": [
    "#### update_city function"
   ]
  },
  {
   "cell_type": "code",
   "execution_count": 17,
   "metadata": {
    "collapsed": true
   },
   "outputs": [],
   "source": [
    "def is_city(element):\n",
    "    return element.attrib['k'] == \"addr:city\""
   ]
  },
  {
   "cell_type": "code",
   "execution_count": 18,
   "metadata": {
    "collapsed": true
   },
   "outputs": [],
   "source": [
    "expectedcities = ['Austin', 'Buda', 'Round Rock', 'Leander', 'Lago Vista', 'Kyle', 'Pflugerville',\n",
    "                  'Cedar Park', 'Manchaca', 'Del Valle', 'Dripping Springs', 'Bee Cave', 'Bastrop', \n",
    "                  'Cedar Creek', 'Creedmoor', 'Driftwood', 'Elgin', 'Georgetown', 'Hutto', \n",
    "                  'Jonestown', 'Lakeway', 'Lost Pines', 'Manor', 'Maxwell', 'San Marcos', \n",
    "                  'Smithville', 'Spicewood', 'Sunset Valley', 'Taylor', 'Webberville', \n",
    "                  'West Lake Hills', 'Wimberley']"
   ]
  },
  {
   "cell_type": "code",
   "execution_count": 19,
   "metadata": {
    "collapsed": false
   },
   "outputs": [],
   "source": [
    "mapping_city = {\n",
    "    \"austin\": \"Austin\",\n",
    "    \"Austin, TX\": \"Austin\",\n",
    "    \"Cedar Park, TX\": \"Cedar Park\",\n",
    "    \"Round Rock, TX\": \"Round Rock\",\n",
    "    \"Dripping Springs, TX\": \"Dripping Springs\",\n",
    "    \"Westlake Hills, TX\": \"West Lake Hills\",\n",
    "    \"kyle\": \"Kyle\",\n",
    "    \"Austin;TX;USA\": \"Austin\",\n",
    "    \"Barton Creek\": \"Austin\",\n",
    "    \"Austin, Tx\": \"Austin\",\n",
    "    \"Taylor, TX\": \"Taylor\",\n",
    "    \"San Gabriel Village Boulevard\": \"Georgetown\",\n",
    "    \"Spicewood, TX\": \"Spicewood\",\n",
    "    \"Ste 128, Austin\": \"Austin\",\n",
    "    \"Pflugerville, TX\": \"Pflugerville\",\n",
    "    \"Manchaca,\": \"Manchacha\",\n",
    "    \"Elgin, TX\": \"Elgin\",\n",
    "    \"Kyle, TX\": \"Kyle\",\n",
    "    \"Dripping Springs, Tx\": \"Dripping Springs\",\n",
    "    \"Bastrop, TX\": \"Bastrop\",\n",
    "    \"Georgetown, TX\": \"Georgetown\",\n",
    "    \"Dripping Springs TX\": \"Dripping Springs\",\n",
    "    \"Leander, TX\": \"Leander\",\n",
    "    \"N Austin\": \"Austin\"\n",
    "}"
   ]
  },
  {
   "cell_type": "code",
   "execution_count": 20,
   "metadata": {
    "collapsed": true
   },
   "outputs": [],
   "source": [
    "def update_city(city, expectedcities, mapping_city):\n",
    "    if city not in expectedcities:\n",
    "        if city in mapping_city.keys():\n",
    "            city = mapping_city[city]\n",
    "        else:\n",
    "            city = \"None\"\n",
    "    return city"
   ]
  },
  {
   "cell_type": "markdown",
   "metadata": {},
   "source": [
    "#### Clean function: combination of all update functions"
   ]
  },
  {
   "cell_type": "code",
   "execution_count": 21,
   "metadata": {
    "collapsed": true
   },
   "outputs": [],
   "source": [
    "def clean(value, tag, mapping_street, expectedcities, mapping_city):\n",
    "    if is_street_name(tag):\n",
    "        value = update_name(value, mapping_street)\n",
    "    elif is_phone(tag):\n",
    "        value = update_phone(value)\n",
    "    elif is_postcode(tag):\n",
    "        value = update_postcode(value)\n",
    "    elif is_city(tag):\n",
    "        value = update_city(value, expectedcities, mapping_city)\n",
    "    return value"
   ]
  },
  {
   "cell_type": "markdown",
   "metadata": {},
   "source": [
    "### Functions for extracting data into csv files"
   ]
  },
  {
   "cell_type": "code",
   "execution_count": 22,
   "metadata": {
    "collapsed": false
   },
   "outputs": [],
   "source": [
    "def shape_element(element, node_attr_fields=NODE_FIELDS, way_attr_fields=WAY_FIELDS,\n",
    "                  problem_chars=PROBLEMCHARS, lower_colon=LOWER_COLON, default_tag_type='regular'):\n",
    "    \"\"\"Clean and shape node or way XML element to Python dict\"\"\"\n",
    "\n",
    "    node_attribs = {}\n",
    "    way_attribs = {}\n",
    "    way_nodes = []\n",
    "    tags = []  # Handle secondary tags the same way for both node and way elements\n",
    "\n",
    "    if element.tag == 'node':\n",
    "        for field in node_attr_fields:\n",
    "            \n",
    "            # Makes sure that the empty fields are field with appropriate values:\n",
    "            if element.attrib[field] == '':\n",
    "                node_attribs[field] = '999999'\n",
    "            else:\n",
    "                node_attribs[field] = element.attrib[field]\n",
    "    \n",
    "        for tag in element.iter(\"tag\"):\n",
    "            nodetags = {}\n",
    "            if element.attrib['id'] == '':\n",
    "                nodetags['id'] = '999999'\n",
    "            else:\n",
    "                nodetags['id'] = element.attrib['id']\n",
    "                \n",
    "            # Adding the nodetags['type'] and nodetags['key'] values and fixing them:\n",
    "            \n",
    "            if problem_chars.search(tag.attrib['k']) != None:\n",
    "                continue  # any k values with problematic characters are ignored/removed\n",
    "                \n",
    "            else:\n",
    "                if lower_colon.search(tag.attrib['k']) != None:\n",
    "                    kvalue = tag.attrib['k'].split(\":\")\n",
    "                    nodetags['type'] = kvalue[0]  # the first string becomes the type\n",
    "                    \n",
    "                    if len(kvalue) == 2:                        \n",
    "                        nodetags['key'] = kvalue[1] # the second string (if there's only one colon, \n",
    "                                                    # becomes the key value\n",
    "                    else:\n",
    "                        nodetags['key'] = ':'.join(kvalue[1:]) # if there are more than one colon, \n",
    "                                                               # the rest are joined to become the key value\n",
    "                        \n",
    "                else:\n",
    "                    nodetags['type'] = default_tag_type\n",
    "                    nodetags['key'] = tag.attrib['k']\n",
    "            \n",
    "            if tag.attrib['v'] == '':\n",
    "                nodetags['value'] == 'None' # makes sure that if the field is empty, it is field with 'None' (str)\n",
    "                \n",
    "            else:\n",
    "                # cleaning of v attributes values:\n",
    "                nodetags['value'] = clean(tag.attrib['v'], tag, mapping_street, expectedcities, mapping_city)\n",
    "                \n",
    "            tags.append(nodetags)\n",
    "        \n",
    "        return {'node': node_attribs, 'node_tags': tags}\n",
    "\n",
    "    elif element.tag == 'way':\n",
    "        for field in way_attr_fields:\n",
    "            if element.attrib[field] == '':\n",
    "                way_attribs[field] = '999999'\n",
    "            else:\n",
    "                way_attribs[field] = element.attrib[field]\n",
    "        \n",
    "        for tag in element.iter(\"tag\"):\n",
    "            waytags = {}\n",
    "            if element.attrib['id'] == '':\n",
    "                waytags['id'] = '999999'\n",
    "            else:\n",
    "                waytags['id'] = element.attrib['id']\n",
    "           \n",
    "            if problem_chars.search(tag.attrib['k']) != None:\n",
    "                continue\n",
    "            else:\n",
    "                if lower_colon.search(tag.attrib['k']) != None:\n",
    "                    kvalue = tag.attrib['k'].split(\":\")\n",
    "                    waytags['type'] = kvalue[0]\n",
    "\n",
    "                    if len(kvalue) == 2:\n",
    "                        waytags['key'] = kvalue[1]\n",
    "                        \n",
    "                    else:\n",
    "                        waytags['key'] = ':'.join(kvalue[1:])\n",
    "                \n",
    "                else:\n",
    "                    waytags['type'] = default_tag_type\n",
    "                    waytags['key'] = tag.attrib['k']\n",
    "                    \n",
    "            if tag.attrib['v'] == '':\n",
    "                waytags['value'] = 'None'\n",
    "            else:\n",
    "                waytags['value'] = clean(tag.attrib['v'], tag, mapping_street, expectedcities, mapping_city)\n",
    "        \n",
    "            tags.append(waytags)\n",
    "                \n",
    "        position = 0\n",
    "        for waytag in element.iter(\"nd\"):\n",
    "            waynd = {}\n",
    "            if element.attrib['id'] == '':\n",
    "                waynd['id'] = '999999'\n",
    "            else:\n",
    "                waynd['id'] = element.attrib['id']\n",
    "            if waytag.attrib['ref'] == '':\n",
    "                waynd['node_id'] = '999999'\n",
    "            else:\n",
    "                waynd['node_id'] = waytag.attrib['ref']\n",
    "\n",
    "            waynd['position'] = position\n",
    "            position += 1\n",
    "            \n",
    "            way_nodes.append(waynd)\n",
    "        \n",
    "        return {'way': way_attribs, 'way_nodes': way_nodes, 'way_tags': tags}"
   ]
  },
  {
   "cell_type": "markdown",
   "metadata": {
    "collapsed": false
   },
   "source": [
    "####### version provided by Myles\n",
    "\n",
    "def validate_element(element, validator, schema=SCHEMA):\n",
    "    \n",
    "    \"\"\"Raise ValidationError if element does not match schema\"\"\"\n",
    "    \n",
    "    if validator.validate(element, schema) is not True:\n",
    "    \n",
    "        field, errors = next(validator.errors.iteritems())\n",
    "        \n",
    "        message_string = \"\\nElement of type '{0}' has the following errors:\\n{1}\"\n",
    "        \n",
    "        error_strings = pprint.pformat(errors)\n",
    "        \n",
    "        raise Exception(message_string.format(field,error_strings))"
   ]
  },
  {
   "cell_type": "code",
   "execution_count": 23,
   "metadata": {
    "collapsed": false
   },
   "outputs": [],
   "source": [
    "def validate_element(element, validator, schema=SCHEMA):\n",
    "    \"\"\"Raise ValidationError if element does not match schema\"\"\"\n",
    "    if validator.validate(element, schema) is not True:\n",
    "        field, errors = next(validator.errors.iteritems())\n",
    "        message_string = \"\\nElement of type '{0}' has the following errors:\\n{1}\"\n",
    "        error_strings = (\n",
    "            \"{0}: {1}\".format(k, v if isinstance(v, str) else \",\".join(v))\n",
    "            for k, v in errors.iteritems()\n",
    "        )                 \n",
    "        raise cerberus.ValidationError(\n",
    "            message_string.format(field, \"\\n\".join(error_strings))\n",
    "        )"
   ]
  },
  {
   "cell_type": "code",
   "execution_count": 24,
   "metadata": {
    "collapsed": false
   },
   "outputs": [],
   "source": [
    "class UnicodeDictWriter(csv.DictWriter, object):\n",
    "    \"\"\"Extend csv.DictWriter to handle Unicode input\"\"\"\n",
    "\n",
    "    def writerow(self, row):\n",
    "        super(UnicodeDictWriter, self).writerow({\n",
    "            k: (v.encode('utf-8') if isinstance(v, unicode) else v) for k, v in row.iteritems()\n",
    "        })\n",
    "\n",
    "    def writerows(self, rows):\n",
    "        for row in rows:\n",
    "            self.writerow(row)"
   ]
  },
  {
   "cell_type": "code",
   "execution_count": 25,
   "metadata": {
    "collapsed": true
   },
   "outputs": [],
   "source": [
    "def process_map_db(file_in, validate):\n",
    "    \"\"\"Iteratively process each XML element and write to csv(s)\"\"\"\n",
    "\n",
    "    with codecs.open(NODES_PATH, 'w') as nodes_file, codecs.open(NODE_TAGS_PATH, 'w') as nodes_tags_file, codecs.open(WAYS_PATH, 'w') as ways_file, codecs.open(WAY_NODES_PATH, 'w') as way_nodes_file, codecs.open(WAY_TAGS_PATH, 'w') as way_tags_file:\n",
    "        nodes_writer = UnicodeDictWriter(nodes_file, NODE_FIELDS)\n",
    "        node_tags_writer = UnicodeDictWriter(nodes_tags_file, NODE_TAGS_FIELDS)\n",
    "        ways_writer = UnicodeDictWriter(ways_file, WAY_FIELDS)\n",
    "        way_nodes_writer = UnicodeDictWriter(way_nodes_file, WAY_NODES_FIELDS)\n",
    "        way_tags_writer = UnicodeDictWriter(way_tags_file, WAY_TAGS_FIELDS)\n",
    "\n",
    "        nodes_writer.writeheader()\n",
    "        node_tags_writer.writeheader()\n",
    "        ways_writer.writeheader()\n",
    "        way_nodes_writer.writeheader()\n",
    "        way_tags_writer.writeheader()\n",
    "\n",
    "        validator = cerberus.Validator()\n",
    "\n",
    "        for element in get_element(file_in, tags=('node', 'way')):\n",
    "            el = shape_element(element)\n",
    "            if el:\n",
    "                if validate is True:\n",
    "                    validate_element(el, validator)\n",
    "\n",
    "                if element.tag == 'node':\n",
    "                    nodes_writer.writerow(el['node'])\n",
    "                    node_tags_writer.writerows(el['node_tags'])\n",
    "                elif element.tag == 'way':\n",
    "                    ways_writer.writerow(el['way'])\n",
    "                    way_nodes_writer.writerows(el['way_nodes'])\n",
    "                    way_tags_writer.writerows(el['way_tags'])"
   ]
  },
  {
   "cell_type": "markdown",
   "metadata": {},
   "source": [
    "### Processing the sample file (validation False):\n",
    "\n",
    "MacBook Pro Intel Core I7 2.66GHz, 8GB 1067 MHz DDR3 (Mid-2010) OS X El Capitan"
   ]
  },
  {
   "cell_type": "code",
   "execution_count": 39,
   "metadata": {
    "collapsed": false
   },
   "outputs": [
    {
     "name": "stdout",
     "output_type": "stream",
     "text": [
      "procesing_time:  54.7 s\n"
     ]
    }
   ],
   "source": [
    "from time import time\n",
    "t0 = time()\n",
    "process_map_db(SAMPLE_FILE, validate=False)\n",
    "print \"procesing_time: \", round(time() - t0, 3), \"s\""
   ]
  },
  {
   "cell_type": "markdown",
   "metadata": {},
   "source": [
    "Dell Studio XPS 435T PC desktop Intel Core I7 920 @ 2.67GHz 8GB, Windows7"
   ]
  },
  {
   "cell_type": "code",
   "execution_count": 27,
   "metadata": {
    "collapsed": false
   },
   "outputs": [
    {
     "name": "stdout",
     "output_type": "stream",
     "text": [
      "procesing_time:  40.114 s\n"
     ]
    }
   ],
   "source": [
    "from time import time\n",
    "t0 = time()\n",
    "process_map_db(SAMPLE_FILE, validate=False)\n",
    "print \"procesing_time: \", round(time() - t0, 3), \"s\""
   ]
  },
  {
   "cell_type": "markdown",
   "metadata": {},
   "source": [
    "### Processing the whole file:\n",
    "\n",
    "Dell Studio XPS 435T PC desktop Intel Core I7 920 @ 2.67GHz 8GB, Windows7\n",
    "\n",
    "validate=False:"
   ]
  },
  {
   "cell_type": "code",
   "execution_count": 26,
   "metadata": {
    "collapsed": false
   },
   "outputs": [
    {
     "name": "stdout",
     "output_type": "stream",
     "text": [
      "procesing_time:  409.512 s\n"
     ]
    }
   ],
   "source": [
    "from time import time\n",
    "t0 = time()\n",
    "process_map_db(OSM_FILE, validate=False)\n",
    "print \"procesing_time: \", round(time() - t0, 3), \"s\""
   ]
  },
  {
   "cell_type": "markdown",
   "metadata": {
    "collapsed": true
   },
   "source": [
    "validate=True"
   ]
  },
  {
   "cell_type": "code",
   "execution_count": 28,
   "metadata": {
    "collapsed": false
   },
   "outputs": [
    {
     "name": "stdout",
     "output_type": "stream",
     "text": [
      "procesing_time:  16756.77 s\n"
     ]
    }
   ],
   "source": [
    "from time import time\n",
    "t0 = time()\n",
    "process_map_db(OSM_FILE, validate=True)\n",
    "print \"procesing_time: \", round(time() - t0, 3), \"s\""
   ]
  },
  {
   "cell_type": "markdown",
   "metadata": {
    "collapsed": true
   },
   "source": [
    "Previous run (clean function not correct):"
   ]
  },
  {
   "cell_type": "code",
   "execution_count": 53,
   "metadata": {
    "collapsed": false
   },
   "outputs": [
    {
     "name": "stdout",
     "output_type": "stream",
     "text": [
      "procesing_time:  17157.326 s\n"
     ]
    }
   ],
   "source": [
    "t0 = time()\n",
    "process_map_db(OSM_FILE, validate=True)\n",
    "print \"procesing_time: \", round(time() - t0, 3), \"s\""
   ]
  },
  {
   "cell_type": "code",
   "execution_count": null,
   "metadata": {
    "collapsed": true
   },
   "outputs": [],
   "source": []
  },
  {
   "cell_type": "code",
   "execution_count": null,
   "metadata": {
    "collapsed": true
   },
   "outputs": [],
   "source": []
  }
 ],
 "metadata": {
  "anaconda-cloud": {},
  "kernelspec": {
   "display_name": "Python [default]",
   "language": "python",
   "name": "python2"
  },
  "language_info": {
   "codemirror_mode": {
    "name": "ipython",
    "version": 2
   },
   "file_extension": ".py",
   "mimetype": "text/x-python",
   "name": "python",
   "nbconvert_exporter": "python",
   "pygments_lexer": "ipython2",
   "version": "2.7.12"
  }
 },
 "nbformat": 4,
 "nbformat_minor": 0
}
