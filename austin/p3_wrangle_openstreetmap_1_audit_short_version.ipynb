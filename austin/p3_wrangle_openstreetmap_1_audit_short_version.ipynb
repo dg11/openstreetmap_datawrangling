{
 "cells": [
  {
   "cell_type": "markdown",
   "metadata": {},
   "source": [
    "# P3: Wrangling OpenStreetMap Data of Austin, TX\n",
    "\n",
    "## Part 1. Exploring and auditing data"
   ]
  },
  {
   "cell_type": "markdown",
   "metadata": {},
   "source": [
    "## Data\n",
    "\n",
    "This project looks at the Austin, TX area, where I live. As delineated in the class, the data was obtained by downloading an already-prepared extract which I found in the link below:\n",
    "\n",
    "https://mapzen.com/data/metro-extracts/metro/austin_texas/\n",
    "\n",
    "The 66MB raw OpenStreetMap OSM XML dataset was chosen. After unzipping, the file was about 1.4 GB dataset. Opening this dataset using Sublime took a while."
   ]
  },
  {
   "cell_type": "markdown",
   "metadata": {},
   "source": [
    "## Obtaining a sample data set\n",
    "\n",
    "Since the data were too large to do preliminary investigation, a sample was taken using the code provided in the project details instructions. This smaller data were produced by taking only the 10th top level element in the xml tree."
   ]
  },
  {
   "cell_type": "code",
   "execution_count": 1,
   "metadata": {
    "collapsed": true
   },
   "outputs": [],
   "source": [
    "import xml.etree.cElementTree as ET"
   ]
  },
  {
   "cell_type": "code",
   "execution_count": 2,
   "metadata": {
    "collapsed": true
   },
   "outputs": [],
   "source": [
    "def get_element(osm_file, tags=('node', 'way', 'relation')):\n",
    "    \"\"\"Yield element if it is the right type of tag\"\"\"\n",
    "\n",
    "    context = ET.iterparse(osm_file, events=('start', 'end'))\n",
    "    _, root = next(context)\n",
    "    for event, elem in context:\n",
    "        if event == 'end' and elem.tag in tags:\n",
    "            yield elem\n",
    "            root.clear()"
   ]
  },
  {
   "cell_type": "code",
   "execution_count": 3,
   "metadata": {
    "collapsed": true
   },
   "outputs": [],
   "source": [
    "OSM_FILE = \"austin_texas.osm\"\n",
    "SAMPLE_FILE = \"sample.osm\"\n",
    "k = 10"
   ]
  },
  {
   "cell_type": "code",
   "execution_count": 4,
   "metadata": {
    "collapsed": false
   },
   "outputs": [],
   "source": [
    "with open(SAMPLE_FILE, 'wb') as output:\n",
    "    output.write('<?xml version=\"1.0\" encoding=\"UTF-8\"?>\\n')\n",
    "    output.write('<osm>\\n  ')\n",
    "\n",
    "    # Write every kth top level element\n",
    "    for i, element in enumerate(get_element(OSM_FILE)):\n",
    "        if i % k == 0:\n",
    "            output.write(ET.tostring(element, encoding='utf-8'))\n",
    "\n",
    "    output.write('</osm>')"
   ]
  },
  {
   "cell_type": "markdown",
   "metadata": {},
   "source": [
    "##### The link to the sample.osm is here: https://www.dropbox.com/s/6xmlte2z3mkr1ed/austin_texas.osm?dl=0"
   ]
  },
  {
   "cell_type": "markdown",
   "metadata": {},
   "source": [
    "#### Alternative way of examining smaller data set\n",
    "\n",
    "In some cases, the complete data were used but instead of iterating through all the elements, the number of iterations was set to a certain number. For example:"
   ]
  },
  {
   "cell_type": "code",
   "execution_count": 5,
   "metadata": {
    "collapsed": false
   },
   "outputs": [
    {
     "data": {
      "image/png": "[encoded data removed]",
      "text/plain": [
       "<IPython.core.display.Image object>"
      ]
     },
     "execution_count": 5,
     "metadata": {},
     "output_type": "execute_result"
    }
   ],
   "source": [
    "from IPython.display import Image\n",
    "Image(\"counter.png\")"
   ]
  },
  {
   "cell_type": "markdown",
   "metadata": {},
   "source": [
    "## Exploration of Dataset"
   ]
  },
  {
   "cell_type": "markdown",
   "metadata": {
    "collapsed": true
   },
   "source": [
    "### High Level Tags"
   ]
  },
  {
   "cell_type": "markdown",
   "metadata": {},
   "source": [
    "To determine the number of high level tags the dataset has, iterative parsing is done. The tags can be counted using a defaultdict."
   ]
  },
  {
   "cell_type": "code",
   "execution_count": 6,
   "metadata": {
    "collapsed": true
   },
   "outputs": [],
   "source": [
    "import xml.etree.cElementTree as ET\n",
    "from collections import defaultdict\n",
    "import pprint"
   ]
  },
  {
   "cell_type": "code",
   "execution_count": 7,
   "metadata": {
    "collapsed": true
   },
   "outputs": [],
   "source": [
    "def count_tags(filename):\n",
    "    tag_counts = defaultdict(int)\n",
    "    for event, elem in ET.iterparse(filename):\n",
    "        tag_counts[elem.tag] += 1\n",
    "    return tag_counts"
   ]
  },
  {
   "cell_type": "markdown",
   "metadata": {},
   "source": [
    "Examination of high level tags in the whole dataset:"
   ]
  },
  {
   "cell_type": "code",
   "execution_count": 6,
   "metadata": {
    "collapsed": false
   },
   "outputs": [],
   "source": [
    "tags = count_tags(OSM_FILE)"
   ]
  },
  {
   "cell_type": "code",
   "execution_count": 7,
   "metadata": {
    "collapsed": false
   },
   "outputs": [
    {
     "name": "stdout",
     "output_type": "stream",
     "text": [
      "{'bounds': 1,\n",
      " 'member': 20197,\n",
      " 'nd': 6985591,\n",
      " 'node': 6356394,\n",
      " 'osm': 1,\n",
      " 'relation': 2357,\n",
      " 'tag': 2377504,\n",
      " 'way': 666390}\n"
     ]
    }
   ],
   "source": [
    "pprint.pprint(dict(tags))"
   ]
  },
  {
   "cell_type": "markdown",
   "metadata": {},
   "source": [
    "### Checking the k values"
   ]
  },
  {
   "cell_type": "markdown",
   "metadata": {},
   "source": [
    "Checking the k values will give us an idea of how much parameters we're dealing with. The following is the code from the quiz from the case study:"
   ]
  },
  {
   "cell_type": "code",
   "execution_count": 8,
   "metadata": {
    "collapsed": true
   },
   "outputs": [],
   "source": [
    "import re"
   ]
  },
  {
   "cell_type": "markdown",
   "metadata": {},
   "source": [
    "The quiz introduced the following regex expressions, which were contructed based on prior knowledge of the structure/format of the k values. \n",
    "\n",
    "The \"lower\" regex is meant to look for any word that must start with a character from a-z or could contain an underscore.  \n",
    "\n",
    "The \"lower_colon\" regex represents values with a colon.\n",
    "\n",
    "\"Problemchars\" are those that have any of the characters within the square brackets."
   ]
  },
  {
   "cell_type": "code",
   "execution_count": 9,
   "metadata": {
    "collapsed": true
   },
   "outputs": [],
   "source": [
    "lower = re.compile(r'^([a-z]|_)*$')\n",
    "lower_colon = re.compile(r'^([a-z]|_)*:([a-z]|_)*$')\n",
    "problemchars = re.compile(r'[=\\+/&<>;\\'\"\\?%#$@\\,\\. \\t\\r\\n]')"
   ]
  },
  {
   "cell_type": "code",
   "execution_count": 10,
   "metadata": {
    "collapsed": false
   },
   "outputs": [],
   "source": [
    "def key_type(element, keys):\n",
    "    if element.tag == 'tag':\n",
    "        try:\n",
    "            lower.search(element.attrib['k']).group()\n",
    "            keys[\"lower\"] += 1\n",
    "        except AttributeError:\n",
    "            try:\n",
    "                lower_colon.search(element.attrib['k']).group()\n",
    "                keys[\"lower_colon\"] += 1\n",
    "            except AttributeError:\n",
    "                try:\n",
    "                    problemchars.search(element.attrib['k']).group()\n",
    "                    keys[\"problemchars\"] += 1\n",
    "                except AttributeError:\n",
    "                    keys[\"other\"] += 1\n",
    "    return keys"
   ]
  },
  {
   "cell_type": "code",
   "execution_count": 11,
   "metadata": {
    "collapsed": true
   },
   "outputs": [],
   "source": [
    "def process_map_tagtypes(filename):\n",
    "    keys = {\"lower\": 0, \"lower_colon\": 0, \"problemchars\": 0, \"other\":0}\n",
    "    for _, element in ET.iterparse(filename):\n",
    "        keys = key_type(element, keys)\n",
    "    return keys"
   ]
  },
  {
   "cell_type": "code",
   "execution_count": 12,
   "metadata": {
    "collapsed": false
   },
   "outputs": [],
   "source": [
    "keys = process_map_tagtypes(OSM_FILE)"
   ]
  },
  {
   "cell_type": "code",
   "execution_count": 13,
   "metadata": {
    "collapsed": false
   },
   "outputs": [
    {
     "name": "stdout",
     "output_type": "stream",
     "text": [
      "{'lower': 1297812, 'lower_colon': 1067727, 'other': 11964, 'problemchars': 1}\n"
     ]
    }
   ],
   "source": [
    "pprint.pprint(keys)"
   ]
  },
  {
   "cell_type": "markdown",
   "metadata": {},
   "source": [
    "### Exploring Users"
   ]
  },
  {
   "cell_type": "markdown",
   "metadata": {},
   "source": [
    "This gives how many users have contributed to the Austin, TX osm file."
   ]
  },
  {
   "cell_type": "code",
   "execution_count": 14,
   "metadata": {
    "collapsed": true
   },
   "outputs": [],
   "source": [
    "def get_user(element):\n",
    "    return"
   ]
  },
  {
   "cell_type": "code",
   "execution_count": 15,
   "metadata": {
    "collapsed": true
   },
   "outputs": [],
   "source": [
    "def process_map_users(filename):\n",
    "    users = set()\n",
    "    for _, element in ET.iterparse(filename):\n",
    "        for key in element.attrib:\n",
    "            if key == 'uid':\n",
    "                users.add(element.attrib[key])\n",
    "    return users"
   ]
  },
  {
   "cell_type": "code",
   "execution_count": 16,
   "metadata": {
    "collapsed": false
   },
   "outputs": [],
   "source": [
    "users = process_map_users(OSM_FILE)"
   ]
  },
  {
   "cell_type": "code",
   "execution_count": 17,
   "metadata": {
    "collapsed": false
   },
   "outputs": [
    {
     "data": {
      "text/plain": [
       "1155"
      ]
     },
     "execution_count": 17,
     "metadata": {},
     "output_type": "execute_result"
    }
   ],
   "source": [
    "len(users)"
   ]
  },
  {
   "cell_type": "markdown",
   "metadata": {},
   "source": [
    "### Auditing and Improving Street Names "
   ]
  },
  {
   "cell_type": "markdown",
   "metadata": {
    "collapsed": true
   },
   "source": [
    "Auditing the osmfile and using the variable 'mapping', check to see the changes needed to fix the unexpected street types to the appropriate ones in the expected list."
   ]
  },
  {
   "cell_type": "markdown",
   "metadata": {},
   "source": [
    "The following regex was used to look for street names."
   ]
  },
  {
   "cell_type": "code",
   "execution_count": 12,
   "metadata": {
    "collapsed": true
   },
   "outputs": [],
   "source": [
    "street_type_re = re.compile(r'\\b\\S+\\.?$', re.IGNORECASE)"
   ]
  },
  {
   "cell_type": "markdown",
   "metadata": {},
   "source": [
    "During auditing, street names that have the following elements to the expected list are omitted."
   ]
  },
  {
   "cell_type": "code",
   "execution_count": 13,
   "metadata": {
    "collapsed": true
   },
   "outputs": [],
   "source": [
    "expected = [\"Street\", \"Avenue\", \"Boulevard\", \"Drive\", \"Court\", \"Place\", \"Square\", \"Lane\", \"Road\", \n",
    "            \"Trail\", \"Parkway\", \"Commons\", \"Cove\", \"Highway\", \"Lane\"]"
   ]
  },
  {
   "cell_type": "markdown",
   "metadata": {},
   "source": [
    "audit_street_type function searches for the street name using the regex and adding the name to a set."
   ]
  },
  {
   "cell_type": "code",
   "execution_count": 14,
   "metadata": {
    "collapsed": true
   },
   "outputs": [],
   "source": [
    "def audit_street_type(street_types, street_name):\n",
    "    m = street_type_re.search(street_name)\n",
    "    if m:\n",
    "        street_type = m.group()\n",
    "        if street_type not in expected:\n",
    "            street_types[street_type].add(street_name)"
   ]
  },
  {
   "cell_type": "markdown",
   "metadata": {},
   "source": [
    "The function below determines whether a tag value is a street name."
   ]
  },
  {
   "cell_type": "code",
   "execution_count": 15,
   "metadata": {
    "collapsed": true
   },
   "outputs": [],
   "source": [
    "def is_street_name(elem):\n",
    "    return (elem.attrib['k'] == \"addr:street\")"
   ]
  },
  {
   "cell_type": "markdown",
   "metadata": {},
   "source": [
    "Audits the osm file."
   ]
  },
  {
   "cell_type": "code",
   "execution_count": 16,
   "metadata": {
    "collapsed": true
   },
   "outputs": [],
   "source": [
    "def audit(osmfile):\n",
    "    osm_file = open(osmfile, \"r\")\n",
    "    street_types = defaultdict(set)\n",
    "    for event, elem in ET.iterparse(osm_file, events=(\"start\",)):\n",
    "        if elem.tag == \"node\" or elem.tag == \"way\":\n",
    "            for tag in elem.iter(\"tag\"):\n",
    "                if is_street_name(tag):\n",
    "                    audit_street_type(street_types, tag.attrib['v'])\n",
    "    osm_file.close()\n",
    "    return street_types"
   ]
  },
  {
   "cell_type": "markdown",
   "metadata": {},
   "source": [
    "Auditing the sample osm file:"
   ]
  },
  {
   "cell_type": "code",
   "execution_count": 24,
   "metadata": {
    "collapsed": false
   },
   "outputs": [],
   "source": [
    "st_types = audit(OSM_FILE)"
   ]
  },
  {
   "cell_type": "markdown",
   "metadata": {},
   "source": [
    "##### Street names to update:"
   ]
  },
  {
   "cell_type": "markdown",
   "metadata": {},
   "source": [
    "After printing out st_types, it was seen that abbreviated street names need to be spelled out. Not only are street names abbreviated, but they are also abbreviated differently. An example of a case where everything needs to be consistent is the Interstate Highway 35, which is referred to by any of the following values found in the data:\n",
    "\n",
    "\"IH35\"\n",
    "\"I35\"\n",
    "\"I 35\"\n",
    "\"I H 35\"\n",
    "\n",
    "Another complicated case was the Farm-to-Market and Ranch-to-Market roads. Examples are:\n",
    "\n",
    "\"Farm to Market 620\"\n",
    "\"Farm to Market Road 620\"\n",
    "\"FM 620\"\n",
    "\"FM1431\"\n",
    "\n",
    "Cleaning up N (north), I (interstate), H (Highway), E (east) and other single letter abbreviations was needed but this complicated the streets that have values \"Avenue N\", \"Avenue I\", \"Avenue H\", \"Avenue E\".\n",
    "\n",
    "Cleaning up St (street) complicated the streets with St for \"Saint\" (for example, \"Rue de Saint Tropez\" which was abbreviated \"Rue de St Tropez\".\n",
    "\n",
    "All of these were addressed by creating functions shown below. However, some cases were ignored, such as \"Highway Interstate 35\" which should be \"Interstate Highway 35\".\n",
    "\n",
    "To aid in cleaning, the mapping dictionary below was created. The keys are the items to be fixed, and the values are what the keys should be after fixing."
   ]
  },
  {
   "cell_type": "code",
   "execution_count": 46,
   "metadata": {
    "collapsed": false
   },
   "outputs": [],
   "source": [
    "mapping_street = { \"St\": \"Street\",\n",
    "            \"St.\": \"Street\",\n",
    "            \"st\": \"Street\",\n",
    "            \"street\": \"Street\",\n",
    "            \"Street,\": \"Street\",\n",
    "            \"Ave\": \"Avenue\",\n",
    "            \"Ave.\": \"Avenue\",\n",
    "            \"Avene\": \"Avenue\",\n",
    "            \"Blvd\": \"Boulevard\",\n",
    "            \"Blvd.\": \"Boulevard\",\n",
    "            \"Boulevard,\": \"Boulevard\",\n",
    "            \"Blvd,\": \"Boulevard\",\n",
    "            \"Blvd.,\": \"Boulevard\",\n",
    "            \"Dr\": \"Drive\",\n",
    "            \"Dr.\": \"Drive\",\n",
    "            \"Ct\": \"Court\",\n",
    "            \"Ct.\": \"Court\",\n",
    "            \"court\": \"Court\",\n",
    "            \"Cv\": \"Cove\",\n",
    "            \"cove\": \"Cove\",\n",
    "            \"Cc\": \"Cove\",\n",
    "            \"Pl\": \"Place\",\n",
    "            \"Pl.\": \"Place\",\n",
    "            \"lane\": \"Lane\",\n",
    "            \"Ln\": \"Lane\",\n",
    "            \"Rd\": \"Road\", \n",
    "            \"Rd.\": \"Road\",\n",
    "            \"R\": \"Road\",\n",
    "            \"Trl\": \"Trail\",\n",
    "            \"Tr\": \"Trail\",\n",
    "            \"Pkwy\": \"Parkway\",\n",
    "            \"Hwy\": \"Highway\",\n",
    "            \"HWY\": \"Highway\",\n",
    "            \"Hwy,\": \"Highway\",\n",
    "            \"H\": \"Highway\",\n",
    "            \"I35\": \"Interstate Highway 35\",\n",
    "            \"IH35\": \"Interstate Highway 35\",\n",
    "            \"IH35,\": \"Interstate Highway 35\",\n",
    "            \"IH-35\": \"Interstate Highway 35\",\n",
    "            \"I-35\": \"Interstate Highway 35\",\n",
    "            \"IH\": \"Interstate Highway\",\n",
    "            \"I\": \"Interstate\",\n",
    "            \"35,\": \"35\",\n",
    "            \"main\": \"Main\",\n",
    "            \"N\": \"North\",\n",
    "            \"N.\": \"North\",\n",
    "            \"Ovlk\": \"Overlook\",\n",
    "            \"pass\": \"Pass\",\n",
    "            \"Ps\": \"Pass\",\n",
    "            \"W\": \"West\",\n",
    "            \"W.\": \"West\",\n",
    "            \"E\": \"East\",\n",
    "            \"E.\": \"East\",\n",
    "            \"texas\": \"Texas\",\n",
    "            \"TX\": \"Texas\",\n",
    "            \"FM\": \"Farm-to-Market Road\",\n",
    "            \"F.M.\": \"Farm-to-Market Road\",\n",
    "            \"U.S.\": \"United States\",\n",
    "            \"US\": \"United States\",\n",
    "            \"RM\": \"Ranch-to-Market Road\",\n",
    "            \"RM1431\": \"Ranch-to-Market Road 1431\",\n",
    "            \"RR\": \"Ranch Road\",\n",
    "            \"S\": \"South\",\n",
    "            \"S.\": \"South\",\n",
    "            \"south\": \"South\",\n",
    "            \"Bldg\": \"Building\",\n",
    "            \"Bldg.\": \"Building\",\n",
    "            \"Bld\": \"Building\",\n",
    "            \"Ste\": \"Suite\",\n",
    "            \"Ste,\": \"Suite\",\n",
    "            \"STE\": \"Suite\",\n",
    "            \"Ste.\": \"Suite\",\n",
    "            \"suite\": \"Suite\",\n",
    "            \"C\": \"Country\",\n",
    "            \"church\": \"Church\",\n",
    "            \"brigadoon\": \"Brigadoon\",\n",
    "            \"Drive/Rd\": \"Drive/Road\",\n",
    "            \"Mo-Pac\": \"MoPac\", \n",
    "            \"Avenue,Ste\": \"Avenue Suite\",\n",
    "            \"suite#L131\": \"Suite L131\"}"
   ]
  },
  {
   "cell_type": "markdown",
   "metadata": {},
   "source": [
    "The following functions were created to fix street names based on the problems mentioned above.\n",
    "\n",
    "##### Appends \"Highway\" if is it needed:"
   ]
  },
  {
   "cell_type": "code",
   "execution_count": 18,
   "metadata": {
    "collapsed": true
   },
   "outputs": [],
   "source": [
    "def append_highway(name):\n",
    "    newparts = []\n",
    "    parts = name.split()\n",
    "    for item in parts:\n",
    "        if (item == \"Interstate\" or item == \"States\") and \"Highway\" not in parts:\n",
    "            newparts.append(item)\n",
    "            newparts.append(\"Highway\")\n",
    "        else:\n",
    "            newparts.append(item)\n",
    "    name = ' '.join(newparts)\n",
    "    return name"
   ]
  },
  {
   "cell_type": "markdown",
   "metadata": {},
   "source": [
    "##### Updates the FM and RM roads:"
   ]
  },
  {
   "cell_type": "code",
   "execution_count": 19,
   "metadata": {
    "collapsed": false
   },
   "outputs": [],
   "source": [
    "def update_farm_ranch_to_market(name):\n",
    "    parts = name.split()\n",
    "    if \"Farm-to-Market\" in parts or \"Ranch-to-Market\" in parts:\n",
    "        if \"Road\" in parts:\n",
    "            return name\n",
    "        else:\n",
    "            try:\n",
    "                parts.insert(parts.index(\"Farm-to-Market\")+1, \"Road\")\n",
    "                name = \" \".join(parts)\n",
    "            except ValueError:\n",
    "                parts.insert(parts.index(\"Ranch-to-Market\")+1, \"Road\")  \n",
    "                name = \" \".join(parts)\n",
    "    elif \"Farm\" in parts and \"to\" in parts and \"Market\" in parts:\n",
    "        newname = []\n",
    "        for i in range(parts.index(\"Farm\")):\n",
    "            newname.append(parts[parts.index(i)])\n",
    "        newname.append(\"Farm-to-Market\")\n",
    "        newname += parts[parts.index(\"Market\")+1:]\n",
    "\n",
    "        if \"Road\" in parts:\n",
    "            name = \" \".join(newname)\n",
    "        else:\n",
    "            newname.insert(newname.index(\"Farm-to-Market\")+1,\"Road\")\n",
    "            name = \" \".join(newname)\n",
    "    \n",
    "    elif \"Ranch\" in parts and \"to\" in parts and \"Market\" in parts:\n",
    "        newname = []\n",
    "        for i in range(parts.index(\"Ranch\")):\n",
    "            newname.append(parts[parts.index(i)])\n",
    "        newname.append(\"Ranch-to-Market\")\n",
    "        newname += parts[parts.index(\"Market\")+1:]\n",
    "\n",
    "        if \"Road\" in parts:\n",
    "            name = \" \".join(newname)\n",
    "        else:\n",
    "            newname.insert(newname.index(\"Ranch-to-Market\")+1,\"Road\")\n",
    "            name = \" \".join(newname)\n",
    "        \n",
    "    return name"
   ]
  },
  {
   "cell_type": "markdown",
   "metadata": {},
   "source": [
    "##### Updates the name based on mapping dictionary and also fixes other items, such as St., N, C, I , H. This function also incorporates the functions above."
   ]
  },
  {
   "cell_type": "code",
   "execution_count": 20,
   "metadata": {
    "collapsed": false
   },
   "outputs": [],
   "source": [
    "def update_name(name, mapping):\n",
    "    parts = name.split()\n",
    "    newparts = []\n",
    "    for item in parts:\n",
    "        if item == \"St\" and \"Rue\" in parts:\n",
    "            newparts.append(\"Saint\")\n",
    "        elif item == \"N\" or item == \"C\" or item == \"I\" or item == \"H\": \n",
    "            try:\n",
    "                if newparts[0] == \"Avenue\":\n",
    "                    newparts.append(item)\n",
    "                else:\n",
    "                    newparts.append(mapping[item])\n",
    "            except IndexError:\n",
    "                newparts.append(mapping[item])\n",
    "        else:\n",
    "            if item in mapping.keys():\n",
    "                newparts.append(mapping[item])\n",
    "            else:\n",
    "                newparts.append(item)\n",
    "    name = ' '.join(newparts)\n",
    "    name = append_highway(name)\n",
    "    name = update_farm_ranch_to_market(name)\n",
    "    return name"
   ]
  },
  {
   "cell_type": "markdown",
   "metadata": {},
   "source": [
    "elif statements make possible the updating of St for Saint instead of Street, and N, C, I, H to be left alone instead of substituting them for \"North\", \"Country\", etc. "
   ]
  },
  {
   "cell_type": "markdown",
   "metadata": {},
   "source": [
    "The following code shows if the updates can occur using \"update_name\" function."
   ]
  },
  {
   "cell_type": "code",
   "execution_count": 30,
   "metadata": {
    "collapsed": false,
    "scrolled": true
   },
   "outputs": [
    {
     "name": "stdout",
     "output_type": "stream",
     "text": [
      "Royal Birkdale Ovlk => Royal Birkdale Overlook\n",
      "N I-35 Suite 298 => North Interstate Highway 35 Suite 298\n",
      "N I-35 Suite 298 => North Interstate Highway 35 Suite 298\n",
      "W. Highway 290 => West Highway 290\n",
      "East Hwy 290 => East Highway 290\n",
      "C R 290 => Country Road 290\n",
      "C R 290 => Country Road 290\n",
      "W Hwy 290 => West Highway 290\n",
      "W Hwy 290 => West Highway 290\n",
      "U.S. 290 => United States Highway 290\n",
      "West US Highway 290 => West United States Highway 290\n",
      "E Hwy 290 => East Highway 290\n",
      "E Hwy 290 => East Highway 290\n",
      "US Highway 290 => United States Highway 290\n",
      "W Highway 290 => West Highway 290\n",
      "W HWY 290 => West Highway 290\n",
      "W HWY 290 => West Highway 290\n",
      "Helios Way, Bldg 2, Suite 290 => Helios Way, Building 2, Suite 290\n",
      "US 290 => United States Highway 290\n",
      "south church street => South Church Street\n",
      "south church street => South Church Street\n",
      "south church street => South Church Street\n",
      "East main street => East Main Street\n",
      "East main street => East Main Street\n",
      "South 1st street => South 1st Street\n",
      "White House street => White House Street\n",
      "Raven Caw pass => Raven Caw Pass\n",
      "Hwy 290 East => Highway 290 East\n",
      "US 290 East => United States Highway 290 East\n",
      "W. Anderson Lane, Suite A-15 => West Anderson Lane, Suite A-15\n",
      "Woodrow Ave. => Woodrow Avenue\n",
      "Avery Ranch Blvd Building A #100 => Avery Ranch Boulevard Building A #100\n",
      "4207 James Casey st #101 => 4207 James Casey Street #101\n",
      "S 1st St, Suite 104 => South 1st St, Suite 104\n",
      "N. IH35, => North Interstate Highway 35\n",
      "N. IH35, => North Interstate Highway 35\n",
      "N. IH 35 => North Interstate Highway 35\n",
      "N. IH 35 => North Interstate Highway 35\n",
      "S Interstate 35 => South Interstate Highway 35\n",
      "N Interstate Highway 35 => North Interstate Highway 35\n",
      "North IH 35 => North Interstate Highway 35\n",
      "South I 35 => South Interstate Highway 35\n",
      "I 35 => Interstate Highway 35\n",
      "S Interstate Highway 35 => South Interstate Highway 35\n",
      "9600 S IH 35 => 9600 South Interstate Highway 35\n",
      "9600 S IH 35 => 9600 South Interstate Highway 35\n",
      "Avenue N => Avenue N\n",
      "IH 35 N => Interstate Highway 35 North\n",
      "IH 35 N => Interstate Highway 35 North\n",
      "Capital of TX Hwy N => Capital of Texas Highway North\n",
      "Capital of TX Hwy N => Capital of Texas Highway North\n",
      "Capital of TX Hwy N => Capital of Texas Highway North\n",
      "Farm to Market 620 N => Farm-to-Market Road 620 North\n",
      "Pecan St. => Pecan Street\n",
      "E 38th 1/2 St. => East 38th 1/2 Street\n",
      "E 38th 1/2 St. => East 38th 1/2 Street\n",
      "E. 43rd St. => East 43rd Street\n",
      "E. 43rd St. => East 43rd Street\n",
      "N IH 35 Bldg. 6 => North Interstate Highway 35 Building 6\n",
      "N IH 35 Bldg. 6 => North Interstate Highway 35 Building 6\n",
      "N IH 35 Bldg. 6 => North Interstate Highway 35 Building 6\n",
      "FM 1626 => Farm-to-Market Road 1626\n",
      "F.M. 1626 => Farm-to-Market Road 1626\n",
      "South I-35 Service SB => South Interstate Highway 35 Service SB\n",
      "West Parmer Ln => West Parmer Lane\n",
      "Hidden Hills Ln => Hidden Hills Lane\n",
      "Calhoun Ln => Calhoun Lane\n",
      "Buzz Schneider Ln => Buzz Schneider Lane\n",
      "Laguna Seca Ln => Laguna Seca Lane\n",
      "Lantana Ln => Lantana Lane\n",
      "Sky Ridge Ln => Sky Ridge Lane\n",
      "W Braker Ln => West Braker Lane\n",
      "W Braker Ln => West Braker Lane\n",
      "W Anderson Ln => West Anderson Lane\n",
      "W Anderson Ln => West Anderson Lane\n",
      "Rocky Top Ln => Rocky Top Lane\n",
      "Chick Pea Ln => Chick Pea Lane\n",
      "Pfennig Ln => Pfennig Lane\n",
      "Pasadera Ln => Pasadera Lane\n",
      "Rockwood Ln => Rockwood Lane\n",
      "Fleming court => Fleming Court\n",
      "9600 IH 35 C-200 => 9600 Interstate Highway 35 C-200\n",
      "Research Blvd #L2 => Research Boulevard #L2\n",
      "South Congress Avene => South Congress Avenue\n",
      "FM 685 => Farm-to-Market Road 685\n",
      "Burnet Rd Ste, A500 => Burnet Road Suite A500\n",
      "Burnet Rd Ste, A500 => Burnet Road Suite A500\n",
      "S. Capitol of Texas Hwy, #F-4 => South Capitol of Texas Highway #F-4\n",
      "S. Capitol of Texas Hwy, #F-4 => South Capitol of Texas Highway #F-4\n",
      "Red Pebble Rd => Red Pebble Road\n",
      "Barley Rd => Barley Road\n",
      "Barton Springs Rd => Barton Springs Road\n",
      "Moon Rock Rd => Moon Rock Road\n",
      "Bee Creek Rd => Bee Creek Road\n",
      "N Interstate 35 Frontage Rd => North Interstate Highway 35 Frontage Road\n",
      "N Interstate 35 Frontage Rd => North Interstate Highway 35 Frontage Road\n",
      "Spicewood Springs Rd => Spicewood Springs Road\n",
      "Big Meadow Rd => Big Meadow Road\n",
      "Palomino Ranch Rd => Palomino Ranch Road\n",
      "Commons Rd => Commons Road\n",
      "Burnet Rd => Burnet Road\n",
      "Tawny Farms Rd => Tawny Farms Road\n",
      "N. Lamar suite#L131 => North Lamar Suite L131\n",
      "N. Lamar suite#L131 => North Lamar Suite L131\n",
      "North Lakeline Boulevard, Ste. 400 => North Lakeline Boulevard Suite 400\n",
      "North Lakeline Boulevard, Ste. 400 => North Lakeline Boulevard Suite 400\n",
      "9901 N Capital Of texas => 9901 North Capital Of Texas\n",
      "9901 N Capital Of texas => 9901 North Capital Of Texas\n",
      "E. Whitestone Blvd #G-145 => East Whitestone Boulevard #G-145\n",
      "E. Whitestone Blvd #G-145 => East Whitestone Boulevard #G-145\n",
      "Hill Country Blvd., Suite C1-100 => Hill Country Boulevard Suite C1-100\n",
      "Rue de St Tropez => Rue de Saint Tropez\n",
      "W. Liberty => West Liberty\n",
      "FM 619 => Farm-to-Market Road 619\n",
      "1500 S. IH35 => 1500 South Interstate Highway 35\n",
      "1500 S. IH35 => 1500 South Interstate Highway 35\n",
      "N I H 35 Bldg 7 => North Interstate Highway 35 Building 7\n",
      "N I H 35 Bldg 7 => North Interstate Highway 35 Building 7\n",
      "N I H 35 Bldg 7 => North Interstate Highway 35 Building 7\n",
      "N I H 35 Bldg 7 => North Interstate Highway 35 Building 7\n",
      "RM1431 => Ranch-to-Market Road 1431\n",
      "I35 => Interstate Highway 35\n",
      "Highway 71 W => Highway 71 West\n",
      "Hwy 290 W => Highway 290 West\n",
      "Hwy 290 W => Highway 290 West\n",
      "IH 35 North => Interstate Highway 35 North\n",
      "FM 620 North => Farm-to-Market Road 620 North\n",
      "Tandem Blvd. => Tandem Boulevard\n",
      "South Lamar Blvd. => South Lamar Boulevard\n",
      "South Exposition Blvd. => South Exposition Boulevard\n",
      "W North Loop Blvd. => West North Loop Boulevard\n",
      "W North Loop Blvd. => West North Loop Boulevard\n",
      "East Old Settlers Blvd. => East Old Settlers Boulevard\n",
      "Research Blvd. => Research Boulevard\n",
      "RM 620 => Ranch-to-Market Road 620\n",
      "FM 620 => Farm-to-Market Road 620\n",
      "N FM 620 => North Farm-to-Market Road 620\n",
      "N FM 620 => North Farm-to-Market Road 620\n",
      "RR 620 => Ranch Road 620\n",
      "Country Rd. 452 => Country Road 452\n",
      "N Farm-To-Market Road 973 => North Farm-To-Market Road 973\n",
      "US 183 => United States Highway 183\n",
      "US Highway 183 => United States Highway 183\n",
      "U.S. 183 => United States Highway 183\n",
      "N HWY 183 => North Highway 183\n",
      "N HWY 183 => North Highway 183\n",
      "South Interstate 35, Suite B => South Interstate Highway 35 Suite B\n",
      "West 11th Street, Suite 275 => West 11th Street Suite 275\n",
      "W. University Avenue,Ste 320 => West University Avenue Suite 320\n",
      "W. University Avenue,Ste 320 => West University Avenue Suite 320\n",
      "Woodall Dr => Woodall Drive\n",
      "Walter Seaholm Dr => Walter Seaholm Drive\n",
      "Yaupon Range Dr => Yaupon Range Drive\n",
      "Lighthouse Landing Dr => Lighthouse Landing Drive\n",
      "Round Rock West Dr => Round Rock West Drive\n",
      "W Lake Dr => West Lake Drive\n",
      "W Lake Dr => West Lake Drive\n",
      "W William Cannon Dr => West William Cannon Drive\n",
      "W William Cannon Dr => West William Cannon Drive\n",
      "Dave Silk Dr => Dave Silk Drive\n",
      "Forest Creek Dr => Forest Creek Drive\n",
      "Bill Baker Dr => Bill Baker Drive\n",
      "Corral de Tierra Dr => Corral de Tierra Drive\n",
      "Ivy Dr => Ivy Drive\n",
      "Jack Nicklaus Dr => Jack Nicklaus Drive\n",
      "Winged Elm Dr => Winged Elm Drive\n",
      "Carranzo Dr => Carranzo Drive\n",
      "Kyle Center Dr => Kyle Center Drive\n",
      "Canyon Springs Dr => Canyon Springs Drive\n",
      "Jimmy Clay Dr => Jimmy Clay Drive\n",
      "Justin Leonard Dr => Justin Leonard Drive\n",
      "Octavia Dr => Octavia Drive\n",
      "Horse Wagon Dr => Horse Wagon Drive\n",
      "Via Ricco Dr => Via Ricco Drive\n",
      "Creekline Dr => Creekline Drive\n",
      "Bettis Trophy Dr => Bettis Trophy Drive\n",
      "Rain Song Dr => Rain Song Drive\n",
      "Executive Center Dr => Executive Center Drive\n",
      "Via Dono Dr => Via Dono Drive\n",
      "West Ben White Boulevard, #203 => West Ben White Boulevard #203\n",
      "W Hwy 71 => West Highway 71\n",
      "W Hwy 71 => West Highway 71\n",
      "TX 71 => Texas 71\n",
      "Hwy 71 => Highway 71\n",
      "U.S. 79 => United States Highway 79\n",
      "N. IH 35 Pflugerville => North Interstate Highway 35 Pflugerville\n",
      "N. IH 35 Pflugerville => North Interstate Highway 35 Pflugerville\n",
      "West Louis Henna Blvd => West Louis Henna Boulevard\n",
      "Airport Blvd => Airport Boulevard\n",
      "Swenson Farms Blvd => Swenson Farms Boulevard\n",
      "Industrial Oaks Blvd => Industrial Oaks Boulevard\n",
      "N Bell Blvd => North Bell Boulevard\n",
      "N Bell Blvd => North Bell Boulevard\n",
      "North Lamar Blvd => North Lamar Boulevard\n",
      "Industrial Blvd => Industrial Boulevard\n",
      "N. Lamar Blvd => North Lamar Boulevard\n",
      "N. Lamar Blvd => North Lamar Boulevard\n",
      "Stonelake Blvd => Stonelake Boulevard\n",
      "Escarpment Blvd => Escarpment Boulevard\n",
      "E Palm Valley Blvd => East Palm Valley Boulevard\n",
      "E Palm Valley Blvd => East Palm Valley Boulevard\n",
      "South Lamar Blvd => South Lamar Boulevard\n",
      "South Bell Blvd => South Bell Boulevard\n",
      "North Research Blvd => North Research Boulevard\n",
      "Research Blvd => Research Boulevard\n",
      "10000 Research Blvd => 10000 Research Boulevard\n",
      "W Hwy 71, STE D1 => West Highway 71, Suite D1\n",
      "W Hwy 71, STE D1 => West Highway 71, Suite D1\n",
      "W Hwy 71, STE D1 => West Highway 71, Suite D1\n",
      "RM 2244 => Ranch-to-Market Road 2244\n",
      "Old FM 2243 => Old Farm-to-Market Road 2243\n",
      "Avenue H => Avenue H\n",
      "North Lamar Boulevard suite #B100 => North Lamar Boulevard Suite #B100\n",
      "FM 1825 => Farm-to-Market Road 1825\n",
      "Deer Shadow Ps => Deer Shadow Pass\n",
      "Bidens Pl => Bidens Place\n",
      "Veletta Pl => Veletta Place\n",
      "Shoal Creek Blvd, Bld 3 => Shoal Creek Boulevard Building 3\n",
      "Shoal Creek Blvd, Bld 3 => Shoal Creek Boulevard Building 3\n",
      "Avenue C => Avenue C\n",
      "South IH-35 => South Interstate Highway 35\n",
      "N IH-35 => North Interstate Highway 35\n",
      "N IH-35 => North Interstate Highway 35\n",
      "Spreading Oaks Drive/Rd => Spreading Oaks Drive/Road\n",
      "Misty Heights Cc => Misty Heights Cove\n",
      "FM 969 => Farm-to-Market Road 969\n",
      "Blue Sky Cv => Blue Sky Cove\n",
      "Texas Ash Cv => Texas Ash Cove\n",
      "Tom Kite Cv => Tom Kite Cove\n",
      "Quiet Meadows Cv => Quiet Meadows Cove\n",
      "Peat Moors Cv => Peat Moors Cove\n",
      "La Estrella Cv => La Estrella Cove\n",
      "Morning Primrose Cv => Morning Primrose Cove\n",
      "Mallard Cv => Mallard Cove\n",
      "Rooney Cv => Rooney Cove\n",
      "Copper Point Cv => Copper Point Cove\n",
      "Old Corral Cv => Old Corral Cove\n",
      "Red River Cv => Red River Cove\n",
      "Secluded Willow Cv => Secluded Willow Cove\n",
      "Hilltop Canyon Cv => Hilltop Canyon Cove\n",
      "Hal Sutton Cv => Hal Sutton Cove\n",
      "La Roca Cv => La Roca Cove\n",
      "Arbole Cv => Arbole Cove\n",
      "Clear Pond Cv => Clear Pond Cove\n",
      "Salem Oak Cv => Salem Oak Cove\n",
      "Ripley Castle Cv => Ripley Castle Cove\n",
      "Enchanted Cv => Enchanted Cove\n",
      "Lapin Cv => Lapin Cove\n",
      "Mock Cherry Cv => Mock Cherry Cove\n",
      "Claro Vista Ct => Claro Vista Court\n",
      "Ely Ct => Ely Court\n",
      "Krupa Ct => Krupa Court\n",
      "Sterling Heights Ct => Sterling Heights Court\n",
      "Sweetgum Ct => Sweetgum Court\n",
      "Costello Ct => Costello Court\n",
      "Stirling Castle Ct => Stirling Castle Court\n",
      "North Mo-Pac Expressway => North MoPac Expressway\n",
      "Harrier Flight Trl => Harrier Flight Trail\n",
      "Poppy Hills Trl => Poppy Hills Trail\n",
      "Scenic Overlook Trl => Scenic Overlook Trail\n",
      "S Capital of Texas Hwy => South Capital of Texas Highway\n",
      "S Capital of Texas Hwy => South Capital of Texas Highway\n",
      "Avenue I => Avenue I\n",
      "Rue de St Raphael => Rue de Saint Raphael\n",
      "Greenlawn Pkwy => Greenlawn Parkway\n",
      "Roger Hanks Pkwy => Roger Hanks Parkway\n",
      "Soter Pkwy => Soter Parkway\n",
      "Riata Trace Pkwy => Riata Trace Parkway\n",
      "S Interstate 35, #260 => South Interstate Highway 35 #260\n",
      "S Interstate 35, #260 => South Interstate Highway 35 #260\n",
      "FM 535 => Farm-to-Market Road 535\n",
      "FM 1327 => Farm-to-Market Road 1327\n",
      "Stonebridge Dr. => Stonebridge Drive\n",
      "Sportsplex Dr. => Sportsplex Drive\n",
      "Cannon Dr. => Cannon Drive\n",
      "11928 Stonehollow Dr. => 11928 Stonehollow Drive\n",
      "321 W Ben White Blvd #300 => 321 West Ben White Boulevard #300\n",
      "321 W Ben White Blvd #300 => 321 West Ben White Boulevard #300\n",
      "S Bell Blvd., Suite 301 => South Bell Boulevard Suite 301\n",
      "S Bell Blvd., Suite 301 => South Bell Boulevard Suite 301\n",
      "Hwy 290 W. Ste. 301 => Highway 290 West Suite 301\n",
      "Hwy 290 W. Ste. 301 => Highway 290 West Suite 301\n",
      "Hwy 290 W. Ste. 301 => Highway 290 West Suite 301\n",
      "Meadows Dr #306 => Meadows Drive #306\n",
      "E. North Loop => East North Loop\n",
      "Rue de St Germaine => Rue de Saint Germaine\n",
      "Research Blvd #3000a => Research Boulevard #3000a\n",
      "N Interstate 35, Suite 1805 => North Interstate Highway 35 Suite 1805\n",
      "N Interstate 35, Suite 1805 => North Interstate Highway 35 Suite 1805\n",
      "Research Blvd, Austin => Research Boulevard Austin\n",
      "FM 3177 => Farm-to-Market Road 3177\n",
      "Round Rock Ave => Round Rock Avenue\n",
      "Barstow Ave => Barstow Avenue\n",
      "South Congress Ave => South Congress Avenue\n",
      "E. University Ave => East University Avenue\n",
      "E. University Ave => East University Avenue\n",
      "S Congress Ave => South Congress Avenue\n",
      "S Congress Ave => South Congress Avenue\n",
      "IH-35 South, #150 => Interstate Highway 35 South, #150\n",
      "Sycamore Tr => Sycamore Trail\n",
      "Posse Tr => Posse Trail\n",
      "Sunflower Tr => Sunflower Trail\n",
      "State Highway 71 W Spicewood => State Highway 71 West Spicewood\n",
      "TX 45 => Texas 45\n",
      "I-35 Frontage => Interstate Highway 35 Frontage\n",
      "devonshire cove => devonshire Cove\n",
      "Pecan St => Pecan Street\n",
      "N Main St => North Main Street\n",
      "N Main St => North Main Street\n",
      "S 1st St => South 1st Street\n",
      "S 1st St => South 1st Street\n",
      "E Oltorf St => East Oltorf Street\n",
      "E Oltorf St => East Oltorf Street\n",
      "E 43rd St => East 43rd Street\n",
      "E 43rd St => East 43rd Street\n",
      "Red River St => Red River Street\n",
      "W 10th St => West 10th Street\n",
      "W 10th St => West 10th Street\n",
      "W Annie St => West Annie Street\n",
      "W Annie St => West Annie Street\n",
      "E 51st St => East 51st Street\n",
      "E 51st St => East 51st Street\n",
      "Rio Grande St => Rio Grande Street\n",
      "W 6th St => West 6th Street\n",
      "W 6th St => West 6th Street\n",
      "West Lynn St => West Lynn Street\n",
      "Duval St => Duval Street\n",
      "brigadoon lane => Brigadoon Lane\n",
      "brigadoon lane => Brigadoon Lane\n"
     ]
    }
   ],
   "source": [
    "for st_type, ways in st_types.iteritems():\n",
    "    for name in ways:\n",
    "        for each in name.split():\n",
    "            if each in mapping.keys():\n",
    "                better_name = update_name(name, mapping)\n",
    "                print name, \"=>\", better_name"
   ]
  },
  {
   "cell_type": "markdown",
   "metadata": {},
   "source": [
    "##### More things to fix:\n",
    "\n",
    "- Ranch Road 620 is also Farm-to-Market 620. Which one is correct? I don't know. I'll just leave it as is.\n",
    "- US highway 290 is also country road 290, etc. Will not fix that one either."
   ]
  },
  {
   "cell_type": "markdown",
   "metadata": {},
   "source": [
    "### Other parameters to look at (other values of k under tag)\n",
    "\n",
    "To find for other things to update, we look at the values of 'k' parameter under the element \"tag\".\n",
    "\n",
    "The following code allowed me to se some of the values:"
   ]
  },
  {
   "cell_type": "code",
   "execution_count": 30,
   "metadata": {
    "collapsed": false
   },
   "outputs": [],
   "source": [
    "k = set()\n",
    "for event, element in ET.iterparse(SAMPLE_FILE):\n",
    "    if element.tag == \"tag\" or element.tag == \"way\":\n",
    "        for tag in element.iter(\"tag\"):\n",
    "             k.add(tag.attrib['k'])"
   ]
  },
  {
   "cell_type": "markdown",
   "metadata": {},
   "source": [
    "From above, there are a lot of parameters to look at and see if the data are consistent, but for this project, only the street names, phone number, postcode, and city names were explored.\n",
    "\n",
    "### Auditing and Cleaning Phone Numbers"
   ]
  },
  {
   "cell_type": "markdown",
   "metadata": {},
   "source": [
    "Following the methods for auditing street names, is_phone function was created:"
   ]
  },
  {
   "cell_type": "code",
   "execution_count": 4,
   "metadata": {
    "collapsed": true
   },
   "outputs": [],
   "source": [
    "import xml.etree.cElementTree as ET\n",
    "import re"
   ]
  },
  {
   "cell_type": "code",
   "execution_count": 5,
   "metadata": {
    "collapsed": true
   },
   "outputs": [],
   "source": [
    "def is_phone(element):\n",
    "    return (element.attrib['k'] == \"phone\" or element.attrib['k'] == \"contact:phone\")"
   ]
  },
  {
   "cell_type": "markdown",
   "metadata": {},
   "source": [
    "To explore the phone numbers, I use the regex for phone number. I chose the format to be xxx-xxx-xxxx. It must have this format hence, the caret (start) and the dollar sign (end)."
   ]
  },
  {
   "cell_type": "code",
   "execution_count": 6,
   "metadata": {
    "collapsed": false
   },
   "outputs": [],
   "source": [
    "phone_re = re.compile(r'^\\d\\d\\d\\-\\d\\d\\d\\-\\d\\d\\d\\d$')"
   ]
  },
  {
   "cell_type": "markdown",
   "metadata": {},
   "source": [
    "Using the regex above, we can print out phone numbers in the sample osm file that need to be updated:"
   ]
  },
  {
   "cell_type": "code",
   "execution_count": 7,
   "metadata": {
    "collapsed": false,
    "scrolled": false
   },
   "outputs": [
    {
     "name": "stdout",
     "output_type": "stream",
     "text": [
      "(512) 782-5659\n",
      "(512) 892-6699\n",
      "+1 512-472-1666\n",
      "(512) 494-9300\n",
      "(512)482-8244\n",
      "+1-512-821-9472\n",
      "(512) 336-7200\n",
      "(512) 478-8086\n",
      "(512) 336-7706\n",
      "(512) 312-0907\n",
      "+1 512 357 4143\n",
      "51224990093\n",
      "+1 512-275-0852\n",
      "(512) 524-1311\n",
      "(512) 246-7645\n",
      "(512) 528-0027\n",
      "+1-512-918-0890\n",
      "+1 512 219 5008\n",
      "+1 512 634 0070\n",
      "(512) 528-7700\n",
      "512 466-3937\n",
      "(512) 733-6828\n",
      "(512) 255-3629\n",
      "5124282500\n",
      "+1 (512) 469-7000\n",
      "+1 512 477 4430\n",
      "(512) 312-1615\n",
      "+1 512 268 5326\n",
      "+1 (512) 974-9920\n",
      "512.386.1295\n",
      "+1 512 478-8600\n",
      "+1 512 4771101\n",
      "+1-512-462-0202\n",
      "(512) 259-5500\n",
      "+1-512-690-9340\n"
     ]
    }
   ],
   "source": [
    "for event, element in ET.iterparse(SAMPLE_FILE):\n",
    "    if element.tag == \"node\" or element.tag == \"way\":\n",
    "        for tag in element.iter(\"tag\"):\n",
    "            if is_phone(tag):\n",
    "                if phone_re.search(tag.attrib['v']) == None:\n",
    "                    print tag.attrib['v']"
   ]
  },
  {
   "cell_type": "markdown",
   "metadata": {},
   "source": [
    "The following function updates the phone numbers according to the format I chose. It takes into account that in some values for phone number, there are two provided. It can be cleaned by creating another field for the phone number, but this will not be done here."
   ]
  },
  {
   "cell_type": "code",
   "execution_count": 8,
   "metadata": {
    "collapsed": true
   },
   "outputs": [],
   "source": [
    "def update_phone(number):\n",
    "    phone_re = re.compile(r'^\\d\\d\\d\\-\\d\\d\\d\\-\\d\\d\\d\\d$')\n",
    "    if phone_re.search(number) == None:\n",
    "        phno = []\n",
    "        number = list(number.lstrip(\"+1\"))\n",
    "        for char in number:\n",
    "            try:\n",
    "                if int(char) in [x for x in range(10)]:\n",
    "                    if len(phno) == 10:\n",
    "                        continue\n",
    "                    phno.append(char)\n",
    "            except ValueError:\n",
    "                continue\n",
    "        number = \"\".join(phno)\n",
    "        number = number[:3] + \"-\" + number[3:6] + \"-\" + number[6:]\n",
    "                    \n",
    "    return number"
   ]
  },
  {
   "cell_type": "markdown",
   "metadata": {},
   "source": [
    "Testing the function below:"
   ]
  },
  {
   "cell_type": "code",
   "execution_count": 9,
   "metadata": {
    "collapsed": false
   },
   "outputs": [
    {
     "data": {
      "text/plain": [
       "'512-666-5286'"
      ]
     },
     "execution_count": 9,
     "metadata": {},
     "output_type": "execute_result"
    }
   ],
   "source": [
    "update_phone(\"+1-512-666-5286;+1-855-444-8301\")"
   ]
  },
  {
   "cell_type": "markdown",
   "metadata": {},
   "source": [
    "This causes the loss of the other phone number, but it can be extracted using a findall() method for regex."
   ]
  },
  {
   "cell_type": "markdown",
   "metadata": {},
   "source": [
    "#### Postal Code\n",
    "\n",
    "Exploration of k values from parsing the whole osm file revealed that postcode is referred to as addr:postcode or postal_code. Hence, the following function for returning postcode values:"
   ]
  },
  {
   "cell_type": "code",
   "execution_count": 10,
   "metadata": {
    "collapsed": true
   },
   "outputs": [],
   "source": [
    "def is_postcode(element):\n",
    "    return (element.attrib['k'] == \"addr:postcode\" or element.attrib['k'] == \"postal_code\")"
   ]
  },
  {
   "cell_type": "markdown",
   "metadata": {},
   "source": [
    "Regex for postcode:"
   ]
  },
  {
   "cell_type": "code",
   "execution_count": 11,
   "metadata": {
    "collapsed": true
   },
   "outputs": [],
   "source": [
    "postcode_re = re.compile(r'^7\\d\\d\\d\\d$')"
   ]
  },
  {
   "cell_type": "markdown",
   "metadata": {},
   "source": [
    "To explore the postcode, here we use a counter and the get_element function used in making the sample file on the whole file instead of the sample osm file:"
   ]
  },
  {
   "cell_type": "code",
   "execution_count": 29,
   "metadata": {
    "collapsed": false
   },
   "outputs": [
    {
     "name": "stdout",
     "output_type": "stream",
     "text": [
      "78704-5639\n",
      "78753-4150\n",
      "78728-1275\n",
      "78758-7008\n",
      "78758-7013\n",
      "14150\n",
      "78704-7205\n",
      "76574-4649\n",
      "TX 78613\n",
      "TX 78728\n",
      "78640-4520\n",
      "TX 78724\n",
      "78640-6137\n",
      "TX 78758\n",
      "TX 78745\n",
      "TX 78735\n",
      "78728-1275\n",
      "78759-3504\n",
      "78724-1199\n",
      "78724-1199\n",
      "78724-1199\n",
      "78724-1199\n",
      "78724-1199\n",
      "Texas\n",
      "78640-6137\n"
     ]
    }
   ],
   "source": [
    "counter = 0\n",
    "for element in get_element(OSM_FILE):\n",
    "    if counter == 25:\n",
    "        break\n",
    "    if element.tag == \"node\" or element.tag == \"way\":\n",
    "        for tag in element.iter(\"tag\"):\n",
    "            if is_postcode(tag):\n",
    "                if postcode_re.search(tag.attrib['v']) == None:\n",
    "                    print tag.attrib['v']\n",
    "                    counter += 1"
   ]
  },
  {
   "cell_type": "markdown",
   "metadata": {},
   "source": [
    "Based on these values, the function below was created to update the data:"
   ]
  },
  {
   "cell_type": "code",
   "execution_count": 30,
   "metadata": {
    "collapsed": false
   },
   "outputs": [],
   "source": [
    "def update_postcode(postcode):\n",
    "    try:\n",
    "        postcode = re.compile(r'7\\d\\d\\d\\d').search(postcode).group()\n",
    "    except AttributeError:\n",
    "        postcode = 'None'\n",
    "    return postcode"
   ]
  },
  {
   "cell_type": "markdown",
   "metadata": {},
   "source": [
    "Testing the function:"
   ]
  },
  {
   "cell_type": "code",
   "execution_count": 31,
   "metadata": {
    "collapsed": false
   },
   "outputs": [
    {
     "name": "stdout",
     "output_type": "stream",
     "text": [
      "78704-5639 => 78704\n",
      "78753-4150 => 78753\n",
      "78728-1275 => 78728\n",
      "78758-7008 => 78758\n",
      "78758-7013 => 78758\n",
      "14150 => None\n",
      "78704-7205 => 78704\n",
      "76574-4649 => 76574\n",
      "TX 78613 => 78613\n",
      "TX 78728 => 78728\n",
      "78640-4520 => 78640\n",
      "TX 78724 => 78724\n",
      "78640-6137 => 78640\n",
      "TX 78758 => 78758\n",
      "TX 78745 => 78745\n",
      "TX 78735 => 78735\n",
      "78728-1275 => 78728\n",
      "78759-3504 => 78759\n",
      "78724-1199 => 78724\n",
      "78724-1199 => 78724\n",
      "78724-1199 => 78724\n",
      "78724-1199 => 78724\n",
      "78724-1199 => 78724\n",
      "Texas => None\n",
      "78640-6137 => 78640\n",
      "78626‎ => 78626\n",
      "78754-5701 => 78754\n",
      "tx => None\n"
     ]
    }
   ],
   "source": [
    "for element in get_element(OSM_FILE):\n",
    "    if element.tag == \"node\" or element.tag == \"way\":\n",
    "        for tag in element.iter(\"tag\"):\n",
    "            if is_postcode(tag):\n",
    "                if postcode_re.search(tag.attrib['v']) == None:\n",
    "                    print tag.attrib['v'], \"=>\", update_postcode(tag.attrib['v'])"
   ]
  },
  {
   "cell_type": "markdown",
   "metadata": {},
   "source": [
    "To completely clean this parameter, it is best to create another field for county codes, instead of getting rid of them. I will not be doing this here.\n",
    "\n",
    "### Auditing the city data"
   ]
  },
  {
   "cell_type": "code",
   "execution_count": 32,
   "metadata": {
    "collapsed": true
   },
   "outputs": [],
   "source": [
    "def is_city(element):\n",
    "    return element.attrib['k'] == \"addr:city\""
   ]
  },
  {
   "cell_type": "markdown",
   "metadata": {},
   "source": [
    "Here, it is probably best to create a list of expected cities:"
   ]
  },
  {
   "cell_type": "code",
   "execution_count": 33,
   "metadata": {
    "collapsed": true
   },
   "outputs": [],
   "source": [
    "expectedcities = ['Austin', 'Buda', 'Round Rock', 'Leander', 'Lago Vista', 'Kyle', 'Pflugerville',\n",
    "                  'Cedar Park', 'Manchaca', 'Del Valle', 'Dripping Springs', 'Bee Cave', 'Bastrop', \n",
    "                  'Cedar Creek', 'Creedmoor', 'Driftwood', 'Elgin', 'Georgetown', 'Hutto', \n",
    "                  'Jonestown', 'Lakeway', 'Lost Pines', 'Manor', 'Maxwell', 'San Marcos', \n",
    "                  'Smithville', 'Spicewood', 'Sunset Valley', 'Taylor', 'Webberville',\n",
    "                  'West Lake Hills', 'Wimberley']"
   ]
  },
  {
   "cell_type": "markdown",
   "metadata": {},
   "source": [
    "Auditing the cities:"
   ]
  },
  {
   "cell_type": "code",
   "execution_count": 34,
   "metadata": {
    "collapsed": false,
    "scrolled": true
   },
   "outputs": [],
   "source": [
    "cities = set()\n",
    "for element in get_element(OSM_FILE):\n",
    "    if element.tag == \"node\" or element.tag == \"way\":\n",
    "        for tag in element.iter(\"tag\"):\n",
    "            if is_city(tag):\n",
    "                if tag.attrib['v'] not in expectedcities:\n",
    "                    cities.add(tag.attrib['v'])"
   ]
  },
  {
   "cell_type": "code",
   "execution_count": 35,
   "metadata": {
    "collapsed": false,
    "scrolled": true
   },
   "outputs": [
    {
     "data": {
      "text/plain": [
       "{'Austin, TX',\n",
       " 'Austin, Tx',\n",
       " 'Austin;TX;USA',\n",
       " 'Barton Creek',\n",
       " 'Bastrop, TX',\n",
       " 'Cedar Park, TX',\n",
       " 'Dripping Springs TX',\n",
       " 'Dripping Springs, Tx',\n",
       " 'Elgin, TX',\n",
       " 'Georgetown, TX',\n",
       " 'Kyle, TX',\n",
       " 'Leander, TX',\n",
       " 'Manchaca,',\n",
       " 'N Austin',\n",
       " 'Pflugerville, TX',\n",
       " 'Round Rock, TX',\n",
       " 'San Gabriel Village Boulevard',\n",
       " 'Spicewood, TX',\n",
       " 'Ste 128, Austin',\n",
       " 'Taylor, TX',\n",
       " 'Westlake Hills, TX',\n",
       " 'austin',\n",
       " 'kyle'}"
      ]
     },
     "execution_count": 35,
     "metadata": {},
     "output_type": "execute_result"
    }
   ],
   "source": [
    "cities"
   ]
  },
  {
   "cell_type": "markdown",
   "metadata": {},
   "source": [
    "From above, the errant values have \", TX\" or the first letter is not capitalized. A few are not cities at all, but probably a street address.\n",
    "\n",
    "As in update_name function for street names, a dictionary for mapping is good to use:"
   ]
  },
  {
   "cell_type": "code",
   "execution_count": 40,
   "metadata": {
    "collapsed": false
   },
   "outputs": [],
   "source": [
    "mapping_city = {\n",
    "    \"austin\": \"Austin\",\n",
    "    \"Austin, TX\": \"Austin\",\n",
    "    \"Cedar Park, TX\": \"Cedar Park\",\n",
    "    \"Round Rock, TX\": \"Round Rock\",\n",
    "    \"Dripping Springs, TX\": \"Dripping Springs\",\n",
    "    \"Westlake Hills, TX\": \"West Lake Hills\",\n",
    "    \"kyle\": \"Kyle\",\n",
    "    \"Austin;TX;USA\": \"Austin\",\n",
    "    \"Barton Creek\": \"Austin\",\n",
    "    \"Austin, Tx\": \"Austin\",\n",
    "    \"Taylor, TX\": \"Taylor\",\n",
    "    \"San Gabriel Village Boulevard\": \"Georgetown\",\n",
    "    \"Spicewood, TX\": \"Spicewood\",\n",
    "    \"Ste 128, Austin\": \"Austin\",\n",
    "    \"Pflugerville, TX\": \"Pflugerville\",\n",
    "    \"Manchaca,\": \"Manchacha\",\n",
    "    \"Elgin, TX\": \"Elgin\",\n",
    "    \"Kyle, TX\": \"Kyle\",\n",
    "    \"Dripping Springs, Tx\": \"Dripping Springs\",\n",
    "    \"Bastrop, TX\": \"Bastrop\",\n",
    "    \"Georgetown, TX\": \"Georgetown\",\n",
    "    \"Dripping Springs TX\": \"Dripping Springs\",\n",
    "    \"Leander, TX\": \"Leander\",\n",
    "    \"N Austin\": \"Austin\"\n",
    "}"
   ]
  },
  {
   "cell_type": "code",
   "execution_count": 41,
   "metadata": {
    "collapsed": false
   },
   "outputs": [],
   "source": [
    "def update_city(city):\n",
    "    if city not in expectedcities:\n",
    "        if city in mapping_city.keys():\n",
    "            city = mapping_city[city]\n",
    "        else:\n",
    "            city = \"None\"\n",
    "    return city"
   ]
  },
  {
   "cell_type": "markdown",
   "metadata": {
    "collapsed": true
   },
   "source": [
    "Testing the function:"
   ]
  },
  {
   "cell_type": "code",
   "execution_count": 42,
   "metadata": {
    "collapsed": false,
    "scrolled": true
   },
   "outputs": [
    {
     "name": "stdout",
     "output_type": "stream",
     "text": [
      "Austin, TX => Austin\n",
      "Austin, TX => Austin\n",
      "Austin, TX => Austin\n",
      "Austin, TX => Austin\n",
      "Pflugerville, TX => Pflugerville\n",
      "Elgin, TX => Elgin\n",
      "Austin, TX => Austin\n",
      "Spicewood, TX => Spicewood\n",
      "Austin, TX => Austin\n",
      "Austin, TX => Austin\n",
      "Austin, TX => Austin\n",
      "Austin, TX => Austin\n",
      "Austin, TX => Austin\n",
      "Pflugerville, TX => Pflugerville\n",
      "Austin, TX => Austin\n",
      "Austin, TX => Austin\n",
      "Austin, TX => Austin\n",
      "Austin, TX => Austin\n",
      "Austin, TX => Austin\n",
      "Cedar Park, TX => Cedar Park\n",
      "Austin, TX => Austin\n",
      "Austin, TX => Austin\n",
      "Austin, TX => Austin\n",
      "Austin, TX => Austin\n",
      "Austin, TX => Austin\n",
      "Westlake Hills, TX => West Lake Hills\n",
      "Bastrop, TX => Bastrop\n",
      "Dripping Springs, Tx => Dripping Springs\n",
      "Georgetown, TX => Georgetown\n",
      "Austin, TX => Austin\n",
      "Round Rock, TX => Round Rock\n",
      "Taylor, TX => Taylor\n",
      "Austin, TX => Austin\n",
      "Cedar Park, TX => Cedar Park\n",
      "Barton Creek => Austin\n",
      "austin => Austin\n",
      "Austin, TX => Austin\n",
      "Austin, TX => Austin\n",
      "Austin, TX => Austin\n",
      "Kyle, TX => Kyle\n",
      "Austin, TX => Austin\n",
      "Austin, TX => Austin\n",
      "austin => Austin\n",
      "Austin, Tx => Austin\n",
      "Austin, TX => Austin\n",
      "Austin, TX => Austin\n",
      "Ste 128, Austin => Austin\n",
      "Austin, TX => Austin\n",
      "Austin, TX => Austin\n",
      "San Gabriel Village Boulevard => Georgetown\n",
      "Cedar Park, TX => Cedar Park\n",
      "Austin, TX => Austin\n",
      "Austin, TX => Austin\n",
      "Austin, TX => Austin\n",
      "N Austin => Austin\n",
      "Austin, TX => Austin\n",
      "Austin, TX => Austin\n",
      "Westlake Hills, TX => West Lake Hills\n",
      "Austin, TX => Austin\n",
      "Manchaca, => Manchacha\n",
      "Pflugerville, TX => Pflugerville\n",
      "Leander, TX => Leander\n",
      "Austin, TX => Austin\n",
      "Pflugerville, TX => Pflugerville\n",
      "Austin, TX => Austin\n",
      "Austin, TX => Austin\n",
      "Dripping Springs, Tx => Dripping Springs\n",
      "Dripping Springs, Tx => Dripping Springs\n",
      "Taylor, TX => Taylor\n",
      "Dripping Springs TX => Dripping Springs\n",
      "Austin, TX => Austin\n",
      "Austin, TX => Austin\n",
      "Austin, TX => Austin\n",
      "Austin, TX => Austin\n",
      "Austin, TX => Austin\n",
      "Bastrop, TX => Bastrop\n",
      "Elgin, TX => Elgin\n",
      "Austin, TX => Austin\n",
      "Austin, TX => Austin\n",
      "Austin;TX;USA => Austin\n",
      "Austin, TX => Austin\n",
      "kyle => Kyle\n",
      "kyle => Kyle\n",
      "Georgetown, TX => Georgetown\n",
      "Austin, TX => Austin\n",
      "Austin, TX => Austin\n",
      "N Austin => Austin\n",
      "N Austin => Austin\n",
      "N Austin => Austin\n",
      "Elgin, TX => Elgin\n",
      "Cedar Park, TX => Cedar Park\n",
      "austin => Austin\n"
     ]
    }
   ],
   "source": [
    "for element in get_element(OSM_FILE):\n",
    "    if element.tag == \"node\" or element.tag == \"way\":\n",
    "        for tag in element.iter(\"tag\"):\n",
    "            if is_city(tag):\n",
    "                if tag.attrib['v'] not in expectedcities:\n",
    "                    print tag.attrib['v'], \"=>\", update_city(tag.attrib['v'])"
   ]
  },
  {
   "cell_type": "markdown",
   "metadata": {},
   "source": [
    "The update_city function is better written as such:"
   ]
  },
  {
   "cell_type": "code",
   "execution_count": 43,
   "metadata": {
    "collapsed": true
   },
   "outputs": [],
   "source": [
    "def update_city(city, expectedcities, mapping_city):\n",
    "    if city not in expectedcities:\n",
    "        if city in mapping_city.keys():\n",
    "            city = mapping_city[city]\n",
    "        else:\n",
    "            city = \"None\"\n",
    "    return city"
   ]
  },
  {
   "cell_type": "markdown",
   "metadata": {},
   "source": [
    "Testing the function:"
   ]
  },
  {
   "cell_type": "code",
   "execution_count": 44,
   "metadata": {
    "collapsed": false
   },
   "outputs": [
    {
     "data": {
      "text/plain": [
       "'Austin'"
      ]
     },
     "execution_count": 44,
     "metadata": {},
     "output_type": "execute_result"
    }
   ],
   "source": [
    "update_city(\"Austin, TX\", expectedcities, mapping_city)"
   ]
  },
  {
   "cell_type": "markdown",
   "metadata": {
    "collapsed": true
   },
   "source": [
    "### Combination of all the update functions: clean function\n",
    "\n",
    "To make it easier to write the shape_element function (see part 2), a function which combines all the update functions created above was created:"
   ]
  },
  {
   "cell_type": "code",
   "execution_count": 53,
   "metadata": {
    "collapsed": true
   },
   "outputs": [],
   "source": [
    "def clean(value, tag, mapping_street, expectedcities, mapping_city):\n",
    "    if is_street_name(tag):\n",
    "        value = update_name(value, mapping_street)\n",
    "    elif is_phone(tag):\n",
    "        value = update_phone(value)\n",
    "    elif is_postcode(tag):\n",
    "        value = update_postcode(value)\n",
    "    elif is_city(tag):\n",
    "        value = update_city(value, expectedcities, mapping_city)\n",
    "    return value"
   ]
  },
  {
   "cell_type": "markdown",
   "metadata": {
    "collapsed": true
   },
   "source": [
    "This was tested prior to using it. See part 1 long version."
   ]
  },
  {
   "cell_type": "code",
   "execution_count": null,
   "metadata": {
    "collapsed": true
   },
   "outputs": [],
   "source": []
  }
 ],
 "metadata": {
  "anaconda-cloud": {},
  "kernelspec": {
   "display_name": "Python 2",
   "language": "python",
   "name": "python2"
  },
  "language_info": {
   "codemirror_mode": {
    "name": "ipython",
    "version": 2
   },
   "file_extension": ".py",
   "mimetype": "text/x-python",
   "name": "python",
   "nbconvert_exporter": "python",
   "pygments_lexer": "ipython2",
   "version": "2.7.11"
  }
 },
 "nbformat": 4,
 "nbformat_minor": 0
}
