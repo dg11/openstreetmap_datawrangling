{
 "cells": [
  {
   "cell_type": "markdown",
   "metadata": {},
   "source": [
    "# SQLite database from csv files\n",
    "\n",
    "The database from the csv files created from extraction of data from the austin osm file was made based on the schema according to the following:\n",
    "\n",
    "https://gist.github.com/swwelch/f1144229848b407e0a5d13fcb7fbbd6f\n",
    "\n",
    "References:\n",
    "\n",
    "https://discussions.udacity.com/t/creating-db-file-from-csv-files-with-non-ascii-unicode-characters/174958/7\n",
    "\n",
    "http://stackoverflow.com/questions/19877344/near-syntax-error-when-trying-to-create-a-table-with-a-foreign-key-in-sqlit\n"
   ]
  },
  {
   "cell_type": "code",
   "execution_count": 1,
   "metadata": {
    "collapsed": true
   },
   "outputs": [],
   "source": [
    "import sqlite3\n",
    "import csv\n",
    "from pprint import pprint"
   ]
  },
  {
   "cell_type": "code",
   "execution_count": 2,
   "metadata": {
    "collapsed": true
   },
   "outputs": [],
   "source": [
    "sqlite_file = \"atx_osm.db\""
   ]
  },
  {
   "cell_type": "code",
   "execution_count": 3,
   "metadata": {
    "collapsed": true
   },
   "outputs": [],
   "source": [
    "conn = sqlite3.connect(sqlite_file)"
   ]
  },
  {
   "cell_type": "code",
   "execution_count": 4,
   "metadata": {
    "collapsed": true
   },
   "outputs": [],
   "source": [
    "cur = conn.cursor()"
   ]
  },
  {
   "cell_type": "markdown",
   "metadata": {},
   "source": [
    "### Creation of all tables:"
   ]
  },
  {
   "cell_type": "code",
   "execution_count": 5,
   "metadata": {
    "collapsed": false
   },
   "outputs": [
    {
     "data": {
      "text/plain": [
       "<sqlite3.Cursor at 0x1040539d0>"
      ]
     },
     "execution_count": 5,
     "metadata": {},
     "output_type": "execute_result"
    }
   ],
   "source": [
    "cur.execute('''CREATE TABLE nodes(id INTEGER PRIMARY KEY NOT NULL, lat REAL, lon REAL, user TEXT, uid INTEGER, version INTEGER, changeset INTEGER, timestamp TEXT)''')\n",
    "cur.execute('''CREATE TABLE nodes_tags(id INTEGER, key TEXT, value TEXT, type TEXT, FOREIGN KEY (id) REFERENCES nodes (id))''')\n",
    "cur.execute('''CREATE TABLE ways(id INTEGER PRIMARY KEY NOT NULL, user TEXT, uid INTEGER, version TEXT, changeset INTEGER, timestamp TEXT)''')\n",
    "cur.execute('''CREATE TABLE ways_tags(id INTEGER NOT NULL, key TEXT NOT NULL, value TEXT NOT NULL, type TEXT, FOREIGN KEY (id) REFERENCES ways(id))''')\n",
    "cur.execute('''CREATE TABLE ways_nodes(id INTEGER NOT NULL, node_id INTEGER NOT NULL, position INTEGER NOT NULL, FOREIGN KEY (id) REFERENCES ways (id), FOREIGN KEY (node_id) REFERENCES nodes (id))''')"
   ]
  },
  {
   "cell_type": "code",
   "execution_count": 6,
   "metadata": {
    "collapsed": true
   },
   "outputs": [],
   "source": [
    "conn.commit()"
   ]
  },
  {
   "cell_type": "markdown",
   "metadata": {},
   "source": [
    "### Inserting the nodes data:"
   ]
  },
  {
   "cell_type": "code",
   "execution_count": 7,
   "metadata": {
    "collapsed": true
   },
   "outputs": [],
   "source": [
    "with open('nodes.csv', 'rb') as fin:\n",
    "    dr = csv.DictReader(fin)\n",
    "    to_nodes = [(i['id'], i['lat'], i['lon'], i['user'].decode('utf-8'), i['uid'], i['version'].decode('utf-8'), i['changeset'], i['timestamp'].decode('utf-8')) for i in dr]"
   ]
  },
  {
   "cell_type": "code",
   "execution_count": 8,
   "metadata": {
    "collapsed": false
   },
   "outputs": [
    {
     "data": {
      "text/plain": [
       "<sqlite3.Cursor at 0x1040539d0>"
      ]
     },
     "execution_count": 8,
     "metadata": {},
     "output_type": "execute_result"
    }
   ],
   "source": [
    "cur.executemany(\"INSERT INTO nodes(id, lat, lon, user, uid, version, changeset, timestamp) VALUES (?, ?, ?, ?, ?, ?, ?, ?);\", to_nodes)"
   ]
  },
  {
   "cell_type": "code",
   "execution_count": 9,
   "metadata": {
    "collapsed": true
   },
   "outputs": [],
   "source": [
    "conn.commit()"
   ]
  },
  {
   "cell_type": "markdown",
   "metadata": {},
   "source": [
    "Checking for data insertion:"
   ]
  },
  {
   "cell_type": "code",
   "execution_count": 11,
   "metadata": {
    "collapsed": false,
    "scrolled": true
   },
   "outputs": [
    {
     "data": {
      "text/plain": [
       "[(26546004,\n",
       "  30.4695355,\n",
       "  -97.7972587,\n",
       "  u'Tylan',\n",
       "  388279,\n",
       "  15,\n",
       "  8497118,\n",
       "  u'2011-06-20T18:36:15Z'),\n",
       " (26546005,\n",
       "  30.4713386,\n",
       "  -97.7975919,\n",
       "  u'APD',\n",
       "  105002,\n",
       "  19,\n",
       "  767484,\n",
       "  u'2009-03-09T09:03:33Z'),\n",
       " (26546006,\n",
       "  30.4711721,\n",
       "  -97.798579,\n",
       "  u'HJD',\n",
       "  75480,\n",
       "  24,\n",
       "  533807,\n",
       "  u'2009-02-18T16:44:40Z'),\n",
       " (26546008,\n",
       "  30.469115,\n",
       "  -97.7966751,\n",
       "  u'claysmalley',\n",
       "  119881,\n",
       "  28,\n",
       "  13420621,\n",
       "  u'2012-10-09T01:08:42Z'),\n",
       " (26546009,\n",
       "  30.4688175,\n",
       "  -97.7976688,\n",
       "  u'Tylan',\n",
       "  388279,\n",
       "  38,\n",
       "  8497118,\n",
       "  u'2011-06-20T18:22:32Z'),\n",
       " (26546010,\n",
       "  30.469413,\n",
       "  -97.797558,\n",
       "  u'Tylan',\n",
       "  388279,\n",
       "  17,\n",
       "  8497118,\n",
       "  u'2011-06-20T18:36:15Z'),\n",
       " (26546011,\n",
       "  30.4714758,\n",
       "  -97.7980443,\n",
       "  u'Tylan',\n",
       "  388279,\n",
       "  4,\n",
       "  8497118,\n",
       "  u'2011-06-20T18:36:15Z'),\n",
       " (26546012,\n",
       "  30.4714208,\n",
       "  -97.798367,\n",
       "  u'Tylan',\n",
       "  388279,\n",
       "  14,\n",
       "  8497118,\n",
       "  u'2011-06-20T18:36:15Z'),\n",
       " (26546025,\n",
       "  30.4751578,\n",
       "  -97.799145,\n",
       "  u'richlv',\n",
       "  47892,\n",
       "  24,\n",
       "  18948024,\n",
       "  u'2013-11-17T08:34:54Z'),\n",
       " (26546026,\n",
       "  30.4727626,\n",
       "  -97.799255,\n",
       "  u'claysmalley',\n",
       "  119881,\n",
       "  16,\n",
       "  13420621,\n",
       "  u'2012-10-09T01:13:38Z')]"
      ]
     },
     "execution_count": 11,
     "metadata": {},
     "output_type": "execute_result"
    }
   ],
   "source": [
    "cur.execute('SELECT * FROM nodes limit 10')\n",
    "cur.fetchall()"
   ]
  },
  {
   "cell_type": "markdown",
   "metadata": {},
   "source": [
    "### Inserting the nodes_tags data:"
   ]
  },
  {
   "cell_type": "code",
   "execution_count": 12,
   "metadata": {
    "collapsed": true
   },
   "outputs": [],
   "source": [
    "with open('nodes_tags.csv', 'rb') as f:\n",
    "    d = csv.DictReader(f) \n",
    "    to_nodes_tags = [(i['id'], i['key'].decode('utf-8'), i['value'].decode('utf-8'), i['type'].decode('utf-8')) for i in d]"
   ]
  },
  {
   "cell_type": "code",
   "execution_count": 13,
   "metadata": {
    "collapsed": false
   },
   "outputs": [
    {
     "data": {
      "text/plain": [
       "<sqlite3.Cursor at 0x1040539d0>"
      ]
     },
     "execution_count": 13,
     "metadata": {},
     "output_type": "execute_result"
    }
   ],
   "source": [
    "cur.executemany(\"INSERT INTO nodes_tags(id, key, value, type) VALUES (?, ?, ?, ?);\", to_nodes_tags)"
   ]
  },
  {
   "cell_type": "code",
   "execution_count": 14,
   "metadata": {
    "collapsed": true
   },
   "outputs": [],
   "source": [
    "conn.commit()"
   ]
  },
  {
   "cell_type": "markdown",
   "metadata": {},
   "source": [
    "Checking for data insertion:"
   ]
  },
  {
   "cell_type": "code",
   "execution_count": 15,
   "metadata": {
    "collapsed": false
   },
   "outputs": [
    {
     "data": {
      "text/plain": [
       "[(26546008, u'highway', u'traffic_signals', u'regular'),\n",
       " (26546009, u'highway', u'traffic_signals', u'regular'),\n",
       " (26546041, u'highway', u'traffic_signals', u'regular'),\n",
       " (26546043, u'highway', u'traffic_signals', u'regular'),\n",
       " (26546065, u'highway', u'traffic_signals', u'regular'),\n",
       " (26546067, u'highway', u'traffic_signals', u'regular'),\n",
       " (26546082, u'noref', u'yes', u'regular'),\n",
       " (26546082, u'exit_to', u'Avery Ranch Boulevard', u'regular'),\n",
       " (26546082, u'highway', u'motorway_junction', u'regular'),\n",
       " (26546091, u'noref', u'yes', u'regular')]"
      ]
     },
     "execution_count": 15,
     "metadata": {},
     "output_type": "execute_result"
    }
   ],
   "source": [
    "cur.execute(\"SELECT * FROM nodes_tags LIMIT 10\")\n",
    "cur.fetchall()"
   ]
  },
  {
   "cell_type": "markdown",
   "metadata": {},
   "source": [
    "### Inserting the ways data"
   ]
  },
  {
   "cell_type": "code",
   "execution_count": 16,
   "metadata": {
    "collapsed": true
   },
   "outputs": [],
   "source": [
    "with open('ways.csv', 'rb') as g:\n",
    "    r = csv.DictReader(g) \n",
    "    to_ways = [(i['id'], i['user'].decode('utf-8'), i['uid'], i['version'].decode('utf-8'), i['changeset'], i['timestamp'].decode('utf-8')) for i in r]"
   ]
  },
  {
   "cell_type": "code",
   "execution_count": 17,
   "metadata": {
    "collapsed": false
   },
   "outputs": [
    {
     "data": {
      "text/plain": [
       "<sqlite3.Cursor at 0x1040539d0>"
      ]
     },
     "execution_count": 17,
     "metadata": {},
     "output_type": "execute_result"
    }
   ],
   "source": [
    "cur.executemany(\"INSERT INTO ways(id, user, uid, version, changeset, timestamp) VALUES (?, ?, ?, ?, ?, ?);\", to_ways)"
   ]
  },
  {
   "cell_type": "markdown",
   "metadata": {},
   "source": [
    "Checking for data insertion"
   ]
  },
  {
   "cell_type": "code",
   "execution_count": 18,
   "metadata": {
    "collapsed": false
   },
   "outputs": [
    {
     "data": {
      "text/plain": [
       "[(4358672, u'claysmalley', 119881, u'19', 10974544, u'2012-03-14T05:28:59Z'),\n",
       " (4358673, u'NE2', 207745, u'8', 10343099, u'2012-01-09T16:14:46Z'),\n",
       " (4358675, u'claysmalley', 119881, u'8', 10212599, u'2011-12-27T02:55:41Z'),\n",
       " (4358677, u'tompkinsjs', 517514, u'12', 15084279, u'2013-02-19T01:43:36Z'),\n",
       " (4531212, u'claysmalley', 119881, u'10', 10974544, u'2012-03-14T05:28:59Z'),\n",
       " (4531214, u'ChrisZontine', 1376118, u'6', 25101150, u'2014-08-29T16:39:04Z'),\n",
       " (4531215, u'ChrisZontine', 1376118, u'5', 16556381, u'2013-06-14T21:27:39Z'),\n",
       " (4531217, u'Cam4rd98', 1132286, u'14', 15537280, u'2013-03-29T12:05:08Z'),\n",
       " (4531218, u'nammala', 3479270, u'13', 40336781, u'2016-06-28T07:21:55Z'),\n",
       " (4531219, u'Iowa Kid', 703517, u'8', 17120434, u'2013-07-28T03:13:58Z')]"
      ]
     },
     "execution_count": 18,
     "metadata": {},
     "output_type": "execute_result"
    }
   ],
   "source": [
    "cur.execute(\"SELECT * FROM ways LIMIT 10\")\n",
    "cur.fetchall()"
   ]
  },
  {
   "cell_type": "markdown",
   "metadata": {},
   "source": [
    "### Inserting the ways_tags data:"
   ]
  },
  {
   "cell_type": "code",
   "execution_count": 19,
   "metadata": {
    "collapsed": true
   },
   "outputs": [],
   "source": [
    "with open('ways_tags.csv', 'rb') as h:\n",
    "    s = csv.DictReader(h)\n",
    "    to_ways_tags = [(i['id'], i['key'].decode('utf-8'), i['value'].decode('utf-8'), i['type'].decode('utf-8')) for i in s]"
   ]
  },
  {
   "cell_type": "code",
   "execution_count": 21,
   "metadata": {
    "collapsed": false
   },
   "outputs": [
    {
     "data": {
      "text/plain": [
       "<sqlite3.Cursor at 0x1040539d0>"
      ]
     },
     "execution_count": 21,
     "metadata": {},
     "output_type": "execute_result"
    }
   ],
   "source": [
    "cur.executemany(\"INSERT INTO ways_tags(id, key, value, type) VALUES (?, ?, ?, ?);\", to_ways_tags)"
   ]
  },
  {
   "cell_type": "code",
   "execution_count": 22,
   "metadata": {
    "collapsed": true
   },
   "outputs": [],
   "source": [
    "conn.commit()"
   ]
  },
  {
   "cell_type": "markdown",
   "metadata": {},
   "source": [
    "Checking for data insertion:"
   ]
  },
  {
   "cell_type": "code",
   "execution_count": 23,
   "metadata": {
    "collapsed": false
   },
   "outputs": [
    {
     "data": {
      "text/plain": [
       "[(4358672, u'NHS', u'yes', u'regular'),\n",
       " (4358672, u'ref', u'US 183', u'regular'),\n",
       " (4358672, u'toll', u'no', u'regular'),\n",
       " (4358672, u'lanes', u'3', u'regular'),\n",
       " (4358672, u'layer', u'1', u'regular'),\n",
       " (4358672, u'bridge', u'yes', u'regular'),\n",
       " (4358672, u'oneway', u'yes', u'regular'),\n",
       " (4358672, u'highway', u'motorway', u'regular'),\n",
       " (4358672, u'old_ref', u'SH 29', u'regular'),\n",
       " (4358673, u'NHS', u'yes', u'regular')]"
      ]
     },
     "execution_count": 23,
     "metadata": {},
     "output_type": "execute_result"
    }
   ],
   "source": [
    "cur.execute(\"SELECT * FROM ways_tags LIMIT 10\")\n",
    "cur.fetchall()"
   ]
  },
  {
   "cell_type": "markdown",
   "metadata": {},
   "source": [
    "### Inserting the ways_nodes data:"
   ]
  },
  {
   "cell_type": "code",
   "execution_count": 24,
   "metadata": {
    "collapsed": true
   },
   "outputs": [],
   "source": [
    "with open(\"ways_nodes.csv\", \"rb\") as j:\n",
    "    t = csv.DictReader(j)\n",
    "    to_ways_nodes = [(i['id'], i['node_id'], i['position']) for i in t]"
   ]
  },
  {
   "cell_type": "code",
   "execution_count": 25,
   "metadata": {
    "collapsed": false
   },
   "outputs": [
    {
     "data": {
      "text/plain": [
       "<sqlite3.Cursor at 0x1040539d0>"
      ]
     },
     "execution_count": 25,
     "metadata": {},
     "output_type": "execute_result"
    }
   ],
   "source": [
    "cur.executemany(\"INSERT INTO ways_nodes(id, node_id, position) VALUES (?, ?, ?);\", to_ways_nodes)"
   ]
  },
  {
   "cell_type": "markdown",
   "metadata": {},
   "source": [
    "Checking for data insertion"
   ]
  },
  {
   "cell_type": "code",
   "execution_count": 26,
   "metadata": {
    "collapsed": false
   },
   "outputs": [
    {
     "data": {
      "text/plain": [
       "[(4358672, 26546039, 0),\n",
       " (4358672, 1674200199, 1),\n",
       " (4358673, 26546203, 0),\n",
       " (4358673, 1332583222, 1),\n",
       " (4358675, 1332583222, 0),\n",
       " (4358675, 26546004, 1),\n",
       " (4358677, 26546038, 0),\n",
       " (4358677, 26546046, 1),\n",
       " (4358677, 26546048, 2),\n",
       " (4531212, 1619623774, 0)]"
      ]
     },
     "execution_count": 26,
     "metadata": {},
     "output_type": "execute_result"
    }
   ],
   "source": [
    "conn.commit()\n",
    "cur.execute(\"SELECT * FROM ways_nodes LIMIT 10\")\n",
    "cur.fetchall()"
   ]
  },
  {
   "cell_type": "code",
   "execution_count": 27,
   "metadata": {
    "collapsed": true
   },
   "outputs": [],
   "source": [
    "conn.close()"
   ]
  },
  {
   "cell_type": "code",
   "execution_count": null,
   "metadata": {
    "collapsed": true
   },
   "outputs": [],
   "source": []
  }
 ],
 "metadata": {
  "kernelspec": {
   "display_name": "Python 2",
   "language": "python",
   "name": "python2"
  },
  "language_info": {
   "codemirror_mode": {
    "name": "ipython",
    "version": 2
   },
   "file_extension": ".py",
   "mimetype": "text/x-python",
   "name": "python",
   "nbconvert_exporter": "python",
   "pygments_lexer": "ipython2",
   "version": "2.7.11"
  }
 },
 "nbformat": 4,
 "nbformat_minor": 0
}
